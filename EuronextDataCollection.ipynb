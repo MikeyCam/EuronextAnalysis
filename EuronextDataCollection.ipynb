{
 "cells": [
  {
   "cell_type": "code",
   "execution_count": 1,
   "metadata": {},
   "outputs": [],
   "source": [
    "# Import packages\n",
    "import pandas as pd\n",
    "import numpy as np\n",
    "import yfinance as yf\n",
    "import datetime as dt\n",
    "import os\n",
    "import sys\n",
    "import re\n",
    "import string\n",
    "import concurrent.futures\n",
    "from tqdm import tqdm\n",
    "from typing import List, Optional\n",
    "from ignore_SSL_errors import no_ssl_verification\n"
   ]
  },
  {
   "cell_type": "code",
   "execution_count": 2,
   "metadata": {},
   "outputs": [
    {
     "data": {
      "text/html": [
       "<div>\n",
       "<style scoped>\n",
       "    .dataframe tbody tr th:only-of-type {\n",
       "        vertical-align: middle;\n",
       "    }\n",
       "\n",
       "    .dataframe tbody tr th {\n",
       "        vertical-align: top;\n",
       "    }\n",
       "\n",
       "    .dataframe thead th {\n",
       "        text-align: right;\n",
       "    }\n",
       "</style>\n",
       "<table border=\"1\" class=\"dataframe\">\n",
       "  <thead>\n",
       "    <tr style=\"text-align: right;\">\n",
       "      <th></th>\n",
       "      <th>stock_name</th>\n",
       "      <th>stock_isin</th>\n",
       "      <th>stock_euronext_symbol</th>\n",
       "      <th>stock_exchange_markets</th>\n",
       "      <th>stock_trading_currency</th>\n",
       "    </tr>\n",
       "  </thead>\n",
       "  <tbody>\n",
       "    <tr>\n",
       "      <th>0</th>\n",
       "      <td>1000MERCIS</td>\n",
       "      <td>FR0010285965</td>\n",
       "      <td>ALMIL</td>\n",
       "      <td>Euronext Growth Paris</td>\n",
       "      <td>EUR</td>\n",
       "    </tr>\n",
       "    <tr>\n",
       "      <th>1</th>\n",
       "      <td>2020 BULKERS</td>\n",
       "      <td>BMG9156K1018</td>\n",
       "      <td>2020</td>\n",
       "      <td>Oslo B�rs</td>\n",
       "      <td>NOK</td>\n",
       "    </tr>\n",
       "    <tr>\n",
       "      <th>2</th>\n",
       "      <td>2CRSI</td>\n",
       "      <td>FR0013341781</td>\n",
       "      <td>2CRSI</td>\n",
       "      <td>Euronext Paris</td>\n",
       "      <td>EUR</td>\n",
       "    </tr>\n",
       "    <tr>\n",
       "      <th>3</th>\n",
       "      <td>2MX ORGANIC</td>\n",
       "      <td>FR0014000T90</td>\n",
       "      <td>2MX</td>\n",
       "      <td>Euronext Paris</td>\n",
       "      <td>EUR</td>\n",
       "    </tr>\n",
       "    <tr>\n",
       "      <th>4</th>\n",
       "      <td>2MX ORGANIC BS</td>\n",
       "      <td>FR0014000TB2</td>\n",
       "      <td>2MXBS</td>\n",
       "      <td>Euronext Paris</td>\n",
       "      <td>EUR</td>\n",
       "    </tr>\n",
       "  </tbody>\n",
       "</table>\n",
       "</div>"
      ],
      "text/plain": [
       "       stock_name    stock_isin stock_euronext_symbol stock_exchange_markets  \\\n",
       "0      1000MERCIS  FR0010285965                 ALMIL  Euronext Growth Paris   \n",
       "1    2020 BULKERS  BMG9156K1018                  2020              Oslo B�rs   \n",
       "2           2CRSI  FR0013341781                 2CRSI         Euronext Paris   \n",
       "3     2MX ORGANIC  FR0014000T90                   2MX         Euronext Paris   \n",
       "4  2MX ORGANIC BS  FR0014000TB2                 2MXBS         Euronext Paris   \n",
       "\n",
       "  stock_trading_currency  \n",
       "0                    EUR  \n",
       "1                    NOK  \n",
       "2                    EUR  \n",
       "3                    EUR  \n",
       "4                    EUR  "
      ]
     },
     "execution_count": 2,
     "metadata": {},
     "output_type": "execute_result"
    }
   ],
   "source": [
    "# Import list of euronext stocks => https://live.euronext.com/en/products/equities/list\n",
    "# Important to remove rows 1 to 4 from csv file as they will create an error\n",
    "file_name = \"Euronext_Equities_2022-01-11.csv\"\n",
    "fields_list = ['Name', 'ISIN', 'Symbol', 'Market', 'Trading Currency']\n",
    "stock_detail = pd.read_csv(file_name, sep=';', usecols=fields_list)\n",
    "renaming_dict = {\n",
    "    'Name': 'stock_name',\n",
    "    'ISIN': 'stock_isin',\n",
    "    'Symbol': 'stock_euronext_symbol',\n",
    "    'Market': 'stock_exchange_markets',\n",
    "    'Trading Currency': 'stock_trading_currency'\n",
    "}\n",
    "stock_detail.rename(columns=renaming_dict, inplace=True)\n",
    "stock_detail.head()"
   ]
  },
  {
   "cell_type": "code",
   "execution_count": 3,
   "metadata": {},
   "outputs": [],
   "source": [
    "# Correct special character is Oslo Bors if needed, might not be needed if you encoding is correct on the csv\n",
    "stock_detail['stock_exchange_markets'] = stock_detail['stock_exchange_markets'].str.replace(\n",
    "    '�', 'ø')\n"
   ]
  },
  {
   "cell_type": "code",
   "execution_count": 4,
   "metadata": {},
   "outputs": [
    {
     "data": {
      "text/plain": [
       "array(['Euronext Growth Paris', 'Oslo Børs', 'Euronext Paris',\n",
       "       'Euronext Expand Oslo', 'Euronext Access Paris',\n",
       "       'Euronext Amsterdam', 'Euronext Growth Oslo', 'Euronext Brussels',\n",
       "       'Euronext Expert Market', 'Euronext Brussels, Paris',\n",
       "       'Euronext Paris, Amsterdam', 'Euronext Paris, Brussels',\n",
       "       'Euronext Brussels, Amsterdam', 'Euronext Access Lisbon',\n",
       "       'Euronext Amsterdam, Brussels', 'Euronext Dublin',\n",
       "       'Euronext Lisbon', 'Euronext Amsterdam, Brussels, Paris',\n",
       "       'Euronext Amsterdam, Paris', 'Traded not listed Brussels',\n",
       "       'Euronext Growth Paris, Brussels', 'Euronext Growth Brussels',\n",
       "       'Euronext Access Brussels', 'Euronext Growth Dublin',\n",
       "       'Euronext Paris, Amsterdam, Brussels', 'Euronext Growth Lisbon'],\n",
       "      dtype=object)"
      ]
     },
     "execution_count": 4,
     "metadata": {},
     "output_type": "execute_result"
    }
   ],
   "source": [
    "# Get distinct stock details, we will need to try map this accordingly\n",
    "stock_detail['stock_exchange_markets'].unique()"
   ]
  },
  {
   "cell_type": "code",
   "execution_count": 5,
   "metadata": {},
   "outputs": [],
   "source": [
    "# Create a mapping for the exchange cities to yahoo codes\n",
    "stock_exchange_markets_to_main_city_mapping = {\n",
    "    'Amsterdam':'AS',\n",
    "    'Brussels':'BR',\n",
    "    'Dublin':'IR',\n",
    "    'Lisbon':'LS',\n",
    "    'Oslo':'OL',\n",
    "    'Paris':'PA' \n",
    "    }"
   ]
  },
  {
   "cell_type": "code",
   "execution_count": 6,
   "metadata": {},
   "outputs": [
    {
     "data": {
      "text/plain": [
       "['Amsterdam', 'Brussels', 'Dublin', 'Lisbon', 'Oslo', 'Paris']"
      ]
     },
     "execution_count": 6,
     "metadata": {},
     "output_type": "execute_result"
    }
   ],
   "source": [
    "# Create a unique list of cities\n",
    "cities_list = list(stock_exchange_markets_to_main_city_mapping.keys())\n",
    "cities_list"
   ]
  },
  {
   "cell_type": "code",
   "execution_count": 7,
   "metadata": {},
   "outputs": [],
   "source": [
    "# Function that takes in a string (input_text) and a list of different cities\n",
    "# Returns the first city mentioned in the string that is in the cities list\n",
    "def return_first_city(input_text: str, cities_list: List[str]) -> str:\n",
    "    split_word_list = re.sub('['+string.punctuation+']', '', input_text).split()\n",
    "    for word in split_word_list:\n",
    "      if word in cities_list:\n",
    "        result = word\n",
    "        break\n",
    "      else:\n",
    "        result = \"No city mentioned\"\n",
    "    return result\n",
    "\n",
    "\n",
    "# Quick test to see required logic works\n",
    "assert return_first_city('Amsterdam, Paris, Brussels', cities_list) == 'Amsterdam', 'Check logic'\n",
    "assert return_first_city('Brussels, Amsterdam, Paris, Brussels',\n",
    "                         cities_list) == 'Brussels', 'Check logic'\n"
   ]
  },
  {
   "cell_type": "code",
   "execution_count": 8,
   "metadata": {},
   "outputs": [
    {
     "data": {
      "text/html": [
       "<div>\n",
       "<style scoped>\n",
       "    .dataframe tbody tr th:only-of-type {\n",
       "        vertical-align: middle;\n",
       "    }\n",
       "\n",
       "    .dataframe tbody tr th {\n",
       "        vertical-align: top;\n",
       "    }\n",
       "\n",
       "    .dataframe thead th {\n",
       "        text-align: right;\n",
       "    }\n",
       "</style>\n",
       "<table border=\"1\" class=\"dataframe\">\n",
       "  <thead>\n",
       "    <tr style=\"text-align: right;\">\n",
       "      <th></th>\n",
       "      <th>stock_name</th>\n",
       "      <th>stock_isin</th>\n",
       "      <th>stock_euronext_symbol</th>\n",
       "      <th>stock_exchange_markets</th>\n",
       "      <th>stock_trading_currency</th>\n",
       "      <th>main_city</th>\n",
       "    </tr>\n",
       "  </thead>\n",
       "  <tbody>\n",
       "    <tr>\n",
       "      <th>0</th>\n",
       "      <td>1000MERCIS</td>\n",
       "      <td>FR0010285965</td>\n",
       "      <td>ALMIL</td>\n",
       "      <td>Euronext Growth Paris</td>\n",
       "      <td>EUR</td>\n",
       "      <td>Paris</td>\n",
       "    </tr>\n",
       "    <tr>\n",
       "      <th>1</th>\n",
       "      <td>2020 BULKERS</td>\n",
       "      <td>BMG9156K1018</td>\n",
       "      <td>2020</td>\n",
       "      <td>Oslo Børs</td>\n",
       "      <td>NOK</td>\n",
       "      <td>Oslo</td>\n",
       "    </tr>\n",
       "    <tr>\n",
       "      <th>2</th>\n",
       "      <td>2CRSI</td>\n",
       "      <td>FR0013341781</td>\n",
       "      <td>2CRSI</td>\n",
       "      <td>Euronext Paris</td>\n",
       "      <td>EUR</td>\n",
       "      <td>Paris</td>\n",
       "    </tr>\n",
       "    <tr>\n",
       "      <th>3</th>\n",
       "      <td>2MX ORGANIC</td>\n",
       "      <td>FR0014000T90</td>\n",
       "      <td>2MX</td>\n",
       "      <td>Euronext Paris</td>\n",
       "      <td>EUR</td>\n",
       "      <td>Paris</td>\n",
       "    </tr>\n",
       "    <tr>\n",
       "      <th>4</th>\n",
       "      <td>2MX ORGANIC BS</td>\n",
       "      <td>FR0014000TB2</td>\n",
       "      <td>2MXBS</td>\n",
       "      <td>Euronext Paris</td>\n",
       "      <td>EUR</td>\n",
       "      <td>Paris</td>\n",
       "    </tr>\n",
       "  </tbody>\n",
       "</table>\n",
       "</div>"
      ],
      "text/plain": [
       "       stock_name    stock_isin stock_euronext_symbol stock_exchange_markets  \\\n",
       "0      1000MERCIS  FR0010285965                 ALMIL  Euronext Growth Paris   \n",
       "1    2020 BULKERS  BMG9156K1018                  2020              Oslo Børs   \n",
       "2           2CRSI  FR0013341781                 2CRSI         Euronext Paris   \n",
       "3     2MX ORGANIC  FR0014000T90                   2MX         Euronext Paris   \n",
       "4  2MX ORGANIC BS  FR0014000TB2                 2MXBS         Euronext Paris   \n",
       "\n",
       "  stock_trading_currency main_city  \n",
       "0                    EUR     Paris  \n",
       "1                    NOK      Oslo  \n",
       "2                    EUR     Paris  \n",
       "3                    EUR     Paris  \n",
       "4                    EUR     Paris  "
      ]
     },
     "execution_count": 8,
     "metadata": {},
     "output_type": "execute_result"
    }
   ],
   "source": [
    "# Create column to get the main city\n",
    "stock_detail['main_city'] = stock_detail['stock_exchange_markets'].apply(\n",
    "    lambda x: return_first_city(x, cities_list))\n",
    "stock_detail.head()\n"
   ]
  },
  {
   "cell_type": "code",
   "execution_count": 9,
   "metadata": {},
   "outputs": [
    {
     "data": {
      "text/html": [
       "<div>\n",
       "<style scoped>\n",
       "    .dataframe tbody tr th:only-of-type {\n",
       "        vertical-align: middle;\n",
       "    }\n",
       "\n",
       "    .dataframe tbody tr th {\n",
       "        vertical-align: top;\n",
       "    }\n",
       "\n",
       "    .dataframe thead th {\n",
       "        text-align: right;\n",
       "    }\n",
       "</style>\n",
       "<table border=\"1\" class=\"dataframe\">\n",
       "  <thead>\n",
       "    <tr style=\"text-align: right;\">\n",
       "      <th></th>\n",
       "      <th>stock_name</th>\n",
       "      <th>stock_isin</th>\n",
       "      <th>stock_euronext_symbol</th>\n",
       "      <th>stock_exchange_markets</th>\n",
       "      <th>stock_trading_currency</th>\n",
       "      <th>main_city</th>\n",
       "      <th>yahoo_city_code</th>\n",
       "    </tr>\n",
       "  </thead>\n",
       "  <tbody>\n",
       "    <tr>\n",
       "      <th>0</th>\n",
       "      <td>1000MERCIS</td>\n",
       "      <td>FR0010285965</td>\n",
       "      <td>ALMIL</td>\n",
       "      <td>Euronext Growth Paris</td>\n",
       "      <td>EUR</td>\n",
       "      <td>Paris</td>\n",
       "      <td>PA</td>\n",
       "    </tr>\n",
       "    <tr>\n",
       "      <th>1</th>\n",
       "      <td>2020 BULKERS</td>\n",
       "      <td>BMG9156K1018</td>\n",
       "      <td>2020</td>\n",
       "      <td>Oslo Børs</td>\n",
       "      <td>NOK</td>\n",
       "      <td>Oslo</td>\n",
       "      <td>OL</td>\n",
       "    </tr>\n",
       "    <tr>\n",
       "      <th>2</th>\n",
       "      <td>2CRSI</td>\n",
       "      <td>FR0013341781</td>\n",
       "      <td>2CRSI</td>\n",
       "      <td>Euronext Paris</td>\n",
       "      <td>EUR</td>\n",
       "      <td>Paris</td>\n",
       "      <td>PA</td>\n",
       "    </tr>\n",
       "    <tr>\n",
       "      <th>3</th>\n",
       "      <td>2MX ORGANIC</td>\n",
       "      <td>FR0014000T90</td>\n",
       "      <td>2MX</td>\n",
       "      <td>Euronext Paris</td>\n",
       "      <td>EUR</td>\n",
       "      <td>Paris</td>\n",
       "      <td>PA</td>\n",
       "    </tr>\n",
       "    <tr>\n",
       "      <th>4</th>\n",
       "      <td>2MX ORGANIC BS</td>\n",
       "      <td>FR0014000TB2</td>\n",
       "      <td>2MXBS</td>\n",
       "      <td>Euronext Paris</td>\n",
       "      <td>EUR</td>\n",
       "      <td>Paris</td>\n",
       "      <td>PA</td>\n",
       "    </tr>\n",
       "  </tbody>\n",
       "</table>\n",
       "</div>"
      ],
      "text/plain": [
       "       stock_name    stock_isin stock_euronext_symbol stock_exchange_markets  \\\n",
       "0      1000MERCIS  FR0010285965                 ALMIL  Euronext Growth Paris   \n",
       "1    2020 BULKERS  BMG9156K1018                  2020              Oslo Børs   \n",
       "2           2CRSI  FR0013341781                 2CRSI         Euronext Paris   \n",
       "3     2MX ORGANIC  FR0014000T90                   2MX         Euronext Paris   \n",
       "4  2MX ORGANIC BS  FR0014000TB2                 2MXBS         Euronext Paris   \n",
       "\n",
       "  stock_trading_currency main_city yahoo_city_code  \n",
       "0                    EUR     Paris              PA  \n",
       "1                    NOK      Oslo              OL  \n",
       "2                    EUR     Paris              PA  \n",
       "3                    EUR     Paris              PA  \n",
       "4                    EUR     Paris              PA  "
      ]
     },
     "execution_count": 9,
     "metadata": {},
     "output_type": "execute_result"
    }
   ],
   "source": [
    "# Get the Yahoo city mapping\n",
    "stock_detail['yahoo_city_code'] = stock_detail['main_city'].map(\n",
    "    stock_exchange_markets_to_main_city_mapping)\n",
    "stock_detail.head()\n"
   ]
  },
  {
   "cell_type": "code",
   "execution_count": 10,
   "metadata": {},
   "outputs": [
    {
     "data": {
      "text/html": [
       "<div>\n",
       "<style scoped>\n",
       "    .dataframe tbody tr th:only-of-type {\n",
       "        vertical-align: middle;\n",
       "    }\n",
       "\n",
       "    .dataframe tbody tr th {\n",
       "        vertical-align: top;\n",
       "    }\n",
       "\n",
       "    .dataframe thead th {\n",
       "        text-align: right;\n",
       "    }\n",
       "</style>\n",
       "<table border=\"1\" class=\"dataframe\">\n",
       "  <thead>\n",
       "    <tr style=\"text-align: right;\">\n",
       "      <th></th>\n",
       "      <th>stock_name</th>\n",
       "      <th>stock_isin</th>\n",
       "      <th>stock_euronext_symbol</th>\n",
       "      <th>stock_exchange_markets</th>\n",
       "      <th>stock_trading_currency</th>\n",
       "      <th>main_city</th>\n",
       "      <th>yahoo_city_code</th>\n",
       "      <th>yahoo_code</th>\n",
       "    </tr>\n",
       "  </thead>\n",
       "  <tbody>\n",
       "    <tr>\n",
       "      <th>0</th>\n",
       "      <td>1000MERCIS</td>\n",
       "      <td>FR0010285965</td>\n",
       "      <td>ALMIL</td>\n",
       "      <td>Euronext Growth Paris</td>\n",
       "      <td>EUR</td>\n",
       "      <td>Paris</td>\n",
       "      <td>PA</td>\n",
       "      <td>ALMIL.PA</td>\n",
       "    </tr>\n",
       "    <tr>\n",
       "      <th>1</th>\n",
       "      <td>2020 BULKERS</td>\n",
       "      <td>BMG9156K1018</td>\n",
       "      <td>2020</td>\n",
       "      <td>Oslo Børs</td>\n",
       "      <td>NOK</td>\n",
       "      <td>Oslo</td>\n",
       "      <td>OL</td>\n",
       "      <td>2020.OL</td>\n",
       "    </tr>\n",
       "    <tr>\n",
       "      <th>2</th>\n",
       "      <td>2CRSI</td>\n",
       "      <td>FR0013341781</td>\n",
       "      <td>2CRSI</td>\n",
       "      <td>Euronext Paris</td>\n",
       "      <td>EUR</td>\n",
       "      <td>Paris</td>\n",
       "      <td>PA</td>\n",
       "      <td>2CRSI.PA</td>\n",
       "    </tr>\n",
       "    <tr>\n",
       "      <th>3</th>\n",
       "      <td>2MX ORGANIC</td>\n",
       "      <td>FR0014000T90</td>\n",
       "      <td>2MX</td>\n",
       "      <td>Euronext Paris</td>\n",
       "      <td>EUR</td>\n",
       "      <td>Paris</td>\n",
       "      <td>PA</td>\n",
       "      <td>2MX.PA</td>\n",
       "    </tr>\n",
       "    <tr>\n",
       "      <th>4</th>\n",
       "      <td>2MX ORGANIC BS</td>\n",
       "      <td>FR0014000TB2</td>\n",
       "      <td>2MXBS</td>\n",
       "      <td>Euronext Paris</td>\n",
       "      <td>EUR</td>\n",
       "      <td>Paris</td>\n",
       "      <td>PA</td>\n",
       "      <td>2MXBS.PA</td>\n",
       "    </tr>\n",
       "  </tbody>\n",
       "</table>\n",
       "</div>"
      ],
      "text/plain": [
       "       stock_name    stock_isin stock_euronext_symbol stock_exchange_markets  \\\n",
       "0      1000MERCIS  FR0010285965                 ALMIL  Euronext Growth Paris   \n",
       "1    2020 BULKERS  BMG9156K1018                  2020              Oslo Børs   \n",
       "2           2CRSI  FR0013341781                 2CRSI         Euronext Paris   \n",
       "3     2MX ORGANIC  FR0014000T90                   2MX         Euronext Paris   \n",
       "4  2MX ORGANIC BS  FR0014000TB2                 2MXBS         Euronext Paris   \n",
       "\n",
       "  stock_trading_currency main_city yahoo_city_code yahoo_code  \n",
       "0                    EUR     Paris              PA   ALMIL.PA  \n",
       "1                    NOK      Oslo              OL    2020.OL  \n",
       "2                    EUR     Paris              PA   2CRSI.PA  \n",
       "3                    EUR     Paris              PA     2MX.PA  \n",
       "4                    EUR     Paris              PA   2MXBS.PA  "
      ]
     },
     "execution_count": 10,
     "metadata": {},
     "output_type": "execute_result"
    }
   ],
   "source": [
    "# Create the full city code\n",
    "stock_detail['yahoo_code'] = stock_detail['stock_euronext_symbol'].str.cat(\n",
    "    stock_detail['yahoo_city_code'], sep='.')\n",
    "stock_detail.head()\n"
   ]
  },
  {
   "cell_type": "code",
   "execution_count": 11,
   "metadata": {},
   "outputs": [
    {
     "data": {
      "text/plain": [
       "count         1690\n",
       "unique        1690\n",
       "top       ALMIL.PA\n",
       "freq             1\n",
       "Name: yahoo_code, dtype: object"
      ]
     },
     "execution_count": 11,
     "metadata": {},
     "output_type": "execute_result"
    }
   ],
   "source": [
    "# Check all yahoo codes are unique\n",
    "stock_detail['yahoo_code'].describe()"
   ]
  },
  {
   "cell_type": "code",
   "execution_count": 12,
   "metadata": {},
   "outputs": [],
   "source": [
    "# Filter to get the fields needed and save to a csv\n",
    "stock_detail.to_csv('data_stock_info.csv', sep='|', index=False)"
   ]
  },
  {
   "cell_type": "code",
   "execution_count": 13,
   "metadata": {},
   "outputs": [],
   "source": [
    "# https://stackoverflow.com/questions/8391411/how-to-block-calls-to-print\n",
    "# Function to prevent excess printing from yfinance, taken straight from above stackoverflow\n",
    "class HiddenPrints:\n",
    "    def __enter__(self):\n",
    "        self._original_stdout = sys.stdout\n",
    "        sys.stdout = open(os.devnull, 'w')\n",
    "\n",
    "    def __exit__(self, exc_type, exc_val, exc_tb):\n",
    "        sys.stdout.close()\n",
    "        sys.stdout = self._original_stdout\n"
   ]
  },
  {
   "cell_type": "code",
   "execution_count": 14,
   "metadata": {},
   "outputs": [
    {
     "data": {
      "text/html": [
       "<div>\n",
       "<style scoped>\n",
       "    .dataframe tbody tr th:only-of-type {\n",
       "        vertical-align: middle;\n",
       "    }\n",
       "\n",
       "    .dataframe tbody tr th {\n",
       "        vertical-align: top;\n",
       "    }\n",
       "\n",
       "    .dataframe thead th {\n",
       "        text-align: right;\n",
       "    }\n",
       "</style>\n",
       "<table border=\"1\" class=\"dataframe\">\n",
       "  <thead>\n",
       "    <tr style=\"text-align: right;\">\n",
       "      <th></th>\n",
       "      <th>date</th>\n",
       "      <th>open_price</th>\n",
       "      <th>high_price</th>\n",
       "      <th>low_price</th>\n",
       "      <th>close_price</th>\n",
       "      <th>trading_volume</th>\n",
       "      <th>Dividends</th>\n",
       "      <th>Stock Splits</th>\n",
       "      <th>yahoo_code</th>\n",
       "    </tr>\n",
       "  </thead>\n",
       "  <tbody>\n",
       "    <tr>\n",
       "      <th>0</th>\n",
       "      <td>2017-01-19</td>\n",
       "      <td>28.097263</td>\n",
       "      <td>28.259632</td>\n",
       "      <td>28.090203</td>\n",
       "      <td>28.186684</td>\n",
       "      <td>102389200</td>\n",
       "      <td>0.0</td>\n",
       "      <td>0.0</td>\n",
       "      <td>AAPL</td>\n",
       "    </tr>\n",
       "    <tr>\n",
       "      <th>1</th>\n",
       "      <td>2017-01-20</td>\n",
       "      <td>28.344348</td>\n",
       "      <td>28.344348</td>\n",
       "      <td>28.174919</td>\n",
       "      <td>28.238455</td>\n",
       "      <td>130391600</td>\n",
       "      <td>0.0</td>\n",
       "      <td>0.0</td>\n",
       "      <td>AAPL</td>\n",
       "    </tr>\n",
       "    <tr>\n",
       "      <th>2</th>\n",
       "      <td>2017-01-23</td>\n",
       "      <td>28.238452</td>\n",
       "      <td>28.429061</td>\n",
       "      <td>28.184328</td>\n",
       "      <td>28.257278</td>\n",
       "      <td>88200800</td>\n",
       "      <td>0.0</td>\n",
       "      <td>0.0</td>\n",
       "      <td>AAPL</td>\n",
       "    </tr>\n",
       "    <tr>\n",
       "      <th>3</th>\n",
       "      <td>2017-01-24</td>\n",
       "      <td>28.132562</td>\n",
       "      <td>28.261987</td>\n",
       "      <td>28.120795</td>\n",
       "      <td>28.231396</td>\n",
       "      <td>92844000</td>\n",
       "      <td>0.0</td>\n",
       "      <td>0.0</td>\n",
       "      <td>AAPL</td>\n",
       "    </tr>\n",
       "    <tr>\n",
       "      <th>4</th>\n",
       "      <td>2017-01-25</td>\n",
       "      <td>28.337289</td>\n",
       "      <td>28.732627</td>\n",
       "      <td>28.304344</td>\n",
       "      <td>28.680857</td>\n",
       "      <td>129510400</td>\n",
       "      <td>0.0</td>\n",
       "      <td>0.0</td>\n",
       "      <td>AAPL</td>\n",
       "    </tr>\n",
       "  </tbody>\n",
       "</table>\n",
       "</div>"
      ],
      "text/plain": [
       "        date  open_price  high_price  low_price  close_price  trading_volume  \\\n",
       "0 2017-01-19   28.097263   28.259632  28.090203    28.186684       102389200   \n",
       "1 2017-01-20   28.344348   28.344348  28.174919    28.238455       130391600   \n",
       "2 2017-01-23   28.238452   28.429061  28.184328    28.257278        88200800   \n",
       "3 2017-01-24   28.132562   28.261987  28.120795    28.231396        92844000   \n",
       "4 2017-01-25   28.337289   28.732627  28.304344    28.680857       129510400   \n",
       "\n",
       "   Dividends  Stock Splits yahoo_code  \n",
       "0        0.0           0.0       AAPL  \n",
       "1        0.0           0.0       AAPL  \n",
       "2        0.0           0.0       AAPL  \n",
       "3        0.0           0.0       AAPL  \n",
       "4        0.0           0.0       AAPL  "
      ]
     },
     "execution_count": 14,
     "metadata": {},
     "output_type": "execute_result"
    }
   ],
   "source": [
    "# Create a function that extracts price data from yahoo using a ticker code\n",
    "def get_pricing_data(yahoo_code: str) -> Optional[pd.DataFrame]:\n",
    "    price_history = None\n",
    "    try:\n",
    "        with HiddenPrints():\n",
    "            ticker = yf.Ticker(yahoo_code)\n",
    "            price_history = ticker.history(period=\"5y\")\n",
    "            # If the result is a data frame, add come additional fields and add it to a list\n",
    "            if isinstance(price_history, pd.DataFrame):\n",
    "                renaming_dict = {\n",
    "                    'Date': 'date',\n",
    "                    'Open': 'open_price',\n",
    "                    'High': 'high_price',\n",
    "                    'Low': 'low_price',\n",
    "                    'Close': 'close_price',\n",
    "                    'Adj Close': 'adjusted_close_price',\n",
    "                    'Volume': 'trading_volume',\n",
    "                }\n",
    "                price_history.reset_index(inplace=True)\n",
    "                price_history['yahoo_code'] = yahoo_code\n",
    "                price_history.rename(columns=renaming_dict, inplace=True)\n",
    "    except:\n",
    "        price_history = None\n",
    "    return price_history\n",
    "\n",
    "# Test by extracting Apple stock returns\n",
    "with no_ssl_verification():\n",
    "    apple_returns = get_pricing_data('AAPL')\n",
    "apple_returns.head()\n"
   ]
  },
  {
   "cell_type": "code",
   "execution_count": 15,
   "metadata": {},
   "outputs": [],
   "source": [
    "# Define function to run through all the ticker codes and extract price data\n",
    "def iterate_tickers(tickers = List[str])-> List[pd.DataFrame]:\n",
    "    results_list = list()\n",
    "    with tqdm(total=len(tickers)) as progress_bar:\n",
    "        with concurrent.futures.ThreadPoolExecutor() as executor:\n",
    "            futures = {executor.submit(\n",
    "                get_pricing_data, yahoo_code): yahoo_code for yahoo_code in tickers}\n",
    "            for future in concurrent.futures.as_completed(futures):\n",
    "                df = future.result()\n",
    "                if df is not None:\n",
    "                    results_list.append(df)\n",
    "                progress_bar.update(1)\n",
    "    return results_list\n"
   ]
  },
  {
   "cell_type": "code",
   "execution_count": 16,
   "metadata": {},
   "outputs": [
    {
     "name": "stderr",
     "output_type": "stream",
     "text": [
      " 32%|███▏      | 580/1790 [00:50<02:26,  8.25it/s]"
     ]
    },
    {
     "name": "stdout",
     "output_type": "stream",
     "text": [
      "- ESGT.AS: No data found, symbol may be delisted\n"
     ]
    },
    {
     "name": "stderr",
     "output_type": "stream",
     "text": [
      " 34%|███▎      | 602/1790 [00:51<01:55, 10.32it/s]"
     ]
    },
    {
     "name": "stdout",
     "output_type": "stream",
     "text": [
      "- ERFNV.PA: None\n"
     ]
    },
    {
     "name": "stderr",
     "output_type": "stream",
     "text": [
      " 62%|██████▏   | 1118/1790 [01:44<01:16,  8.81it/s]"
     ]
    },
    {
     "name": "stdout",
     "output_type": "stream",
     "text": [
      "- MLM24.LS: No data found, symbol may be delisted\n"
     ]
    },
    {
     "name": "stderr",
     "output_type": "stream",
     "text": [
      " 83%|████████▎ | 1492/1790 [02:29<00:31,  9.32it/s]"
     ]
    },
    {
     "name": "stdout",
     "output_type": "stream",
     "text": [
      "- SMLBS.PA: No data found, symbol may be delisted\n"
     ]
    },
    {
     "name": "stderr",
     "output_type": "stream",
     "text": [
      "100%|██████████| 1790/1790 [03:04<00:00,  9.69it/s]\n"
     ]
    }
   ],
   "source": [
    "# Loop through all tickers to acquire data\n",
    "tickers = stock_detail['yahoo_code'].to_list()\n",
    "with no_ssl_verification():\n",
    "  final_price_history_list = iterate_tickers(tickers)\n"
   ]
  },
  {
   "cell_type": "code",
   "execution_count": 17,
   "metadata": {},
   "outputs": [],
   "source": [
    "# Combine all the final results and save to csv\n",
    "final_price_history_data = pd.concat(final_price_history_list)\n",
    "final_price_history_data.to_csv('data_price_history.csv', sep='|', index=False)"
   ]
  }
 ],
 "metadata": {
  "interpreter": {
   "hash": "cfdce0ec9f99bf6d1b48d1a5a3914060b182d34731884a217ab6526cd9b1a6dd"
  },
  "kernelspec": {
   "display_name": "Python 3.10.0 64-bit",
   "language": "python",
   "name": "python3"
  },
  "language_info": {
   "codemirror_mode": {
    "name": "ipython",
    "version": 3
   },
   "file_extension": ".py",
   "mimetype": "text/x-python",
   "name": "python",
   "nbconvert_exporter": "python",
   "pygments_lexer": "ipython3",
   "version": "3.9.7"
  },
  "orig_nbformat": 4
 },
 "nbformat": 4,
 "nbformat_minor": 2
}
