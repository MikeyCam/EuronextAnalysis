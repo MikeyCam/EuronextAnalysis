{
 "cells": [
  {
   "cell_type": "code",
   "execution_count": 1,
   "metadata": {},
   "outputs": [],
   "source": [
    "# Import packages\n",
    "import pandas as pd\n",
    "import numpy as np\n",
    "import datetime\n",
    "import seaborn as sns\n",
    "import matplotlib.pyplot as plt\n",
    "%matplotlib inline\n",
    "# Set some formatting options for pandas\n",
    "pd.set_option('display.max_columns', 500)\n",
    "pd.set_option('display.width', 1000)\n",
    "pd.set_option('display.float_format', lambda x: '%.3f' % x)\n"
   ]
  },
  {
   "cell_type": "code",
   "execution_count": 2,
   "metadata": {},
   "outputs": [
    {
     "name": "stdout",
     "output_type": "stream",
     "text": [
      "<class 'pandas.core.frame.DataFrame'>\n",
      "RangeIndex: 4678 entries, 0 to 4677\n",
      "Data columns (total 7 columns):\n",
      " #   Column                   Non-Null Count  Dtype  \n",
      "---  ------                   --------------  -----  \n",
      " 0   stock_isin               4678 non-null   object \n",
      " 1   date                     4678 non-null   object \n",
      " 2   financial_year_end       4678 non-null   object \n",
      " 3   one_year_holding_return  4678 non-null   float64\n",
      " 4   trading_days             4678 non-null   int64  \n",
      " 5   return_calc_start_date   4678 non-null   object \n",
      " 6   return_calc_end_date     4678 non-null   object \n",
      "dtypes: float64(1), int64(1), object(5)\n",
      "memory usage: 256.0+ KB\n"
     ]
    }
   ],
   "source": [
    "# The starting point is to use our dataset where we have clear room \n",
    "# following the financial statements for an approximate one year holding period return (200+ trading days)\n",
    "df = pd.read_csv(r'dataset\\y_pred.csv', sep='|')\n",
    "df.info()\n"
   ]
  },
  {
   "cell_type": "code",
   "execution_count": 3,
   "metadata": {},
   "outputs": [],
   "source": [
    "# Import all required raw data files, I will ignore earnings and stock info from euronext now\n",
    "# To make things easier, my index will always we a combination of stock_isin and date\n",
    "balance_sheet_yahoo = pd.read_csv(r'raw_data\\balance_sheet_yahoo.csv', sep='|')\n",
    "cashflow_yahoo = pd.read_csv(r'raw_data\\cashflow_yahoo.csv', sep='|')\n",
    "financials_yahoo = pd.read_csv(r'raw_data\\financials_yahoo.csv', sep='|')\n",
    "price_yahoo = pd.read_csv(r'raw_data\\price_yahoo.csv', sep='|')\n",
    "stock_info_yahoo = pd.read_csv(\n",
    "    r'raw_data\\stock_info_yahoo.csv', sep='|')\n",
    "stock_info_euronext = pd.read_csv(\n",
    "    r'raw_data\\stock_info_euronext.csv', sep='|')\n"
   ]
  },
  {
   "cell_type": "code",
   "execution_count": 4,
   "metadata": {},
   "outputs": [],
   "source": [
    "# Pivot all datasets for joining\n",
    "balance_sheet_yahoo_pivot = balance_sheet_yahoo.pivot(\n",
    "    index=['date', 'stock_isin'], columns='balance_sheet_measure', values='amount')\n",
    "financials_yahoo_pivot = financials_yahoo.pivot(\n",
    "    index=['date', 'stock_isin'], columns='financial_statement_measure', values='amount')\n",
    "cashflow_yahoo_pivot = cashflow_yahoo.pivot(\n",
    "    index=['date', 'stock_isin'], columns='cash_flow_measure', values='amount')\n"
   ]
  },
  {
   "cell_type": "code",
   "execution_count": 5,
   "metadata": {},
   "outputs": [
    {
     "name": "stdout",
     "output_type": "stream",
     "text": [
      "<class 'pandas.core.frame.DataFrame'>\n",
      "Int64Index: 4612 entries, 0 to 4611\n",
      "Data columns (total 89 columns):\n",
      " #   Column                                     Non-Null Count  Dtype  \n",
      "---  ------                                     --------------  -----  \n",
      " 0   stock_isin                                 4612 non-null   object \n",
      " 1   date                                       4612 non-null   object \n",
      " 2   financial_year_end                         4612 non-null   object \n",
      " 3   one_year_holding_return                    4612 non-null   float64\n",
      " 4   trading_days                               4612 non-null   int64  \n",
      " 5   return_calc_start_date                     4612 non-null   object \n",
      " 6   return_calc_end_date                       4612 non-null   object \n",
      " 7   Accounts Payable                           4512 non-null   float64\n",
      " 8   Capital Surplus                            3698 non-null   float64\n",
      " 9   Cash                                       4558 non-null   float64\n",
      " 10  Common Stock                               4582 non-null   float64\n",
      " 11  Deferred Long Term Asset Charges           2747 non-null   float64\n",
      " 12  Deferred Long Term Liab                    1019 non-null   float64\n",
      " 13  Good Will                                  2828 non-null   float64\n",
      " 14  Intangible Assets                          3850 non-null   float64\n",
      " 15  Inventory                                  3231 non-null   float64\n",
      " 16  Long Term Debt                             3862 non-null   float64\n",
      " 17  Long Term Investments                      3533 non-null   float64\n",
      " 18  Minority Interest_x                        2365 non-null   float64\n",
      " 19  Net Receivables                            4444 non-null   float64\n",
      " 20  Net Tangible Assets                        4596 non-null   float64\n",
      " 21  Other Assets                               4191 non-null   float64\n",
      " 22  Other Current Assets                       3473 non-null   float64\n",
      " 23  Other Current Liab                         4438 non-null   float64\n",
      " 24  Other Liab                                 4207 non-null   float64\n",
      " 25  Other Stockholder Equity                   4171 non-null   float64\n",
      " 26  Property Plant Equipment                   4395 non-null   float64\n",
      " 27  Retained Earnings                          4114 non-null   float64\n",
      " 28  Short Long Term Debt                       3280 non-null   float64\n",
      " 29  Short Term Investments                     1249 non-null   float64\n",
      " 30  Total Assets                               4599 non-null   float64\n",
      " 31  Total Current Assets                       4596 non-null   float64\n",
      " 32  Total Current Liabilities                  4597 non-null   float64\n",
      " 33  Total Liab                                 4600 non-null   float64\n",
      " 34  Total Stockholder Equity                   4596 non-null   float64\n",
      " 35  Treasury Stock                             4246 non-null   float64\n",
      " 36  Cost Of Revenue                            4612 non-null   float64\n",
      " 37  Discontinued Operations                    703 non-null    float64\n",
      " 38  Ebit                                       4612 non-null   float64\n",
      " 39  Effect Of Accounting Charges               0 non-null      float64\n",
      " 40  Extraordinary Items                        0 non-null      float64\n",
      " 41  Gross Profit                               4612 non-null   float64\n",
      " 42  Income Before Tax                          4612 non-null   float64\n",
      " 43  Income Tax Expense                         4612 non-null   float64\n",
      " 44  Interest Expense                           4239 non-null   float64\n",
      " 45  Minority Interest_y                        2511 non-null   float64\n",
      " 46  Net Income_x                               4612 non-null   float64\n",
      " 47  Net Income Applicable To Common Shares     4612 non-null   float64\n",
      " 48  Net Income From Continuing Ops             4612 non-null   float64\n",
      " 49  Non Recurring                              0 non-null      float64\n",
      " 50  Operating Income                           4612 non-null   float64\n",
      " 51  Other Items                                0 non-null      float64\n",
      " 52  Other Operating Expenses                   4064 non-null   float64\n",
      " 53  Research Development                       590 non-null    float64\n",
      " 54  Selling General Administrative             4103 non-null   float64\n",
      " 55  Total Operating Expenses                   4612 non-null   float64\n",
      " 56  Total Other Income Expense Net             4612 non-null   float64\n",
      " 57  Total Revenue                              4612 non-null   float64\n",
      " 58  Capital Expenditures                       4040 non-null   float64\n",
      " 59  Change In Cash                             4312 non-null   float64\n",
      " 60  Change To Account Receivables              2876 non-null   float64\n",
      " 61  Change To Inventory                        2237 non-null   float64\n",
      " 62  Change To Liabilities                      4612 non-null   float64\n",
      " 63  Change To Netincome                        4290 non-null   float64\n",
      " 64  Change To Operating Activities             3550 non-null   float64\n",
      " 65  Depreciation                               4180 non-null   float64\n",
      " 66  Dividends Paid                             2464 non-null   float64\n",
      " 67  Effect Of Exchange Rate                    2553 non-null   float64\n",
      " 68  Investments                                2757 non-null   float64\n",
      " 69  Issuance Of Stock                          2514 non-null   float64\n",
      " 70  Net Borrowings                             4113 non-null   float64\n",
      " 71  Net Income_y                               4612 non-null   float64\n",
      " 72  Other Cashflows From Financing Activities  3664 non-null   float64\n",
      " 73  Other Cashflows From Investing Activities  2884 non-null   float64\n",
      " 74  Repurchase Of Stock                        1800 non-null   float64\n",
      " 75  Total Cash From Financing Activities       4266 non-null   float64\n",
      " 76  Total Cash From Operating Activities       4314 non-null   float64\n",
      " 77  Total Cashflows From Investing Activities  4236 non-null   float64\n",
      " 78  yahoo_sector                               4605 non-null   object \n",
      " 79  yahoo_industry                             4605 non-null   object \n",
      " 80  yahoo_full_time_employees                  4174 non-null   float64\n",
      " 81  yahoo_shares_outstanding                   4568 non-null   float64\n",
      " 82  stock_name                                 4612 non-null   object \n",
      " 83  stock_euronext_symbol                      4612 non-null   object \n",
      " 84  stock_exchange_markets                     4612 non-null   object \n",
      " 85  stock_trading_currency                     4612 non-null   object \n",
      " 86  main_city                                  4612 non-null   object \n",
      " 87  yahoo_city_code                            4612 non-null   object \n",
      " 88  yahoo_code                                 4612 non-null   object \n",
      "dtypes: float64(74), int64(1), object(14)\n",
      "memory usage: 3.2+ MB\n"
     ]
    }
   ],
   "source": [
    "# Create a GIANT dataframe with all financial information\n",
    "df_add_balance_sheet = pd.merge(df, balance_sheet_yahoo_pivot, how='inner', \n",
    "    left_on=['stock_isin', 'date'], right_on=['stock_isin', 'date'])\n",
    "df_add_financials = pd.merge(df_add_balance_sheet, financials_yahoo_pivot, how='inner', \n",
    "    left_on=['stock_isin', 'date'], right_on=['stock_isin', 'date'])\n",
    "df_add_cash_flow = pd.merge(df_add_financials, cashflow_yahoo_pivot, how='inner',\n",
    "    left_on=['stock_isin', 'date'], right_on=['stock_isin', 'date'])\n",
    "# Add some industry information in becuase I think it will be interesting\n",
    "df = pd.merge(df_add_cash_flow, stock_info_yahoo, how='inner',\n",
    "              left_on=['stock_isin'], right_on=['stock_isin'])\n",
    "df = pd.merge(df, stock_info_euronext, how='inner',\n",
    "              left_on=['stock_isin'], right_on=['stock_isin'])\n",
    "df.info()\n"
   ]
  },
  {
   "cell_type": "code",
   "execution_count": null,
   "metadata": {},
   "outputs": [],
   "source": []
  },
  {
   "cell_type": "code",
   "execution_count": 6,
   "metadata": {},
   "outputs": [
    {
     "data": {
      "text/plain": [
       "<AxesSubplot:xlabel='feature_current_ratio'>"
      ]
     },
     "execution_count": 6,
     "metadata": {},
     "output_type": "execute_result"
    },
    {
     "data": {
      "image/png": "[encoded data removed]",
      "text/plain": [
       "<Figure size 432x288 with 1 Axes>"
      ]
     },
     "metadata": {
      "needs_background": "light"
     },
     "output_type": "display_data"
    }
   ],
   "source": [
    "# All the above info is not really interpretable as is, we need to convert it to financial ratios\n",
    "# I wanted 10 ratios in total so I just picked a few I could calculate. \n",
    "# I want to limit my dataset to 10 key financial metrics\n",
    "# 1. Quick Ratio = Current Assets / Current Liabilities\n",
    "df['feature_current_ratio'] = df['Total Current Assets'] /df['Total Current Liabilities']\n",
    "sns.boxplot(x = df['feature_current_ratio'])"
   ]
  },
  {
   "cell_type": "code",
   "execution_count": 7,
   "metadata": {},
   "outputs": [
    {
     "data": {
      "text/plain": [
       "<AxesSubplot:xlabel='feature_return_on_equity'>"
      ]
     },
     "execution_count": 7,
     "metadata": {},
     "output_type": "execute_result"
    },
    {
     "data": {
      "image/png": "[encoded data removed]",
      "text/plain": [
       "<Figure size 432x288 with 1 Axes>"
      ]
     },
     "metadata": {
      "needs_background": "light"
     },
     "output_type": "display_data"
    }
   ],
   "source": [
    "# 2. Return On Equity = (Earnings – Dividends) / Shareholders Equity\n",
    "df['feature_return_on_equity'] = (df['Net Income_x'] -\n",
    "                                  np.nan_to_num(df['Dividends Paid']))/df['Total Stockholder Equity']\n",
    "sns.boxplot(x=df['feature_return_on_equity'])"
   ]
  },
  {
   "cell_type": "code",
   "execution_count": 8,
   "metadata": {},
   "outputs": [
    {
     "data": {
      "text/plain": [
       "<AxesSubplot:xlabel='feature_debt_to_equity_ratio'>"
      ]
     },
     "execution_count": 8,
     "metadata": {},
     "output_type": "execute_result"
    },
    {
     "data": {
      "image/png": "[encoded data removed]",
      "text/plain": [
       "<Figure size 432x288 with 1 Axes>"
      ]
     },
     "metadata": {
      "needs_background": "light"
     },
     "output_type": "display_data"
    }
   ],
   "source": [
    "# 3. Debt to equity ratio = Total Liabilities / Shareholders Equity\n",
    "df['feature_debt_to_equity_ratio'] = df['Total Liab']/df['Total Stockholder Equity']\n",
    "sns.boxplot(x = df['feature_debt_to_equity_ratio'])\n"
   ]
  },
  {
   "cell_type": "code",
   "execution_count": 9,
   "metadata": {},
   "outputs": [
    {
     "data": {
      "text/plain": [
       "<AxesSubplot:xlabel='feature_operating_cash_flow_ratio'>"
      ]
     },
     "execution_count": 9,
     "metadata": {},
     "output_type": "execute_result"
    },
    {
     "data": {
      "image/png": "[encoded data removed]",
      "text/plain": [
       "<Figure size 432x288 with 1 Axes>"
      ]
     },
     "metadata": {
      "needs_background": "light"
     },
     "output_type": "display_data"
    }
   ],
   "source": [
    "# 4. Operating Cash Flow Ratio = Cash Flow from Operations /Sales\n",
    "df['feature_operating_cash_flow_ratio'] = df['Total Cash From Operating Activities'] / \\\n",
    "    df['Operating Income']\n",
    "sns.boxplot(x=df['feature_operating_cash_flow_ratio'])\n"
   ]
  },
  {
   "cell_type": "code",
   "execution_count": 10,
   "metadata": {},
   "outputs": [
    {
     "data": {
      "text/plain": [
       "<AxesSubplot:xlabel='feature_interest_coverage_ratio'>"
      ]
     },
     "execution_count": 10,
     "metadata": {},
     "output_type": "execute_result"
    },
    {
     "data": {
      "image/png": "[encoded data removed]",
      "text/plain": [
       "<Figure size 432x288 with 1 Axes>"
      ]
     },
     "metadata": {
      "needs_background": "light"
     },
     "output_type": "display_data"
    }
   ],
   "source": [
    "# 5. Interest coverage ratio = EBIT / Interest expense\n",
    "df['feature_interest_coverage_ratio'] = df['Ebit'] / df['Interest Expense']\n",
    "sns.boxplot(x=df['feature_interest_coverage_ratio'])\n"
   ]
  },
  {
   "cell_type": "code",
   "execution_count": 11,
   "metadata": {},
   "outputs": [
    {
     "data": {
      "text/plain": [
       "<AxesSubplot:xlabel='feature_ebit_to_total_assets'>"
      ]
     },
     "execution_count": 11,
     "metadata": {},
     "output_type": "execute_result"
    },
    {
     "data": {
      "image/png": "[encoded data removed]",
      "text/plain": [
       "<Figure size 432x288 with 1 Axes>"
      ]
     },
     "metadata": {
      "needs_background": "light"
     },
     "output_type": "display_data"
    }
   ],
   "source": [
    "# 6. EBIT to Total Assets = Earnings Before Interest and Taxes / Total Assets\n",
    "df['feature_ebit_to_total_assets'] = df['Ebit'] / df['Total Assets']\n",
    "sns.boxplot(x=df['feature_ebit_to_total_assets'])\n"
   ]
  },
  {
   "cell_type": "code",
   "execution_count": 12,
   "metadata": {},
   "outputs": [
    {
     "data": {
      "text/plain": [
       "<AxesSubplot:xlabel='feature_free_cash_flow_ratio'>"
      ]
     },
     "execution_count": 12,
     "metadata": {},
     "output_type": "execute_result"
    },
    {
     "data": {
      "image/png": "[encoded data removed]",
      "text/plain": [
       "<Figure size 432x288 with 1 Axes>"
      ]
     },
     "metadata": {
      "needs_background": "light"
     },
     "output_type": "display_data"
    }
   ],
   "source": [
    "# 7. Cash flow Ratio = Free cash flow/ Total Assets\n",
    "# Free cash flow =  operating cash flow – capital expenditures\n",
    "df['free_cash_flow'] = df['Total Cash From Operating Activities'] - np.nan_to_num(df['Capital Expenditures'])\n",
    "df['feature_free_cash_flow_ratio'] = df['free_cash_flow'] / df['Total Assets']\n",
    "sns.boxplot(x=df['feature_free_cash_flow_ratio'])\n"
   ]
  },
  {
   "cell_type": "code",
   "execution_count": 13,
   "metadata": {},
   "outputs": [
    {
     "data": {
      "text/plain": [
       "<AxesSubplot:xlabel='feature_price_to_earnings_ratio'>"
      ]
     },
     "execution_count": 13,
     "metadata": {},
     "output_type": "execute_result"
    },
    {
     "data": {
      "image/png": "[encoded data removed]",
      "text/plain": [
       "<Figure size 432x288 with 1 Axes>"
      ]
     },
     "metadata": {
      "needs_background": "light"
     },
     "output_type": "display_data"
    }
   ],
   "source": [
    "# 8. PE ratio (well a variation at least)\n",
    "df['feature_price_to_earnings_ratio'] = df['Total Revenue'] / df['Common Stock']\n",
    "sns.boxplot(x=df['feature_price_to_earnings_ratio'])\n"
   ]
  },
  {
   "cell_type": "code",
   "execution_count": 14,
   "metadata": {},
   "outputs": [
    {
     "data": {
      "text/plain": [
       "<AxesSubplot:xlabel='feature_payables_to_receivables_ratio'>"
      ]
     },
     "execution_count": 14,
     "metadata": {},
     "output_type": "execute_result"
    },
    {
     "data": {
      "image/png": "[encoded data removed]",
      "text/plain": [
       "<Figure size 432x288 with 1 Axes>"
      ]
     },
     "metadata": {
      "needs_background": "light"
     },
     "output_type": "display_data"
    }
   ],
   "source": [
    "# 9. AR/AP Ratio\n",
    "df['feature_payables_to_receivables_ratio'] = df['Accounts Payable'] / df['Net Receivables']\n",
    "sns.boxplot(x=df['feature_payables_to_receivables_ratio'])\n"
   ]
  },
  {
   "cell_type": "code",
   "execution_count": 15,
   "metadata": {},
   "outputs": [
    {
     "data": {
      "text/plain": [
       "<AxesSubplot:xlabel='feature_debt_ratio'>"
      ]
     },
     "execution_count": 15,
     "metadata": {},
     "output_type": "execute_result"
    },
    {
     "data": {
      "image/png": "[encoded data removed]",
      "text/plain": [
       "<Figure size 432x288 with 1 Axes>"
      ]
     },
     "metadata": {
      "needs_background": "light"
     },
     "output_type": "display_data"
    }
   ],
   "source": [
    "# 10. Debt Ratio\n",
    "df['feature_debt_ratio'] = df['Total Liab'] / df['Total Assets']\n",
    "sns.boxplot(x=df['feature_debt_ratio'])"
   ]
  },
  {
   "cell_type": "code",
   "execution_count": 16,
   "metadata": {},
   "outputs": [],
   "source": [
    "# Save to full file to csv \n",
    "df.to_csv(\n",
    "    'dataset/full_dataset.csv', sep='|', index=False)\n"
   ]
  },
  {
   "cell_type": "code",
   "execution_count": 17,
   "metadata": {},
   "outputs": [],
   "source": [
    "# Save just my feature with predictors set\n",
    "# df.to_csv('dataset/full_dataset.csv', sep='|', index=False)\n",
    "feature_columns = list(df.filter(like='feature_').columns)\n",
    "columns = feature_columns + ['financial_year_end', 'one_year_holding_return', 'stock_isin']\n",
    "machine_learning_dataset = df[columns]"
   ]
  },
  {
   "cell_type": "code",
   "execution_count": 18,
   "metadata": {},
   "outputs": [],
   "source": [
    "machine_learning_dataset.to_csv(\n",
    "    'dataset/machine_learning_dataset.csv', sep='|', index=False)\n"
   ]
  },
  {
   "cell_type": "code",
   "execution_count": 19,
   "metadata": {},
   "outputs": [
    {
     "name": "stdout",
     "output_type": "stream",
     "text": [
      "<class 'pandas.core.frame.DataFrame'>\n",
      "Int64Index: 4612 entries, 0 to 4611\n",
      "Data columns (total 13 columns):\n",
      " #   Column                                 Non-Null Count  Dtype  \n",
      "---  ------                                 --------------  -----  \n",
      " 0   feature_current_ratio                  4593 non-null   float64\n",
      " 1   feature_return_on_equity               4596 non-null   float64\n",
      " 2   feature_debt_to_equity_ratio           4596 non-null   float64\n",
      " 3   feature_operating_cash_flow_ratio      4314 non-null   float64\n",
      " 4   feature_interest_coverage_ratio        4239 non-null   float64\n",
      " 5   feature_ebit_to_total_assets           4599 non-null   float64\n",
      " 6   feature_free_cash_flow_ratio           4312 non-null   float64\n",
      " 7   feature_price_to_earnings_ratio        4582 non-null   float64\n",
      " 8   feature_payables_to_receivables_ratio  4381 non-null   float64\n",
      " 9   feature_debt_ratio                     4599 non-null   float64\n",
      " 10  financial_year_end                     4612 non-null   object \n",
      " 11  one_year_holding_return                4612 non-null   float64\n",
      " 12  stock_isin                             4612 non-null   object \n",
      "dtypes: float64(11), object(2)\n",
      "memory usage: 504.4+ KB\n"
     ]
    }
   ],
   "source": [
    "machine_learning_dataset.info()"
   ]
  },
  {
   "cell_type": "code",
   "execution_count": null,
   "metadata": {},
   "outputs": [],
   "source": []
  }
 ],
 "metadata": {
  "interpreter": {
   "hash": "cfdce0ec9f99bf6d1b48d1a5a3914060b182d34731884a217ab6526cd9b1a6dd"
  },
  "kernelspec": {
   "display_name": "Python 3.10.0 64-bit",
   "language": "python",
   "name": "python3"
  },
  "language_info": {
   "codemirror_mode": {
    "name": "ipython",
    "version": 3
   },
   "file_extension": ".py",
   "mimetype": "text/x-python",
   "name": "python",
   "nbconvert_exporter": "python",
   "pygments_lexer": "ipython3",
   "version": "3.9.7"
  },
  "orig_nbformat": 4
 },
 "nbformat": 4,
 "nbformat_minor": 2
}
