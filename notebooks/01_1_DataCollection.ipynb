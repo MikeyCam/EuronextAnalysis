{
 "cells": [
  {
   "cell_type": "code",
   "execution_count": 17,
   "metadata": {},
   "outputs": [],
   "source": [
    "# Create a function that extracts price data from yahoo using a ticker code\n",
    "def get_yahoo_data(ticker_and_isin: List[str]) -> Optional[pd.DataFrame]:\n",
    "    yahoo_code = ticker_and_isin[0]\n",
    "    stock_isin = ticker_and_isin[1]\n",
    "    try:\n",
    "        ticker = yf.Ticker(yahoo_code)\n",
    "    except:\n",
    "        ticker = None\n",
    "    # Get some basic stock info\n",
    "    try:\n",
    "        stock_info = ticker.info\n",
    "    except:\n",
    "        stock_info = None\n",
    "    try: \n",
    "        yahoo_sector = stock_info['sector']\n",
    "    except:\n",
    "        yahoo_sector = None\n",
    "    try:\n",
    "        yahoo_industry = stock_info['industry']\n",
    "    except:\n",
    "        yahoo_industry = None\n",
    "    try:\n",
    "        yahoo_full_time_employees = stock_info['fullTimeEmployees']\n",
    "    except:\n",
    "        yahoo_full_time_employees = None\n",
    "    try:\n",
    "        yahoo_shares_outstanding = stock_info['sharesOutstanding']\n",
    "    except:\n",
    "        yahoo_shares_outstanding = None\n",
    "    if yahoo_sector or yahoo_industry or yahoo_full_time_employees or yahoo_shares_outstanding:\n",
    "        stock_info_dict = {\n",
    "            'stock_isin' : stock_isin,\n",
    "            'yahoo_sector': [yahoo_sector],\n",
    "            'yahoo_industry': [yahoo_industry],\n",
    "            'yahoo_full_time_employees': [yahoo_full_time_employees],\n",
    "            'yahoo_shares_outstanding': [yahoo_shares_outstanding]\n",
    "        }\n",
    "        stock_info = pd.DataFrame.from_dict(stock_info_dict)\n",
    "    else:\n",
    "        stock_info = pd.DataFrame()\n",
    "    try:\n",
    "        # Get the return history\n",
    "        prices = ticker.history(period=\"5y\")\n",
    "        renaming_dict = {\n",
    "            'Date': 'date',\n",
    "            'Open': 'open_price',\n",
    "            'High': 'high_price',\n",
    "            'Low': 'low_price',\n",
    "            'Close': 'close_price',\n",
    "            'Adj Close': 'adjusted_close_price',\n",
    "            'Volume': 'trading_volume',\n",
    "            'Dividends': 'dividends',\n",
    "            'Stock Splits': 'stock_splits',\n",
    "        }\n",
    "        prices.reset_index(inplace=True)\n",
    "        prices.rename(columns=renaming_dict, inplace=True)\n",
    "        prices['stock_isin'] = stock_isin\n",
    "    except:\n",
    "        prices = pd.DataFrame()\n",
    "    # Get financial statement history\n",
    "    try:\n",
    "        financials = ticker.financials\n",
    "        financials.index.set_names(['financial_statement_measure'], inplace=True)\n",
    "        financials.reset_index(inplace=True)\n",
    "        financials = pd.melt(financials, id_vars='financial_statement_measure',\n",
    "                                    var_name='date', value_name='amount')\n",
    "        financials['stock_isin'] = stock_isin\n",
    "    except:\n",
    "        financials = pd.DataFrame()\n",
    "    # Get earnings history\n",
    "    try:\n",
    "        earnings = ticker.earnings\n",
    "        earnings.index.set_names(['year'], inplace=True)\n",
    "        earnings.reset_index(inplace=True)\n",
    "        earnings = pd.melt(earnings, id_vars='year',\n",
    "                                        var_name='earnings_measure', value_name='amount')\n",
    "        earnings['stock_isin'] = stock_isin\n",
    "    except:\n",
    "        earnings = pd.DataFrame()\n",
    "    # Get balance sheet history\n",
    "    try:\n",
    "        balance_sheet = ticker.balance_sheet\n",
    "        balance_sheet.index.set_names(['balance_sheet_measure'], inplace=True)\n",
    "        balance_sheet.reset_index(inplace=True)\n",
    "        balance_sheet = pd.melt(balance_sheet, id_vars='balance_sheet_measure',\n",
    "                                        var_name='date', value_name='amount')\n",
    "        balance_sheet['stock_isin'] = stock_isin\n",
    "    except:\n",
    "        balance_sheet = pd.DataFrame()\n",
    "    # Get cashflow history\n",
    "    try:\n",
    "        cashflow = ticker.cashflow\n",
    "        cashflow.index.set_names(['cash_flow_measure'], inplace=True)\n",
    "        cashflow.reset_index(inplace=True)\n",
    "        cashflow = pd.melt(cashflow, id_vars='cash_flow_measure',\n",
    "                                        var_name='date', value_name='amount')\n",
    "        cashflow['stock_isin'] = stock_isin\n",
    "    except:\n",
    "        cashflow = pd.DataFrame()\n",
    "    return stock_info, prices, financials, earnings, balance_sheet, cashflow"
   ]
  },
  {
   "cell_type": "code",
   "execution_count": 18,
   "metadata": {},
   "outputs": [
    {
     "name": "stdout",
     "output_type": "stream",
     "text": [
      "Stock info:\n",
      "     stock_isin yahoo_sector        yahoo_industry  yahoo_full_time_employees  yahoo_shares_outstanding\n",
      "0  US0378331005   Technology  Consumer Electronics                     100000               16319399936\n",
      "----------------------------------------------------------\n",
      "Historical prices:\n",
      "        date  open_price  high_price  low_price  close_price  trading_volume  dividends  stock_splits    stock_isin\n",
      "0 2017-02-23      32.427      32.451     32.172       32.227        83152800      0.000         0.000  US0378331005\n",
      "1 2017-02-24      32.080      32.257     31.931       32.257        87106400      0.000         0.000  US0378331005\n",
      "2 2017-02-27      32.371      32.441     32.168       32.321        81029600      0.000         0.000  US0378331005\n",
      "3 2017-02-28      32.356      32.441     32.267       32.335        93931600      0.000         0.000  US0378331005\n",
      "4 2017-03-01      32.548      33.081     32.479       32.996       145658400      0.000         0.000  US0378331005\n",
      "----------------------------------------------------------\n",
      "Historical financials:\n",
      "    financial_statement_measure       date           amount    stock_isin\n",
      "0          Research Development 2021-09-25  21914000000.000  US0378331005\n",
      "1  Effect Of Accounting Charges 2021-09-25             None  US0378331005\n",
      "2             Income Before Tax 2021-09-25 109207000000.000  US0378331005\n",
      "3             Minority Interest 2021-09-25             None  US0378331005\n",
      "4                    Net Income 2021-09-25  94680000000.000  US0378331005\n",
      "----------------------------------------------------------\n",
      "Historical earnings:\n",
      "   year earnings_measure        amount    stock_isin\n",
      "0  2018          Revenue  265595000000  US0378331005\n",
      "1  2019          Revenue  260174000000  US0378331005\n",
      "2  2020          Revenue  274515000000  US0378331005\n",
      "3  2021          Revenue  365817000000  US0378331005\n",
      "4  2018         Earnings   59531000000  US0378331005\n",
      "----------------------------------------------------------\n",
      "Historical balance sheet:\n",
      "      balance_sheet_measure       date           amount    stock_isin\n",
      "0                Total Liab 2021-09-25 287912000000.000  US0378331005\n",
      "1  Total Stockholder Equity 2021-09-25  63090000000.000  US0378331005\n",
      "2        Other Current Liab 2021-09-25  53577000000.000  US0378331005\n",
      "3              Total Assets 2021-09-25 351002000000.000  US0378331005\n",
      "4              Common Stock 2021-09-25  57365000000.000  US0378331005\n",
      "----------------------------------------------------------\n",
      "Historical cashflow:\n",
      "                           cash_flow_measure       date           amount    stock_isin\n",
      "0                                Investments 2021-09-25  -2819000000.000  US0378331005\n",
      "1                      Change To Liabilities 2021-09-25  14002000000.000  US0378331005\n",
      "2  Total Cashflows From Investing Activities 2021-09-25 -14545000000.000  US0378331005\n",
      "3                             Net Borrowings 2021-09-25  12665000000.000  US0378331005\n",
      "4       Total Cash From Financing Activities 2021-09-25 -93353000000.000  US0378331005\n",
      "----------------------------------------------------------\n"
     ]
    }
   ],
   "source": [
    "# Test by extracting Apple stock returns\n",
    "with no_ssl_verification():\n",
    "    stock_info, prices, financials, earnings, balance_sheet, cashflow = get_yahoo_data(\n",
    "        ['AAPL', 'US0378331005'])\n",
    "print('Stock info:')\n",
    "print(stock_info.head())\n",
    "print('----------------------------------------------------------')\n",
    "print('Historical prices:')\n",
    "print(prices.head())\n",
    "print('----------------------------------------------------------')\n",
    "print('Historical financials:')\n",
    "print(financials.head())\n",
    "print('----------------------------------------------------------')\n",
    "print('Historical earnings:')\n",
    "print(earnings.head())\n",
    "print('----------------------------------------------------------')\n",
    "print('Historical balance sheet:')\n",
    "print(balance_sheet.head())\n",
    "print('----------------------------------------------------------')\n",
    "print('Historical cashflow:')\n",
    "print(cashflow.head())\n",
    "print('----------------------------------------------------------')"
   ]
  },
  {
   "cell_type": "code",
   "execution_count": 19,
   "metadata": {},
   "outputs": [
    {
     "data": {
      "text/plain": [
       "1687"
      ]
     },
     "execution_count": 19,
     "metadata": {},
     "output_type": "execute_result"
    }
   ],
   "source": [
    "# Prepare list of ticker information to pass into our iterator function.\n",
    "relevant_tickers = stock_info_euronext[[\n",
    "    'yahoo_code', 'stock_isin']].dropna()\n",
    "tickers = relevant_tickers.to_numpy().tolist()\n",
    "len(tickers)"
   ]
  },
  {
   "cell_type": "code",
   "execution_count": 20,
   "metadata": {},
   "outputs": [],
   "source": [
    "# Define function to run through all the ticker codes and extract price data\n",
    "# https://docs.python.org/3/library/concurrent.futures.html\n",
    "def iterate_tickers(tickers: List[List[str]])-> List[pd.DataFrame]:\n",
    "    stock_info_list, prices_list, financials_list, earnings_list, balance_sheet_list, cashflow_list = (list() for i in range(6))\n",
    "    no_of_tickers = len(tickers)\n",
    "    logging.info(f'Starting extraction of data for {no_of_tickers} tickers')\n",
    "    with concurrent.futures.ThreadPoolExecutor(max_workers=5) as executor:\n",
    "        # Start the load operations and mark each future with its ticker and isn number\n",
    "        download_ticker_info = {executor.submit(\n",
    "            get_yahoo_data, ticker_and_isn): ticker_and_isn for ticker_and_isn in tickers}\n",
    "        for future in concurrent.futures.as_completed(download_ticker_info):\n",
    "            current_download = download_ticker_info[future]\n",
    "            stock_info, prices, financials, earnings, balance_sheet, cashflow = future.result()\n",
    "            stock_info_list.append(stock_info)\n",
    "            prices_list.append(prices)\n",
    "            financials_list.append(financials)\n",
    "            earnings_list.append(earnings)\n",
    "            balance_sheet_list.append(balance_sheet)\n",
    "            cashflow_list.append(cashflow)\n",
    "            # Check mark \\u2713 cross mark \\u2717\n",
    "            # Retrieval status\n",
    "            SI = '\\u2717' if stock_info.empty else '\\u2713'\n",
    "            F = '\\u2717' if financials.empty else '\\u2713'\n",
    "            E = '\\u2717' if earnings.empty else '\\u2713'\n",
    "            BS = '\\u2717' if balance_sheet.empty else '\\u2713'\n",
    "            CF = '\\u2717' if cashflow.empty else '\\u2713'\n",
    "            logging.info(f'{current_download}: SI{SI},F{F},E{E},BS{BS},CF{CF}')\n",
    "    return stock_info_list, prices_list, financials_list, earnings_list, balance_sheet_list, cashflow_list\n"
   ]
  },
  {
   "cell_type": "code",
   "execution_count": 21,
   "metadata": {},
   "outputs": [
    {
     "name": "stderr",
     "output_type": "stream",
     "text": [
      "2022-02-23 05:08:11 PM: Starting extraction of data for 1687 tickers\n",
      "2022-02-23 05:08:16 PM: ['2020.OL', 'BMG9156K1018']: SI✓,F✓,E✓,BS✓,CF✓\n",
      "2022-02-23 05:08:16 PM: ['2MXBS.PA', 'FR0014000TB2']: SI✗,F✗,E✗,BS✗,CF✗\n",
      "2022-02-23 05:08:17 PM: ['2MX.PA', 'FR0014000T90']: SI✓,F✗,E✗,BS✗,CF✗\n",
      "2022-02-23 05:08:17 PM: ['2CRSI.PA', 'FR0013341781']: SI✓,F✓,E✓,BS✓,CF✓\n",
      "2022-02-23 05:08:18 PM: ['ALMIL.PA', 'FR0010285965']: SI✓,F✓,E✓,BS✓,CF✓\n",
      "2022-02-23 05:08:21 PM: ['5PG.OL', 'DK0060945467']: SI✓,F✓,E✓,BS✓,CF✓\n",
      "2022-02-23 05:08:23 PM: ['ASP.PA', 'FR0000076887']: SI✓,F✓,E✓,BS✓,CF✓\n",
      "2022-02-23 05:08:23 PM: ['AALB.AS', 'NL0000852564']: SI✓,F✓,E✓,BS✓,CF✓\n",
      "2022-02-23 05:08:27 PM: ['MLATV.PA', 'FR0010050773']: SI✗,F✗,E✗,BS✗,CF✗\n"
     ]
    },
    {
     "name": "stdout",
     "output_type": "stream",
     "text": [
      "- MLATV.PA: No data found, symbol may be delisted\n"
     ]
    },
    {
     "name": "stderr",
     "output_type": "stream",
     "text": [
      "2022-02-23 05:08:27 PM: ['ABI.BR', 'BE0974293251']: SI✓,F✓,E✓,BS✓,CF✓\n",
      "2022-02-23 05:08:28 PM: ['AB.PA', 'FR0010557264']: SI✓,F✓,E✓,BS✓,CF✓\n",
      "2022-02-23 05:08:28 PM: ['AASB.OL', 'NO0010672181']: SI✓,F✓,E✓,BS✓,CF✓\n",
      "2022-02-23 05:08:28 PM: ['ABCA.PA', 'FR0004040608']: SI✓,F✓,E✓,BS✓,CF✓\n",
      "2022-02-23 05:08:33 PM: ['ABG.OL', 'NO0003021909']: SI✓,F✓,E✓,BS✓,CF✓\n",
      "2022-02-23 05:08:33 PM: ['ABEO.PA', 'FR0013185857']: SI✓,F✓,E✓,BS✓,CF✓\n",
      "2022-02-23 05:08:34 PM: ['ABN.AS', 'NL0011540547']: SI✓,F✓,E✓,BS✓,CF✓\n",
      "2022-02-23 05:08:34 PM: ['ABNX.PA', 'FR0012616852']: SI✓,F✓,E✓,BS✓,CF✓\n",
      "2022-02-23 05:08:35 PM: ['ABVX.PA', 'FR0012333284']: SI✓,F✓,E✓,BS✓,CF✓\n",
      "2022-02-23 05:08:38 PM: ['ABO.BR', 'BE0974278104']: SI✓,F✓,E✓,BS✓,CF✓\n",
      "2022-02-23 05:08:38 PM: ['ACPH.BR', 'GB00BYWF9Y76']: SI✓,F✓,E✓,BS✓,CF✓\n",
      "2022-02-23 05:08:39 PM: ['ACCEL.AS', 'NL0009767532']: SI✓,F✓,E✓,BS✓,CF✓\n",
      "2022-02-23 05:08:39 PM: ['ACAN.PA', 'FR0000064602']: SI✓,F✓,E✗,BS✓,CF✓\n",
      "2022-02-23 05:08:40 PM: ['ACCB.BR', 'BE0003696102']: SI✓,F✓,E✗,BS✓,CF✓\n",
      "2022-02-23 05:08:43 PM: ['AC.PA', 'FR0000120404']: SI✓,F✓,E✓,BS✓,CF✓\n",
      "2022-02-23 05:08:44 PM: ['AACW.PA', 'FR0014003QK3']: SI✗,F✗,E✗,BS✗,CF✗\n",
      "2022-02-23 05:08:44 PM: ['AAC.PA', 'FR0014003PZ3']: SI✓,F✗,E✗,BS✗,CF✗\n",
      "2022-02-23 05:08:44 PM: ['AXS.AS', 'GB00BQQFX454']: SI✓,F✓,E✓,BS✓,CF✓\n",
      "2022-02-23 05:08:44 PM: ['ALALO.PA', 'FR0010493510']: SI✓,F✓,E✓,BS✓,CF✓\n",
      "2022-02-23 05:08:48 PM: ['ACKB.BR', 'BE0003764785']: SI✓,F✓,E✓,BS✓,CF✓\n",
      "2022-02-23 05:08:49 PM: ['EOS.PA', 'FR0000076861']: SI✓,F✓,E✓,BS✓,CF✓\n",
      "2022-02-23 05:08:49 PM: ['ATI.PA', 'FR0000076655']: SI✓,F✓,E✓,BS✓,CF✓\n",
      "2022-02-23 05:08:50 PM: ['ALACT.PA', 'FR0014005OJ5']: SI✓,F✓,E✓,BS✓,CF✓\n",
      "2022-02-23 05:08:50 PM: ['MLACT.PA', 'FR0010979377']: SI✓,F✓,E✗,BS✗,CF✓\n",
      "2022-02-23 05:08:54 PM: ['ALADA.PA', 'FR0000053076']: SI✓,F✓,E✗,BS✓,CF✓\n",
      "2022-02-23 05:08:54 PM: ['ALDV.PA', 'BE0974269012']: SI✓,F✓,E✓,BS✓,CF✓\n",
      "2022-02-23 05:08:55 PM: ['ADE.OL', 'NO0010844038']: SI✓,F✓,E✓,BS✓,CF✓\n",
      "2022-02-23 05:08:55 PM: ['ALARF.PA', 'FR0013284627']: SI✓,F✓,E✓,BS✓,CF✓\n",
      "2022-02-23 05:08:56 PM: ['ADOC.PA', 'FR0011184241']: SI✓,F✓,E✓,BS✓,CF✓\n",
      "2022-02-23 05:08:59 PM: ['ALADO.PA', 'FR0013247244']: SI✓,F✓,E✓,BS✓,CF✓\n",
      "2022-02-23 05:08:59 PM: ['ADP.PA', 'FR0010340141']: SI✓,F✓,E✓,BS✓,CF✓\n",
      "2022-02-23 05:09:01 PM: ['ADUX.PA', 'FR0012821890']: SI✓,F✓,E✓,BS✓,CF✓\n",
      "2022-02-23 05:09:01 PM: ['ADS.OL', 'CY0108052115']: SI✓,F✓,E✓,BS✓,CF✓\n",
      "2022-02-23 05:09:04 PM: ['ALADM.PA', 'FR0010457531']: SI✗,F✗,E✗,BS✗,CF✗\n",
      "2022-02-23 05:09:05 PM: ['ALADV.PA', 'FR0004152874']: SI✓,F✓,E✗,BS✓,CF✓\n",
      "2022-02-23 05:09:05 PM: ['ADVIC.PA', 'FR0013296746']: SI✓,F✓,E✓,BS✓,CF✓\n",
      "2022-02-23 05:09:06 PM: ['ADYEN.AS', 'NL0012969182']: SI✓,F✓,E✓,BS✓,CF✓\n",
      "2022-02-23 05:09:06 PM: ['ADVI.PA', 'FR0000053043']: SI✓,F✓,E✓,BS✓,CF✓\n",
      "2022-02-23 05:09:13 PM: ['AED.BR', 'BE0003851681']: SI✓,F✓,E✓,BS✓,CF✓\n",
      "2022-02-23 05:09:13 PM: ['AEGA.OL', 'NO0010626559']: SI✓,F✓,E✓,BS✓,CF✓\n",
      "2022-02-23 05:09:14 PM: ['AGN.AS', 'NL0000303709']: SI✓,F✓,E✓,BS✓,CF✓\n",
      "2022-02-23 05:09:14 PM: ['AKOM.PA', 'US00774B2088']: SI✓,F✓,E✗,BS✓,CF✓\n",
      "2022-02-23 05:09:15 PM: ['AFG.OL', 'NO0003078107']: SI✓,F✓,E✓,BS✓,CF✓\n",
      "2022-02-23 05:09:26 PM: ['ALAFY.PA', 'FR0014005AC9']: SI✓,F✓,E✓,BS✓,CF✓\n",
      "2022-02-23 05:09:26 PM: ['MLAGI.PA', 'FR0011908045']: SI✓,F✓,E✗,BS✗,CF✓\n",
      "2022-02-23 05:09:26 PM: ['AFME.PA', 'FR0013333077']: SI✓,F✓,E✓,BS✓,CF✓\n",
      "2022-02-23 05:09:27 PM: ['MLAA.PA', 'FR0014005WE9']: SI✓,F✗,E✗,BS✗,CF✗\n",
      "2022-02-23 05:09:29 PM: ['AGS.BR', 'BE0974264930']: SI✓,F✓,E✓,BS✓,CF✓\n",
      "2022-02-23 05:09:39 PM: ['AGFB.BR', 'BE0003755692']: SI✓,F✓,E✓,BS✓,CF✓\n",
      "2022-02-23 05:09:40 PM: ['AGLX.OL', 'NO0010872468']: SI✓,F✓,E✓,BS✓,CF✓\n",
      "2022-02-23 05:09:40 PM: ['MLAGP.PA', 'ES0105478004']: SI✓,F✓,E✗,BS✓,CF✓\n",
      "2022-02-23 05:09:40 PM: ['ALAGP.PA', 'FR0013452281']: SI✓,F✓,E✓,BS✓,CF✓\n",
      "2022-02-23 05:09:42 PM: ['ALAGR.PA', 'FR0010641449']: SI✓,F✓,E✓,BS✓,CF✓\n",
      "2022-02-23 05:09:49 PM: ['CUR.LS', 'PTCUR0AP0000']: SI✗,F✗,E✗,BS✗,CF✗\n"
     ]
    },
    {
     "name": "stdout",
     "output_type": "stream",
     "text": [
      "- CUR.LS: No data found, symbol may be delisted\n"
     ]
    },
    {
     "name": "stderr",
     "output_type": "stream",
     "text": [
      "2022-02-23 05:09:54 PM: ['AF.PA', 'FR0000031122']: SI✓,F✓,E✓,BS✓,CF✓\n",
      "2022-02-23 05:09:54 PM: ['AD.AS', 'NL0011794037']: SI✓,F✓,E✓,BS✓,CF✓\n",
      "2022-02-23 05:09:54 PM: ['A5G.IR', 'IE00BF0L3536']: SI✓,F✓,E✓,BS✓,CF✓\n",
      "2022-02-23 05:09:55 PM: ['AI.PA', 'FR0000120073']: SI✓,F✓,E✓,BS✓,CF✓\n",
      "2022-02-23 05:10:03 PM: ['MLAIM.PA', 'FR0013285103']: SI✓,F✓,E✗,BS✓,CF✓\n",
      "2022-02-23 05:10:06 PM: ['AIRX.OL', 'NO0010895568']: SI✓,F✓,E✓,BS✓,CF✓\n",
      "2022-02-23 05:10:07 PM: ['ALAIR.PA', 'IT0005450819']: SI✓,F✗,E✗,BS✗,CF✗\n",
      "2022-02-23 05:10:07 PM: ['AIR.PA', 'NL0000235190']: SI✓,F✓,E✓,BS✓,CF✓\n",
      "2022-02-23 05:10:08 PM: ['MLAIR.PA', 'FR0014003V77']: SI✓,F✗,E✗,BS✗,CF✗\n",
      "2022-02-23 05:10:17 PM: ['AJAX.AS', 'NL0000018034']: SI✓,F✓,E✓,BS✓,CF✓\n",
      "2022-02-23 05:10:20 PM: ['AKER.OL', 'NO0010234552']: SI✓,F✓,E✓,BS✓,CF✓\n",
      "2022-02-23 05:10:20 PM: ['AKAST.OL', 'NO0010215684']: SI✓,F✓,E✓,BS✓,CF✓\n",
      "2022-02-23 05:10:21 PM: ['AKBM.OL', 'NO0010886625']: SI✓,F✓,E✓,BS✓,CF✓\n",
      "2022-02-23 05:10:21 PM: ['AKRBP.OL', 'NO0010345853']: SI✓,F✓,E✓,BS✓,CF✓\n",
      "2022-02-23 05:10:30 PM: ['ACC.OL', 'NO0010890304']: SI✓,F✓,E✓,BS✓,CF✓\n",
      "2022-02-23 05:10:33 PM: ['ACH.OL', 'NO0010936081']: SI✓,F✗,E✗,BS✗,CF✗\n",
      "2022-02-23 05:10:33 PM: ['AKH.OL', 'NO0010921232']: SI✓,F✗,E✗,BS✗,CF✗\n",
      "2022-02-23 05:10:34 PM: ['AOW.OL', 'NO0010890312']: SI✓,F✓,E✓,BS✓,CF✓\n",
      "2022-02-23 05:10:34 PM: ['AKSO.OL', 'NO0010716582']: SI✓,F✓,E✓,BS✓,CF✓\n",
      "2022-02-23 05:10:43 PM: ['AKA.PA', 'FR0004180537']: SI✓,F✓,E✓,BS✓,CF✓\n",
      "2022-02-23 05:10:45 PM: ['AKOBO.OL', 'SE0015193412']: SI✓,F✓,E✗,BS✓,CF✓\n",
      "2022-02-23 05:10:47 PM: ['AKVA.OL', 'NO0003097503']: SI✓,F✓,E✓,BS✓,CF✓\n",
      "2022-02-23 05:10:47 PM: ['AKZA.AS', 'NL0013267909']: SI✓,F✓,E✓,BS✓,CF✓\n",
      "2022-02-23 05:10:48 PM: ['AKW.PA', 'FR0000053027']: SI✓,F✓,E✓,BS✓,CF✓\n",
      "2022-02-23 05:10:56 PM: ['AAA.PA', 'FR0000062465']: SI✓,F✗,E✗,BS✗,CF✗\n",
      "2022-02-23 05:10:58 PM: ['ABIBS.PA', 'FR0013368438']: SI✗,F✗,E✗,BS✗,CF✗\n",
      "2022-02-23 05:10:58 PM: ['ABIO.PA', 'FR0000060402']: SI✓,F✓,E✓,BS✓,CF✓\n",
      "2022-02-23 05:11:00 PM: ['ALCHI.PA', 'FR0014000JX7']: SI✓,F✓,E✓,BS✓,CF✓\n",
      "2022-02-23 05:11:02 PM: ['ALD.PA', 'FR0013258662']: SI✓,F✓,E✓,BS✓,CF✓\n",
      "2022-02-23 05:11:10 PM: ['MLALE.PA', 'GB00BJ9M4V82']: SI✓,F✓,E✗,BS✓,CF✓\n",
      "2022-02-23 05:11:12 PM: ['ALFEN.AS', 'NL0012817175']: SI✓,F✓,E✓,BS✓,CF✓\n",
      "2022-02-23 05:11:12 PM: ['ALLFG.AS', 'GB00BNTJ3546']: SI✓,F✓,E✓,BS✓,CF✓\n",
      "2022-02-23 05:11:12 PM: ['AMUND.AS', 'NL0010696704']: SI✓,F✓,E✓,BS✓,CF✓\n",
      "2022-02-23 05:11:17 PM: ['CDA.PA', 'FR0000053324']: SI✓,F✓,E✓,BS✓,CF✓\n",
      "2022-02-23 05:11:23 PM: ['ALM.PA', 'FR0013421286']: SI✓,F✓,E✓,BS✓,CF✓\n",
      "2022-02-23 05:11:26 PM: ['ALO.PA', 'FR0010220475']: SI✓,F✓,E✓,BS✓,CF✓\n",
      "2022-02-23 05:11:26 PM: ['ALTA.PA', 'FR0000033219']: SI✓,F✓,E✓,BS✓,CF✓\n",
      "2022-02-23 05:11:29 PM: ['LTA.PA', 'FR0000053837']: SI✗,F✓,E✓,BS✓,CF✓\n",
      "2022-02-23 05:11:30 PM: ['AREIT.PA', 'FR0000039216']: SI✓,F✓,E✗,BS✓,CF✓\n",
      "2022-02-23 05:11:37 PM: ['ATE.PA', 'FR0000071946']: SI✓,F✓,E✓,BS✓,CF✓\n",
      "2022-02-23 05:11:40 PM: ['ALT.OL', 'IE00BLRPRP89']: SI✓,F✓,E✓,BS✓,CF✓\n",
      "2022-02-23 05:11:40 PM: ['ALORA.PA', 'FR0000061244']: SI✓,F✓,E✓,BS✓,CF✓\n",
      "2022-02-23 05:11:44 PM: ['ALTR.LS', 'PTALT0AE0002']: SI✓,F✓,E✓,BS✓,CF✓\n",
      "2022-02-23 05:11:44 PM: ['ALTUR.PA', 'FR0010395681']: SI✓,F✓,E✓,BS✓,CF✓\n",
      "2022-02-23 05:11:51 PM: ['ALX.AS', 'NL0012194724']: SI✓,F✓,E✓,BS✓,CF✓\n",
      "2022-02-23 05:11:53 PM: ['MLALV.PA', 'FR0013253812']: SI✓,F✓,E✗,BS✓,CF✓\n",
      "2022-02-23 05:11:54 PM: ['ALAMA.PA', 'GB00BNKGZC51']: SI✓,F✓,E✓,BS✓,CF✓\n",
      "2022-02-23 05:11:57 PM: ['MLAAH.PA', 'NL0010273694']: SI✓,F✓,E✗,BS✓,CF✓\n",
      "2022-02-23 05:11:58 PM: ['AMSC.OL', 'NO0010272065']: SI✓,F✓,E✓,BS✓,CF✓\n",
      "2022-02-23 05:12:05 PM: ['AMG.AS', 'NL0000888691']: SI✓,F✓,E✓,BS✓,CF✓\n",
      "2022-02-23 05:12:06 PM: ['ALMIB.PA', 'FR0011051598']: SI✓,F✓,E✓,BS✓,CF✓\n",
      "2022-02-23 05:12:07 PM: ['AMPLI.PA', 'FR0012789667']: SI✓,F✓,E✓,BS✓,CF✓\n",
      "2022-02-23 05:12:11 PM: ['AMUN.PA', 'FR0004125920']: SI✓,F✓,E✓,BS✓,CF✓\n",
      "2022-02-23 05:12:11 PM: ['ACOMO.AS', 'NL0000313286']: SI✓,F✓,E✓,BS✓,CF✓\n",
      "2022-02-23 05:12:19 PM: ['ANDF.OL', 'NO0010829765']: SI✓,F✓,E✓,BS✓,CF✓\n",
      "2022-02-23 05:12:19 PM: ['ANT.BR', 'BE0003676872']: SI✓,F✓,E✗,BS✓,CF✓\n",
      "2022-02-23 05:12:20 PM: ['ANTIN.PA', 'FR0014005AL0']: SI✓,F✓,E✓,BS✓,CF✓\n",
      "2022-02-23 05:12:25 PM: ['APM.PA', 'KYG6096M1069']: SI✓,F✓,E✗,BS✓,CF✓\n",
      "2022-02-23 05:12:25 PM: ['APAM.AS', 'LU0569974404']: SI✓,F✓,E✓,BS✓,CF✓\n",
      "2022-02-23 05:12:32 PM: ['ABT.OL', 'NO0010307135']: SI✓,F✓,E✓,BS✓,CF✓\n",
      "2022-02-23 05:12:33 PM: ['ALAQU.PA', 'FR0010340711']: SI✓,F✓,E✓,BS✓,CF✓\n",
      "2022-02-23 05:12:34 PM: ['AQUA.OL', 'NO0010715394']: SI✓,F✓,E✓,BS✓,CF✓\n",
      "2022-02-23 05:12:38 PM: ['ARAMI.PA', 'FR0014003U94']: SI✓,F✓,E✓,BS✓,CF✓\n",
      "2022-02-23 05:12:41 PM: ['ARCAD.AS', 'NL0006237562']: SI✓,F✓,E✓,BS✓,CF✓\n",
      "2022-02-23 05:12:46 PM: ['MT.AS', 'LU1598757687']: SI✓,F✓,E✓,BS✓,CF✓\n",
      "2022-02-23 05:12:47 PM: ['ALJXR.PA', 'FR0000182479']: SI✓,F✓,E✗,BS✓,CF✓\n",
      "2022-02-23 05:12:47 PM: ['ARCH.OL', 'BMG0451H1170']: SI✓,F✓,E✓,BS✓,CF✓\n",
      "2022-02-23 05:12:50 PM: ['ABS.OL', 'NO0010859580']: SI✓,F✓,E✗,BS✓,CF✓\n",
      "2022-02-23 05:12:54 PM: ['AFISH.OL', 'NO0010917719']: SI✓,F✓,E✓,BS✓,CF✓\n",
      "2022-02-23 05:12:59 PM: ['AZT.OL', 'NO0010014632']: SI✓,F✓,E✓,BS✓,CF✓\n",
      "2022-02-23 05:13:00 PM: ['ALCUR.PA', 'FR0013398997']: SI✓,F✓,E✓,BS✓,CF✓\n",
      "2022-02-23 05:13:01 PM: ['MLARD.PA', 'FR0005057635']: SI✓,F✗,E✗,BS✗,CF✗\n",
      "2022-02-23 05:13:01 PM: ['ARDO.PA', 'FR0004070795']: SI✗,F✗,E✗,BS✗,CF✗\n",
      "2022-02-23 05:13:08 PM: ['AFK.OL', 'NO0003572802']: SI✓,F✓,E✓,BS✓,CF✓\n",
      "2022-02-23 05:13:13 PM: ['MLARI.PA', 'ES0105601001']: SI✗,F✗,E✗,BS✗,CF✗\n",
      "2022-02-23 05:13:13 PM: ['ARG.PA', 'FR0010481960']: SI✓,F✓,E✓,BS✓,CF✓\n"
     ]
    },
    {
     "name": "stdout",
     "output_type": "stream",
     "text": [
      "- MLARI.PA: No data found, symbol may be delisted\n"
     ]
    },
    {
     "name": "stderr",
     "output_type": "stream",
     "text": [
      "2022-02-23 05:13:14 PM: ['ARGEO.OL', 'NO0010946593']: SI✓,F✓,E✗,BS✓,CF✓\n",
      "2022-02-23 05:13:15 PM: ['ARGX.BR', 'NL0010832176']: SI✓,F✓,E✓,BS✓,CF✓\n",
      "2022-02-23 05:13:21 PM: ['AKE.PA', 'FR0010313833']: SI✓,F✓,E✓,BS✓,CF✓\n",
      "2022-02-23 05:13:24 PM: ['MLARO.PA', 'ES0105486007']: SI✗,F✓,E✗,BS✓,CF✓\n",
      "2022-02-23 05:13:26 PM: ['ARR.OL', 'NO0003108102']: SI✓,F✓,E✓,BS✓,CF✓\n",
      "2022-02-23 05:13:28 PM: ['ARTE.PA', 'FR0012185536']: SI✓,F✓,E✓,BS✓,CF✓\n",
      "2022-02-23 05:13:28 PM: ['PRC.PA', 'FR0000074783']: SI✓,F✓,E✓,BS✓,CF✓\n",
      "2022-02-23 05:13:34 PM: ['ARTO.PA', 'FR0000076952']: SI✓,F✓,E✓,BS✓,CF✓\n",
      "2022-02-23 05:13:39 PM: ['ASC.BR', 'BE0003856730']: SI✓,F✓,E✓,BS✓,CF✓\n",
      "2022-02-23 05:13:40 PM: ['ASTK.OL', 'DK0060477263']: SI✓,F✓,E✓,BS✓,CF✓\n",
      "2022-02-23 05:13:41 PM: ['ASIT.BR', 'BE0974289218']: SI✓,F✓,E✓,BS✓,CF✓\n",
      "2022-02-23 05:13:41 PM: ['MLAEM.PA', 'FR0012968485']: SI✓,F✗,E✗,BS✗,CF✗\n",
      "2022-02-23 05:13:48 PM: ['ASM.AS', 'NL0000334118']: SI✓,F✓,E✓,BS✓,CF✓\n",
      "2022-02-23 05:13:52 PM: ['ASML.AS', 'NL0010273215']: SI✓,F✓,E✓,BS✓,CF✓\n",
      "2022-02-23 05:13:54 PM: ['GEN.BR', 'IT0000062072']: SI✓,F✓,E✗,BS✓,CF✓\n",
      "2022-02-23 05:13:54 PM: ['ASY.PA', 'FR0000074148']: SI✓,F✓,E✓,BS✓,CF✓\n",
      "2022-02-23 05:13:55 PM: ['ASRNL.AS', 'NL0011872643']: SI✓,F✓,E✓,BS✓,CF✓\n",
      "2022-02-23 05:14:01 PM: ['ASTRO.OL', 'CH1122548808']: SI✓,F✗,E✗,BS✗,CF✗\n",
      "2022-02-23 05:14:06 PM: ['ATA.PA', 'FR0010478248']: SI✓,F✓,E✓,BS✓,CF✓\n",
      "2022-02-23 05:14:08 PM: ['ATEA.OL', 'NO0004822503']: SI✓,F✓,E✓,BS✓,CF✓\n",
      "2022-02-23 05:14:08 PM: ['ATEME.PA', 'FR0011992700']: SI✓,F✓,E✓,BS✓,CF✓\n",
      "2022-02-23 05:14:08 PM: ['ATEB.BR', 'BE0003837540']: SI✓,F✓,E✓,BS✓,CF✓\n",
      "2022-02-23 05:14:15 PM: ['ASA.OL', 'NO0010768500']: SI✓,F✓,E✓,BS✓,CF✓\n",
      "2022-02-23 05:14:20 PM: ['ATO.PA', 'FR0000051732']: SI✓,F✓,E✓,BS✓,CF✓\n",
      "2022-02-23 05:14:21 PM: ['ATRS.AS', 'JE00B3DCF752']: SI✓,F✓,E✗,BS✓,CF✓\n",
      "2022-02-23 05:14:22 PM: ['ALAUD.PA', 'FR00140059B5']: SI✓,F✓,E✓,BS✓,CF✓\n",
      "2022-02-23 05:14:22 PM: ['AUB.PA', 'FR0000063737']: SI✓,F✓,E✓,BS✓,CF✓\n",
      "2022-02-23 05:14:29 PM: ['MLAUD.PA', 'FR0011896463']: SI✓,F✓,E✗,BS✓,CF✓\n",
      "2022-02-23 05:14:33 PM: ['ALAVY.PA', 'BE0974334667']: SI✓,F✓,E✓,BS✓,CF✓\n",
      "2022-02-23 05:14:34 PM: ['ALAMG.PA', 'FR0013410370']: SI✓,F✓,E✗,BS✓,CF✓\n",
      "2022-02-23 05:14:35 PM: ['AUGR.PA', 'FR0000061780']: SI✓,F✓,E✗,BS✓,CF✓\n",
      "2022-02-23 05:14:35 PM: ['AURE.PA', 'FR0000039232']: SI✓,F✓,E✓,BS✓,CF✓\n",
      "2022-02-23 05:14:42 PM: ['AURS.PA', 'FR0013183589']: SI✓,F✓,E✓,BS✓,CF✓\n",
      "2022-02-23 05:14:46 PM: ['AURA.OL', 'NO0011032310']: SI✓,F✗,E✗,BS✗,CF✗\n",
      "2022-02-23 05:14:47 PM: ['AURG.OL', 'NO0006001601']: SI✓,F✓,E✓,BS✓,CF✓\n",
      "2022-02-23 05:14:49 PM: ['AUSS.OL', 'NO0010073489']: SI✓,F✓,E✓,BS✓,CF✓\n",
      "2022-02-23 05:14:49 PM: ['AUTO.OL', 'BMG0670A1099']: SI✓,F✓,E✓,BS✓,CF✓\n",
      "2022-02-23 05:14:55 PM: ['AGAS.OL', 'BMG067231032']: SI✓,F✓,E✓,BS✓,CF✓\n",
      "2022-02-23 05:15:00 PM: ['AVTX.AS', 'NL0012047823']: SI✓,F✓,E✓,BS✓,CF✓\n",
      "2022-02-23 05:15:01 PM: ['AVT.PA', 'FR0013529815']: SI✓,F✓,E✓,BS✓,CF✓\n",
      "2022-02-23 05:15:02 PM: ['AWDR.OL', 'GB00B5LJSC86']: SI✓,F✓,E✓,BS✓,CF✓\n",
      "2022-02-23 05:15:03 PM: ['ALNG.OL', 'NO0010607971']: SI✓,F✓,E✓,BS✓,CF✓\n",
      "2022-02-23 05:15:10 PM: ['CS.PA', 'FR0000120628']: SI✓,F✓,E✓,BS✓,CF✓\n",
      "2022-02-23 05:15:12 PM: ['CSNV.PA', 'FR00140074K5']: SI✓,F✓,E✗,BS✓,CF✓\n"
     ]
    },
    {
     "name": "stdout",
     "output_type": "stream",
     "text": [
      "- CSNV.PA: No data found for this date range, symbol may be delisted\n"
     ]
    },
    {
     "name": "stderr",
     "output_type": "stream",
     "text": [
      "2022-02-23 05:15:15 PM: ['ACR.OL', 'NO0010840515']: SI✓,F✓,E✓,BS✓,CF✓\n",
      "2022-02-23 05:15:16 PM: ['AXW.PA', 'FR0011040500']: SI✓,F✓,E✓,BS✓,CF✓\n",
      "2022-02-23 05:15:18 PM: ['AYFIE.OL', 'NO0010793243']: SI✓,F✗,E✗,BS✗,CF✗\n",
      "2022-02-23 05:15:25 PM: ['MLAZL.PA', 'IT0004812258']: SI✓,F✓,E✗,BS✓,CF✓\n",
      "2022-02-23 05:15:27 PM: ['AZE.BR', 'BE0974400328']: SI✓,F✓,E✓,BS✓,CF✓\n",
      "2022-02-23 05:15:29 PM: ['MLAAT.PA', 'PTAZR0AM0006']: SI✓,F✓,E✗,BS✓,CF✓\n",
      "2022-02-23 05:15:39 PM: ['B2H.OL', 'NO0010633951']: SI✗,F✓,E✓,BS✓,CF✓\n",
      "2022-02-23 05:15:40 PM: ['BCP.LS', 'PTBCP0AM0015']: SI✗,F✓,E✓,BS✓,CF✓\n",
      "2022-02-23 05:15:40 PM: ['ALBKK.PA', 'FR0013384369']: SI✗,F✓,E✗,BS✓,CF✓\n",
      "2022-02-23 05:15:40 PM: ['BSGR.AS', 'LU1789205884']: SI✗,F✓,E✓,BS✓,CF✓\n",
      "2022-02-23 05:15:42 PM: ['BAIN.PA', 'MC0000031187']: SI✓,F✓,E✗,BS✓,CF✓\n",
      "2022-02-23 05:15:51 PM: ['BAKKA.OL', 'FO0000000179']: SI✓,F✓,E✓,BS✓,CF✓\n",
      "2022-02-23 05:15:51 PM: ['BALTA.BR', 'BE0974314461']: SI✓,F✓,E✓,BS✓,CF✓\n",
      "2022-02-23 05:15:52 PM: ['BALT.OL', 'NO0010810476']: SI✓,F✓,E✗,BS✓,CF✓\n",
      "2022-02-23 05:15:53 PM: ['BALYO.PA', 'FR0013258399']: SI✓,F✓,E✓,BS✓,CF✓\n",
      "2022-02-23 05:15:54 PM: ['BAMNB.AS', 'NL0000337319']: SI✓,F✓,E✓,BS✓,CF✓\n",
      "2022-02-23 05:16:03 PM: ['BBV.BR', 'ES0113211835']: SI✓,F✓,E✗,BS✓,CF✓\n",
      "2022-02-23 05:16:03 PM: ['SANTA.BR', 'ES0113900J37']: SI✓,F✓,E✗,BS✓,CF✓\n",
      "2022-02-23 05:16:04 PM: ['DD7D.IR', 'IE0000730808']: SI✗,F✗,E✗,BS✗,CF✗\n",
      "2022-02-23 05:16:05 PM: ['BANI.BR', 'BE0003870871']: SI✓,F✓,E✓,BS✓,CF✓\n",
      "2022-02-23 05:16:05 PM: ['DD7E.IR', 'IE0000730790']: SI✗,F✗,E✗,BS✗,CF✗\n",
      "2022-02-23 05:16:14 PM: ['BUI.PA', 'FR0000062788']: SI✓,F✓,E✓,BS✓,CF✓\n",
      "2022-02-23 05:16:15 PM: ['BIRG.IR', 'IE00BD1RP616']: SI✓,F✓,E✓,BS✓,CF✓\n",
      "2022-02-23 05:16:16 PM: ['BAR.BR', 'BE0974362940']: SI✓,F✓,E✓,BS✓,CF✓\n",
      "2022-02-23 05:16:16 PM: ['MLBAR.PA', 'ES0105362000']: SI✗,F✗,E✗,BS✗,CF✗\n",
      "2022-02-23 05:16:17 PM: ['BARRA.OL', 'SGXZ33675836']: SI✓,F✗,E✗,BS✗,CF✗\n",
      "2022-02-23 05:16:25 PM: ['BFIT.AS', 'NL0011872650']: SI✓,F✓,E✓,BS✓,CF✓\n",
      "2022-02-23 05:16:27 PM: ['BAS.BR', 'BE0003674851']: SI✓,F✓,E✗,BS✓,CF✓\n",
      "2022-02-23 05:16:28 PM: ['BASS.PA', 'FR0004023208']: SI✓,F✓,E✓,BS✓,CF✓\n",
      "2022-02-23 05:16:28 PM: ['BLC.PA', 'FR0000035370']: SI✓,F✓,E✓,BS✓,CF✓\n",
      "2022-02-23 05:16:29 PM: ['MLBAT.PA', 'FR0010436170']: SI✓,F✓,E✗,BS✓,CF✓\n",
      "2022-02-23 05:16:37 PM: ['ALBDM.PA', 'FR0000035305']: SI✓,F✓,E✓,BS✓,CF✓\n",
      "2022-02-23 05:16:39 PM: ['MLBMD.PA', 'CH0451123589']: SI✓,F✓,E✓,BS✓,CF✓\n",
      "2022-02-23 05:16:40 PM: ['BESI.AS', 'NL0012866412']: SI✓,F✓,E✓,BS✓,CF✓\n",
      "2022-02-23 05:16:40 PM: ['MLBBO.PA', 'CH1148983609']: SI✓,F✗,E✗,BS✗,CF✗\n",
      "2022-02-23 05:16:41 PM: ['BEAB.BR', 'BE0003661726']: SI✓,F✗,E✗,BS✗,CF✗\n",
      "2022-02-23 05:16:49 PM: ['BEFB.BR', 'BE0003678894']: SI✓,F✓,E✓,BS✓,CF✓\n",
      "2022-02-23 05:16:51 PM: ['BEKB.BR', 'BE0974258874']: SI✓,F✓,E✓,BS✓,CF✓\n",
      "2022-02-23 05:16:51 PM: ['BLV.PA', 'FR0014003FE9']: SI✓,F✓,E✓,BS✓,CF✓\n",
      "2022-02-23 05:16:52 PM: ['FBEL.PA', 'FR0000121857']: SI✓,F✓,E✓,BS✓,CF✓\n",
      "2022-02-23 05:16:53 PM: ['BELR.BR', 'BE0020575115']: SI✓,F✓,E✗,BS✓,CF✓\n",
      "2022-02-23 05:17:02 PM: ['BELCO.OL', 'NO0003094104']: SI✓,F✓,E✓,BS✓,CF✓\n",
      "2022-02-23 05:17:02 PM: ['BELU.BR', 'BE0003723377']: SI✓,F✓,E✗,BS✓,CF✓\n",
      "2022-02-23 05:17:03 PM: ['SLBEN.LS', 'PTSLB0AM0010']: SI✓,F✓,E✗,BS✓,CF✓\n",
      "2022-02-23 05:17:04 PM: ['BEN.PA', 'FR0000035164']: SI✓,F✓,E✓,BS✓,CF✓\n",
      "2022-02-23 05:17:05 PM: ['BCS.OL', 'NO0010950249']: SI✓,F✗,E✗,BS✗,CF✗\n",
      "2022-02-23 05:17:13 PM: ['BGBIO.OL', 'NO0010650013']: SI✓,F✓,E✓,BS✓,CF✓\n",
      "2022-02-23 05:17:15 PM: ['ALDBL.PA', 'FR0000066961']: SI✓,F✓,E✓,BS✓,CF✓\n",
      "2022-02-23 05:17:15 PM: ['BBED.AS', 'NL0000339703']: SI✓,F✓,E✓,BS✓,CF✓\n",
      "2022-02-23 05:17:16 PM: ['BEVER.AS', 'NL0000285278']: SI✓,F✓,E✗,BS✓,CF✓\n",
      "2022-02-23 05:17:18 PM: ['BEWI.OL', 'NO0010890965']: SI✓,F✓,E✓,BS✓,CF✓\n",
      "2022-02-23 05:17:26 PM: ['BB.PA', 'FR0000120966']: SI✓,F✓,E✓,BS✓,CF✓\n",
      "2022-02-23 05:17:26 PM: ['ALBLD.PA', 'FR0004174233']: SI✓,F✓,E✓,BS✓,CF✓\n",
      "2022-02-23 05:17:28 PM: ['ALTUV.PA', 'FR0013345493']: SI✓,F✓,E✓,BS✓,CF✓\n",
      "2022-02-23 05:17:28 PM: ['BIG.PA', 'FR0000074072']: SI✓,F✓,E✓,BS✓,CF✓\n",
      "2022-02-23 05:17:30 PM: ['BCART.BR', 'BE0974281132']: SI✓,F✓,E✓,BS✓,CF✓\n",
      "2022-02-23 05:17:37 PM: ['BFISH.OL', 'NO0010955198']: SI✓,F✗,E✗,BS✗,CF✗\n",
      "2022-02-23 05:17:38 PM: ['ALCOR.PA', 'FR0012788065']: SI✓,F✓,E✓,BS✓,CF✓\n",
      "2022-02-23 05:17:40 PM: ['BIM.PA', 'FR0013280286']: SI✓,F✓,E✓,BS✓,CF✓\n",
      "2022-02-23 05:17:40 PM: ['ALBPS.PA', 'FR0012816825']: SI✓,F✓,E✓,BS✓,CF✓\n",
      "2022-02-23 05:17:41 PM: ['BPSBS.PA', 'FR0013507290']: SI✗,F✗,E✗,BS✗,CF✗\n"
     ]
    },
    {
     "name": "stdout",
     "output_type": "stream",
     "text": [
      "- BPSBS.PA: No data found for this date range, symbol may be delisted\n"
     ]
    },
    {
     "name": "stderr",
     "output_type": "stream",
     "text": [
      "2022-02-23 05:17:49 PM: ['ALBIO.PA', 'FR0011005933']: SI✓,F✓,E✓,BS✓,CF✓\n",
      "2022-02-23 05:17:49 PM: ['BTLS.BR', 'BE0974386188']: SI✓,F✓,E✓,BS✓,CF✓\n",
      "2022-02-23 05:17:51 PM: ['MLBSP.PA', 'FR0013340973']: SI✓,F✓,E✗,BS✓,CF✓\n",
      "2022-02-23 05:17:51 PM: ['BSP.OL', 'NO0010755101']: SI✓,F✓,E✗,BS✓,CF✓\n",
      "2022-02-23 05:17:53 PM: ['BLEE.PA', 'FR0000062150']: SI✓,F✓,E✗,BS✓,CF✓\n",
      "2022-02-23 05:17:59 PM: ['BLUBT.PA', 'FR0013480985']: SI✗,F✗,E✗,BS✗,CF✗\n",
      "2022-02-23 05:18:01 PM: ['ALBLU.PA', 'FR0011041011']: SI✓,F✓,E✓,BS✓,CF✓\n",
      "2022-02-23 05:18:02 PM: ['ALBOA.PA', 'FR0011365907']: SI✓,F✓,E✗,BS✓,CF✓\n",
      "2022-02-23 05:18:03 PM: ['BNP.PA', 'FR0000131104']: SI✓,F✓,E✓,BS✓,CF✓\n",
      "2022-02-23 05:18:04 PM: ['MLONE.PA', 'FR0010106039']: SI✓,F✓,E✗,BS✓,CF✓\n",
      "2022-02-23 05:18:11 PM: ['BOEI.BR', 'US0970231058']: SI✓,F✓,E✗,BS✓,CF✓\n",
      "2022-02-23 05:18:12 PM: ['BOI.PA', 'FR0000061129']: SI✓,F✓,E✓,BS✓,CF✓\n",
      "2022-02-23 05:18:14 PM: ['BOL.PA', 'FR0000039299']: SI✓,F✓,E✓,BS✓,CF✓\n",
      "2022-02-23 05:18:15 PM: ['BON.PA', 'FR0000063935']: SI✓,F✓,E✓,BS✓,CF✓\n",
      "2022-02-23 05:18:16 PM: ['BOTHE.BR', 'BE0974280126']: SI✓,F✗,E✗,BS✗,CF✗\n",
      "2022-02-23 05:18:23 PM: ['BONHR.OL', 'NO0003110603']: SI✓,F✓,E✓,BS✓,CF✓\n",
      "2022-02-23 05:18:24 PM: ['ALBOO.PA', 'FR0011814938']: SI✗,F✓,E✗,BS✓,CF✓\n",
      "2022-02-23 05:18:26 PM: ['BOR.OL', 'NO0003111700']: SI✓,F✓,E✓,BS✓,CF✓\n",
      "2022-02-23 05:18:27 PM: ['BORR.OL', 'BMG1466R1732']: SI✓,F✓,E✓,BS✓,CF✓\n",
      "2022-02-23 05:18:28 PM: ['BRG.OL', 'NO0010657505']: SI✓,F✓,E✓,BS✓,CF✓\n",
      "2022-02-23 05:18:36 PM: ['BGHS.AS', 'GG00B39VMM07']: SI✗,F✗,E✗,BS✗,CF✗\n",
      "2022-02-23 05:18:36 PM: ['ALBOU.PA', 'FR0000054421']: SI✓,F✓,E✓,BS✓,CF✓\n"
     ]
    },
    {
     "name": "stdout",
     "output_type": "stream",
     "text": [
      "- BGHS.AS: No data found, symbol may be delisted\n"
     ]
    },
    {
     "name": "stderr",
     "output_type": "stream",
     "text": [
      "2022-02-23 05:18:36 PM: ['BOKA.AS', 'NL0000852580']: SI✓,F✓,E✓,BS✓,CF✓\n",
      "2022-02-23 05:18:37 PM: ['BGHL.AS', 'GG00B1FQG453']: SI✓,F✓,E✓,BS✓,CF✓\n",
      "2022-02-23 05:18:39 PM: ['BSD.PA', 'FR0000074254']: SI✓,F✓,E✓,BS✓,CF✓\n",
      "2022-02-23 05:18:45 PM: ['ENNV.PA', 'FR0014006U75']: SI✗,F✗,E✗,BS✗,CF✗\n"
     ]
    },
    {
     "name": "stdout",
     "output_type": "stream",
     "text": [
      "- ENNV.PA: No data found, symbol may be delisted\n"
     ]
    },
    {
     "name": "stderr",
     "output_type": "stream",
     "text": [
      "2022-02-23 05:18:47 PM: ['EN.PA', 'FR0000120503']: SI✓,F✓,E✓,BS✓,CF✓\n",
      "2022-02-23 05:18:48 PM: ['BOUV.OL', 'NO0010360266']: SI✓,F✗,E✗,BS✗,CF✗\n",
      "2022-02-23 05:18:49 PM: ['BPOST.BR', 'BE0974268972']: SI✓,F✓,E✓,BS✓,CF✓\n",
      "2022-02-23 05:18:51 PM: ['BNB.BR', 'BE0003008019']: SI✓,F✓,E✓,BS✓,CF✓\n",
      "2022-02-23 05:18:56 PM: ['BRA.OL', 'NO0010167331']: SI✓,F✓,E✗,BS✓,CF✓\n",
      "2022-02-23 05:18:59 PM: ['BACE.AS', 'KYG137071075']: SI✓,F✗,E✗,BS✗,CF✗\n",
      "2022-02-23 05:18:59 PM: ['BREB.BR', 'LU1068091351']: SI✓,F✓,E✓,BS✓,CF✓\n",
      "2022-02-23 05:19:01 PM: ['BACEU.AS', 'KYG137071158']: SI✓,F✗,E✗,BS✗,CF✗\n",
      "2022-02-23 05:19:03 PM: ['BRILL.AS', 'NL0000442523']: SI✓,F✓,E✓,BS✓,CF✓\n",
      "2022-02-23 05:19:08 PM: ['BRNL.AS', 'NL0010776944']: SI✓,F✓,E✓,BS✓,CF✓\n",
      "2022-02-23 05:19:10 PM: ['BVI.PA', 'FR0006174348']: SI✓,F✓,E✓,BS✓,CF✓\n",
      "2022-02-23 05:19:11 PM: ['BUR.PA', 'FR0000061137']: SI✓,F✓,E✓,BS✓,CF✓\n",
      "2022-02-23 05:19:12 PM: ['BWE.OL', 'BMG0702P1086']: SI✓,F✓,E✓,BS✓,CF✓\n",
      "2022-02-23 05:19:15 PM: ['BWEK.OL', 'SGXZ80461361']: SI✓,F✓,E✓,BS✓,CF✓\n",
      "2022-02-23 05:19:20 PM: ['BWIDL.OL', 'NO0010947385']: SI✓,F✓,E✓,BS✓,CF✓\n",
      "2022-02-23 05:19:23 PM: ['BWO.OL', 'BMG1738J1247']: SI✓,F✓,E✓,BS✓,CF✓\n",
      "2022-02-23 05:19:23 PM: ['BWLPG.OL', 'BMG173841013']: SI✓,F✓,E✓,BS✓,CF✓\n",
      "2022-02-23 05:19:24 PM: ['BMA.OL', 'NO0003087603']: SI✓,F✓,E✓,BS✓,CF✓\n",
      "2022-02-23 05:19:28 PM: ['CAT31.PA', 'FR0000045544']: SI✓,F✓,E✓,BS✓,CF✓\n",
      "2022-02-23 05:19:31 PM: ['ALCG.PA', 'FR0013530102']: SI✓,F✓,E✓,BS✓,CF✓\n",
      "2022-02-23 05:19:34 PM: ['CADLR.OL', 'DK0061412772']: SI✓,F✓,E✓,BS✓,CF✓\n",
      "2022-02-23 05:19:35 PM: ['CAFO.PA', 'FR0010151589']: SI✓,F✓,E✓,BS✓,CF✓\n",
      "2022-02-23 05:19:35 PM: ['MLAAE.PA', 'FR0010781377']: SI✓,F✓,E✗,BS✓,CF✓\n",
      "2022-02-23 05:19:40 PM: ['C5H.IR', 'IE00BWY4ZF18']: SI✓,F✓,E✗,BS✓,CF✓\n",
      "2022-02-23 05:19:42 PM: ['CAMBI.OL', 'NO0010078850']: SI✓,F✓,E✓,BS✓,CF✓\n",
      "2022-02-23 05:19:46 PM: ['CBDG.PA', 'FR0000079659']: SI✓,F✓,E✓,BS✓,CF✓\n",
      "2022-02-23 05:19:47 PM: ['CAMB.BR', 'BE0003825420']: SI✓,F✓,E✓,BS✓,CF✓\n",
      "2022-02-23 05:19:47 PM: ['CAND.BR', 'BE0974298300']: SI✓,F✓,E✗,BS✓,CF✓\n",
      "2022-02-23 05:19:53 PM: ['CAPLI.PA', 'FR0012969095']: SI✓,F✓,E✓,BS✓,CF✓\n",
      "2022-02-23 05:19:54 PM: ['CAP.PA', 'FR0000125338']: SI✓,F✓,E✓,BS✓,CF✓\n",
      "2022-02-23 05:19:57 PM: ['CARA.OL', 'NO0010123060']: SI✓,F✓,E✓,BS✓,CF✓\n",
      "2022-02-23 05:19:58 PM: ['CARBN.OL', 'NO0010778095']: SI✓,F✓,E✓,BS✓,CF✓\n",
      "2022-02-23 05:19:59 PM: ['ALCRB.PA', 'FR0011648716']: SI✓,F✓,E✓,BS✓,CF✓\n",
      "2022-02-23 05:20:04 PM: ['CPINV.BR', 'BE0974273055']: SI✓,F✓,E✓,BS✓,CF✓\n",
      "2022-02-23 05:20:06 PM: ['ALCAR.PA', 'FR0010907956']: SI✓,F✓,E✓,BS✓,CF✓\n",
      "2022-02-23 05:20:08 PM: ['CARM.PA', 'FR0010828137']: SI✓,F✓,E✓,BS✓,CF✓\n",
      "2022-02-23 05:20:10 PM: ['CA.PA', 'FR0000120172']: SI✓,F✓,E✓,BS✓,CF✓\n",
      "2022-02-23 05:20:11 PM: ['CARP.PA', 'FR0000064156']: SI✓,F✓,E✗,BS✓,CF✓\n",
      "2022-02-23 05:20:17 PM: ['CO.PA', 'FR0000125585']: SI✓,F✓,E✓,BS✓,CF✓\n",
      "2022-02-23 05:20:20 PM: ['CAS.PA', 'FR0000072894']: SI✓,F✓,E✓,BS✓,CF✓\n",
      "2022-02-23 05:20:21 PM: ['CATG.PA', 'FR0010193052']: SI✓,F✓,E✓,BS✓,CF✓\n",
      "2022-02-23 05:20:22 PM: ['CTRG.PA', 'FR0000064446']: SI✓,F✓,E✓,BS✓,CF✓\n",
      "2022-02-23 05:20:23 PM: ['CATR.PA', 'US1491231015']: SI✓,F✓,E✗,BS✓,CF✓\n",
      "2022-02-23 05:20:28 PM: ['ALCBI.PA', 'FR0014007LW0']: SI✓,F✓,E✗,BS✓,CF✓\n",
      "2022-02-23 05:20:31 PM: ['CBOT.PA', 'FR0010193979']: SI✓,F✓,E✓,BS✓,CF✓\n",
      "2022-02-23 05:20:32 PM: ['MLCEC.PA', 'FR0010717579']: SI✓,F✓,E✗,BS✓,CF✓\n",
      "2022-02-23 05:20:34 PM: ['CGM.PA', 'FR0000053506']: SI✓,F✓,E✓,BS✓,CF✓\n",
      "2022-02-23 05:20:34 PM: ['ALCLS.PA', 'FR0010425595']: SI✓,F✓,E✓,BS✓,CF✓\n",
      "2022-02-23 05:20:40 PM: ['CYAD.BR', 'BE0974260896']: SI✓,F✓,E✓,BS✓,CF✓\n",
      "2022-02-23 05:20:43 PM: ['ALPCV.PA', 'FR0013178712']: SI✓,F✓,E✓,BS✓,CF✓\n",
      "2022-02-23 05:20:43 PM: ['CENER.BR', 'BE0974303357']: SI✓,F✓,E✓,BS✓,CF✓\n",
      "2022-02-23 05:20:44 PM: ['MLCSA.PA', 'IT0005402034']: SI✓,F✓,E✗,BS✓,CF✓\n",
      "2022-02-23 05:20:45 PM: ['ALCES.PA', 'FR0013297165']: SI✓,F✓,E✓,BS✓,CF✓\n",
      "2022-02-23 05:20:52 PM: ['MLCSB.PA', 'IT0005398877']: SI✓,F✓,E✗,BS✓,CF✓\n",
      "2022-02-23 05:20:54 PM: ['CFI.PA', 'FR0000037475']: SI✓,F✓,E✗,BS✓,CF✓\n",
      "2022-02-23 05:20:55 PM: ['CFEB.BR', 'BE0003883031']: SI✓,F✓,E✓,BS✓,CF✓\n",
      "2022-02-23 05:20:56 PM: ['MLCFM.PA', 'MC0010000826']: SI✓,F✓,E✓,BS✓,CF✓\n",
      "2022-02-23 05:20:57 PM: ['CGG.PA', 'FR0013181864']: SI✓,F✓,E✓,BS✓,CF✓\n",
      "2022-02-23 05:21:02 PM: ['CGGBS.PA', 'FR0013309614']: SI✗,F✗,E✗,BS✗,CF✗\n",
      "2022-02-23 05:21:05 PM: ['CGGBT.PA', 'FR0013309622']: SI✗,F✗,E✗,BS✗,CF✗\n",
      "2022-02-23 05:21:07 PM: ['MLCVG.PA', 'FR0000051567']: SI✓,F✓,E✗,BS✓,CF✓\n",
      "2022-02-23 05:21:07 PM: ['MLCFD.PA', 'FR0000037871']: SI✓,F✓,E✗,BS✓,CF✓\n",
      "2022-02-23 05:21:09 PM: ['CRI.PA', 'FR0000130692']: SI✓,F✓,E✓,BS✓,CF✓\n",
      "2022-02-23 05:21:13 PM: ['CHSR.PA', 'FR0000060907']: SI✓,F✓,E✗,BS✓,CF✓\n",
      "2022-02-23 05:21:17 PM: ['MLCHE.PA', 'FR0010447086']: SI✓,F✓,E✗,BS✓,CF✓\n",
      "2022-02-23 05:21:18 PM: ['MLTV.BR', 'BE0974370026']: SI✓,F✗,E✗,BS✗,CF✗\n",
      "2022-02-23 05:21:19 PM: ['CHTEX.BR', 'US1667641005']: SI✓,F✓,E✗,BS✓,CF✓\n",
      "2022-02-23 05:21:21 PM: ['CDI.PA', 'FR0000130403']: SI✓,F✓,E✓,BS✓,CF✓\n",
      "2022-02-23 05:21:24 PM: ['CIB.PA', 'FR0000054322']: SI✓,F✓,E✗,BS✓,CF✓\n",
      "2022-02-23 05:21:29 PM: ['COMB.BR', 'BE0003592038']: SI✓,F✓,E✓,BS✓,CF✓\n",
      "2022-02-23 05:21:30 PM: ['MLCMB.PA', 'FR0000060428']: SI✓,F✓,E✗,BS✓,CF✓\n",
      "2022-02-23 05:21:30 PM: ['MLCIO.PA', 'FR0012384907']: SI✓,F✓,E✗,BS✓,CF✓\n",
      "2022-02-23 05:21:33 PM: ['CIRCA.OL', 'NO0010917594']: SI✓,F✓,E✓,BS✓,CF✓\n",
      "2022-02-23 05:21:36 PM: ['CIS.BR', 'US17275R1023']: SI✓,F✓,E✗,BS✓,CF✓\n",
      "2022-02-23 05:21:41 PM: ['ALCLA.PA', 'FR0004152882']: SI✓,F✓,E✓,BS✓,CF✓\n",
      "2022-02-23 05:21:41 PM: ['CSS.OL', 'AU000000CSS3']: SI✓,F✓,E✗,BS✓,CF✓\n",
      "2022-02-23 05:21:41 PM: ['CLA.PA', 'FR0013426004']: SI✓,F✓,E✓,BS✓,CF✓\n",
      "2022-02-23 05:21:44 PM: ['CLOUD.OL', 'NO0010876642']: SI✓,F✓,E✓,BS✓,CF✓\n",
      "2022-02-23 05:21:47 PM: ['CMCOM.AS', 'NL0012747059']: SI✓,F✓,E✓,BS✓,CF✓\n",
      "2022-02-23 05:21:52 PM: ['CNV.PA', 'NL0010949392']: SI✓,F✓,E✗,BS✓,CF✓\n",
      "2022-02-23 05:21:54 PM: ['COM.PA', 'FR0000053399']: SI✓,F✓,E✓,BS✓,CF✓\n",
      "2022-02-23 05:21:54 PM: ['CNP.PA', 'FR0000120222']: SI✓,F✓,E✓,BS✓,CF✓\n",
      "2022-02-23 05:21:57 PM: ['COBH.BR', 'BE0003519270']: SI✓,F✓,E✗,BS✓,CF✓\n",
      "2022-02-23 05:21:58 PM: ['CAPSL.OL', 'NO0010923121']: SI✓,F✗,E✗,BS✗,CF✗\n",
      "2022-02-23 05:22:04 PM: ['CCEP.AS', 'GB00BDCPN049']: SI✓,F✓,E✓,BS✓,CF✓\n",
      "2022-02-23 05:22:06 PM: ['ALCOF.PA', 'FR0013257409']: SI✓,F✓,E✓,BS✓,CF✓\n",
      "2022-02-23 05:22:06 PM: ['COFA.PA', 'FR0010667147']: SI✓,F✓,E✓,BS✓,CF✓\n",
      "2022-02-23 05:22:08 PM: ['CFN.LS', 'PTCFN0AE0003']: SI✓,F✓,E✓,BS✓,CF✓\n",
      "2022-02-23 05:22:11 PM: ['COFB.BR', 'BE0003593044']: SI✓,F✓,E✓,BS✓,CF✓\n",
      "2022-02-23 05:22:17 PM: ['ALLEC.PA', 'FR0013335742']: SI✓,F✓,E✓,BS✓,CF✓\n",
      "2022-02-23 05:22:18 PM: ['ALCOG.PA', 'FR0011071570']: SI✓,F✓,E✓,BS✓,CF✓\n",
      "2022-02-23 05:22:18 PM: ['COH.PA', 'FR0004031763']: SI✓,F✓,E✓,BS✓,CF✓\n",
      "2022-02-23 05:22:20 PM: ['ALCOI.PA', 'BE0160342011']: SI✓,F✓,E✓,BS✓,CF✓\n",
      "2022-02-23 05:22:23 PM: ['RE.PA', 'FR0000121634']: SI✓,F✓,E✓,BS✓,CF✓\n",
      "2022-02-23 05:22:28 PM: ['MLCLP.PA', 'FR0010959684']: SI✓,F✓,E✗,BS✓,CF✓\n",
      "2022-02-23 05:22:29 PM: ['COLR.BR', 'BE0974256852']: SI✓,F✓,E✓,BS✓,CF✓\n",
      "2022-02-23 05:22:30 PM: ['ODET.PA', 'FR0000062234']: SI✓,F✓,E✓,BS✓,CF✓\n",
      "2022-02-23 05:22:32 PM: ['MLMFI.PA', 'BE6252013725']: SI✓,F✓,E✗,BS✓,CF✓\n",
      "2022-02-23 05:22:35 PM: ['CDU.LS', 'PTCDU0AE0003']: SI✓,F✓,E✗,BS✓,CF✓\n",
      "2022-02-23 05:22:38 PM: ['MLCNT.PA', 'FR0000077828']: SI✓,F✓,E✓,BS✗,CF✓\n",
      "2022-02-23 05:22:41 PM: ['MLLCB.PA', 'FR00140007I9']: SI✓,F✓,E✗,BS✓,CF✓\n",
      "2022-02-23 05:22:42 PM: ['CONTX.OL', 'SE0014731154']: SI✓,F✓,E✓,BS✓,CF✓\n",
      "2022-02-23 05:22:44 PM: ['CPA.LS', 'PTCPA0AP0006']: SI✓,F✓,E✗,BS✓,CF✓\n",
      "2022-02-23 05:22:47 PM: ['CRBN.AS', 'NL0010583399']: SI✓,F✓,E✓,BS✓,CF✓\n",
      "2022-02-23 05:22:50 PM: ['CLB.AS', 'NL0000200384']: SI✓,F✓,E✓,BS✓,CF✓\n",
      "2022-02-23 05:22:52 PM: ['MLCOR.PA', 'FR0010035816']: SI✓,F✓,E✗,BS✗,CF✓\n",
      "2022-02-23 05:22:53 PM: ['CORRE.IR', 'NL0015000DY3']: SI✓,F✗,E✗,BS✗,CF✗\n",
      "2022-02-23 05:22:56 PM: ['COR.LS', 'PTCOR0AE0006']: SI✓,F✓,E✓,BS✓,CF✓\n",
      "2022-02-23 05:22:59 PM: ['MLCOU.PA', 'FR0004998318']: SI✓,F✓,E✗,BS✓,CF✓\n",
      "2022-02-23 05:23:02 PM: ['COUR.PA', 'FR0000065393']: SI✓,F✓,E✓,BS✓,CF✓\n",
      "2022-02-23 05:23:05 PM: ['COV.PA', 'FR0000064578']: SI✓,F✓,E✓,BS✓,CF✓\n",
      "2022-02-23 05:23:06 PM: ['COVH.PA', 'FR0000060303']: SI✓,F✓,E✓,BS✓,CF✓\n",
      "2022-02-23 05:23:08 PM: ['CRAYN.OL', 'NO0010808892']: SI✓,F✓,E✓,BS✓,CF✓\n",
      "2022-02-23 05:23:13 PM: ['CRAP.PA', 'FR0000044323']: SI✓,F✓,E✓,BS✓,CF✓\n",
      "2022-02-23 05:23:14 PM: ['CRAV.PA', 'FR0000185506']: SI✓,F✓,E✓,BS✓,CF✓\n",
      "2022-02-23 05:23:17 PM: ['CRBP2.PA', 'FR0010483768']: SI✓,F✓,E✓,BS✓,CF✓\n",
      "2022-02-23 05:23:18 PM: ['CIV.PA', 'FR0000045213']: SI✓,F✓,E✓,BS✓,CF✓\n",
      "2022-02-23 05:23:19 PM: ['CRLA.PA', 'FR0010461053']: SI✓,F✓,E✓,BS✓,CF✓\n",
      "2022-02-23 05:23:24 PM: ['CRLO.PA', 'FR0000045239']: SI✓,F✓,E✓,BS✓,CF✓\n",
      "2022-02-23 05:23:25 PM: ['CMO.PA', 'FR0000045551']: SI✓,F✓,E✓,BS✓,CF✓\n",
      "2022-02-23 05:23:28 PM: ['CNF.PA', 'FR0000185514']: SI✓,F✓,E✓,BS✓,CF✓\n",
      "2022-02-23 05:23:31 PM: ['CCN.PA', 'FR0000044364']: SI✓,F✓,E✓,BS✓,CF✓\n",
      "2022-02-23 05:23:32 PM: ['CAF.PA', 'FR0000045528']: SI✓,F✓,E✓,BS✓,CF✓\n",
      "2022-02-23 05:23:35 PM: ['CRSU.PA', 'FR0000045346']: SI✓,F✓,E✓,BS✓,CF✓\n",
      "2022-02-23 05:23:38 PM: ['CRTO.PA', 'FR0000045304']: SI✓,F✓,E✓,BS✓,CF✓\n",
      "2022-02-23 05:23:41 PM: ['ACA.PA', 'FR0000045072']: SI✓,F✓,E✓,BS✓,CF✓\n",
      "2022-02-23 05:23:42 PM: ['OPTI.BR', 'BE0003836534']: SI✓,F✓,E✓,BS✓,CF✓\n",
      "2022-02-23 05:23:43 PM: ['DD8A.IR', 'IE0001827264']: SI✗,F✗,E✗,BS✗,CF✗\n",
      "2022-02-23 05:23:47 PM: ['DD8B.IR', 'IE0001827603']: SI✗,F✗,E✗,BS✗,CF✗\n",
      "2022-02-23 05:23:50 PM: ['CRG.IR', 'IE0001827041']: SI✓,F✓,E✓,BS✓,CF✓\n",
      "2022-02-23 05:23:52 PM: ['ALCJ.PA', 'FR0011716265']: SI✓,F✓,E✓,BS✓,CF✓\n",
      "2022-02-23 05:23:54 PM: ['CROS.PA', 'FR0000050395']: SI✓,F✓,E✗,BS✓,CF✓\n",
      "2022-02-23 05:23:54 PM: ['CPA1.AS', 'KYG2581M1078']: SI✓,F✗,E✗,BS✗,CF✗\n",
      "2022-02-23 05:23:56 PM: ['CPA1W.AS', 'KYG2581M1151']: SI✗,F✗,E✗,BS✗,CF✗\n",
      "2022-02-23 05:24:02 PM: ['SX.PA', 'FR0007317813']: SI✓,F✓,E✓,BS✓,CF✓\n",
      "2022-02-23 05:24:03 PM: ['CSAM.OL', 'NO0010894512']: SI✓,F✓,E✓,BS✓,CF✓\n",
      "2022-02-23 05:24:04 PM: ['CTCT1.AS', 'NL0015000F09']: SI✗,F✗,E✗,BS✗,CF✗\n"
     ]
    },
    {
     "name": "stdout",
     "output_type": "stream",
     "text": [
      "- CTCT1.AS: No data found, symbol may be delisted\n"
     ]
    },
    {
     "name": "stderr",
     "output_type": "stream",
     "text": [
      "2022-02-23 05:24:04 PM: ['CTCA1.AS', 'NL0015000DC9']: SI✓,F✗,E✗,BS✗,CF✗\n",
      "2022-02-23 05:24:05 PM: ['CTAC.AS', 'NL0000345577']: SI✓,F✓,E✓,BS✓,CF✓\n",
      "2022-02-23 05:24:12 PM: ['CTCW1.AS', 'NL0015000DD7']: SI✗,F✗,E✗,BS✗,CF✗\n",
      "2022-02-23 05:24:15 PM: ['CLEX.BR', 'BE0003463685']: SI✓,F✓,E✗,BS✓,CF✓\n",
      "2022-02-23 05:24:15 PM: ['CTPNV.AS', 'NL00150006R6']: SI✓,F✓,E✓,BS✓,CF✓\n",
      "2022-02-23 05:24:16 PM: ['CTT.LS', 'PTCTT0AM0001']: SI✓,F✓,E✓,BS✓,CF✓\n",
      "2022-02-23 05:24:17 PM: ['ALCYB.PA', 'FR0014004QR6']: SI✓,F✓,E✓,BS✓,CF✓\n",
      "2022-02-23 05:24:23 PM: ['CYBBT.PA', 'FR0013340817']: SI✗,F✗,E✗,BS✗,CF✗\n",
      "2022-02-23 05:24:25 PM: ['CYBKB.PA', 'FR0013508009']: SI✗,F✗,E✗,BS✗,CF✗\n",
      "2022-02-23 05:24:25 PM: ['CYBK1.PA', 'FR0013507977']: SI✗,F✗,E✗,BS✗,CF✗\n",
      "2022-02-23 05:24:25 PM: ['CYBKA.PA', 'FR0013507985']: SI✗,F✗,E✗,BS✗,CF✗\n"
     ]
    },
    {
     "name": "stdout",
     "output_type": "stream",
     "text": [
      "- CYBKB.PA: No data found for this date range, symbol may be delisted\n",
      "- CYBK1.PA: No data found for this date range, symbol may be delisted\n",
      "- CYBKA.PA: No data found for this date range, symbol may be delisted\n"
     ]
    },
    {
     "name": "stderr",
     "output_type": "stream",
     "text": [
      "2022-02-23 05:24:29 PM: ['CYVIZ.OL', 'NO0010015175']: SI✓,F✓,E✓,BS✓,CF✓\n",
      "2022-02-23 05:24:35 PM: ['DIE.BR', 'BE0974259880']: SI✓,F✓,E✓,BS✓,CF✓\n",
      "2022-02-23 05:24:36 PM: ['MLDAM.PA', 'FR0000077885']: SI✓,F✓,E✗,BS✓,CF✓\n",
      "2022-02-23 05:24:36 PM: ['ALDLS.PA', 'FR0010404368']: SI✓,F✓,E✓,BS✓,CF✓\n",
      "2022-02-23 05:24:38 PM: ['DHG.IR', 'IE00BJMZDW83']: SI✓,F✓,E✓,BS✓,CF✓\n",
      "2022-02-23 05:24:44 PM: ['ALDAR.PA', 'FR0000185423']: SI✓,F✓,E✓,BS✓,CF✓\n",
      "2022-02-23 05:24:47 PM: ['AM.PA', 'FR0014004L86']: SI✓,F✓,E✓,BS✓,CF✓\n",
      "2022-02-23 05:24:47 PM: ['DSYNV.PA', 'FR00140078T7']: SI✓,F✓,E✗,BS✓,CF✓\n",
      "2022-02-23 05:24:48 PM: ['BN.PA', 'FR0000120644']: SI✓,F✓,E✓,BS✓,CF✓\n"
     ]
    },
    {
     "name": "stdout",
     "output_type": "stream",
     "text": [
      "- DSYNV.PA: No data found for this date range, symbol may be delisted\n"
     ]
    },
    {
     "name": "stderr",
     "output_type": "stream",
     "text": [
      "2022-02-23 05:24:49 PM: ['DSY.PA', 'FR0014003TT8']: SI✗,F✓,E✓,BS✓,CF✓\n",
      "2022-02-23 05:24:55 PM: ['DLE.IR', 'IE0000527006']: SI✓,F✓,E✓,BS✓,CF✓\n",
      "2022-02-23 05:24:59 PM: ['DEE.PA', 'FR0014003G01']: SI✓,F✗,E✗,BS✗,CF✗\n",
      "2022-02-23 05:24:59 PM: ['DBV.PA', 'FR0010417345']: SI✓,F✓,E✓,BS✓,CF✓\n",
      "2022-02-23 05:25:00 PM: ['ALDBT.PA', 'FR0013066750']: SI✓,F✓,E✓,BS✓,CF✓\n",
      "2022-02-23 05:25:00 PM: ['DECB.BR', 'BE0003789063']: SI✓,F✓,E✓,BS✓,CF✓\n",
      "2022-02-23 05:25:05 PM: ['DEEW.PA', 'FR0014003G19']: SI✗,F✗,E✗,BS✗,CF✗\n",
      "2022-02-23 05:25:10 PM: ['DVD.OL', 'NO0010955917']: SI✓,F✗,E✗,BS✗,CF✗\n",
      "2022-02-23 05:25:11 PM: ['ALDEI.PA', 'FR0010879056']: SI✓,F✓,E✓,BS✓,CF✓\n",
      "2022-02-23 05:25:12 PM: ['ALDEL.PA', 'FR0000054132']: SI✓,F✓,E✓,BS✓,CF✓\n",
      "2022-02-23 05:25:13 PM: ['DKUPL.PA', 'FR0000062978']: SI✓,F✓,E✓,BS✓,CF✓\n",
      "2022-02-23 05:25:17 PM: ['ALDR.PA', 'FR0011522168']: SI✓,F✓,E✗,BS✓,CF✓\n",
      "2022-02-23 05:25:21 PM: ['ALDBY.PA', 'FR0013400991']: SI✗,F✗,E✗,BS✗,CF✗\n",
      "2022-02-23 05:25:23 PM: ['ALDLT.PA', 'FR0013283108']: SI✓,F✓,E✓,BS✓,CF✓\n",
      "2022-02-23 05:25:25 PM: ['DBG.PA', 'FR0000053381']: SI✓,F✓,E✓,BS✓,CF✓\n",
      "2022-02-23 05:25:25 PM: ['DSRT.OL', 'NO0010963275']: SI✓,F✗,E✗,BS✗,CF✗\n",
      "2022-02-23 05:25:29 PM: ['MLDYH.PA', 'SE0007045380']: SI✗,F✗,E✗,BS✗,CF✗\n",
      "2022-02-23 05:25:33 PM: ['DTEL.BR', 'DE0005557508']: SI✓,F✓,E✗,BS✓,CF✓\n",
      "2022-02-23 05:25:34 PM: ['ALDEV.PA', 'FR0000060840']: SI✓,F✓,E✗,BS✓,CF✓\n",
      "2022-02-23 05:25:36 PM: ['DGB.AS', 'NL0009169515']: SI✓,F✓,E✓,BS✓,CF✓\n",
      "2022-02-23 05:25:37 PM: ['DGE.PA', 'GB0002374006']: SI✓,F✓,E✗,BS✓,CF✓\n",
      "2022-02-23 05:25:41 PM: ['DGM.PA', 'FR0012202497']: SI✓,F✓,E✓,BS✓,CF✓\n",
      "2022-02-23 05:25:44 PM: ['DIEG.BR', 'BE0003698124']: SI✓,F✗,E✗,BS✗,CF✗\n",
      "2022-02-23 05:25:44 PM: ['DCACS.AS', 'GG00BMB5XZ39']: SI✓,F✗,E✗,BS✗,CF✗\n",
      "2022-02-23 05:25:47 PM: ['DCACW.AS', 'GG00BMB5XY22']: SI✗,F✗,E✗,BS✗,CF✗\n",
      "2022-02-23 05:25:50 PM: ['DISL.BR', 'BE0003605160']: SI✓,F✓,E✗,BS✓,CF✓\n",
      "2022-02-23 05:25:52 PM: ['DLTX.OL', 'NO0003055808']: SI✓,F✗,E✗,BS✗,CF✗\n",
      "2022-02-23 05:25:56 PM: ['DNB.OL', 'NO0010161896']: SI✓,F✓,E✓,BS✓,CF✓\n",
      "2022-02-23 05:25:56 PM: ['DNO.OL', 'NO0003921009']: SI✓,F✓,E✓,BS✓,CF✓\n",
      "2022-02-23 05:26:00 PM: ['ALDNX.PA', 'FR0010436584']: SI✓,F✓,E✓,BS✓,CF✓\n",
      "2022-02-23 05:26:01 PM: ['DPAM.PA', 'FR0000065260']: SI✓,F✓,E✓,BS✓,CF✓\n",
      "2022-02-23 05:26:05 PM: ['DOF.OL', 'NO0010070063']: SI✓,F✓,E✓,BS✓,CF✓\n",
      "2022-02-23 05:26:08 PM: ['ALDOL.PA', 'FR0014004QZ9']: SI✓,F✓,E✓,BS✓,CF✓\n",
      "2022-02-23 05:26:08 PM: ['DQ7A.IR', 'IE00BLRPQQ22']: SI✓,F✓,E✓,BS✓,CF✓\n",
      "2022-02-23 05:26:13 PM: ['DPA.AS', 'NL0009197771']: SI✓,F✓,E✓,BS✓,CF✓\n",
      "2022-02-23 05:26:14 PM: ['ALDNE.PA', 'FR0013331212']: SI✓,F✓,E✓,BS✓,CF✓\n",
      "2022-02-23 05:26:17 PM: ['ALDRV.PA', 'FR0013088606']: SI✓,F✓,E✓,BS✓,CF✓\n",
      "2022-02-23 05:26:18 PM: ['BNBS.PA', 'FR0014007951']: SI✗,F✗,E✗,BS✗,CF✗\n",
      "2022-02-23 05:26:20 PM: ['DSC2.AS', 'NL00150000S7']: SI✓,F✗,E✗,BS✗,CF✗\n",
      "2022-02-23 05:26:24 PM: ['DSC2S.AS', 'NL00150002R5']: SI✗,F✗,E✗,BS✗,CF✗\n"
     ]
    },
    {
     "name": "stdout",
     "output_type": "stream",
     "text": [
      "- DSC2S.AS: No data found for this date range, symbol may be delisted\n"
     ]
    },
    {
     "name": "stderr",
     "output_type": "stream",
     "text": [
      "2022-02-23 05:26:26 PM: ['DSM.AS', 'NL0000009827']: SI✓,F✓,E✓,BS✓,CF✓\n",
      "2022-02-23 05:26:26 PM: ['DSCW1.AS', 'NL00150000T5']: SI✗,F✗,E✗,BS✗,CF✗\n",
      "2022-02-23 05:26:28 PM: ['DSCW2.AS', 'NL00150000U3']: SI✗,F✗,E✗,BS✗,CF✗\n",
      "2022-02-23 05:26:31 PM: ['DSCW3.AS', 'NL00150000V1']: SI✗,F✗,E✗,BS✗,CF✗\n",
      "2022-02-23 05:26:35 PM: ['MLDYN.PA', 'FR0000052920']: SI✓,F✓,E✗,BS✓,CF✓\n",
      "2022-02-23 05:26:37 PM: ['MLDYX.PA', 'LU0881232630']: SI✓,F✓,E✗,BS✓,CF✓\n",
      "2022-02-23 05:26:37 PM: ['ALAGO.PA', 'FR0014004339']: SI✓,F✓,E✓,BS✓,CF✓\n",
      "2022-02-23 05:26:39 PM: ['EON.BR', 'DE000ENAG999']: SI✓,F✓,E✗,BS✓,CF✓\n",
      "2022-02-23 05:26:43 PM: ['EAM.OL', 'NO0010607781']: SI✓,F✓,E✓,BS✓,CF✓\n",
      "2022-02-23 05:26:48 PM: ['EAS2P.AS', 'NL0000345627']: SI✓,F✓,E✓,BS✓,CF✓\n",
      "2022-02-23 05:26:49 PM: ['MLEDR.PA', 'FR0007200100']: SI✓,F✓,E✗,BS✓,CF✓\n",
      "2022-02-23 05:26:49 PM: ['MLEAS.PA', 'HK0000038783']: SI✓,F✓,E✗,BS✓,CF✓\n",
      "2022-02-23 05:26:50 PM: ['MLEAV.PA', 'FR0010536185']: SI✓,F✓,E✗,BS✓,CF✓\n",
      "2022-02-23 05:26:54 PM: ['EBUS.AS', 'NL0015000CZ2']: SI✓,F✓,E✓,BS✓,CF✓\n",
      "2022-02-23 05:26:58 PM: ['MLECO.PA', 'DE000A0XYM45']: SI✗,F✗,E✗,BS✗,CF✗\n",
      "2022-02-23 05:26:59 PM: ['ECIT.OL', 'NO0010939804']: SI✓,F✓,E✓,BS✓,CF✓\n",
      "2022-02-23 05:27:01 PM: ['ALECO.PA', 'FR0013534617']: SI✓,F✓,E✓,BS✓,CF✓\n",
      "2022-02-23 05:27:02 PM: ['ECONB.BR', 'BE0974313455']: SI✓,F✓,E✓,BS✓,CF✓\n",
      "2022-02-23 05:27:05 PM: ['ECO.OL', 'NO0010936891']: SI✓,F✓,E✓,BS✓,CF✓\n",
      "2022-02-23 05:27:10 PM: ['ALESA.PA', 'FR0011490648']: SI✓,F✓,E✓,BS✓,CF✓\n",
      "2022-02-23 05:27:11 PM: ['EWIND.OL', 'NO0010998529']: SI✓,F✗,E✗,BS✗,CF✗\n",
      "2022-02-23 05:27:13 PM: ['EDEN.PA', 'FR0010908533']: SI✓,F✓,E✓,BS✓,CF✓\n",
      "2022-02-23 05:27:14 PM: ['EDF.PA', 'FR0010242511']: SI✓,F✓,E✓,BS✓,CF✓\n",
      "2022-02-23 05:27:16 PM: ['ALEAC.PA', 'IT0005351504']: SI✓,F✓,E✗,BS✓,CF✓\n",
      "2022-02-23 05:27:21 PM: ['MLEDS.PA', 'FR0000052755']: SI✓,F✗,E✗,BS✗,CF✗\n",
      "2022-02-23 05:27:22 PM: ['MLEDU.PA', 'FR0010439265']: SI✗,F✗,E✗,BS✗,CF✗\n",
      "2022-02-23 05:27:23 PM: ['EDP.LS', 'PTEDP0AM0009']: SI✓,F✓,E✓,BS✓,CF✓\n",
      "2022-02-23 05:27:26 PM: ['EDPR.LS', 'ES0127797019']: SI✓,F✓,E✓,BS✓,CF✓\n",
      "2022-02-23 05:27:27 PM: ['MLEES.PA', 'FR0010945733']: SI✓,F✓,E✗,BS✓,CF✓\n",
      "2022-02-23 05:27:30 PM: ['EFICT.AS', 'NL00150009J7']: SI✗,F✗,E✗,BS✗,CF✗\n"
     ]
    },
    {
     "name": "stdout",
     "output_type": "stream",
     "text": [
      "- EFICT.AS: No data found, symbol may be delisted\n"
     ]
    },
    {
     "name": "stderr",
     "output_type": "stream",
     "text": [
      "2022-02-23 05:27:32 PM: ['EFIC1.AS', 'NL00150006Z9']: SI✓,F✗,E✗,BS✗,CF✗\n",
      "2022-02-23 05:27:33 PM: ['EFICW.AS', 'NL00150007A0']: SI✗,F✗,E✗,BS✗,CF✗\n",
      "2022-02-23 05:27:37 PM: ['EHCS.AS', 'NL0015000K10']: SI✓,F✗,E✗,BS✗,CF✗\n",
      "2022-02-23 05:27:38 PM: ['EHCT.AS', 'NL0015000K02']: SI✗,F✗,E✗,BS✗,CF✗\n"
     ]
    },
    {
     "name": "stdout",
     "output_type": "stream",
     "text": [
      "- EHCT.AS: No data found, symbol may be delisted\n"
     ]
    },
    {
     "name": "stderr",
     "output_type": "stream",
     "text": [
      "2022-02-23 05:27:38 PM: ['GID.PA', 'FR0000072373']: SI✓,F✓,E✓,BS✓,CF✓\n",
      "2022-02-23 05:27:40 PM: ['EHCW.AS', 'NL0015000K28']: SI✗,F✗,E✗,BS✗,CF✗\n"
     ]
    },
    {
     "name": "stdout",
     "output_type": "stream",
     "text": [
      "- EHCW.AS: No data found, symbol may be delisted\n"
     ]
    },
    {
     "name": "stderr",
     "output_type": "stream",
     "text": [
      "2022-02-23 05:27:45 PM: ['EIOF.OL', 'NO0010263023']: SI✓,F✓,E✓,BS✓,CF✓\n",
      "2022-02-23 05:27:49 PM: ['EKI.PA', 'FR0011466069']: SI✓,F✓,E✓,BS✓,CF✓\n",
      "2022-02-23 05:27:50 PM: ['FGR.PA', 'FR0000130452']: SI✓,F✓,E✓,BS✓,CF✓\n",
      "2022-02-23 05:27:50 PM: ['EKOP.BR', 'BE0974380124']: SI✓,F✓,E✓,BS✓,CF✓\n",
      "2022-02-23 05:27:53 PM: ['ELEC.PA', 'FR0000031023']: SI✓,F✓,E✓,BS✓,CF✓\n",
      "2022-02-23 05:27:56 PM: ['EEM.PA', 'FR0000035719']: SI✓,F✓,E✗,BS✓,CF✓\n",
      "2022-02-23 05:28:00 PM: ['EMGS.OL', 'NO0010358484']: SI✓,F✓,E✓,BS✓,CF✓\n",
      "2022-02-23 05:28:01 PM: ['ELIMP.OL', 'NO0010911902']: SI✓,F✓,E✓,BS✓,CF✓\n",
      "2022-02-23 05:28:02 PM: ['ELI.BR', 'BE0003822393']: SI✓,F✓,E✓,BS✓,CF✓\n",
      "2022-02-23 05:28:05 PM: ['ELIOR.PA', 'FR0011950732']: SI✓,F✓,E✓,BS✓,CF✓\n",
      "2022-02-23 05:28:08 PM: ['ELIS.PA', 'FR0012435121']: SI✓,F✓,E✓,BS✓,CF✓\n",
      "2022-02-23 05:28:12 PM: ['ELK.OL', 'NO0010816093']: SI✓,F✓,E✓,BS✓,CF✓\n",
      "2022-02-23 05:28:13 PM: ['ELABS.OL', 'NO0010722283']: SI✓,F✓,E✓,BS✓,CF✓\n",
      "2022-02-23 05:28:14 PM: ['ELOP.OL', 'NO0010864036']: SI✓,F✓,E✓,BS✓,CF✓\n",
      "2022-02-23 05:28:17 PM: ['ELO.OL', 'NO0011002586']: SI✓,F✓,E✓,BS✓,CF✓\n",
      "2022-02-23 05:28:19 PM: ['ALEMV.PA', 'FR0013356755']: SI✓,F✓,E✓,BS✓,CF✓\n",
      "2022-02-23 05:28:23 PM: ['ALDUB.PA', 'FR0004030708']: SI✓,F✓,E✓,BS✓,CF✓\n",
      "2022-02-23 05:28:24 PM: ['ENDUR.OL', 'NO0010379779']: SI✓,F✓,E✓,BS✓,CF✓\n",
      "2022-02-23 05:28:26 PM: ['ALNN6.PA', 'FR0013330792']: SI✓,F✓,E✓,BS✓,CF✓\n",
      "2022-02-23 05:28:28 PM: ['ALNRG.PA', 'FR0013399359']: SI✓,F✓,E✗,BS✓,CF✓\n",
      "2022-02-23 05:28:31 PM: ['ALENE.PA', 'FR0011915339']: SI✓,F✓,E✓,BS✓,CF✓\n",
      "2022-02-23 05:28:34 PM: ['EXR.IR', 'IE00BG0HDR01']: SI✗,F✗,E✗,BS✗,CF✗\n",
      "2022-02-23 05:28:38 PM: ['ENI.BR', 'IT0003132476']: SI✓,F✓,E✗,BS✓,CF✓\n",
      "2022-02-23 05:28:38 PM: ['ENGI.PA', 'FR0010208488']: SI✓,F✓,E✓,BS✓,CF✓\n",
      "2022-02-23 05:28:40 PM: ['ALENO.PA', 'FR0014004974']: SI✓,F✓,E✗,BS✓,CF✓\n",
      "2022-02-23 05:28:43 PM: ['ENSU.OL', 'NO0010299068']: SI✓,F✓,E✗,BS✓,CF✓\n",
      "2022-02-23 05:28:45 PM: ['ALESE.PA', 'FR0014004362']: SI✓,F✓,E✓,BS✓,CF✓\n",
      "2022-02-23 05:28:46 PM: ['ENTPT.AS', 'NL0015000F90']: SI✗,F✗,E✗,BS✗,CF✗\n"
     ]
    },
    {
     "name": "stdout",
     "output_type": "stream",
     "text": [
      "- ENTPT.AS: No data found, symbol may be delisted\n"
     ]
    },
    {
     "name": "stderr",
     "output_type": "stream",
     "text": [
      "2022-02-23 05:28:48 PM: ['ENTPA.AS', 'NL0015000F82']: SI✓,F✗,E✗,BS✗,CF✗\n",
      "2022-02-23 05:28:50 PM: ['ENTPW.AS', 'NL0015000FD2']: SI✗,F✗,E✗,BS✗,CF✗\n",
      "2022-02-23 05:28:55 PM: ['ENTRA.OL', 'NO0010716418']: SI✓,F✓,E✓,BS✓,CF✓\n",
      "2022-02-23 05:28:57 PM: ['ALENT.PA', 'FR0010424697']: SI✓,F✓,E✓,BS✓,CF✓\n",
      "2022-02-23 05:28:58 PM: ['ALENR.PA', 'FR0000045122']: SI✓,F✓,E✗,BS✓,CF✓\n",
      "2022-02-23 05:29:01 PM: ['ALTEV.PA', 'FR0010278762']: SI✓,F✓,E✓,BS✓,CF✓\n",
      "2022-02-23 05:29:02 PM: ['ENVI.AS', 'NL0015000GX8']: SI✓,F✓,E✓,BS✓,CF✓\n",
      "2022-02-23 05:29:06 PM: ['EPICW.AS', 'KYG3166N1144']: SI✗,F✗,E✗,BS✗,CF✗\n"
     ]
    },
    {
     "name": "stdout",
     "output_type": "stream",
     "text": [
      "- EPICW.AS: No data found, symbol may be delisted\n"
     ]
    },
    {
     "name": "stderr",
     "output_type": "stream",
     "text": [
      "2022-02-23 05:29:07 PM: ['ALEO2.PA', 'FR0010465534']: SI✓,F✓,E✓,BS✓,CF✓\n",
      "2022-02-23 05:29:08 PM: ['EPIC.AS', 'KYG3166N1060']: SI✓,F✓,E✗,BS✓,CF✓\n",
      "2022-02-23 05:29:13 PM: ['EQNR.OL', 'NO0010096985']: SI✓,F✓,E✓,BS✓,CF✓\n",
      "2022-02-23 05:29:14 PM: ['ERA.PA', 'FR0000131757']: SI✓,F✓,E✓,BS✓,CF✓\n",
      "2022-02-23 05:29:16 PM: ['ESGT.AS', 'NL00150006Q8']: SI✗,F✗,E✗,BS✗,CF✗\n"
     ]
    },
    {
     "name": "stdout",
     "output_type": "stream",
     "text": [
      "- ESGT.AS: No data found, symbol may be delisted\n"
     ]
    },
    {
     "name": "stderr",
     "output_type": "stream",
     "text": [
      "2022-02-23 05:29:18 PM: ['ERYP.PA', 'FR0011471135']: SI✓,F✓,E✓,BS✓,CF✓\n",
      "2022-02-23 05:29:20 PM: ['ESG.AS', 'NL00150006O3']: SI✓,F✗,E✗,BS✗,CF✗\n",
      "2022-02-23 05:29:24 PM: ['ESGWA.AS', 'NL00150006P0']: SI✗,F✗,E✗,BS✗,CF✗\n",
      "2022-02-23 05:29:26 PM: ['ESI.PA', 'FR0004110310']: SI✓,F✓,E✓,BS✓,CF✓\n",
      "2022-02-23 05:29:29 PM: ['ALESK.PA', 'FR0000035818']: SI✓,F✓,E✓,BS✓,CF✓\n",
      "2022-02-23 05:29:30 PM: ['ESP.AS', 'NL0009272137']: SI✓,F✓,E✗,BS✓,CF✓\n",
      "2022-02-23 05:29:33 PM: ['EL.PA', 'FR0000121667']: SI✓,F✓,E✓,BS✓,CF✓\n",
      "2022-02-23 05:29:37 PM: ['ES.PA', 'FR0000120669']: SI✓,F✓,E✓,BS✓,CF✓\n",
      "2022-02-23 05:29:38 PM: ['ESON.LS', 'PTESO0AM0000']: SI✓,F✓,E✗,BS✓,CF✓\n",
      "2022-02-23 05:29:41 PM: ['EFI.PA', 'FR0000061475']: SI✓,F✓,E✓,BS✓,CF✓\n",
      "2022-02-23 05:29:41 PM: ['ALEUA.PA', 'FR0010844001']: SI✓,F✓,E✗,BS✓,CF✓\n",
      "2022-02-23 05:29:44 PM: ['RF.PA', 'FR0000121121']: SI✓,F✓,E✓,BS✓,CF✓\n",
      "2022-02-23 05:29:49 PM: ['EUR.PA', 'FR0000054678']: SI✓,F✓,E✓,BS✓,CF✓\n",
      "2022-02-23 05:29:50 PM: ['ALERS.PA', 'FR0013240934']: SI✓,F✓,E✓,BS✓,CF✓\n",
      "2022-02-23 05:29:52 PM: ['ECT.AS', 'GB00B94QM994']: SI✓,F✓,E✓,BS✓,CF✓\n"
     ]
    },
    {
     "name": "stdout",
     "output_type": "stream",
     "text": [
      "- ECT.AS: Duplicate key 1502866800\n"
     ]
    },
    {
     "name": "stderr",
     "output_type": "stream",
     "text": [
      "2022-02-23 05:29:53 PM: ['ECMPA.AS', 'NL0015000K93']: SI✓,F✓,E✓,BS✓,CF✓\n",
      "2022-02-23 05:29:56 PM: ['ALECR.PA', 'FR0013256518']: SI✓,F✓,E✓,BS✓,CF✓\n",
      "2022-02-23 05:29:59 PM: ['ERFNV.PA', 'FR0014006O73']: SI✓,F✓,E✗,BS✓,CF✓\n"
     ]
    },
    {
     "name": "stdout",
     "output_type": "stream",
     "text": [
      "- ERFNV.PA: No data found for this date range, symbol may be delisted\n"
     ]
    },
    {
     "name": "stderr",
     "output_type": "stream",
     "text": [
      "2022-02-23 05:30:01 PM: ['ERF.PA', 'FR0014000MR3']: SI✓,F✓,E✓,BS✓,CF✓\n",
      "2022-02-23 05:30:02 PM: ['MLCAN.PA', 'ES0105586004']: SI✗,F✗,E✗,BS✗,CF✗\n"
     ]
    },
    {
     "name": "stdout",
     "output_type": "stream",
     "text": [
      "- MLCAN.PA: No data found, symbol may be delisted\n"
     ]
    },
    {
     "name": "stderr",
     "output_type": "stream",
     "text": [
      "2022-02-23 05:30:04 PM: ['MLERO.PA', 'FR0010157115']: SI✓,F✓,E✗,BS✓,CF✓\n",
      "2022-02-23 05:30:08 PM: ['ALEMG.PA', 'FR0000075343']: SI✓,F✓,E✓,BS✓,CF✓\n",
      "2022-02-23 05:30:12 PM: ['EURN.BR', 'BE0003816338']: SI✓,F✓,E✓,BS✓,CF✓\n",
      "2022-02-23 05:30:13 PM: ['ENX.PA', 'NL0006294274']: SI✓,F✓,E✓,BS✓,CF✓\n",
      "2022-02-23 05:30:13 PM: ['ALECP.PA', 'FR0010490920']: SI✓,F✓,E✓,BS✓,CF✓\n",
      "2022-02-23 05:30:16 PM: ['EUCAR.PA', 'FR0012789949']: SI✓,F✓,E✓,BS✓,CF✓\n",
      "2022-02-23 05:30:20 PM: ['ALEUP.PA', 'FR0013514114']: SI✓,F✓,E✓,BS✓,CF✓\n",
      "2022-02-23 05:30:25 PM: ['EFUEL.OL', 'DK0061414711']: SI✓,F✓,E✓,BS✓,CF✓\n",
      "2022-02-23 05:30:25 PM: ['EPR.OL', 'NO0010735343']: SI✓,F✓,E✓,BS✓,CF✓\n",
      "2022-02-23 05:30:25 PM: ['ETL.PA', 'FR0010221234']: SI✓,F✓,E✓,BS✓,CF✓\n",
      "2022-02-23 05:30:27 PM: ['EGR.PA', 'FR0000035784']: SI✓,F✓,E✓,BS✓,CF✓\n",
      "2022-02-23 05:30:31 PM: ['MLEVE.PA', 'FR0000044745']: SI✓,F✓,E✗,BS✓,CF✓\n",
      "2022-02-23 05:30:36 PM: ['ALEXA.PA', 'FR0000064164']: SI✗,F✓,E✗,BS✓,CF✓\n",
      "2022-02-23 05:30:37 PM: ['ALTVO.PA', 'FR0004166197']: SI✓,F✓,E✓,BS✓,CF✓\n",
      "2022-02-23 05:30:37 PM: ['EVS.BR', 'BE0003820371']: SI✓,F✓,E✓,BS✓,CF✓\n",
      "2022-02-23 05:30:39 PM: ['EXTX.OL', 'NO0010852213']: SI✓,F✓,E✗,BS✓,CF✓\n",
      "2022-02-23 05:30:42 PM: ['EXN.PA', 'FR0014005DA7']: SI✓,F✓,E✓,BS✓,CF✓\n",
      "2022-02-23 05:30:48 PM: ['EXE.PA', 'FR0004527638']: SI✓,F✓,E✓,BS✓,CF✓\n",
      "2022-02-23 05:30:49 PM: ['EXPL.PA', 'FR0014003AQ4']: SI✗,F✓,E✗,BS✓,CF✓\n",
      "2022-02-23 05:30:49 PM: ['EXM.BR', 'BE0003808251']: SI✓,F✓,E✓,BS✓,CF✓\n",
      "2022-02-23 05:30:51 PM: ['ALPHI.PA', 'ES0105029005']: SI✓,F✓,E✗,BS✓,CF✓\n",
      "2022-02-23 05:30:54 PM: ['FAGR.BR', 'BE0003874915']: SI✓,F✓,E✓,BS✓,CF✓\n",
      "2022-02-23 05:30:57 PM: ['MLECE.PA', 'ES0105553004']: SI✗,F✗,E✗,BS✗,CF✗\n"
     ]
    },
    {
     "name": "stdout",
     "output_type": "stream",
     "text": [
      "- MLECE.PA: No data found, symbol may be delisted\n"
     ]
    },
    {
     "name": "stderr",
     "output_type": "stream",
     "text": [
      "2022-02-23 05:31:00 PM: ['MLFMV.LS', 'PTFNV1AM0002']: SI✓,F✓,E✗,BS✓,CF✓\n",
      "2022-02-23 05:31:01 PM: ['ALFBA.PA', 'FR0004034593']: SI✓,F✓,E✓,BS✓,CF✓\n",
      "2022-02-23 05:31:02 PM: ['FAST.AS', 'NL0013654809']: SI✓,F✓,E✓,BS✓,CF✓\n",
      "2022-02-23 05:31:06 PM: ['EO.PA', 'FR0000121147']: SI✓,F✓,E✓,BS✓,CF✓\n",
      "2022-02-23 05:31:10 PM: ['FAUV.PA', 'FR0000063034']: SI✓,F✓,E✗,BS✓,CF✓\n",
      "2022-02-23 05:31:11 PM: ['FAYE.PA', 'FR0000031973']: SI✓,F✓,E✗,BS✓,CF✓\n",
      "2022-02-23 05:31:13 PM: ['EG7.IR', 'IE0003290289']: SI✓,F✓,E✓,BS✓,CF✓\n",
      "2022-02-23 05:31:13 PM: ['MLFDV.PA', 'FR0012300424']: SI✓,F✗,E✗,BS✗,CF✗\n",
      "2022-02-23 05:31:17 PM: ['GYQ.IR', 'GB0031477770']: SI✓,F✓,E✗,BS✓,CF✓\n",
      "2022-02-23 05:31:22 PM: ['FDJ.PA', 'FR0013451333']: SI✓,F✓,E✓,BS✓,CF✓\n",
      "2022-02-23 05:31:23 PM: ['FCMC.PA', 'FR0000062101']: SI✓,F✓,E✓,BS✓,CF✓\n",
      "2022-02-23 05:31:25 PM: ['FALG.PA', 'FR0011271600']: SI✓,F✓,E✓,BS✓,CF✓\n",
      "2022-02-23 05:31:26 PM: ['SACI.PA', 'FR0000061418']: SI✓,F✓,E✓,BS✓,CF✓\n",
      "2022-02-23 05:31:30 PM: ['ORIA.PA', 'FR0000060535']: SI✓,F✓,E✓,BS✓,CF✓\n",
      "2022-02-23 05:31:33 PM: ['FGA.PA', 'FR0011665280']: SI✓,F✓,E✓,BS✓,CF✓\n",
      "2022-02-23 05:31:35 PM: ['BERR.PA', 'FR0000062341']: SI✓,F✓,E✗,BS✓,CF✓\n",
      "2022-02-23 05:31:37 PM: ['EBPF.PA', 'FR0000062507']: SI✓,F✓,E✗,BS✓,CF✓\n",
      "2022-02-23 05:31:37 PM: ['FOAF.PA', 'SN0000033192']: SI✓,F✗,E✗,BS✗,CF✗\n",
      "2022-02-23 05:31:41 PM: ['FINM.PA', 'FR0000060824']: SI✓,F✓,E✗,BS✓,CF✓\n",
      "2022-02-23 05:31:44 PM: ['MLFXO.PA', 'FR0010487272']: SI✗,F✗,E✗,BS✗,CF✗\n",
      "2022-02-23 05:31:46 PM: ['FNTS.PA', 'FR0000035123']: SI✓,F✓,E✗,BS✓,CF✓\n",
      "2022-02-23 05:31:48 PM: ['MLFIR.PA', 'CH0120879058']: SI✓,F✓,E✗,BS✓,CF✓\n",
      "2022-02-23 05:31:49 PM: ['FIPP.PA', 'FR0000038184']: SI✓,F✓,E✗,BS✓,CF✓\n",
      "2022-02-23 05:31:53 PM: ['FKRFT.OL', 'NO0010815673']: SI✓,F✓,E✓,BS✓,CF✓\n",
      "2022-02-23 05:31:57 PM: ['ALFLE.PA', 'FR0000074759']: SI✓,F✓,E✓,BS✓,CF✓\n",
      "2022-02-23 05:31:58 PM: ['FLNG.OL', 'BMG359472021']: SI✓,F✓,E✓,BS✓,CF✓\n",
      "2022-02-23 05:32:00 PM: ['FLEXD.LS', 'PTFXD0AM0018']: SI✓,F✓,E✗,BS✓,CF✓\n",
      "2022-02-23 05:32:00 PM: ['FLOB.BR', 'BE0003215143']: SI✓,F✓,E✓,BS✓,CF✓\n",
      "2022-02-23 05:32:05 PM: ['FLOW.AS', 'NL0011279492']: SI✓,F✓,E✓,BS✓,CF✓\n",
      "2022-02-23 05:32:08 PM: ['UNI.BR', 'BE0003847648']: SI✓,F✓,E✓,BS✓,CF✓\n",
      "2022-02-23 05:32:11 PM: ['FLTR.IR', 'IE00BWT6H894']: SI✓,F✓,E✓,BS✓,CF✓\n",
      "2022-02-23 05:32:11 PM: ['FLYR.OL', 'NO0010931900']: SI✓,F✓,E✓,BS✓,CF✓\n",
      "2022-02-23 05:32:13 PM: ['FLUX.BR', 'BE0974265945']: SI✓,F✓,E✓,BS✓,CF✓\n",
      "2022-02-23 05:32:15 PM: ['FLYRT.OL', 'NO0011198111']: SI✗,F✗,E✗,BS✗,CF✗\n"
     ]
    },
    {
     "name": "stdout",
     "output_type": "stream",
     "text": [
      "- FLYRT.OL: No data found for this date range, symbol may be delisted\n"
     ]
    },
    {
     "name": "stderr",
     "output_type": "stream",
     "text": [
      "2022-02-23 05:32:20 PM: ['FNAC.PA', 'FR0011476928']: SI✓,F✓,E✓,BS✓,CF✓\n",
      "2022-02-23 05:32:22 PM: ['FNG.BR', 'BE0974332646']: SI✓,F✓,E✓,BS✓,CF✓\n",
      "2022-02-23 05:32:22 PM: ['MLFNP.PA', 'FR0013230067']: SI✓,F✓,E✗,BS✓,CF✓\n",
      "2022-02-23 05:32:24 PM: ['ALFOC.PA', 'FR0012419307']: SI✓,F✓,E✓,BS✓,CF✓\n",
      "2022-02-23 05:32:27 PM: ['LEBL.PA', 'FR0000065930']: SI✓,F✓,E✗,BS✓,CF✓\n",
      "2022-02-23 05:32:31 PM: ['FATL.PA', 'FR0013455482']: SI✓,F✓,E✓,BS✓,CF✓\n",
      "2022-02-23 05:32:35 PM: ['EURS.PA', 'FR0000038499']: SI✓,F✓,E✗,BS✓,CF✓\n",
      "2022-02-23 05:32:35 PM: ['INEA.PA', 'FR0010341032']: SI✓,F✓,E✓,BS✓,CF✓\n",
      "2022-02-23 05:32:36 PM: ['FLY.PA', 'FR0000033409']: SI✓,F✓,E✓,BS✓,CF✓\n",
      "2022-02-23 05:32:38 PM: ['MLVIN.PA', 'FR0011605617']: SI✓,F✗,E✗,BS✗,CF✗\n",
      "2022-02-23 05:32:43 PM: ['SPEL.PA', 'FR0000053944']: SI✓,F✓,E✓,BS✓,CF✓\n",
      "2022-02-23 05:32:45 PM: ['FOOTL.BR', 'US3448491049']: SI✓,F✓,E✗,BS✓,CF✓\n",
      "2022-02-23 05:32:46 PM: ['FORE.PA', 'CI0000053161']: SI✓,F✓,E✗,BS✓,CF✓\n",
      "2022-02-23 05:32:47 PM: ['FFARM.AS', 'NL0011832811']: SI✓,F✓,E✓,BS✓,CF✓\n",
      "2022-02-23 05:32:50 PM: ['FORSE.PA', 'FR0014005SB3']: SI✓,F✓,E✓,BS✓,CF✓\n",
      "2022-02-23 05:32:54 PM: ['FOU.BR', 'BE0003752665']: SI✓,F✓,E✗,BS✓,CF✓\n",
      "2022-02-23 05:32:57 PM: ['LFDE.PA', 'FR0013030152']: SI✓,F✓,E✓,BS✓,CF✓\n",
      "2022-02-23 05:32:57 PM: ['ALFPC.PA', 'FR0010485268']: SI✓,F✓,E✓,BS✓,CF✓\n",
      "2022-02-23 05:32:59 PM: ['MLFSG.PA', 'FR0013222346']: SI✓,F✓,E✗,BS✓,CF✓\n",
      "2022-02-23 05:33:02 PM: ['MLFTI.PA', 'FR0010823724']: SI✓,F✓,E✗,BS✓,CF✓\n",
      "2022-02-23 05:33:05 PM: ['ALFRE.PA', 'FR0004187367']: SI✓,F✓,E✓,BS✓,CF✓\n",
      "2022-02-23 05:33:09 PM: ['FREY.PA', 'FR0010588079']: SI✓,F✓,E✓,BS✓,CF✓\n",
      "2022-02-23 05:33:10 PM: ['FRO.OL', 'BMG3682E1921']: SI✓,F✓,E✓,BS✓,CF✓\n",
      "2022-02-23 05:33:10 PM: ['FROY.OL', 'NO0010936792']: SI✓,F✓,E✓,BS✓,CF✓\n",
      "2022-02-23 05:33:15 PM: ['FUR.AS', 'NL00150003E1']: SI✓,F✓,E✓,BS✓,CF✓\n",
      "2022-02-23 05:33:16 PM: ['FCP.LS', 'PTFCP0AM0008']: SI✓,F✓,E✗,BS✓,CF✓\n",
      "2022-02-23 05:33:21 PM: ['GLPG.AS', 'BE0003818359']: SI✓,F✓,E✓,BS✓,CF✓\n",
      "2022-02-23 05:33:21 PM: ['MLGAI.PA', 'FR0000053415']: SI✓,F✓,E✗,BS✓,CF✓\n",
      "2022-02-23 05:33:23 PM: ['MLGAL.PA', 'FR0011100759']: SI✓,F✓,E✗,BS✓,CF✓\n",
      "2022-02-23 05:33:27 PM: ['GALIM.PA', 'FR0000030611']: SI✓,F✓,E✗,BS✓,CF✓\n",
      "2022-02-23 05:33:28 PM: ['GALP.LS', 'PTGAL0AM0009']: SI✓,F✓,E✓,BS✓,CF✓\n",
      "2022-02-23 05:33:33 PM: ['GIG.OL', 'US36467X2062']: SI✓,F✓,E✓,BS✓,CF✓\n",
      "2022-02-23 05:33:33 PM: ['ALBI.PA', 'FR0000124414']: SI✓,F✓,E✓,BS✓,CF✓\n",
      "2022-02-23 05:33:34 PM: ['GAM.PA', 'FR0000034894']: SI✓,F✓,E✓,BS✓,CF✓\n",
      "2022-02-23 05:33:39 PM: ['ALGAU.PA', 'FR0013495298']: SI✓,F✓,E✓,BS✓,CF✓\n",
      "2022-02-23 05:33:40 PM: ['GBLB.BR', 'BE0003797140']: SI✓,F✓,E✓,BS✓,CF✓\n",
      "2022-02-23 05:33:44 PM: ['RISH.OL', 'NO0010262686']: SI✓,F✓,E✓,BS✓,CF✓\n",
      "2022-02-23 05:33:45 PM: ['GEA.PA', 'FR0000053035']: SI✓,F✓,E✓,BS✓,CF✓\n",
      "2022-02-23 05:33:45 PM: ['ALGEC.PA', 'FR0000079634']: SI✓,F✓,E✗,BS✓,CF✓\n",
      "2022-02-23 05:33:50 PM: ['GFC.PA', 'FR0010040865']: SI✓,F✓,E✓,BS✓,CF✓\n",
      "2022-02-23 05:33:52 PM: ['GNE.PA', 'US3696043013']: SI✗,F✓,E✗,BS✓,CF✓\n",
      "2022-02-23 05:33:56 PM: ['GENX.PA', 'FR0010501692']: SI✓,F✓,E✓,BS✓,CF✓\n",
      "2022-02-23 05:33:57 PM: ['GNFT.PA', 'FR0004163111']: SI✓,F✓,E✓,BS✓,CF✓\n",
      "2022-02-23 05:33:57 PM: ['GNRO.PA', 'CH0308403085']: SI✓,F✓,E✓,BS✓,CF✓\n",
      "2022-02-23 05:34:02 PM: ['GENK.BR', 'BE0003740546']: SI✓,F✓,E✗,BS✓,CF✓\n",
      "2022-02-23 05:34:04 PM: ['GV.PA', 'FR0011799907']: SI✓,F✓,E✓,BS✓,CF✓\n",
      "2022-02-23 05:34:07 PM: ['ALGEN.PA', 'FR0004053510']: SI✓,F✓,E✓,BS✓,CF✓\n",
      "2022-02-23 05:34:08 PM: ['GENT.OL', 'NO0010748866']: SI✓,F✓,E✓,BS✓,CF✓\n",
      "2022-02-23 05:34:09 PM: ['SIGHT.PA', 'FR0013183985']: SI✓,F✓,E✓,BS✓,CF✓\n",
      "2022-02-23 05:34:13 PM: ['MLGEQ.PA', 'PTGVE1AE0009']: SI✓,F✗,E✗,BS✗,CF✗\n",
      "2022-02-23 05:34:14 PM: ['GOJXN.AS', 'NL0000430106']: SI✓,F✓,E✓,BS✓,CF✓\n",
      "2022-02-23 05:34:16 PM: ['GEPBS.PA', 'FR0013483047']: SI✗,F✗,E✗,BS✗,CF✗\n"
     ]
    },
    {
     "name": "stdout",
     "output_type": "stream",
     "text": [
      "- GEPBS.PA: No data found for this date range, symbol may be delisted\n"
     ]
    },
    {
     "name": "stderr",
     "output_type": "stream",
     "text": [
      "2022-02-23 05:34:20 PM: ['GET.PA', 'FR0010533075']: SI✓,F✓,E✓,BS✓,CF✓\n",
      "2022-02-23 05:34:21 PM: ['ALGEV.PA', 'FR0000033888']: SI✓,F✓,E✓,BS✓,CF✓\n",
      "2022-02-23 05:34:26 PM: ['GIGA.OL', 'NO0011013765']: SI✓,F✗,E✗,BS✗,CF✗\n",
      "2022-02-23 05:34:26 PM: ['GIMB.BR', 'BE0003699130']: SI✓,F✓,E✓,BS✓,CF✓\n",
      "2022-02-23 05:34:28 PM: ['GJF.OL', 'NO0010582521']: SI✓,F✓,E✓,BS✓,CF✓\n",
      "2022-02-23 05:34:31 PM: ['GLO.PA', 'FR0000066672']: SI✓,F✓,E✓,BS✓,CF✓\n",
      "2022-02-23 05:34:33 PM: ['GL9.IR', 'IE0000669501']: SI✓,F✓,E✓,BS✓,CF✓\n",
      "2022-02-23 05:34:37 PM: ['GVR.IR', 'IE00BD6JX574']: SI✓,F✓,E✓,BS✓,CF✓\n",
      "2022-02-23 05:34:38 PM: ['GLINT.LS', 'PTPAD0AM0007']: SI✓,F✓,E✗,BS✓,CF✓\n",
      "2022-02-23 05:34:39 PM: ['ALGBE.PA', 'FR0011052257']: SI✓,F✓,E✓,BS✓,CF✓\n",
      "2022-02-23 05:34:39 PM: ['MLNDG.PA', 'ES0105537007']: SI✗,F✗,E✗,BS✗,CF✗\n"
     ]
    },
    {
     "name": "stdout",
     "output_type": "stream",
     "text": [
      "- MLNDG.PA: No data found, symbol may be delisted\n"
     ]
    },
    {
     "name": "stderr",
     "output_type": "stream",
     "text": [
      "2022-02-23 05:34:44 PM: ['GNP.OL', 'NO0010886013']: SI✓,F✗,E✗,BS✗,CF✗\n",
      "2022-02-23 05:34:49 PM: ['GEOS.OL', 'NO0010813843']: SI✓,F✓,E✗,BS✓,CF✓\n",
      "2022-02-23 05:34:50 PM: ['ALGLD.PA', 'FR0011208693']: SI✓,F✓,E✓,BS✓,CF✓\n",
      "2022-02-23 05:34:51 PM: ['GOD.OL', 'NO0004913609']: SI✓,F✓,E✓,BS✓,CF✓\n",
      "2022-02-23 05:34:51 PM: ['GOGL.OL', 'BMG396372051']: SI✓,F✓,E✓,BS✓,CF✓\n",
      "2022-02-23 05:34:56 PM: ['MLGML.PA', 'FR0013371507']: SI✓,F✓,E✗,BS✓,CF✓\n",
      "2022-02-23 05:35:01 PM: ['GPE.PA', 'FR0010214064']: SI✓,F✓,E✓,BS✓,CF✓\n",
      "2022-02-23 05:35:02 PM: ['ALPAR.PA', 'FR0013204070']: SI✓,F✓,E✓,BS✓,CF✓\n",
      "2022-02-23 05:35:03 PM: ['8GW.IR', 'IE00B1FR8863']: SI✓,F✓,E✗,BS✓,CF✓\n",
      "2022-02-23 05:35:03 PM: ['GRVO.PA', 'FR0000065971']: SI✓,F✓,E✓,BS✓,CF✓\n",
      "2022-02-23 05:35:07 PM: ['MLCMG.PA', 'FR0013406881']: SI✓,F✓,E✗,BS✓,CF✓\n",
      "2022-02-23 05:35:13 PM: ['GEM.OL', 'NO0010907744']: SI✓,F✗,E✗,BS✗,CF✗\n",
      "2022-02-23 05:35:15 PM: ['GRP.IR', 'IE00BF2NR112']: SI✓,F✓,E✓,BS✓,CF✓\n",
      "2022-02-23 05:35:15 PM: ['GVOLT.LS', 'PTGNV0AM0001']: SI✓,F✓,E✓,BS✓,CF✓\n",
      "2022-02-23 05:35:15 PM: ['GREEN.BR', 'BE0003765790']: SI✓,F✓,E✓,BS✓,CF✓\n",
      "2022-02-23 05:35:20 PM: ['GSF.OL', 'NO0010365521']: SI✓,F✓,E✓,BS✓,CF✓\n",
      "2022-02-23 05:35:25 PM: ['ALGRO.PA', 'FR0014005ZM5']: SI✓,F✓,E✗,BS✓,CF✓\n",
      "2022-02-23 05:35:26 PM: ['MLSFI.PA', 'FR00140066X4']: SI✓,F✗,E✗,BS✗,CF✗\n",
      "2022-02-23 05:35:26 PM: ['GRONG.OL', 'NO0010636491']: SI✓,F✓,E✗,BS✓,CF✓\n",
      "2022-02-23 05:35:26 PM: ['ALKEM.PA', 'FR00140069V2']: SI✓,F✓,E✗,BS✓,CF✓\n",
      "2022-02-23 05:35:31 PM: ['MLGRC.PA', 'FR0000076960']: SI✓,F✗,E✗,BS✗,CF✗\n",
      "2022-02-23 05:35:36 PM: ['MLCAS.PA', 'FR0014003RM7']: SI✓,F✗,E✗,BS✗,CF✗\n",
      "2022-02-23 05:35:37 PM: ['CEN.PA', 'FR0000036675']: SI✓,F✓,E✗,BS✓,CF✓\n",
      "2022-02-23 05:35:38 PM: ['FLO.PA', 'FR0014004X25']: SI✓,F✓,E✓,BS✓,CF✓\n",
      "2022-02-23 05:35:38 PM: ['GOE.PA', 'FR0000062671']: SI✓,F✓,E✓,BS✓,CF✓\n",
      "2022-02-23 05:35:44 PM: ['ALGIL.PA', 'FR0012819381']: SI✓,F✓,E✓,BS✓,CF✓\n",
      "2022-02-23 05:35:48 PM: ['IRD.PA', 'FR0000124232']: SI✓,F✓,E✓,BS✓,CF✓\n",
      "2022-02-23 05:35:50 PM: ['GJAJ.PA', 'FR0004010338']: SI✓,F✓,E✓,BS✓,CF✓\n",
      "2022-02-23 05:35:50 PM: ['OPN.PA', 'FR0004050300']: SI✓,F✓,E✓,BS✓,CF✓\n",
      "2022-02-23 05:35:50 PM: ['ALLDL.PA', 'FR0000075442']: SI✓,F✓,E✓,BS✓,CF✓\n",
      "2022-02-23 05:35:56 PM: ['PARP.PA', 'FR0012612646']: SI✓,F✓,E✓,BS✓,CF✓\n",
      "2022-02-23 05:35:58 PM: ['MLPVG.PA', 'FR0010529719']: SI✗,F✗,E✗,BS✗,CF✗\n",
      "2022-02-23 05:36:01 PM: ['SFPI.PA', 'FR0004155000']: SI✓,F✓,E✓,BS✓,CF✓\n",
      "2022-02-23 05:36:01 PM: ['ALGTR.PA', 'FR0013429404']: SI✓,F✓,E✓,BS✓,CF✓\n",
      "2022-02-23 05:36:02 PM: ['ALIMO.PA', 'FR0014000RP6']: SI✓,F✓,E✓,BS✓,CF✓\n",
      "2022-02-23 05:36:07 PM: ['GTBP.PA', 'US36254L2097']: SI✗,F✓,E✗,BS✓,CF✓\n",
      "2022-02-23 05:36:10 PM: ['GTT.PA', 'FR0011726835']: SI✓,F✓,E✓,BS✓,CF✓\n",
      "2022-02-23 05:36:13 PM: ['MLGDI.PA', 'LU1840650458']: SI✓,F✓,E✗,BS✓,CF✓\n",
      "2022-02-23 05:36:14 PM: ['GBT.PA', 'FR0000032526']: SI✓,F✓,E✓,BS✓,CF✓\n",
      "2022-02-23 05:36:15 PM: ['GUI.PA', 'FR0000066722']: SI✓,F✓,E✓,BS✓,CF✓\n",
      "2022-02-23 05:36:20 PM: ['GYL.OL', 'NO0004288200']: SI✓,F✓,E✗,BS✓,CF✓\n",
      "2022-02-23 05:36:22 PM: ['ALHEO.PA', 'CA4433003064']: SI✓,F✓,E✓,BS✓,CF✓\n",
      "2022-02-23 05:36:25 PM: ['HAFNI.OL', 'BMG4233B1090']: SI✓,F✓,E✓,BS✓,CF✓\n",
      "2022-02-23 05:36:26 PM: ['HAL.AS', 'BMG455841020']: SI✓,F✓,E✓,BS✓,CF✓\n",
      "2022-02-23 05:36:26 PM: ['ALHGO.PA', 'GB00BMDXQ672']: SI✓,F✓,E✗,BS✓,CF✓\n",
      "2022-02-23 05:36:31 PM: ['HMSO.IR', 'GB00BK7YQK64']: SI✓,F✓,E✗,BS✓,CF✓\n",
      "2022-02-23 05:36:33 PM: ['HAMO.BR', 'BE0974352842']: SI✓,F✓,E✓,BS✓,CF✓\n",
      "2022-02-23 05:36:37 PM: ['HMONY.OL', 'NO0010921299']: SI✓,F✓,E✗,BS✓,CF✓\n",
      "2022-02-23 05:36:38 PM: ['HAV.OL', 'NO0010931918']: SI✓,F✓,E✓,BS✓,CF✓\n",
      "2022-02-23 05:36:38 PM: ['PIG.PA', 'FR0000066755']: SI✓,F✓,E✓,BS✓,CF✓\n",
      "2022-02-23 05:36:42 PM: ['HKY.OL', 'NO0011045429']: SI✗,F✗,E✗,BS✗,CF✗\n",
      "2022-02-23 05:36:44 PM: ['HAVI.OL', 'NO0010257728']: SI✓,F✓,E✓,BS✓,CF✓\n",
      "2022-02-23 05:36:48 PM: ['HYARD.OL', 'NO0010708605']: SI✓,F✓,E✓,BS✓,CF✓\n",
      "2022-02-23 05:36:49 PM: ['MLAHC.PA', 'FR0013251584']: SI✓,F✓,E✗,BS✓,CF✓\n",
      "2022-02-23 05:36:50 PM: ['HDF.PA', 'FR0014003VY4']: SI✓,F✗,E✗,BS✗,CF✗\n",
      "2022-02-23 05:36:53 PM: ['HBCN.IR', 'IE00014QAJZ5']: SI✓,F✓,E✗,BS✓,CF✓\n",
      "2022-02-23 05:36:55 PM: ['MLHAY.PA', 'ES0105498002']: SI✗,F✓,E✗,BS✓,CF✓\n",
      "2022-02-23 05:36:58 PM: ['HEGA.AS', 'KYG4406A1022']: SI✓,F✗,E✗,BS✗,CF✗\n",
      "2022-02-23 05:36:58 PM: ['HEGAW.AS', 'KYG4406A1105']: SI✗,F✗,E✗,BS✗,CF✗\n"
     ]
    },
    {
     "name": "stdout",
     "output_type": "stream",
     "text": [
      "- HEGAW.AS: No data found, symbol may be delisted\n"
     ]
    },
    {
     "name": "stderr",
     "output_type": "stream",
     "text": [
      "2022-02-23 05:37:01 PM: ['HEGAU.AS', 'KYG4406A1287']: SI✓,F✗,E✗,BS✗,CF✗\n",
      "2022-02-23 05:37:06 PM: ['HEIJM.AS', 'NL0009269109']: SI✓,F✓,E✓,BS✓,CF✓\n",
      "2022-02-23 05:37:07 PM: ['HEIA.AS', 'NL0000009165']: SI✓,F✓,E✓,BS✓,CF✓\n",
      "2022-02-23 05:37:10 PM: ['HEIO.AS', 'NL0000008977']: SI✓,F✓,E✓,BS✓,CF✓\n",
      "2022-02-23 05:37:10 PM: ['ALHRG.PA', 'FR0000066540']: SI✓,F✓,E✓,BS✓,CF✓\n",
      "2022-02-23 05:37:12 PM: ['RMS.PA', 'FR0000052292']: SI✓,F✓,E✓,BS✓,CF✓\n",
      "2022-02-23 05:37:18 PM: ['HEX.OL', 'NO0003067902']: SI✓,F✓,E✓,BS✓,CF✓\n",
      "2022-02-23 05:37:19 PM: ['HPUR.OL', 'NO0010904923']: SI✓,F✓,E✓,BS✓,CF✓\n",
      "2022-02-23 05:37:21 PM: ['ALHF.PA', 'FR0000038531']: SI✗,F✓,E✗,BS✓,CF✓\n",
      "2022-02-23 05:37:22 PM: ['HEXA.PA', 'FR0004159473']: SI✓,F✓,E✓,BS✓,CF✓\n",
      "2022-02-23 05:37:24 PM: ['HBRN.IR', 'IE00BGHQ1986']: SI✓,F✓,E✓,BS✓,CF✓\n",
      "2022-02-23 05:37:30 PM: ['HCO.PA', 'FR0000054231']: SI✓,F✓,E✓,BS✓,CF✓\n",
      "2022-02-23 05:37:31 PM: ['HSHIP.OL', 'BMG4660A1036']: SI✗,F✗,E✗,BS✗,CF✗\n"
     ]
    },
    {
     "name": "stdout",
     "output_type": "stream",
     "text": [
      "- HSHIP.OL: No data found for this date range, symbol may be delisted\n"
     ]
    },
    {
     "name": "stderr",
     "output_type": "stream",
     "text": [
      "2022-02-23 05:37:32 PM: ['ALHIO.PA', 'FR0000077562']: SI✓,F✓,E✓,BS✓,CF✓\n",
      "2022-02-23 05:37:34 PM: ['ALHYP.PA', 'FR0012821916']: SI✓,F✓,E✓,BS✓,CF✓\n",
      "2022-02-23 05:37:36 PM: ['ALHIT.PA', 'FR0010396309']: SI✓,F✓,E✓,BS✓,CF✓\n",
      "2022-02-23 05:37:42 PM: ['MLHK.PA', 'DE000A11Q133']: SI✓,F✓,E✗,BS✓,CF✓\n",
      "2022-02-23 05:37:42 PM: ['MLHBB.PA', 'FR0000051302']: SI✓,F✗,E✗,BS✗,CF✗\n",
      "2022-02-23 05:37:44 PM: ['HAUTO.OL', 'NO0011082075']: SI✓,F✓,E✗,BS✓,CF✓\n",
      "2022-02-23 05:37:44 PM: ['ALHGR.PA', 'FR0013451044']: SI✓,F✓,E✓,BS✓,CF✓\n",
      "2022-02-23 05:37:48 PM: ['HBC.OL', 'NO0010598683']: SI✓,F✓,E✓,BS✓,CF✓\n",
      "2022-02-23 05:37:53 PM: ['HOLCO.AS', 'NL0000440311']: SI✓,F✓,E✓,BS✓,CF✓\n",
      "2022-02-23 05:37:53 PM: ['HOLN.PA', 'CH0012214059']: SI✓,F✓,E✓,BS✓,CF✓\n",
      "2022-02-23 05:37:55 PM: ['MLHCF.PA', 'FR0012336691']: SI✓,F✗,E✗,BS✗,CF✗\n",
      "2022-02-23 05:37:57 PM: ['HOMI.BR', 'BE0003760742']: SI✓,F✓,E✓,BS✓,CF✓\n",
      "2022-02-23 05:37:58 PM: ['MLHPE.PA', 'FR0010312181']: SI✓,F✓,E✓,BS✓,CF✓\n",
      "2022-02-23 05:38:03 PM: ['MLHPI.PA', 'FR0014000U63']: SI✓,F✓,E✗,BS✓,CF✓\n",
      "2022-02-23 05:38:05 PM: ['HOP.PA', 'FR0000065278']: SI✓,F✓,E✓,BS✓,CF✓\n",
      "2022-02-23 05:38:06 PM: ['HRGI.OL', 'NO0010917339']: SI✓,F✓,E✓,BS✓,CF✓\n",
      "2022-02-23 05:38:08 PM: ['HSW.IR', 'GB00BYYN4225']: SI✓,F✓,E✗,BS✓,CF✓\n",
      "2022-02-23 05:38:10 PM: ['MLHMC.PA', 'FR0006226791']: SI✓,F✓,E✗,BS✗,CF✓\n",
      "2022-02-23 05:38:14 PM: ['MLHOT.PA', 'FR0000053738']: SI✓,F✗,E✗,BS✗,CF✗\n",
      "2022-02-23 05:38:17 PM: ['MLHIN.PA', 'FR0006563904']: SI✓,F✓,E✗,BS✗,CF✓\n",
      "2022-02-23 05:38:18 PM: ['HDP.PA', 'FR0004165801']: SI✓,F✓,E✓,BS✓,CF✓\n",
      "2022-02-23 05:38:19 PM: ['HOC.OL', 'NO0010781818']: SI✓,F✓,E✓,BS✓,CF✓\n",
      "2022-02-23 05:38:21 PM: ['HUDL.OL', 'NO0010859648']: SI✓,F✗,E✗,BS✗,CF✗\n",
      "2022-02-23 05:38:25 PM: ['HDLY.OL', 'NO0010776990']: SI✓,F✓,E✓,BS✓,CF✓\n",
      "2022-02-23 05:38:29 PM: ['HDG.AS', 'ANN4327C1220']: SI✓,F✓,E✓,BS✓,CF✓\n",
      "2022-02-23 05:38:30 PM: ['HUNDP.AS', 'ANN4327C1303']: SI✗,F✓,E✗,BS✓,CF✓\n",
      "2022-02-23 05:38:31 PM: ['HUNT.OL', 'NO0010283211']: SI✓,F✗,E✗,BS✗,CF✗\n",
      "2022-02-23 05:38:32 PM: ['HYSG.BR', 'GB00BYN5BY03']: SI✗,F✗,E✗,BS✗,CF✗\n",
      "2022-02-23 05:38:36 PM: ['ALHYG.PA', 'FR0004153930']: SI✓,F✗,E✗,BS✗,CF✗\n",
      "2022-02-23 05:38:41 PM: ['MLHYD.PA', 'FR0000064735']: SI✓,F✓,E✗,BS✓,CF✓\n",
      "2022-02-23 05:38:42 PM: ['HYDRA.AS', 'NL0009391242']: SI✓,F✓,E✓,BS✓,CF✓\n",
      "2022-02-23 05:38:44 PM: ['MLHYE.PA', 'FR0005843125']: SI✓,F✓,E✗,BS✓,CF✓\n",
      "2022-02-23 05:38:45 PM: ['ALHRS.PA', 'FR0014001PM5']: SI✓,F✓,E✓,BS✓,CF✓\n",
      "2022-02-23 05:38:48 PM: ['HYPRO.OL', 'NO0010892359']: SI✓,F✓,E✓,BS✓,CF✓\n",
      "2022-02-23 05:38:52 PM: ['HYL.BR', 'BE0974363955']: SI✓,F✓,E✓,BS✓,CF✓\n",
      "2022-02-23 05:38:53 PM: ['HYN.OL', 'NO0010920945']: SI✓,F✗,E✗,BS✗,CF✗\n",
      "2022-02-23 05:38:55 PM: ['HSPG.OL', 'NO0010012636']: SI✓,F✓,E✓,BS✓,CF✓\n",
      "2022-02-23 05:38:56 PM: ['ALICR.PA', 'FR0014005IU4']: SI✓,F✓,E✓,BS✓,CF✓\n",
      "2022-02-23 05:38:59 PM: ['I2PO.PA', 'FR0014004J15']: SI✓,F✗,E✗,BS✗,CF✗\n",
      "2022-02-23 05:39:03 PM: ['I2POW.PA', 'FR0014004JF6']: SI✗,F✗,E✗,BS✗,CF✗\n",
      "2022-02-23 05:39:05 PM: ['ALI2S.PA', 'FR0005854700']: SI✓,F✓,E✓,BS✓,CF✓\n",
      "2022-02-23 05:39:06 PM: ['MLINT.PA', 'ES0105479002']: SI✗,F✗,E✗,BS✗,CF✗\n",
      "2022-02-23 05:39:08 PM: ['IBAB.BR', 'BE0003766806']: SI✓,F✓,E✓,BS✓,CF✓\n",
      "2022-02-23 05:39:11 PM: ['IBS.LS', 'PTIBS0AM0008']: SI✓,F✓,E✓,BS✓,CF✓\n",
      "2022-02-23 05:39:14 PM: ['IBMA.BR', 'US4592001014']: SI✓,F✓,E✗,BS✓,CF✓\n",
      "2022-02-23 05:39:17 PM: ['IFISH.OL', 'NO0010884794']: SI✓,F✓,E✓,BS✓,CF✓\n",
      "2022-02-23 05:39:18 PM: ['ICAD.PA', 'FR0000035081']: SI✓,F✓,E✓,BS✓,CF✓\n",
      "2022-02-23 05:39:19 PM: ['ICEGR.OL', 'NO0010734742']: SI✓,F✓,E✓,BS✓,CF✓\n",
      "2022-02-23 05:39:21 PM: ['ISLAX.OL', 'NO0010724701']: SI✓,F✓,E✓,BS✓,CF✓\n",
      "2022-02-23 05:39:26 PM: ['IDL.PA', 'FR0010929125']: SI✓,F✓,E✓,BS✓,CF✓\n",
      "2022-02-23 05:39:28 PM: ['IDEX.OL', 'NO0003070609']: SI✓,F✓,E✓,BS✓,CF✓\n",
      "2022-02-23 05:39:30 PM: ['IDIP.PA', 'FR0000051393']: SI✓,F✓,E✓,BS✓,CF✓\n",
      "2022-02-23 05:39:31 PM: ['MLIDS.PA', 'FR0000079691']: SI✓,F✓,E✗,BS✗,CF✓\n",
      "2022-02-23 05:39:32 PM: ['ALIDS.PA', 'FR0000062184']: SI✓,F✓,E✓,BS✓,CF✓\n",
      "2022-02-23 05:39:39 PM: ['MLABC.PA', 'ES0105551008']: SI✗,F✗,E✗,BS✗,CF✗\n",
      "2022-02-23 05:39:39 PM: ['IEP.BR', 'BE0003748622']: SI✓,F✓,E✗,BS✓,CF✓\n"
     ]
    },
    {
     "name": "stdout",
     "output_type": "stream",
     "text": [
      "- MLABC.PA: No data found for this date range, symbol may be delisted\n"
     ]
    },
    {
     "name": "stderr",
     "output_type": "stream",
     "text": [
      "2022-02-23 05:39:40 PM: ['IEX.AS', 'NL0010556726']: SI✓,F✓,E✓,BS✓,CF✓\n",
      "2022-02-23 05:39:42 PM: ['IGE.PA', 'FR0000030827']: SI✓,F✓,E✓,BS✓,CF✓\n",
      "2022-02-23 05:39:43 PM: ['ALIKO.PA', 'FR00140048X2']: SI✓,F✗,E✗,BS✗,CF✗\n",
      "2022-02-23 05:39:49 PM: ['ALIE.PA', 'IT0005380602']: SI✓,F✓,E✗,BS✓,CF✓\n",
      "2022-02-23 05:39:50 PM: ['MLIML.PA', 'FR0010086371']: SI✓,F✓,E✓,BS✓,CF✓\n",
      "2022-02-23 05:39:52 PM: ['IMCD.AS', 'NL0010801007']: SI✓,F✓,E✓,BS✓,CF✓\n",
      "2022-02-23 05:39:54 PM: ['NK.PA', 'FR0000120859']: SI✓,F✓,E✓,BS✓,CF✓\n",
      "2022-02-23 05:39:55 PM: ['MLIPP.PA', 'FR0006859039']: SI✓,F✓,E✗,BS✓,CF✓\n",
      "2022-02-23 05:40:01 PM: ['MCC.BR', 'BE0974287196']: SI✓,F✗,E✗,BS✗,CF✗\n",
      "2022-02-23 05:40:02 PM: ['ALIMR.PA', 'FR0013060100']: SI✓,F✓,E✗,BS✓,CF✓\n",
      "2022-02-23 05:40:04 PM: ['IMMOU.BR', 'BE0003893139']: SI✓,F✓,E✓,BS✓,CF✓\n",
      "2022-02-23 05:40:06 PM: ['IMDA.PA', 'FR0000033243']: SI✓,F✓,E✓,BS✓,CF✓\n",
      "2022-02-23 05:40:06 PM: ['IMMO.BR', 'BE0003599108']: SI✓,F✓,E✓,BS✓,CF✓\n",
      "2022-02-23 05:40:13 PM: ['ALIMP.PA', 'FR0013470168']: SI✓,F✓,E✓,BS✓,CF✓\n",
      "2022-02-23 05:40:13 PM: ['GPA.LS', 'PTGPA0AP0007']: SI✓,F✓,E✓,BS✓,CF✓\n",
      "2022-02-23 05:40:15 PM: ['IPR.LS', 'PTIPR0AM0000']: SI✓,F✓,E✓,BS✓,CF✓\n",
      "2022-02-23 05:40:17 PM: ['MLIFS.PA', 'ES0105590006']: SI✓,F✗,E✗,BS✗,CF✗\n",
      "2022-02-23 05:40:17 PM: ['MLIMP.PA', 'FR0000065773']: SI✓,F✓,E✗,BS✓,CF✓\n",
      "2022-02-23 05:40:25 PM: ['INA.LS', 'PTINA0AP0008']: SI✓,F✓,E✓,BS✓,CF✓\n",
      "2022-02-23 05:40:25 PM: ['INCLU.BR', 'BE0974374069']: SI✓,F✓,E✓,BS✓,CF✓\n",
      "2022-02-23 05:40:27 PM: ['INFE.PA', 'FR0000066219']: SI✓,F✓,E✓,BS✓,CF✓\n",
      "2022-02-23 05:40:27 PM: ['MLIFC.PA', 'FR0011158823']: SI✓,F✓,E✗,BS✓,CF✓\n",
      "2022-02-23 05:40:29 PM: ['INDCT.OL', 'NO0010536048']: SI✓,F✓,E✗,BS✓,CF✓\n",
      "2022-02-23 05:40:35 PM: ['MLINM.PA', 'ES0105511002']: SI✗,F✗,E✗,BS✗,CF✗\n"
     ]
    },
    {
     "name": "stdout",
     "output_type": "stream",
     "text": [
      "- MLINM.PA: No data found, symbol may be delisted\n"
     ]
    },
    {
     "name": "stderr",
     "output_type": "stream",
     "text": [
      "2022-02-23 05:40:37 PM: ['INF.PA', 'FR0000071797']: SI✓,F✓,E✓,BS✓,CF✓\n",
      "2022-02-23 05:40:37 PM: ['MLISP.PA', 'ES0105473005']: SI✗,F✗,E✗,BS✗,CF✗\n",
      "2022-02-23 05:40:38 PM: ['INGA.AS', 'NL0011821202']: SI✓,F✓,E✓,BS✓,CF✓\n",
      "2022-02-23 05:40:40 PM: ['IPH.PA', 'FR0010331421']: SI✓,F✓,E✓,BS✓,CF✓\n",
      "2022-02-23 05:40:45 PM: ['MLIDP.PA', 'GB00BT9PTW34']: SI✗,F✗,E✗,BS✗,CF✗\n"
     ]
    },
    {
     "name": "stdout",
     "output_type": "stream",
     "text": [
      "- MLIDP.PA: No data found, symbol may be delisted\n"
     ]
    },
    {
     "name": "stderr",
     "output_type": "stream",
     "text": [
      "2022-02-23 05:40:46 PM: ['ALINN.PA', 'FR0000064297']: SI✓,F✓,E✓,BS✓,CF✓\n",
      "2022-02-23 05:40:48 PM: ['MLIRF.PA', 'IT0005391161']: SI✓,F✓,E✓,BS✓,CF✓\n",
      "2022-02-23 05:40:49 PM: ['INPST.AS', 'LU2290522684']: SI✓,F✓,E✓,BS✓,CF✓\n",
      "2022-02-23 05:40:52 PM: ['INSR.OL', 'NO0010593544']: SI✓,F✓,E✓,BS✓,CF✓\n",
      "2022-02-23 05:40:56 PM: ['INSTA.OL', 'NO0010762792']: SI✓,F✓,E✓,BS✓,CF✓\n",
      "2022-02-23 05:40:58 PM: ['ALLUX.PA', 'FR0000060451']: SI✓,F✓,E✗,BS✓,CF✓\n",
      "2022-02-23 05:41:00 PM: ['IWS.OL', 'NO0010955883']: SI✓,F✓,E✓,BS✓,CF✓\n",
      "2022-02-23 05:41:01 PM: ['ALINT.PA', 'FR0010908723']: SI✓,F✓,E✓,BS✓,CF✓\n",
      "2022-02-23 05:41:02 PM: ['MLVIE.PA', 'FR0014003FN0']: SI✓,F✗,E✗,BS✗,CF✗\n",
      "2022-02-23 05:41:07 PM: ['INCO.BR', 'US4581401001']: SI✓,F✓,E✗,BS✓,CF✓\n",
      "2022-02-23 05:41:10 PM: ['IOX.OL', 'NO0010284318']: SI✓,F✓,E✓,BS✓,CF✓\n",
      "2022-02-23 05:41:11 PM: ['ITP.PA', 'FR0004024222']: SI✓,F✓,E✓,BS✓,CF✓\n",
      "2022-02-23 05:41:12 PM: ['INTER.AS', 'NL0010937058']: SI✓,F✓,E✓,BS✓,CF✓\n",
      "2022-02-23 05:41:14 PM: ['INTO.BR', 'BE0003746600']: SI✓,F✓,E✓,BS✓,CF✓\n",
      "2022-02-23 05:41:19 PM: ['ITXT.PA', 'FR0000064958']: SI✓,F✓,E✗,BS✓,CF✓\n",
      "2022-02-23 05:41:21 PM: ['ALINS.PA', 'FR0011179886']: SI✓,F✓,E✓,BS✓,CF✓\n",
      "2022-02-23 05:41:23 PM: ['IVA.PA', 'FR0013233012']: SI✓,F✓,E✓,BS✓,CF✓\n",
      "2022-02-23 05:41:25 PM: ['MLIOC.PA', 'BE6200101556']: SI✓,F✗,E✗,BS✗,CF✗\n",
      "2022-02-23 05:41:25 PM: ['ALINV.PA', 'BE0974299316']: SI✓,F✓,E✓,BS✓,CF✓\n",
      "2022-02-23 05:41:30 PM: ['MLIPO.PA', 'ES0105417002']: SI✗,F✗,E✗,BS✗,CF✗\n",
      "2022-02-23 05:41:33 PM: ['IPN.PA', 'FR0010259150']: SI✓,F✓,E✓,BS✓,CF✓\n",
      "2022-02-23 05:41:35 PM: ['IPS.PA', 'FR0000073298']: SI✓,F✓,E✓,BS✓,CF✓\n",
      "2022-02-23 05:41:36 PM: ['IPSNV.PA', 'FR00140078W1']: SI✓,F✓,E✗,BS✓,CF✓\n"
     ]
    },
    {
     "name": "stdout",
     "output_type": "stream",
     "text": [
      "- IPSNV.PA: No data found for this date range, symbol may be delisted\n"
     ]
    },
    {
     "name": "stderr",
     "output_type": "stream",
     "text": [
      "2022-02-23 05:41:36 PM: ['IR5B.IR', 'IE00BLP58571']: SI✗,F✗,E✗,BS✗,CF✗\n",
      "2022-02-23 05:41:43 PM: ['IRES.IR', 'IE00BJ34P519']: SI✓,F✓,E✓,BS✓,CF✓\n",
      "2022-02-23 05:41:44 PM: ['ALISP.PA', 'ES0109429037']: SI✓,F✓,E✓,BS✓,CF✓\n",
      "2022-02-23 05:41:45 PM: ['ALITL.PA', 'FR0000072597']: SI✓,F✓,E✓,BS✓,CF✓\n",
      "2022-02-23 05:41:47 PM: ['MLITN.PA', 'IT0005336521']: SI✓,F✓,E✗,BS✓,CF✓\n",
      "2022-02-23 05:41:48 PM: ['ITERA.OL', 'NO0010001118']: SI✓,F✓,E✓,BS✓,CF✓\n",
      "2022-02-23 05:41:54 PM: ['ITE.PA', 'FR0004026151']: SI✓,F✓,E✓,BS✓,CF✓\n",
      "2022-02-23 05:41:56 PM: ['JMT.LS', 'PTJMT0AE0001']: SI✓,F✓,E✓,BS✓,CF✓\n",
      "2022-02-23 05:41:57 PM: ['JBOG.PA', 'FR0012872141']: SI✓,F✓,E✓,BS✓,CF✓\n",
      "2022-02-23 05:41:59 PM: ['JCQ.PA', 'FR0000033904']: SI✓,F✓,E✓,BS✓,CF✓\n",
      "2022-02-23 05:41:59 PM: ['DEC.PA', 'FR0000077919']: SI✓,F✓,E✓,BS✓,CF✓\n",
      "2022-02-23 05:42:06 PM: ['JDEP.AS', 'NL0014332678']: SI✓,F✓,E✓,BS✓,CF✓\n",
      "2022-02-23 05:42:08 PM: ['JEN.BR', 'BE0003858751']: SI✓,F✓,E✓,BS✓,CF✓\n",
      "2022-02-23 05:42:09 PM: ['JIN.OL', 'BMG5137R1088']: SI✓,F✓,E✓,BS✓,CF✓\n",
      "2022-02-23 05:42:10 PM: ['TKWY.AS', 'NL0012015705']: SI✓,F✓,E✓,BS✓,CF✓\n",
      "2022-02-23 05:42:10 PM: ['MLJSA.PA', 'FR0010680033']: SI✓,F✓,E✗,BS✓,CF✓\n",
      "2022-02-23 05:42:18 PM: ['KAHOT.OL', 'NO0010823131']: SI✓,F✓,E✓,BS✓,CF✓\n",
      "2022-02-23 05:42:19 PM: ['JAREN.OL', 'NO0010359433']: SI✓,F✓,E✓,BS✓,CF✓\n",
      "2022-02-23 05:42:21 PM: ['ALKAL.PA', 'FR0010722819']: SI✓,F✓,E✓,BS✓,CF✓\n",
      "2022-02-23 05:42:22 PM: ['KAL.OL', 'NO0010874597']: SI✓,F✓,E✓,BS✓,CF✓\n",
      "2022-02-23 05:42:23 PM: ['KOF.PA', 'FR0004007813']: SI✓,F✓,E✓,BS✓,CF✓\n",
      "2022-02-23 05:42:30 PM: ['KBC.BR', 'BE0003565737']: SI✓,F✓,E✓,BS✓,CF✓\n",
      "2022-02-23 05:42:31 PM: ['KBCA.BR', 'BE0003867844']: SI✓,F✓,E✓,BS✓,CF✓\n",
      "2022-02-23 05:42:33 PM: ['KENDR.AS', 'NL0000852531']: SI✓,F✓,E✓,BS✓,CF✓\n",
      "2022-02-23 05:42:35 PM: ['KMR.IR', 'IE00BDC5DG00']: SI✓,F✓,E✗,BS✓,CF✓\n",
      "2022-02-23 05:42:35 PM: ['KER.PA', 'FR0000121485']: SI✓,F✓,E✓,BS✓,CF✓\n",
      "2022-02-23 05:42:42 PM: ['ALKLK.PA', 'FR0013156007']: SI✓,F✓,E✓,BS✓,CF✓\n",
      "2022-02-23 05:42:43 PM: ['KRZ.IR', 'IE0004906560']: SI✓,F✓,E✓,BS✓,CF✓\n",
      "2022-02-23 05:42:45 PM: ['ALKEY.PA', 'FR0004029411']: SI✓,F✓,E✗,BS✓,CF✓\n",
      "2022-02-23 05:42:46 PM: ['KEYW.BR', 'BE0003880979']: SI✓,F✓,E✓,BS✓,CF✓\n",
      "2022-02-23 05:42:47 PM: ['KID.OL', 'NO0010743545']: SI✓,F✓,E✓,BS✓,CF✓\n",
      "2022-02-23 05:42:54 PM: ['KIN.BR', 'BE0974274061']: SI✓,F✓,E✓,BS✓,CF✓\n",
      "2022-02-23 05:42:56 PM: ['KRX.IR', 'IE0004927939']: SI✓,F✓,E✓,BS✓,CF✓\n",
      "2022-02-23 05:42:57 PM: ['KIT.OL', 'NO0003079709']: SI✓,F✓,E✓,BS✓,CF✓\n",
      "2022-02-23 05:42:57 PM: ['ALKKO.PA', 'FR0013374667']: SI✓,F✓,E✓,BS✓,CF✓\n",
      "2022-02-23 05:42:58 PM: ['ALKLA.PA', 'FR0011038348']: SI✓,F✓,E✓,BS✓,CF✓\n",
      "2022-02-23 05:43:05 PM: ['KCC.OL', 'NO0010833262']: SI✓,F✓,E✓,BS✓,CF✓\n",
      "2022-02-23 05:43:08 PM: ['LI.PA', 'FR0000121964']: SI✓,F✓,E✓,BS✓,CF✓\n",
      "2022-02-23 05:43:09 PM: ['KMCP.OL', 'NO0010360175']: SI✓,F✓,E✓,BS✓,CF✓\n",
      "2022-02-23 05:43:09 PM: ['ALSIM.PA', 'GB00B19RTX44']: SI✓,F✓,E✗,BS✓,CF✓\n",
      "2022-02-23 05:43:10 PM: ['KOMPL.OL', 'NO0011016040']: SI✓,F✓,E✓,BS✓,CF✓\n",
      "2022-02-23 05:43:17 PM: ['KOMP.OL', 'NO0010694029']: SI✓,F✓,E✓,BS✓,CF✓\n",
      "2022-02-23 05:43:18 PM: ['ALKOM.PA', 'ES0105425005']: SI✓,F✓,E✗,BS✓,CF✓\n",
      "2022-02-23 05:43:20 PM: ['KOG.OL', 'NO0003043309']: SI✓,F✓,E✓,BS✓,CF✓\n",
      "2022-02-23 05:43:21 PM: ['KOA.OL', 'NO0003033102']: SI✓,F✓,E✓,BS✓,CF✓\n",
      "2022-02-23 05:43:23 PM: ['KORI.PA', 'FR0010386334']: SI✓,F✓,E✓,BS✓,CF✓\n",
      "2022-02-23 05:43:29 PM: ['KPN.AS', 'NL0000009082']: SI✓,F✓,E✓,BS✓,CF✓\n",
      "2022-02-23 05:43:30 PM: ['KRAB.OL', 'NO0010815103']: SI✓,F✓,E✓,BS✓,CF✓\n",
      "2022-02-23 05:43:31 PM: ['VAPBS.PA', 'FR0014001KF0']: SI✗,F✗,E✗,BS✗,CF✗\n"
     ]
    },
    {
     "name": "stdout",
     "output_type": "stream",
     "text": [
      "- VAPBS.PA: No data found, symbol may be delisted\n"
     ]
    },
    {
     "name": "stderr",
     "output_type": "stream",
     "text": [
      "2022-02-23 05:43:32 PM: ['MLKTS.LS', 'ES0105536009']: SI✗,F✗,E✗,BS✗,CF✗\n"
     ]
    },
    {
     "name": "stdout",
     "output_type": "stream",
     "text": [
      "- MLKTS.LS: No data found for this date range, symbol may be delisted\n"
     ]
    },
    {
     "name": "stderr",
     "output_type": "stream",
     "text": [
      "2022-02-23 05:43:33 PM: ['ALVAP.PA', 'FR0013419876']: SI✓,F✓,E✓,BS✓,CF✓\n",
      "2022-02-23 05:43:40 PM: ['KYOTO.OL', 'NO0010936750']: SI✓,F✗,E✗,BS✗,CF✗\n",
      "2022-02-23 05:43:41 PM: ['OR.PA', 'FR0000120321']: SI✓,F✓,E✓,BS✓,CF✓\n",
      "2022-02-23 05:43:42 PM: ['ALPER.PA', 'NL0012191662']: SI✓,F✓,E✗,BS✓,CF✓\n",
      "2022-02-23 05:43:44 PM: ['LACR.PA', 'FR0000066607']: SI✓,F✓,E✓,BS✓,CF✓\n",
      "2022-02-23 05:43:45 PM: ['MMB.PA', 'FR0000130213']: SI✓,F✓,E✓,BS✓,CF✓\n",
      "2022-02-23 05:43:52 PM: ['ALLAN.PA', 'FR0004027068']: SI✓,F✓,E✓,BS✓,CF✓\n",
      "2022-02-23 05:43:52 PM: ['ALLGO.PA', 'FR0013308582']: SI✓,F✓,E✓,BS✓,CF✓\n",
      "2022-02-23 05:43:54 PM: ['LAT.PA', 'FR0000032278']: SI✓,F✓,E✓,BS✓,CF✓\n",
      "2022-02-23 05:43:57 PM: ['LPE.PA', 'FR0006864484']: SI✓,F✓,E✓,BS✓,CF✓\n",
      "2022-02-23 05:43:57 PM: ['LVIDE.AS', 'NL0010545679']: SI✓,F✓,E✓,BS✓,CF✓\n",
      "2022-02-23 05:44:04 PM: ['ALTAN.PA', 'FR0000075673']: SI✓,F✓,E✓,BS✓,CF✓\n",
      "2022-02-23 05:44:04 PM: ['LOUP.PA', 'FR0013204336']: SI✓,F✓,E✓,BS✓,CF✓\n",
      "2022-02-23 05:44:05 PM: ['LBON.PA', 'FR0000121295']: SI✓,F✓,E✓,BS✓,CF✓\n",
      "2022-02-23 05:44:05 PM: ['LSSNV.PA', 'FR00140078U5']: SI✗,F✗,E✗,BS✗,CF✗\n"
     ]
    },
    {
     "name": "stdout",
     "output_type": "stream",
     "text": [
      "- LSSNV.PA: No data found, symbol may be delisted\n"
     ]
    },
    {
     "name": "stderr",
     "output_type": "stream",
     "text": [
      "2022-02-23 05:44:09 PM: ['LSS.PA', 'FR0000065484']: SI✓,F✓,E✓,BS✓,CF✓\n",
      "2022-02-23 05:44:15 PM: ['LR.PA', 'FR0010307819']: SI✓,F✓,E✓,BS✓,CF✓\n",
      "2022-02-23 05:44:16 PM: ['MLPAP.PA', 'FR0014003I41']: SI✓,F✗,E✗,BS✗,CF✗\n",
      "2022-02-23 05:44:16 PM: ['LSG.OL', 'NO0003096208']: SI✓,F✓,E✓,BS✓,CF✓\n",
      "2022-02-23 05:44:17 PM: ['ALLHB.PA', 'FR0007080254']: SI✓,F✓,E✓,BS✓,CF✓\n",
      "2022-02-23 05:44:19 PM: ['TBMBT.PA', 'FR0013483401']: SI✗,F✗,E✗,BS✗,CF✗\n",
      "2022-02-23 05:44:27 PM: ['ALLEX.PA', 'FR0000033599']: SI✓,F✓,E✓,BS✓,CF✓\n",
      "2022-02-23 05:44:27 PM: ['LIFE.OL', 'NO0010591191']: SI✓,F✓,E✗,BS✓,CF✓\n",
      "2022-02-23 05:44:29 PM: ['LIN.PA', 'FR0004156297']: SI✓,F✓,E✓,BS✓,CF✓\n",
      "2022-02-23 05:44:29 PM: ['LINK.OL', 'NO0010894231']: SI✓,F✓,E✓,BS✓,CF✓\n",
      "2022-02-23 05:44:31 PM: ['LIG.LS', 'PTLIG0AE0002']: SI✓,F✓,E✗,BS✓,CF✓\n",
      "2022-02-23 05:44:39 PM: ['LIT.LS', 'PTLIT0AE0005']: SI✓,F✓,E✗,BS✓,CF✓\n",
      "2022-02-23 05:44:39 PM: ['FII.PA', 'FR0000050353']: SI✓,F✓,E✓,BS✓,CF✓\n",
      "2022-02-23 05:44:41 PM: ['ALLLN.PA', 'ES0105089009']: SI✓,F✓,E✗,BS✓,CF✓\n",
      "2022-02-23 05:44:41 PM: ['LNA.PA', 'FR0004170017']: SI✓,F✓,E✓,BS✓,CF✓\n",
      "2022-02-23 05:44:43 PM: ['MLLOI.PA', 'FR0004155208']: SI✓,F✓,E✗,BS✓,CF✓\n",
      "2022-02-23 05:44:49 PM: ['MLLOG.PA', 'ES0105333001']: SI✗,F✗,E✗,BS✗,CF✗\n",
      "2022-02-23 05:44:50 PM: ['ALLOG.PA', 'FR0000044943']: SI✓,F✓,E✓,BS✓,CF✓\n",
      "2022-02-23 05:44:53 PM: ['MLCAC.PA', 'FR0006205019']: SI✓,F✓,E✗,BS✓,CF✓\n",
      "2022-02-23 05:44:53 PM: ['LOTB.BR', 'BE0003604155']: SI✓,F✓,E✓,BS✓,CF✓\n",
      "2022-02-23 05:44:55 PM: ['BOLS.AS', 'NL0010998878']: SI✓,F✓,E✓,BS✓,CF✓\n",
      "2022-02-23 05:45:01 PM: ['ALUCI.PA', 'FR0011884378']: SI✓,F✓,E✓,BS✓,CF✓\n",
      "2022-02-23 05:45:01 PM: ['LUCBS.PA', 'FR0013525953']: SI✗,F✗,E✗,BS✗,CF✗\n",
      "2022-02-23 05:45:04 PM: ['LBIRD.PA', 'FR0000038242']: SI✓,F✓,E✓,BS✓,CF✓\n",
      "2022-02-23 05:45:05 PM: ['MLV4S.PA', 'BE6201089735']: SI✓,F✓,E✗,BS✓,CF✓\n",
      "2022-02-23 05:45:07 PM: ['MC.PA', 'FR0000121014']: SI✓,F✓,E✓,BS✓,CF✓\n",
      "2022-02-23 05:45:13 PM: ['LYTIX.OL', 'NO0010405780']: SI✓,F✓,E✗,BS✓,CF✓\n",
      "2022-02-23 05:45:13 PM: ['LYS.PA', 'FR0013233475']: SI✓,F✓,E✓,BS✓,CF✓\n",
      "2022-02-23 05:45:15 PM: ['MVW.OL', 'NO0010976343']: SI✓,F✓,E✓,BS✓,CF✓\n",
      "2022-02-23 05:45:16 PM: ['MRM.PA', 'FR0000060196']: SI✓,F✓,E✓,BS✓,CF✓\n",
      "2022-02-23 05:45:19 PM: ['ALMII.PA', 'FR0013270626']: SI✓,F✓,E✓,BS✓,CF✓\n",
      "2022-02-23 05:45:24 PM: ['MAAT.PA', 'FR0012634822']: SI✓,F✓,E✓,BS✓,CF✓\n",
      "2022-02-23 05:45:26 PM: ['MLMAD.PA', 'FR0010328302']: SI✓,F✓,E✗,BS✗,CF✓\n",
      "2022-02-23 05:45:27 PM: ['ALMNG.PA', 'FR0010812230']: SI✓,F✓,E✓,BS✓,CF✓\n",
      "2022-02-23 05:45:28 PM: ['MLMGL.PA', 'FR0010827741']: SI✓,F✓,E✗,BS✓,CF✓\n",
      "2022-02-23 05:45:31 PM: ['MGN.OL', 'NO0010187032']: SI✓,F✓,E✓,BS✓,CF✓\n",
      "2022-02-23 05:45:35 PM: ['MSEIS.OL', 'NO0010663669']: SI✓,F✓,E✓,BS✓,CF✓\n",
      "2022-02-23 05:45:38 PM: ['MLCLI.PA', 'FR0011092089']: SI✓,F✗,E✗,BS✗,CF✗\n",
      "2022-02-23 05:45:38 PM: ['MLMAB.PA', 'FR0000061657']: SI✓,F✗,E✗,BS✗,CF✗\n",
      "2022-02-23 05:45:41 PM: ['MDM.PA', 'FR0013153541']: SI✓,F✓,E✓,BS✓,CF✓\n",
      "2022-02-23 05:45:42 PM: ['MAJ.AS', 'LU2382956378']: SI✓,F✓,E✓,BS✓,CF✓\n",
      "2022-02-23 05:45:46 PM: ['ALMAK.PA', 'FR0000072993']: SI✓,F✓,E✓,BS✓,CF✓\n",
      "2022-02-23 05:45:48 PM: ['ALMKS.PA', 'ES0105463006']: SI✓,F✓,E✗,BS✓,CF✓\n",
      "2022-02-23 05:45:50 PM: ['MLC.IR', 'IE00BVGC3741']: SI✓,F✓,E✓,BS✓,CF✓\n",
      "2022-02-23 05:45:53 PM: ['MALT.PA', 'FR0000030074']: SI✓,F✓,E✓,BS✓,CF✓\n",
      "2022-02-23 05:45:55 PM: ['MTU.PA', 'FR0000038606']: SI✓,F✓,E✓,BS✓,CF✓\n",
      "2022-02-23 05:45:58 PM: ['MAN.PA', 'FR0000032302']: SI✓,F✓,E✓,BS✓,CF✓\n",
      "2022-02-23 05:46:00 PM: ['MLMAQ.PA', 'ES0105447009']: SI✓,F✗,E✗,BS✗,CF✗\n",
      "2022-02-23 05:46:01 PM: ['MROIL.BR', 'US5658491064']: SI✓,F✓,E✗,BS✓,CF✓\n",
      "2022-02-23 05:46:04 PM: ['ALMAR.PA', 'FR0013400835']: SI✓,F✓,E✗,BS✓,CF✓\n",
      "2022-02-23 05:46:07 PM: ['MAREL.AS', 'IS0000000388']: SI✓,F✓,E✗,BS✓,CF✓\n",
      "2022-02-23 05:46:12 PM: ['IAM.PA', 'MA0000011488']: SI✓,F✓,E✓,BS✓,CF✓\n",
      "2022-02-23 05:46:12 PM: ['MAR.LS', 'PTMFR0AM0003']: SI✓,F✓,E✓,BS✓,CF✓\n",
      "2022-02-23 05:46:12 PM: ['ALMAS.PA', 'FR0004155687']: SI✓,F✓,E✓,BS✓,CF✓\n",
      "2022-02-23 05:46:14 PM: ['MASBS.PA', 'FR0013472446']: SI✗,F✗,E✗,BS✗,CF✗\n",
      "2022-02-23 05:46:19 PM: ['MAS.OL', 'NO0010974983']: SI✓,F✓,E✓,BS✓,CF✓\n",
      "2022-02-23 05:46:23 PM: ['MKEA.PA', 'FR0010609263']: SI✓,F✓,E✓,BS✓,CF✓\n",
      "2022-02-23 05:46:24 PM: ['MAU.PA', 'FR0000051070']: SI✓,F✓,E✓,BS✓,CF✓\n",
      "2022-02-23 05:46:24 PM: ['MBWBT.PA', 'FR0013404944']: SI✗,F✗,E✗,BS✗,CF✗\n",
      "2022-02-23 05:46:24 PM: ['MBWS.PA', 'FR0000060873']: SI✓,F✓,E✓,BS✓,CF✓\n"
     ]
    },
    {
     "name": "stdout",
     "output_type": "stream",
     "text": [
      "- MBWBT.PA: No data found for this date range, symbol may be delisted\n"
     ]
    },
    {
     "name": "stderr",
     "output_type": "stream",
     "text": [
      "2022-02-23 05:46:28 PM: ['MBWSZ.PA', 'FR0013066313']: SI✗,F✗,E✗,BS✗,CF✗\n"
     ]
    },
    {
     "name": "stdout",
     "output_type": "stream",
     "text": [
      "- MBWSZ.PA: No data found for this date range, symbol may be delisted\n"
     ]
    },
    {
     "name": "stderr",
     "output_type": "stream",
     "text": [
      "2022-02-23 05:46:35 PM: ['MCPHY.PA', 'FR0011742329']: SI✓,F✓,E✓,BS✓,CF✓\n",
      "2022-02-23 05:46:35 PM: ['ALMDP.PA', 'FR0010844464']: SI✓,F✗,E✗,BS✗,CF✗\n",
      "2022-02-23 05:46:36 PM: ['MDXH.BR', 'BE0003844611']: SI✓,F✓,E✓,BS✓,CF✓\n",
      "2022-02-23 05:46:37 PM: ['EDI.PA', 'FR0000064404']: SI✓,F✓,E✓,BS✓,CF✓\n",
      "2022-02-23 05:46:40 PM: ['MCP.LS', 'PTGMC0AM0003']: SI✓,F✓,E✓,BS✓,CF✓\n",
      "2022-02-23 05:46:46 PM: ['ALKER.PA', 'IT0005380438']: SI✓,F✓,E✗,BS✓,CF✓\n",
      "2022-02-23 05:46:47 PM: ['ALMDT.PA', 'FR0011049824']: SI✓,F✓,E✓,BS✓,CF✓\n",
      "2022-02-23 05:46:47 PM: ['MLLAB.PA', 'IT0005324105']: SI✓,F✓,E✗,BS✓,CF✓\n",
      "2022-02-23 05:46:48 PM: ['MEDCL.PA', 'FR0004065605']: SI✓,F✓,E✓,BS✓,CF✓\n",
      "2022-02-23 05:46:49 PM: ['MLMCE.PA', 'IT0004844848']: SI✗,F✗,E✗,BS✗,CF✗\n"
     ]
    },
    {
     "name": "stdout",
     "output_type": "stream",
     "text": [
      "- MLMCE.PA: No data found, symbol may be delisted\n"
     ]
    },
    {
     "name": "stderr",
     "output_type": "stream",
     "text": [
      "2022-02-23 05:46:59 PM: ['MWTR.OL', 'NL00150003D3']: SI✓,F✓,E✓,BS✓,CF✓\n",
      "2022-02-23 05:46:59 PM: ['MEDI.OL', 'NO0010159684']: SI✓,F✓,E✓,BS✓,CF✓\n",
      "2022-02-23 05:47:00 PM: ['MELE.BR', 'BE0165385973']: SI✓,F✓,E✓,BS✓,CF✓\n",
      "2022-02-23 05:47:00 PM: ['MELG.OL', 'NO0006001908']: SI✓,F✓,E✓,BS✓,CF✓\n",
      "2022-02-23 05:47:01 PM: ['MEMS.PA', 'FR0010298620']: SI✓,F✓,E✓,BS✓,CF✓\n",
      "2022-02-23 05:47:08 PM: ['MLMIV.PA', 'ES0105559001']: SI✗,F✗,E✗,BS✗,CF✗\n"
     ]
    },
    {
     "name": "stdout",
     "output_type": "stream",
     "text": [
      "- MLMIV.PA: No data found, symbol may be delisted\n"
     ]
    },
    {
     "name": "stderr",
     "output_type": "stream",
     "text": [
      "2022-02-23 05:47:10 PM: ['MRCEL.OL', 'NO0010307143']: SI✓,F✓,E✓,BS✓,CF✓\n",
      "2022-02-23 05:47:12 PM: ['MERY.PA', 'FR0010241638']: SI✓,F✓,E✓,BS✓,CF✓\n",
      "2022-02-23 05:47:12 PM: ['MRK.PA', 'US58933Y1055']: SI✓,F✓,E✗,BS✓,CF✓\n",
      "2022-02-23 05:47:13 PM: ['MRL.LS', 'ES0105025003']: SI✓,F✓,E✗,BS✓,CF✓\n",
      "2022-02-23 05:47:21 PM: ['ALMTH.PA', 'IT0004615396']: SI✗,F✗,E✗,BS✗,CF✗\n",
      "2022-02-23 05:47:21 PM: ['MRN.PA', 'FR0000039620']: SI✓,F✓,E✓,BS✓,CF✓\n",
      "2022-02-23 05:47:22 PM: ['METEX.PA', 'FR0004177046']: SI✓,F✓,E✓,BS✓,CF✓\n",
      "2022-02-23 05:47:23 PM: ['MLETA.PA', 'FR0010492181']: SI✓,F✗,E✗,BS✗,CF✗\n",
      "2022-02-23 05:47:24 PM: ['ALMET.PA', 'FR0011217710']: SI✓,F✓,E✓,BS✓,CF✓\n",
      "2022-02-23 05:47:32 PM: ['MLMIB.PA', 'BE0974328602']: SI✓,F✓,E✗,BS✓,CF✓\n",
      "2022-02-23 05:47:33 PM: ['ALMGI.PA', 'FR0010204453']: SI✓,F✓,E✓,BS✓,CF✓\n",
      "2022-02-23 05:47:34 PM: ['MMT.PA', 'FR0000053225']: SI✓,F✓,E✓,BS✓,CF✓\n",
      "2022-02-23 05:47:35 PM: ['ALMDG.PA', 'FR0010353888']: SI✓,F✓,E✓,BS✓,CF✓\n",
      "2022-02-23 05:47:36 PM: ['ML.PA', 'FR0000121261']: SI✓,F✓,E✓,BS✓,CF✓\n",
      "2022-02-23 05:47:41 PM: ['MLSKN.PA', 'GB00BF553726']: SI✗,F✗,E✗,BS✗,CF✗\n"
     ]
    },
    {
     "name": "stdout",
     "output_type": "stream",
     "text": [
      "- MLSKN.PA: No data found, symbol may be delisted\n"
     ]
    },
    {
     "name": "stderr",
     "output_type": "stream",
     "text": [
      "2022-02-23 05:47:44 PM: ['MUN.PA', 'FR0000077570']: SI✓,F✓,E✓,BS✓,CF✓\n",
      "2022-02-23 05:47:46 PM: ['MSF.BR', 'US5949181045']: SI✓,F✓,E✗,BS✓,CF✓\n",
      "2022-02-23 05:47:47 PM: ['MLNMA.PA', 'FR0010500363']: SI✓,F✓,E✗,BS✓,CF✓\n",
      "2022-02-23 05:47:49 PM: ['MIKO.BR', 'BE0003731453']: SI✓,F✓,E✓,BS✓,CF✓\n",
      "2022-02-23 05:47:53 PM: ['ALMLB.PA', 'FR0013053535']: SI✓,F✓,E✗,BS✓,CF✓\n",
      "2022-02-23 05:47:56 PM: ['MIO.IR', 'IE00BD64C665']: SI✓,F✓,E✗,BS✓,CF✓\n",
      "2022-02-23 05:47:59 PM: ['ALBUD.PA', 'FR0004172450']: SI✓,F✓,E✗,BS✓,CF✓\n",
      "2022-02-23 05:47:59 PM: ['MNTR.OL', 'NO0010895022']: SI✓,F✓,E✓,BS✓,CF✓\n",
      "2022-02-23 05:48:00 PM: ['MITRA.BR', 'BE0974283153']: SI✓,F✓,E✓,BS✓,CF✓\n",
      "2022-02-23 05:48:04 PM: ['NEDSE.AS', 'NL0009312842']: SI✓,F✓,E✓,BS✓,CF✓\n",
      "2022-02-23 05:48:04 PM: ['MLAMY.PA', 'FR0013268067']: SI✗,F✗,E✗,BS✗,CF✗\n"
     ]
    },
    {
     "name": "stdout",
     "output_type": "stream",
     "text": [
      "- MLAMY.PA: No data found for this date range, symbol may be delisted\n"
     ]
    },
    {
     "name": "stderr",
     "output_type": "stream",
     "text": [
      "2022-02-23 05:48:10 PM: ['ALMND.PA', 'FR00140050Q2']: SI✓,F✓,E✓,BS✓,CF✓\n",
      "2022-02-23 05:48:11 PM: ['GRW.IR', 'GB00BY7QYJ50']: SI✓,F✓,E✗,BS✓,CF✓\n",
      "2022-02-23 05:48:12 PM: ['MONC.PA', 'FR0000076986']: SI✓,F✓,E✓,BS✓,CF✓\n",
      "2022-02-23 05:48:14 PM: ['MLMON.PA', 'FR0010882886']: SI✓,F✓,E✗,BS✓,CF✓\n",
      "2022-02-23 05:48:16 PM: ['MONT.BR', 'BE0003853703']: SI✓,F✓,E✓,BS✓,CF✓\n",
      "2022-02-23 05:48:22 PM: ['MLMR.LS', 'PTMNN0AE0006']: SI✗,F✗,E✗,BS✗,CF✗\n",
      "2022-02-23 05:48:22 PM: ['MOPF.BR', 'NL0000488161']: SI✓,F✗,E✗,BS✗,CF✗\n",
      "2022-02-23 05:48:24 PM: ['MOP.BR', 'NL0000488153']: SI✓,F✓,E✗,BS✓,CF✓\n",
      "2022-02-23 05:48:26 PM: ['MORE.AS', 'CWN814651014']: SI✓,F✓,E✓,BS✓,CF✓\n",
      "2022-02-23 05:48:29 PM: ['EGL.LS', 'PTMEN0AE0005']: SI✓,F✓,E✓,BS✓,CF✓\n",
      "2022-02-23 05:48:33 PM: ['MTRK.AS', 'GB00BMXH3352']: SI✓,F✓,E✓,BS✓,CF✓\n",
      "2022-02-23 05:48:35 PM: ['ALMOU.PA', 'FR0011033083']: SI✓,F✓,E✓,BS✓,CF✓\n",
      "2022-02-23 05:48:36 PM: ['MOUR.BR', 'BE0003602134']: SI✓,F✓,E✓,BS✓,CF✓\n",
      "2022-02-23 05:48:38 PM: ['MOWI.OL', 'NO0003054108']: SI✓,F✓,E✓,BS✓,CF✓\n",
      "2022-02-23 05:48:40 PM: ['MPCC.OL', 'NO0010791353']: SI✓,F✓,E✓,BS✓,CF✓\n",
      "2022-02-23 05:48:44 PM: ['MPCES.OL', 'NL0015268814']: SI✓,F✗,E✗,BS✗,CF✗\n",
      "2022-02-23 05:48:45 PM: ['MLMTD.PA', 'FR0010518936']: SI✗,F✗,E✗,BS✗,CF✗\n",
      "2022-02-23 05:48:46 PM: ['ALMRB.PA', 'FR0004034320']: SI✓,F✗,E✗,BS✗,CF✗\n",
      "2022-02-23 05:48:47 PM: ['MLM24.LS', 'PTMUS0AM0018']: SI✗,F✗,E✗,BS✗,CF✗\n"
     ]
    },
    {
     "name": "stdout",
     "output_type": "stream",
     "text": [
      "- MLM24.LS: No data found, symbol may be delisted\n"
     ]
    },
    {
     "name": "stderr",
     "output_type": "stream",
     "text": [
      "2022-02-23 05:48:49 PM: ['MLMUL.PA', 'FR0012990968']: SI✓,F✗,E✗,BS✗,CF✗\n",
      "2022-02-23 05:48:56 PM: ['MULTI.OL', 'NO0010734338']: SI✓,F✓,E✓,BS✓,CF✓\n",
      "2022-02-23 05:48:57 PM: ['MEURV.BR', 'DE0008430026']: SI✓,F✓,E✗,BS✓,CF✓\n",
      "2022-02-23 05:48:58 PM: ['GREV.PA', 'FR0000037970']: SI✓,F✓,E✗,BS✓,CF✓\n",
      "2022-02-23 05:48:59 PM: ['ALMUN.PA', 'FR0013462231']: SI✓,F✓,E✓,BS✓,CF✓\n",
      "2022-02-23 05:49:00 PM: ['NACON.PA', 'FR0013482791']: SI✓,F✓,E✓,BS✓,CF✓\n",
      "2022-02-23 05:49:06 PM: ['NAIW.AS', 'NL0015000CH0']: SI✗,F✗,E✗,BS✗,CF✗\n"
     ]
    },
    {
     "name": "stdout",
     "output_type": "stream",
     "text": [
      "- NAIW.AS: No data found, symbol may be delisted\n"
     ]
    },
    {
     "name": "stderr",
     "output_type": "stream",
     "text": [
      "2022-02-23 05:49:06 PM: ['NAITR.AS', 'NL0015000CF4']: SI✗,F✗,E✗,BS✗,CF✗\n"
     ]
    },
    {
     "name": "stdout",
     "output_type": "stream",
     "text": [
      "- NAITR.AS: No data found, symbol may be delisted\n"
     ]
    },
    {
     "name": "stderr",
     "output_type": "stream",
     "text": [
      "2022-02-23 05:49:08 PM: ['NAI.AS', 'NL0015000CG2']: SI✓,F✗,E✗,BS✗,CF✗\n",
      "2022-02-23 05:49:10 PM: ['ALNMR.PA', 'FR0014003J32']: SI✓,F✓,E✓,BS✓,CF✓\n",
      "2022-02-23 05:49:13 PM: ['NANO.PA', 'FR0011341205']: SI✓,F✓,E✓,BS✓,CF✓\n",
      "2022-02-23 05:49:18 PM: ['NAVA.OL', 'NO0010205966']: SI✓,F✓,E✓,BS✓,CF✓\n",
      "2022-02-23 05:49:18 PM: ['NAPA.OL', 'DK0060520450']: SI✓,F✓,E✓,BS✓,CF✓\n",
      "2022-02-23 05:49:21 PM: ['NAVYA.PA', 'FR0013018041']: SI✓,F✓,E✓,BS✓,CF✓\n",
      "2022-02-23 05:49:23 PM: ['NEDAP.AS', 'NL0000371243']: SI✓,F✓,E✓,BS✓,CF✓\n",
      "2022-02-23 05:49:25 PM: ['NKR.OL', 'NO0003049405']: SI✓,F✓,E✗,BS✓,CF✓\n",
      "2022-02-23 05:49:29 PM: ['NEL.OL', 'NO0010081235']: SI✓,F✓,E✓,BS✓,CF✓\n",
      "2022-02-23 05:49:30 PM: ['MLNEO.PA', 'FR0004157543']: SI✓,F✓,E✗,BS✓,CF✓\n",
      "2022-02-23 05:49:32 PM: ['NEOEN.PA', 'FR0011675362']: SI✓,F✓,E✓,BS✓,CF✓\n",
      "2022-02-23 05:49:34 PM: ['ALNLF.PA', 'FR0011636083']: SI✓,F✓,E✗,BS✓,CF✓\n",
      "2022-02-23 05:49:36 PM: ['NLFBS.PA', 'FR0013282936']: SI✗,F✗,E✗,BS✗,CF✗\n",
      "2022-02-23 05:49:40 PM: ['ALNEV.PA', 'FR0004032746']: SI✓,F✓,E✓,BS✓,CF✓\n",
      "2022-02-23 05:49:42 PM: ['NRP.AS', 'IM00BDD7WV31']: SI✓,F✓,E✗,BS✓,CF✓\n",
      "2022-02-23 05:49:44 PM: ['ALNTG.PA', 'FR0004154060']: SI✓,F✓,E✓,BS✓,CF✓\n",
      "2022-02-23 05:49:44 PM: ['NOC.OL', 'GB00BF2PG875']: SI✓,F✓,E✗,BS✓,CF✓\n",
      "2022-02-23 05:49:45 PM: ['MLNEU.BR', 'BE0003680916']: SI✓,F✓,E✗,BS✓,CF✓\n",
      "2022-02-23 05:49:53 PM: ['NSE.AS', 'NL0009822014']: SI✓,F✓,E✗,BS✓,CF✓\n",
      "2022-02-23 05:49:53 PM: ['NRO.PA', 'FR0004050250']: SI✓,F✓,E✓,BS✓,CF✓\n",
      "2022-02-23 05:49:55 PM: ['NEWAY.AS', 'NL0000440618']: SI✓,F✓,E✓,BS✓,CF✓\n",
      "2022-02-23 05:49:56 PM: ['NEWT.BR', 'BE0003832491']: SI✓,F✓,E✗,BS✓,CF✓\n",
      "2022-02-23 05:49:57 PM: ['NEX.PA', 'FR0000044448']: SI✓,F✓,E✓,BS✓,CF✓\n",
      "2022-02-23 05:50:05 PM: ['NXI.PA', 'FR0010112524']: SI✓,F✓,E✓,BS✓,CF✓\n",
      "2022-02-23 05:50:05 PM: ['ALNOR.LS', 'PTNEX0AM0002']: SI✓,F✗,E✗,BS✗,CF✗\n",
      "2022-02-23 05:50:08 PM: ['NEXT.OL', 'NO0010629108']: SI✓,F✓,E✓,BS✓,CF✓\n",
      "2022-02-23 05:50:08 PM: ['ALNXT.PA', 'FR0004171346']: SI✓,F✓,E✓,BS✓,CF✓\n",
      "2022-02-23 05:50:10 PM: ['NEXTA.BR', 'BE0003770840']: SI✓,F✓,E✓,BS✓,CF✓\n",
      "2022-02-23 05:50:16 PM: ['NEXTS.PA', 'FR0012789386']: SI✓,F✓,E✓,BS✓,CF✓\n",
      "2022-02-23 05:50:17 PM: ['ALNFL.PA', 'FR0014003XT0']: SI✓,F✗,E✗,BS✗,CF✗\n",
      "2022-02-23 05:50:20 PM: ['NHOA.PA', 'FR0012650166']: SI✓,F✓,E✓,BS✓,CF✓\n",
      "2022-02-23 05:50:20 PM: ['COX.PA', 'FR0013018124']: SI✓,F✓,E✓,BS✓,CF✓\n",
      "2022-02-23 05:50:22 PM: ['NISB.OL', 'NO0010733082']: SI✓,F✓,E✗,BS✓,CF✓\n",
      "2022-02-23 05:50:28 PM: ['NN.AS', 'NL0010773842']: SI✓,F✓,E✓,BS✓,CF✓\n",
      "2022-02-23 05:50:29 PM: ['NOKIA.PA', 'FI0009000681']: SI✓,F✓,E✗,BS✓,CF✓\n",
      "2022-02-23 05:50:32 PM: ['NORBT.OL', 'NO0010856511']: SI✓,F✓,E✓,BS✓,CF✓\n",
      "2022-02-23 05:50:32 PM: ['NCOD.OL', 'NO0010892912']: SI✓,F✗,E✗,BS✗,CF✗\n",
      "2022-02-23 05:50:34 PM: ['NORDH.OL', 'NO0011002651']: SI✓,F✓,E✓,BS✓,CF✓\n",
      "2022-02-23 05:50:39 PM: ['NOAP.OL', 'DK0061414638']: SI✓,F✓,E✓,BS✓,CF✓\n",
      "2022-02-23 05:50:40 PM: ['NOHAL.OL', 'NO0003058109']: SI✓,F✓,E✓,BS✓,CF✓\n",
      "2022-02-23 05:50:44 PM: ['NANOV.OL', 'NO0010597883']: SI✓,F✓,E✓,BS✓,CF✓\n",
      "2022-02-23 05:50:44 PM: ['NOM.OL', 'NO0010317340']: SI✓,F✓,E✓,BS✓,CF✓\n",
      "2022-02-23 05:50:44 PM: ['NOD.OL', 'NO0003055501']: SI✓,F✓,E✓,BS✓,CF✓\n",
      "2022-02-23 05:50:51 PM: ['NUMND.OL', 'NO0010907090']: SI✓,F✓,E✗,BS✓,CF✓\n",
      "2022-02-23 05:50:52 PM: ['NORSE.OL', 'NO0010946445']: SI✓,F✗,E✗,BS✗,CF✗\n",
      "2022-02-23 05:50:55 PM: ['NSOL.OL', 'NO0010941925']: SI✓,F✓,E✓,BS✓,CF✓\n",
      "2022-02-23 05:50:56 PM: ['NHY.OL', 'NO0005052605']: SI✓,F✓,E✓,BS✓,CF✓\n",
      "2022-02-23 05:50:56 PM: ['NTI.OL', 'NO0010969108']: SI✓,F✓,E✓,BS✓,CF✓\n",
      "2022-02-23 05:51:03 PM: ['NSKOG.OL', 'NO0010861115']: SI✓,F✓,E✓,BS✓,CF✓\n",
      "2022-02-23 05:51:03 PM: ['NTEL.OL', 'NO0010900087']: SI✓,F✓,E✗,BS✓,CF✓\n",
      "2022-02-23 05:51:06 PM: ['NORTH.OL', 'NO0010550056']: SI✓,F✓,E✓,BS✓,CF✓\n",
      "2022-02-23 05:51:07 PM: ['NOL.OL', 'BMG6682J1036']: SI✓,F✓,E✓,BS✓,CF✓\n",
      "2022-02-23 05:51:08 PM: ['NODL.OL', 'BMG6624L1090']: SI✓,F✓,E✓,BS✓,CF✓\n",
      "2022-02-23 05:51:14 PM: ['NRS.OL', 'NO0010331838']: SI✓,F✓,E✓,BS✓,CF✓\n",
      "2022-02-23 05:51:15 PM: ['NAS.OL', 'NO0010196140']: SI✓,F✓,E✓,BS✓,CF✓\n",
      "2022-02-23 05:51:18 PM: ['NBX.OL', 'NO0010984966']: SI✓,F✗,E✗,BS✗,CF✗\n",
      "2022-02-23 05:51:18 PM: ['NOR.OL', 'NO0010379266']: SI✓,F✓,E✓,BS✓,CF✓\n",
      "2022-02-23 05:51:21 PM: ['NOS.LS', 'PTZON0AM0006']: SI✓,F✓,E✓,BS✓,CF✓\n",
      "2022-02-23 05:51:27 PM: ['ALNOV.PA', 'FR0010397232']: SI✓,F✓,E✓,BS✓,CF✓\n",
      "2022-02-23 05:51:27 PM: ['NBA.LS', 'PTNBA0AM0006']: SI✓,F✓,E✓,BS✓,CF✓\n",
      "2022-02-23 05:51:30 PM: ['MLNOV.PA', 'FR0000185464']: SI✓,F✓,E✓,BS✓,CF✓\n",
      "2022-02-23 05:51:30 PM: ['ALNOX.PA', 'NL0012044762']: SI✓,F✓,E✓,BS✓,CF✓\n",
      "2022-02-23 05:51:32 PM: ['NR21.PA', 'FR0014001PV6']: SI✓,F✗,E✗,BS✗,CF✗\n",
      "2022-02-23 05:51:40 PM: ['NRC.OL', 'NO0003679102']: SI✓,F✓,E✓,BS✓,CF✓\n",
      "2022-02-23 05:51:40 PM: ['NRG.PA', 'FR0000121691']: SI✓,F✓,E✓,BS✓,CF✓\n",
      "2022-02-23 05:51:41 PM: ['ALNSC.PA', 'FR0000064529']: SI✓,F✓,E✓,BS✓,CF✓\n",
      "2022-02-23 05:51:41 PM: ['ALNSE.PA', 'FR0004065639']: SI✓,F✓,E✓,BS✓,CF✓\n",
      "2022-02-23 05:51:44 PM: ['NSI.AS', 'NL0012365084']: SI✓,F✓,E✓,BS✓,CF✓\n",
      "2022-02-23 05:51:52 PM: ['NXFIL.AS', 'NL0015000D50']: SI✓,F✓,E✓,BS✓,CF✓\n",
      "2022-02-23 05:51:52 PM: ['NTS.OL', 'NO0004895103']: SI✓,F✓,E✓,BS✓,CF✓\n",
      "2022-02-23 05:51:53 PM: ['NYKD.OL', 'NO0010714785']: SI✓,F✓,E✓,BS✓,CF✓\n",
      "2022-02-23 05:51:56 PM: ['NYXH.BR', 'BE0974358906']: SI✓,F✓,E✓,BS✓,CF✓\n",
      "2022-02-23 05:51:57 PM: ['NYR.BR', 'BE0974294267']: SI✓,F✓,E✓,BS✓,CF✓\n",
      "2022-02-23 05:52:03 PM: ['MLOSA.PA', 'FR0013072741']: SI✓,F✓,E✗,BS✓,CF✓\n",
      "2022-02-23 05:52:03 PM: ['ALBIZ.PA', 'FR0014003711']: SI✓,F✓,E✓,BS✓,CF✓\n",
      "2022-02-23 05:52:05 PM: ['ALOBR.PA', 'FR0010330613']: SI✓,F✓,E✓,BS✓,CF✓\n",
      "2022-02-23 05:52:07 PM: ['OBSRV.OL', 'NO0010865009']: SI✓,F✓,E✗,BS✓,CF✓\n",
      "2022-02-23 05:52:08 PM: ['OCPET.BR', 'US6745991058']: SI✓,F✓,E✗,BS✓,CF✓\n",
      "2022-02-23 05:52:14 PM: ['OTS.OL', 'NO0010317316']: SI✓,F✗,E✗,BS✗,CF✗\n",
      "2022-02-23 05:52:14 PM: ['OSUN.OL', 'NO0010887565']: SI✓,F✓,E✓,BS✓,CF✓\n",
      "2022-02-23 05:52:17 PM: ['OCI.AS', 'NL0010558797']: SI✓,F✓,E✓,BS✓,CF✓\n",
      "2022-02-23 05:52:18 PM: ['MLOCT.PA', 'FR0013310281']: SI✓,F✓,E✗,BS✓,CF✓\n",
      "2022-02-23 05:52:20 PM: ['ODL.OL', 'BMG671801022']: SI✓,F✓,E✓,BS✓,CF✓\n",
      "2022-02-23 05:52:25 PM: ['ODFB.OL', 'NO0003399917']: SI✓,F✓,E✗,BS✓,CF✓\n",
      "2022-02-23 05:52:26 PM: ['ODF.OL', 'NO0003399909']: SI✓,F✓,E✓,BS✓,CF✓\n",
      "2022-02-23 05:52:28 PM: ['ODYSY.AS', 'LU2355630455']: SI✓,F✗,E✗,BS✗,CF✗\n",
      "2022-02-23 05:52:29 PM: ['ODYSW.AS', 'LU2355630968']: SI✗,F✗,E✗,BS✗,CF✗\n",
      "2022-02-23 05:52:32 PM: ['SBT.PA', 'FR0000052680']: SI✓,F✓,E✓,BS✓,CF✓\n",
      "2022-02-23 05:52:38 PM: ['OKEA.OL', 'NO0010816895']: SI✓,F✓,E✓,BS✓,CF✓\n",
      "2022-02-23 05:52:39 PM: ['OET.OL', 'MHY641771016']: SI✓,F✓,E✓,BS✓,CF✓\n",
      "2022-02-23 05:52:39 PM: ['OLG.PA', 'FR0010428771']: SI✓,F✓,E✓,BS✓,CF✓\n",
      "2022-02-23 05:52:41 PM: ['OLT.OL', 'NO0005638858']: SI✓,F✓,E✓,BS✓,CF✓\n",
      "2022-02-23 05:52:43 PM: ['MLORE.LS', 'PTOTP0AM0004']: SI✓,F✓,E✗,BS✓,CF✓\n",
      "2022-02-23 05:52:49 PM: ['ALODC.PA', 'FR0014003T71']: SI✓,F✓,E✓,BS✓,CF✓\n",
      "2022-02-23 05:52:51 PM: ['MLOEX.PA', 'FR0013266772']: SI✓,F✓,E✗,BS✓,CF✓\n",
      "2022-02-23 05:52:51 PM: ['ALONC.PA', 'FR0011766229']: SI✓,F✓,E✓,BS✓,CF✓\n",
      "2022-02-23 05:52:52 PM: ['MLONL.PA', 'FR0004174712']: SI✓,F✓,E✗,BS✓,CF✓\n",
      "2022-02-23 05:52:55 PM: ['ONTEX.BR', 'BE0974276082']: SI✓,F✓,E✓,BS✓,CF✓\n",
      "2022-02-23 05:53:00 PM: ['ONWD.BR', 'NL0015000HT4']: SI✓,F✓,E✓,BS✓,CF✓\n",
      "2022-02-23 05:53:02 PM: ['ORPH.IR', 'GB00B9275X97']: SI✓,F✓,E✗,BS✓,CF✓\n",
      "2022-02-23 05:53:02 PM: ['ALONX.PA', 'FR0010095596']: SI✓,F✓,E✓,BS✓,CF✓\n",
      "2022-02-23 05:53:05 PM: ['ORA.PA', 'FR0000133308']: SI✓,F✓,E✓,BS✓,CF✓\n",
      "2022-02-23 05:53:07 PM: ['OBEL.BR', 'BE0003735496']: SI✓,F✓,E✓,BS✓,CF✓\n",
      "2022-02-23 05:53:12 PM: ['ORANW.AS', 'NL0000370419']: SI✓,F✓,E✗,BS✓,CF✓\n",
      "2022-02-23 05:53:12 PM: ['ORAPB.PA', 'FR0013522216']: SI✗,F✗,E✗,BS✗,CF✗\n"
     ]
    },
    {
     "name": "stdout",
     "output_type": "stream",
     "text": [
      "- ORAPB.PA: No data found for this date range, symbol may be delisted\n"
     ]
    },
    {
     "name": "stderr",
     "output_type": "stream",
     "text": [
      "2022-02-23 05:53:13 PM: ['ORAP.PA', 'FR0000075392']: SI✓,F✓,E✓,BS✓,CF✓\n",
      "2022-02-23 05:53:14 PM: ['MLORB.PA', 'ES0105490009']: SI✗,F✓,E✗,BS✓,CF✓\n",
      "2022-02-23 05:53:19 PM: ['ORDI.AS', 'NL0000440584']: SI✓,F✓,E✓,BS✓,CF✓\n",
      "2022-02-23 05:53:23 PM: ['ALORD.PA', 'FR0013318052']: SI✓,F✓,E✓,BS✓,CF✓\n",
      "2022-02-23 05:53:24 PM: ['OREGE.PA', 'FR0010609206']: SI✓,F✓,E✓,BS✓,CF✓\n",
      "2022-02-23 05:53:25 PM: ['ORE.LS', 'PTORE0AM0002']: SI✓,F✓,E✓,BS✓,CF✓\n",
      "2022-02-23 05:53:27 PM: ['OIZ.IR', 'IE00B1WV4493']: SI✓,F✗,E✗,BS✗,CF✗\n",
      "2022-02-23 05:53:29 PM: ['MLORQ.PA', 'ES0105534004']: SI✓,F✗,E✗,BS✗,CF✗\n",
      "2022-02-23 05:53:35 PM: ['ORK.OL', 'NO0003733800']: SI✓,F✓,E✓,BS✓,CF✓\n",
      "2022-02-23 05:53:36 PM: ['ORQ1.IR', 'IE00BF0MZF04']: SI✓,F✓,E✓,BS✓,CF✓\n",
      "2022-02-23 05:53:37 PM: ['ORP.PA', 'FR0000184798']: SI✓,F✓,E✓,BS✓,CF✓\n",
      "2022-02-23 05:53:39 PM: ['OSE.PA', 'FR0012127173']: SI✓,F✓,E✓,BS✓,CF✓\n",
      "2022-02-23 05:53:41 PM: ['ALOSM.PA', 'FR0013231180']: SI✓,F✓,E✓,BS✓,CF✓\n",
      "2022-02-23 05:53:46 PM: ['OTEC.OL', 'NO0010040611']: SI✓,F✓,E✓,BS✓,CF✓\n",
      "2022-02-23 05:53:48 PM: ['OTOVO.OL', 'NO0010809783']: SI✓,F✓,E✓,BS✓,CF✓\n",
      "2022-02-23 05:53:49 PM: ['OVH.PA', 'FR0014005HJ9']: SI✓,F✓,E✓,BS✓,CF✓\n",
      "2022-02-23 05:53:50 PM: ['OVXA.IR', 'IE00B4XVDC01']: SI✓,F✓,E✗,BS✓,CF✓\n",
      "2022-02-23 05:53:53 PM: ['OXUR.BR', 'BE0003846632']: SI✓,F✓,E✓,BS✓,CF✓\n",
      "2022-02-23 05:53:58 PM: ['MLPAC.PA', 'FR0000077992']: SI✓,F✓,E✗,BS✓,CF✓\n",
      "2022-02-23 05:53:59 PM: ['PEN.OL', 'NO0010564701']: SI✓,F✓,E✓,BS✓,CF✓\n",
      "2022-02-23 05:54:00 PM: ['PID.PA', 'FR0013318813']: SI✓,F✓,E✓,BS✓,CF✓\n",
      "2022-02-23 05:54:02 PM: ['PAR.PA', 'FR0010263202']: SI✓,F✓,E✓,BS✓,CF✓\n",
      "2022-02-23 05:54:05 PM: ['PARB.OL', 'NO0010397581']: SI✓,F✓,E✓,BS✓,CF✓\n",
      "2022-02-23 05:54:09 PM: ['PABSA.PA', 'FR0013054269']: SI✗,F✗,E✗,BS✗,CF✗\n",
      "2022-02-23 05:54:10 PM: ['PABSB.PA', 'FR0013054335']: SI✗,F✗,E✗,BS✗,CF✗\n",
      "2022-02-23 05:54:10 PM: ['PARRO.PA', 'FR0004038263']: SI✓,F✓,E✓,BS✓,CF✓\n",
      "2022-02-23 05:54:14 PM: ['MLHOP.PA', 'FR0006823092']: SI✓,F✓,E✗,BS✓,CF✓\n",
      "2022-02-23 05:54:16 PM: ['MLPRX.PA', 'NL0012650535']: SI✓,F✓,E✗,BS✓,CF✓\n",
      "2022-02-23 05:54:21 PM: ['ALPTR.LS', 'PTPRS0AM0017']: SI✗,F✗,E✗,BS✗,CF✗\n"
     ]
    },
    {
     "name": "stdout",
     "output_type": "stream",
     "text": [
      "- ALPTR.LS: No data found, symbol may be delisted\n"
     ]
    },
    {
     "name": "stderr",
     "output_type": "stream",
     "text": [
      "2022-02-23 05:54:21 PM: ['PSKY.OL', 'NO0010895667']: SI✓,F✓,E✓,BS✓,CF✓\n",
      "2022-02-23 05:54:21 PM: ['PSAT.PA', 'FR0000038465']: SI✓,F✓,E✓,BS✓,CF✓\n",
      "2022-02-23 05:54:23 PM: ['PAT.PA', 'FR0011027135']: SI✓,F✓,E✓,BS✓,CF✓\n",
      "2022-02-23 05:54:28 PM: ['ALPAU.PA', 'FR0013479730']: SI✓,F✓,E✗,BS✓,CF✓\n",
      "2022-02-23 05:54:33 PM: ['PAY.BR', 'IL0010830391']: SI✓,F✓,E✗,BS✓,CF✓\n",
      "2022-02-23 05:54:33 PM: ['PEACE.AS', 'NL0015000H31']: SI✓,F✗,E✗,BS✗,CF✗\n",
      "2022-02-23 05:54:33 PM: ['PCA.PA', 'FR0000053514']: SI✓,F✗,E✗,BS✗,CF✗\n",
      "2022-02-23 05:54:34 PM: ['PCIB.OL', 'NO0010405640']: SI✓,F✓,E✓,BS✓,CF✓\n",
      "2022-02-23 05:54:39 PM: ['PACE.AS', 'NL00150009D0']: SI✓,F✓,E✗,BS✓,CF✓\n",
      "2022-02-23 05:54:40 PM: ['PEP.BR', 'US7134481081']: SI✗,F✗,E✗,BS✗,CF✗\n"
     ]
    },
    {
     "name": "stdout",
     "output_type": "stream",
     "text": [
      "- PEP.BR: No data found, symbol may be delisted\n"
     ]
    },
    {
     "name": "stderr",
     "output_type": "stream",
     "text": [
      "2022-02-23 05:54:43 PM: ['PACEW.AS', 'NL00150009B4']: SI✗,F✗,E✗,BS✗,CF✗\n",
      "2022-02-23 05:54:43 PM: ['PACEU.AS', 'NL00150009E8']: SI✓,F✗,E✗,BS✗,CF✗\n",
      "2022-02-23 05:54:46 PM: ['IL0A.IR', 'IE00BWB8X525']: SI✓,F✓,E✓,BS✓,CF✓\n",
      "2022-02-23 05:54:50 PM: ['MLPER.PA', 'ES0105612008']: SI✗,F✗,E✗,BS✗,CF✗\n"
     ]
    },
    {
     "name": "stdout",
     "output_type": "stream",
     "text": [
      "- MLPER.PA: No data found, symbol may be delisted\n"
     ]
    },
    {
     "name": "stderr",
     "output_type": "stream",
     "text": [
      "2022-02-23 05:54:52 PM: ['RI.PA', 'FR0000120693']: SI✓,F✓,E✓,BS✓,CF✓\n",
      "2022-02-23 05:54:53 PM: ['PERR.PA', 'FR0000061459']: SI✓,F✓,E✓,BS✓,CF✓\n",
      "2022-02-23 05:54:55 PM: ['PSH.AS', 'GG00BPFJTF46']: SI✓,F✓,E✓,BS✓,CF✓\n",
      "2022-02-23 05:54:56 PM: ['PSE.OL', 'CY0102630916']: SI✓,F✓,E✓,BS✓,CF✓\n",
      "2022-02-23 05:55:02 PM: ['P8ET.IR', 'IE00B0Q82B24']: SI✓,F✓,E✗,BS✓,CF✓\n",
      "2022-02-23 05:55:03 PM: ['PNOR.OL', 'AU0000057408']: SI✓,F✓,E✓,BS✓,CF✓\n",
      "2022-02-23 05:55:04 PM: ['PEUG.PA', 'FR0000064784']: SI✓,F✓,E✓,BS✓,CF✓\n",
      "2022-02-23 05:55:07 PM: ['PEXIP.OL', 'NO0010840507']: SI✓,F✓,E✓,BS✓,CF✓\n",
      "2022-02-23 05:55:09 PM: ['PGS.OL', 'NO0010199151']: SI✓,F✓,E✓,BS✓,CF✓\n",
      "2022-02-23 05:55:14 PM: ['PHA.PA', 'FR0012882389']: SI✓,F✓,E✓,BS✓,CF✓\n",
      "2022-02-23 05:55:15 PM: ['ALPHS.PA', 'BE0974302342']: SI✓,F✓,E✓,BS✓,CF✓\n",
      "2022-02-23 05:55:16 PM: ['PHARM.AS', 'NL0010391025']: SI✓,F✓,E✓,BS✓,CF✓\n",
      "2022-02-23 05:55:19 PM: ['ALPHA.PA', 'FR0011191287']: SI✓,F✓,E✓,BS✓,CF✓\n",
      "2022-02-23 05:55:21 PM: ['PHR.LS', 'PTPTC0AM0009']: SI✓,F✓,E✓,BS✓,CF✓\n",
      "2022-02-23 05:55:25 PM: ['ALPHE.PA', 'FR0011651694']: SI✓,F✗,E✗,BS✗,CF✗\n",
      "2022-02-23 05:55:25 PM: ['INPHI.AS', 'NL0000009322']: SI✗,F✓,E✗,BS✓,CF✓\n",
      "2022-02-23 05:55:28 PM: ['PHIA.AS', 'NL0000009538']: SI✓,F✓,E✓,BS✓,CF✓\n",
      "2022-02-23 05:55:30 PM: ['PHLY.OL', 'NO0010395577']: SI✓,F✓,E✓,BS✓,CF✓\n",
      "2022-02-23 05:55:33 PM: ['MLPHW.PA', 'FR0000185480']: SI✓,F✓,E✗,BS✓,CF✓\n",
      "2022-02-23 05:55:36 PM: ['MLPHO.PA', 'BE0948608451']: SI✓,F✗,E✗,BS✗,CF✗\n",
      "2022-02-23 05:55:37 PM: ['PHO.OL', 'NO0010000045']: SI✓,F✓,E✓,BS✓,CF✓\n",
      "2022-02-23 05:55:39 PM: ['PIC.BR', 'BE0003807246']: SI✓,F✓,E✓,BS✓,CF✓\n",
      "2022-02-23 05:55:42 PM: ['VAC.PA', 'FR0000073041']: SI✓,F✓,E✓,BS✓,CF✓\n",
      "2022-02-23 05:55:45 PM: ['PPG.OL', 'NO0010735681']: SI✓,F✓,E✗,BS✓,CF✓\n",
      "2022-02-23 05:55:48 PM: ['ALPDX.PA', 'FR0000061608']: SI✓,F✓,E✗,BS✓,CF✓\n",
      "2022-02-23 05:55:48 PM: ['ALPIX.PA', 'FR0011950641']: SI✓,F✓,E✓,BS✓,CF✓\n",
      "2022-02-23 05:55:51 PM: ['MLPLC.PA', 'FR0000030769']: SI✓,F✓,E✗,BS✗,CF✓\n",
      "2022-02-23 05:55:54 PM: ['ALPLA.PA', 'FR0010211037']: SI✓,F✓,E✓,BS✓,CF✓\n",
      "2022-02-23 05:55:56 PM: ['ALPAT.PA', 'FR0010785790']: SI✓,F✓,E✓,BS✓,CF✓\n",
      "2022-02-23 05:55:57 PM: ['PATBS.PA', 'FR0011844067']: SI✗,F✗,E✗,BS✗,CF✗\n"
     ]
    },
    {
     "name": "stdout",
     "output_type": "stream",
     "text": [
      "- PATBS.PA: No data found, symbol may be delisted\n"
     ]
    },
    {
     "name": "stderr",
     "output_type": "stream",
     "text": [
      "2022-02-23 05:56:01 PM: ['PVL.PA', 'FR0013252186']: SI✓,F✓,E✓,BS✓,CF✓\n",
      "2022-02-23 05:56:05 PM: ['POM.PA', 'FR0000124570']: SI✓,F✓,E✓,BS✓,CF✓\n",
      "2022-02-23 05:56:06 PM: ['PMG.OL', 'NO0010890726']: SI✓,F✓,E✗,BS✓,CF✓\n",
      "2022-02-23 05:56:08 PM: ['POL.OL', 'NO0010466022']: SI✓,F✓,E✓,BS✓,CF✓\n",
      "2022-02-23 05:56:09 PM: ['PLT.OL', 'NO0010341712']: SI✓,F✓,E✓,BS✓,CF✓\n",
      "2022-02-23 05:56:14 PM: ['PORF.AS', 'NL0000378669']: SI✓,F✓,E✓,BS✓,CF✓\n",
      "2022-02-23 05:56:17 PM: ['PNL.AS', 'NL0009739416']: SI✓,F✓,E✓,BS✓,CF✓\n",
      "2022-02-23 05:56:18 PM: ['ALPJT.PA', 'FR0000066441']: SI✓,F✓,E✓,BS✓,CF✓\n",
      "2022-02-23 05:56:20 PM: ['POXEL.PA', 'FR0012432516']: SI✓,F✓,E✓,BS✓,CF✓\n",
      "2022-02-23 05:56:20 PM: ['ALPOU.PA', 'FR0013015583']: SI✓,F✓,E✓,BS✓,CF✓\n",
      "2022-02-23 05:56:23 PM: ['PPLAA.AS', 'BMG7209L1000']: SI✗,F✓,E✗,BS✓,CF✓\n",
      "2022-02-23 05:56:27 PM: ['PPLAB.AS', 'BMG7209L1182']: SI✗,F✓,E✗,BS✓,CF✓\n",
      "2022-02-23 05:56:29 PM: ['PPLA.AS', 'US69355L1098']: SI✗,F✓,E✗,BS✓,CF✓\n",
      "2022-02-23 05:56:31 PM: ['PREC.PA', 'FR0014004EC4']: SI✓,F✓,E✓,BS✓,CF✓\n",
      "2022-02-23 05:56:33 PM: ['ALPRE.PA', 'FR0010169920']: SI✓,F✓,E✗,BS✓,CF✓\n",
      "2022-02-23 05:56:36 PM: ['ALPRI.PA', 'FR0004044600']: SI✓,F✓,E✓,BS✓,CF✓\n",
      "2022-02-23 05:56:38 PM: ['PROAC.PA', 'FR0004052561']: SI✓,F✓,E✓,BS✓,CF✓\n",
      "2022-02-23 05:56:41 PM: ['ALPRO.PA', 'FR0010313486']: SI✓,F✓,E✓,BS✓,CF✓\n",
      "2022-02-23 05:56:42 PM: ['PWG.PA', 'FR0012613610']: SI✓,F✓,E✓,BS✓,CF✓\n",
      "2022-02-23 05:56:45 PM: ['PROL.PA', 'FR0010380626']: SI✓,F✓,E✓,BS✓,CF✓\n",
      "2022-02-23 05:56:46 PM: ['PROBT.PA', 'FR0013398617']: SI✗,F✗,E✗,BS✗,CF✗\n",
      "2022-02-23 05:56:49 PM: ['PROBS.PA', 'FR0013268042']: SI✗,F✗,E✗,BS✗,CF✗\n"
     ]
    },
    {
     "name": "stdout",
     "output_type": "stream",
     "text": [
      "- PROBS.PA: No data found for this date range, symbol may be delisted\n"
     ]
    },
    {
     "name": "stderr",
     "output_type": "stream",
     "text": [
      "2022-02-23 05:56:53 PM: ['MLPRI.PA', 'FR0000061376']: SI✓,F✓,E✗,BS✓,CF✓\n",
      "2022-02-23 05:56:55 PM: ['PSMP.BR', 'DE000PSM7770']: SI✓,F✓,E✗,BS✓,CF✓\n",
      "2022-02-23 05:56:55 PM: ['PRS.OL', 'NO0010861990']: SI✓,F✓,E✓,BS✓,CF✓\n"
     ]
    },
    {
     "name": "stdout",
     "output_type": "stream",
     "text": [
      "- PSMP.BR: No data found for this date range, symbol may be delisted\n"
     ]
    },
    {
     "name": "stderr",
     "output_type": "stream",
     "text": [
      "2022-02-23 05:56:57 PM: ['PRX.AS', 'NL0013654783']: SI✓,F✓,E✓,BS✓,CF✓\n",
      "2022-02-23 05:57:00 PM: ['MLPRO.PA', 'CA74375L1058']: SI✗,F✗,E✗,BS✗,CF✗\n",
      "2022-02-23 05:57:00 PM: ['PROT.OL', 'NO0010209331']: SI✓,F✓,E✓,BS✓,CF✓\n"
     ]
    },
    {
     "name": "stdout",
     "output_type": "stream",
     "text": [
      "- MLPRO.PA: No data found, symbol may be delisted\n"
     ]
    },
    {
     "name": "stderr",
     "output_type": "stream",
     "text": [
      "2022-02-23 05:57:07 PM: ['PROXI.OL', 'NO0010893902']: SI✓,F✗,E✗,BS✗,CF✗\n",
      "2022-02-23 05:57:08 PM: ['PZQA.IR', 'IE00B66B5T26']: SI✓,F✓,E✓,BS✓,CF✓\n",
      "2022-02-23 05:57:09 PM: ['PROX.BR', 'BE0003810273']: SI✓,F✓,E✓,BS✓,CF✓\n",
      "2022-02-23 05:57:11 PM: ['PUBBS.PA', 'FR0000312928']: SI✗,F✗,E✗,BS✗,CF✗\n",
      "2022-02-23 05:57:11 PM: ['PRYME.OL', 'NL00150005Z1']: SI✓,F✓,E✓,BS✓,CF✓\n",
      "2022-02-23 05:57:19 PM: ['PYRUM.OL', 'DE000A2G8ZX8']: SI✓,F✗,E✗,BS✗,CF✗\n",
      "2022-02-23 05:57:19 PM: ['PUB.PA', 'FR0000130577']: SI✓,F✓,E✓,BS✓,CF✓\n",
      "2022-02-23 05:57:20 PM: ['QFR.OL', 'NO0003103103']: SI✓,F✓,E✓,BS✓,CF✓\n",
      "2022-02-23 05:57:23 PM: ['QRF.BR', 'BE0974272040']: SI✓,F✓,E✓,BS✓,CF✓\n",
      "2022-02-23 05:57:23 PM: ['QDT.PA', 'FR0000120560']: SI✓,F✓,E✓,BS✓,CF✓\n",
      "2022-02-23 05:57:30 PM: ['ALQP.PA', 'ES0105118006']: SI✓,F✓,E✓,BS✓,CF✓\n",
      "2022-02-23 05:57:30 PM: ['QFUEL.OL', 'NO0010785967']: SI✓,F✓,E✓,BS✓,CF✓\n",
      "2022-02-23 05:57:33 PM: ['ALQGC.PA', 'FR0011648971']: SI✓,F✓,E✓,BS✓,CF✓\n",
      "2022-02-23 05:57:33 PM: ['QUEST.OL', 'NO0011019119']: SI✓,F✗,E✗,BS✗,CF✗\n",
      "2022-02-23 05:57:35 PM: ['QEC.OL', 'CA74836K1003']: SI✓,F✓,E✓,BS✓,CF✓\n",
      "2022-02-23 05:57:41 PM: ['QFG.BR', 'BE0003730448']: SI✓,F✓,E✓,BS✓,CF✓\n",
      "2022-02-23 05:57:42 PM: ['ALQWA.PA', 'FR0010889386']: SI✓,F✓,E✓,BS✓,CF✓\n",
      "2022-02-23 05:57:43 PM: ['QWABS.PA', 'FR0013472677']: SI✗,F✗,E✗,BS✗,CF✗\n",
      "2022-02-23 05:57:44 PM: ['R8P.OL', 'NO0010859689']: SI✓,F✓,E✓,BS✓,CF✓\n",
      "2022-02-23 05:57:46 PM: ['MLRZE.LS', 'PTRIZ0AM0009']: SI✓,F✓,E✗,BS✓,CF✓\n",
      "2022-02-23 05:57:53 PM: ['RAKP.OL', 'GB00BRGBL804']: SI✓,F✓,E✗,BS✓,CF✓\n",
      "2022-02-23 05:57:54 PM: ['RAL.PA', 'FR0000060618']: SI✓,F✓,E✓,BS✓,CF✓\n",
      "2022-02-23 05:57:55 PM: ['RAM.LS', 'PTFRV0AE0004']: SI✓,F✓,E✓,BS✓,CF✓\n",
      "2022-02-23 05:57:56 PM: ['GDS.PA', 'FR0000044471']: SI✓,F✓,E✓,BS✓,CF✓\n",
      "2022-02-23 05:57:58 PM: ['RANA.OL', 'NO0010907389']: SI✓,F✓,E✓,BS✓,CF✓\n",
      "2022-02-23 05:58:05 PM: ['ALRPD.PA', 'GB00BLG2TX24']: SI✓,F✓,E✗,BS✓,CF✓\n",
      "2022-02-23 05:58:05 PM: ['RAND.AS', 'NL0000379121']: SI✓,F✓,E✓,BS✓,CF✓\n",
      "2022-02-23 05:58:07 PM: ['ML350.PA', 'FR0012395457']: SI✓,F✓,E✗,BS✓,CF✓\n",
      "2022-02-23 05:58:08 PM: ['REACH.OL', 'NO0003117202']: SI✓,F✓,E✓,BS✓,CF✓\n",
      "2022-02-23 05:58:10 PM: ['REAL.BR', 'BE0003841583']: SI✓,F✓,E✗,BS✓,CF✓\n",
      "2022-02-23 05:58:17 PM: ['RECSI.OL', 'NO0010112675']: SI✓,F✓,E✓,BS✓,CF✓\n",
      "2022-02-23 05:58:17 PM: ['ALREA.PA', 'FR0011858190']: SI✓,F✓,E✓,BS✓,CF✓\n",
      "2022-02-23 05:58:19 PM: ['RX.PA', 'FR0000120388']: SI✓,F✓,E✓,BS✓,CF✓\n",
      "2022-02-23 05:58:20 PM: ['REC.BR', 'BE0003656676']: SI✓,F✓,E✓,BS✓,CF✓\n",
      "2022-02-23 05:58:21 PM: ['RED.LS', 'PTRED0AP0010']: SI✓,F✓,E✓,BS✓,CF✓\n",
      "2022-02-23 05:58:26 PM: ['REI.BR', 'BE0003829463']: SI✗,F✗,E✗,BS✗,CF✗\n"
     ]
    },
    {
     "name": "stdout",
     "output_type": "stream",
     "text": [
      "- REI.BR: No data found, symbol may be delisted\n"
     ]
    },
    {
     "name": "stderr",
     "output_type": "stream",
     "text": [
      "2022-02-23 05:58:29 PM: ['REINA.AS', 'LU0383812293']: SI✓,F✓,E✗,BS✓,CF✓\n",
      "2022-02-23 05:58:31 PM: ['REN.AS', 'GB00B2B0DG97']: SI✓,F✓,E✓,BS✓,CF✓\n",
      "2022-02-23 05:58:33 PM: ['RCO.PA', 'FR0000130395']: SI✓,F✓,E✓,BS✓,CF✓\n",
      "2022-02-23 05:58:33 PM: ['RENE.LS', 'PTREL0AM0008']: SI✓,F✓,E✓,BS✓,CF✓\n",
      "2022-02-23 05:58:39 PM: ['RNO.PA', 'FR0000131906']: SI✓,F✓,E✓,BS✓,CF✓\n",
      "2022-02-23 05:58:40 PM: ['MLJDL.PA', 'ES0105550000']: SI✗,F✗,E✗,BS✗,CF✗\n"
     ]
    },
    {
     "name": "stdout",
     "output_type": "stream",
     "text": [
      "- MLJDL.PA: No data found, symbol may be delisted\n"
     ]
    },
    {
     "name": "stderr",
     "output_type": "stream",
     "text": [
      "2022-02-23 05:58:41 PM: ['RWI.AS', 'GB00BNR4T868']: SI✓,F✓,E✗,BS✓,CF✓\n",
      "2022-02-23 05:58:45 PM: ['RES.BR', 'BE0003707214']: SI✓,F✓,E✓,BS✓,CF✓\n",
      "2022-02-23 05:58:46 PM: ['RET.BR', 'BE0003720340']: SI✓,F✓,E✓,BS✓,CF✓\n",
      "2022-02-23 05:58:50 PM: ['MLREX.PA', 'FR0000077232']: SI✗,F✗,E✗,BS✗,CF✗\n",
      "2022-02-23 05:58:51 PM: ['ALREW.PA', 'FR0010820274']: SI✓,F✓,E✓,BS✓,CF✓\n",
      "2022-02-23 05:58:53 PM: ['RXL.PA', 'FR0010451203']: SI✓,F✓,E✓,BS✓,CF✓\n",
      "2022-02-23 05:58:57 PM: ['ALRIB.PA', 'FR0000075954']: SI✓,F✓,E✓,BS✓,CF✓\n",
      "2022-02-23 05:58:58 PM: ['RIVER.OL', 'MT0001710103']: SI✓,F✓,E✗,BS✓,CF✓\n",
      "2022-02-23 05:59:01 PM: ['CBR.PA', 'FR0000045619']: SI✗,F✓,E✗,BS✓,CF✓\n",
      "2022-02-23 05:59:02 PM: ['RBT.PA', 'FR0000039091']: SI✓,F✓,E✓,BS✓,CF✓\n",
      "2022-02-23 05:59:05 PM: ['CBE.PA', 'FR0000045601']: SI✓,F✓,E✗,BS✓,CF✓\n",
      "2022-02-23 05:59:08 PM: ['RBO.PA', 'FR0013344173']: SI✓,F✓,E✓,BS✓,CF✓\n",
      "2022-02-23 05:59:10 PM: ['ALROC.PA', 'FR0010523167']: SI✓,F✓,E✓,BS✓,CF✓\n",
      "2022-02-23 05:59:13 PM: ['ROCBT.PA', 'FR0013477593']: SI✗,F✗,E✗,BS✗,CF✗\n",
      "2022-02-23 05:59:13 PM: ['ROMER.OL', 'NO0010808405']: SI✓,F✓,E✗,BS✓,CF✓\n"
     ]
    },
    {
     "name": "stdout",
     "output_type": "stream",
     "text": [
      "- ROMER.OL: No data found for this date range, symbol may be delisted\n"
     ]
    },
    {
     "name": "stderr",
     "output_type": "stream",
     "text": [
      "2022-02-23 05:59:16 PM: ['ROM.OL', 'BMG763301022']: SI✓,F✓,E✓,BS✓,CF✓\n",
      "2022-02-23 05:59:20 PM: ['ROMSB.OL', 'NO0010759988']: SI✓,F✓,E✗,BS✓,CF✓\n",
      "2022-02-23 05:59:21 PM: ['ROOD.AS', 'NL0000440477']: SI✓,F✓,E✓,BS✓,CF✓\n",
      "2022-02-23 05:59:24 PM: ['ENGB.BR', 'BE0003575835']: SI✓,F✓,E✗,BS✓,CF✓\n",
      "2022-02-23 05:59:25 PM: ['ROTH.PA', 'FR0000031684']: SI✓,F✓,E✓,BS✓,CF✓\n",
      "2022-02-23 05:59:25 PM: ['ALRGR.PA', 'FR0000037640']: SI✗,F✗,E✗,BS✗,CF✗\n",
      "2022-02-23 05:59:33 PM: ['ROU.BR', 'BE0003741551']: SI✓,F✓,E✓,BS✓,CF✓\n",
      "2022-02-23 05:59:33 PM: ['MLROU.PA', 'FR0000035750']: SI✓,F✓,E✓,BS✓,CF✓\n",
      "2022-02-23 05:59:35 PM: ['RDSB.AS', 'GB00B03MM408']: SI✓,F✓,E✓,BS✓,CF✓\n",
      "2022-02-23 05:59:36 PM: ['MLRSR.LS', 'ES0105505004']: SI✗,F✗,E✗,BS✗,CF✗\n",
      "2022-02-23 05:59:37 PM: ['RDSA.AS', 'GB00B03MLX29']: SI✓,F✓,E✓,BS✓,CF✓\n",
      "2022-02-23 05:59:44 PM: ['RYA.IR', 'IE00BYTBXV33']: SI✓,F✓,E✓,BS✓,CF✓\n",
      "2022-02-23 05:59:45 PM: ['RUI.PA', 'FR0013269123']: SI✓,F✓,E✓,BS✓,CF✓\n",
      "2022-02-23 05:59:46 PM: ['SCB.LS', 'PTSCB0AM0001']: SI✓,F✓,E✗,BS✓,CF✓\n",
      "2022-02-23 05:59:47 PM: ['SK.PA', 'FR0000121709']: SI✓,F✓,E✓,BS✓,CF✓\n",
      "2022-02-23 05:59:48 PM: ['ALSAF.PA', 'FR0013467123']: SI✓,F✓,E✓,BS✓,CF✓\n",
      "2022-02-23 05:59:56 PM: ['SAF.PA', 'FR0000073272']: SI✓,F✓,E✓,BS✓,CF✓\n",
      "2022-02-23 05:59:57 PM: ['SAGA.OL', 'NO0010572589']: SI✓,F✓,E✓,BS✓,CF✓\n",
      "2022-02-23 05:59:58 PM: ['SGO.PA', 'FR0000125007']: SI✓,F✓,E✓,BS✓,CF✓\n",
      "2022-02-23 06:00:00 PM: ['SABE.PA', 'FR0000060121']: SI✓,F✓,E✗,BS✓,CF✓\n",
      "2022-02-23 06:00:01 PM: ['SALM.OL', 'NO0010310956']: SI✓,F✓,E✓,BS✓,CF✓\n",
      "2022-02-23 06:00:08 PM: ['SALME.OL', 'NO0010892094']: SI✓,F✓,E✓,BS✓,CF✓\n",
      "2022-02-23 06:00:08 PM: ['SACAM.OL', 'CL0002409135']: SI✓,F✓,E✗,BS✓,CF✓\n",
      "2022-02-23 06:00:10 PM: ['SAMS.PA', 'FR0000060071']: SI✓,F✓,E✓,BS✓,CF✓\n",
      "2022-02-23 06:00:12 PM: ['SADG.OL', 'NO0006001007']: SI✓,F✓,E✓,BS✓,CF✓\n",
      "2022-02-23 06:00:12 PM: ['SAN.PA', 'FR0000120578']: SI✓,F✓,E✓,BS✓,CF✓\n",
      "2022-02-23 06:00:20 PM: ['SANNV.PA', 'FR0014006T94']: SI✓,F✓,E✗,BS✓,CF✓\n"
     ]
    },
    {
     "name": "stdout",
     "output_type": "stream",
     "text": [
      "- SANNV.PA: No data found for this date range, symbol may be delisted\n"
     ]
    },
    {
     "name": "stderr",
     "output_type": "stream",
     "text": [
      "2022-02-23 06:00:21 PM: ['ALMER.PA', 'FR0010776617']: SI✓,F✓,E✓,BS✓,CF✓\n",
      "2022-02-23 06:00:22 PM: ['DIM.PA', 'FR0013154002']: SI✓,F✓,E✓,BS✓,CF✓\n",
      "2022-02-23 06:00:24 PM: ['SATS.OL', 'NO0010863285']: SI✓,F✓,E✓,BS✓,CF✓\n",
      "2022-02-23 06:00:25 PM: ['SASNO.OL', 'SE0003366871']: SI✓,F✓,E✓,BS✓,CF✓\n",
      "2022-02-23 06:00:32 PM: ['SAVE.PA', 'FR0000120107']: SI✓,F✓,E✓,BS✓,CF✓\n",
      "2022-02-23 06:00:33 PM: ['MLSDN.PA', 'FR0013155975']: SI✓,F✗,E✗,BS✗,CF✗\n",
      "2022-02-23 06:00:34 PM: ['SBANK.OL', 'NO0010739402']: SI✓,F✓,E✓,BS✓,CF✓\n",
      "2022-02-23 06:00:36 PM: ['SBMO.AS', 'NL0000360618']: SI✓,F✓,E✓,BS✓,CF✓\n",
      "2022-02-23 06:00:37 PM: ['MLSBT.PA', 'FR0004175222']: SI✓,F✓,E✓,BS✓,CF✓\n",
      "2022-02-23 06:00:42 PM: ['MLSHD.PA', 'CH0220529603']: SI✗,F✗,E✗,BS✗,CF✗\n",
      "2022-02-23 06:00:43 PM: ['SCANA.OL', 'NO0003053308']: SI✓,F✓,E✓,BS✓,CF✓\n",
      "2022-02-23 06:00:46 PM: ['SCATC.OL', 'NO0010715139']: SI✓,F✓,E✓,BS✓,CF✓\n",
      "2022-02-23 06:00:47 PM: ['CBSM.PA', 'FR0006239109']: SI✓,F✓,E✓,BS✓,CF✓\n",
      "2022-02-23 06:00:49 PM: ['MLCMI.PA', 'FR0010972091']: SI✓,F✓,E✗,BS✓,CF✓\n",
      "2022-02-23 06:00:54 PM: ['SCHD.BR', 'BE0012378593']: SI✓,F✓,E✗,BS✓,CF✓\n",
      "2022-02-23 06:00:56 PM: ['SCHA.OL', 'NO0003028904']: SI✓,F✓,E✓,BS✓,CF✓\n",
      "2022-02-23 06:00:57 PM: ['SCHB.OL', 'NO0010736879']: SI✓,F✓,E✓,BS✓,CF✓\n",
      "2022-02-23 06:01:00 PM: ['SLB.PA', 'AN8068571086']: SI✓,F✓,E✓,BS✓,CF✓\n",
      "2022-02-23 06:01:02 PM: ['SU.PA', 'FR0000121972']: SI✓,F✓,E✓,BS✓,CF✓\n",
      "2022-02-23 06:01:06 PM: ['MLSCI.PA', 'ES0105592002']: SI✓,F✗,E✗,BS✗,CF✗\n",
      "2022-02-23 06:01:06 PM: ['MLSCH.PA', 'FR0010961920']: SI✓,F✗,E✗,BS✗,CF✗\n",
      "2022-02-23 06:01:09 PM: ['SCR.PA', 'FR0010411983']: SI✓,F✓,E✓,BS✓,CF✓\n",
      "2022-02-23 06:01:11 PM: ['SDSD.OL', 'CY0101550917']: SI✓,F✓,E✓,BS✓,CF✓\n",
      "2022-02-23 06:01:13 PM: ['GEG.OL', 'CY0101162119']: SI✓,F✓,E✓,BS✓,CF✓\n",
      "2022-02-23 06:01:18 PM: ['SEAW7.OL', 'NO0010893803']: SI✓,F✓,E✓,BS✓,CF✓\n",
      "2022-02-23 06:01:18 PM: ['SDRL.OL', 'BMG7998G1069']: SI✓,F✓,E✓,BS✓,CF✓\n",
      "2022-02-23 06:01:22 PM: ['SCHP.PA', 'FR0000039109']: SI✓,F✓,E✓,BS✓,CF✓\n",
      "2022-02-23 06:01:23 PM: ['SGRO.PA', 'GB00B5ZN1N88']: SI✓,F✓,E✗,BS✓,CF✓\n",
      "2022-02-23 06:01:25 PM: ['ALSEI.PA', 'IT0005353484']: SI✓,F✓,E✗,BS✓,CF✓\n",
      "2022-02-23 06:01:29 PM: ['SLCO.PA', 'FR0000065492']: SI✗,F✓,E✗,BS✓,CF✓\n",
      "2022-02-23 06:01:30 PM: ['SELER.PA', 'FR0004175842']: SI✓,F✓,E✓,BS✓,CF✓\n",
      "2022-02-23 06:01:34 PM: ['SSG.OL', 'NO0010781206']: SI✓,F✓,E✓,BS✓,CF✓\n",
      "2022-02-23 06:01:35 PM: ['SBO.OL', 'NO0010612450']: SI✓,F✓,E✓,BS✓,CF✓\n",
      "2022-02-23 06:01:37 PM: ['MLSMP.PA', 'IT0005072811']: SI✗,F✗,E✗,BS✗,CF✗\n",
      "2022-02-23 06:01:37 PM: ['SEM.LS', 'PTSEM0AM0004']: SI✓,F✓,E✓,BS✓,CF✓\n",
      "2022-02-23 06:01:41 PM: ['ALSEN.PA', 'FR0012596468']: SI✓,F✓,E✓,BS✓,CF✓\n",
      "2022-02-23 06:01:45 PM: ['MLSEQ.PA', 'NL0010623518']: SI✓,F✓,E✗,BS✓,CF✓\n",
      "2022-02-23 06:01:46 PM: ['SEQUA.BR', 'BE0974340722']: SI✓,F✓,E✓,BS✓,CF✓\n",
      "2022-02-23 06:01:49 PM: ['SEFER.PA', 'FR0011950682']: SI✓,F✓,E✓,BS✓,CF✓\n",
      "2022-02-23 06:01:50 PM: ['ALSER.PA', 'FR0000073728']: SI✓,F✓,E✓,BS✓,CF✓\n",
      "2022-02-23 06:01:53 PM: ['STTL.BR', 'BE0974261902']: SI✗,F✗,E✗,BS✗,CF✗\n"
     ]
    },
    {
     "name": "stdout",
     "output_type": "stream",
     "text": [
      "- STTL.BR: No data found, symbol may be delisted\n"
     ]
    },
    {
     "name": "stderr",
     "output_type": "stream",
     "text": [
      "2022-02-23 06:01:54 PM: ['SESG.PA', 'LU0088087324']: SI✓,F✓,E✓,BS✓,CF✓\n",
      "2022-02-23 06:01:57 PM: ['SESL.PA', 'FR0010282822']: SI✓,F✓,E✓,BS✓,CF✓\n",
      "2022-02-23 06:02:01 PM: ['SRP.PA', 'FR0013006558']: SI✓,F✓,E✓,BS✓,CF✓\n",
      "2022-02-23 06:02:01 PM: ['SHLF.OL', 'KYG236271055']: SI✓,F✓,E✓,BS✓,CF✓\n",
      "2022-02-23 06:02:06 PM: ['ALBFR.PA', 'FR0010202606']: SI✓,F✓,E✓,BS✓,CF✓\n",
      "2022-02-23 06:02:06 PM: ['SHUR.BR', 'LU1883301340']: SI✓,F✓,E✓,BS✓,CF✓\n",
      "2022-02-23 06:02:08 PM: ['SIOFF.OL', 'KYG812291253']: SI✓,F✓,E✓,BS✓,CF✓\n",
      "2022-02-23 06:02:13 PM: ['SIFG.AS', 'NL0011660485']: SI✓,F✓,E✓,BS✓,CF✓\n",
      "2022-02-23 06:02:14 PM: ['SIA.BR', 'DE0007236101']: SI✓,F✓,E✗,BS✓,CF✓\n",
      "2022-02-23 06:02:17 PM: ['ALGIR.PA', 'FR0000060790']: SI✓,F✓,E✗,BS✓,CF✓\n",
      "2022-02-23 06:02:18 PM: ['LIGHT.AS', 'NL0011821392']: SI✓,F✓,E✓,BS✓,CF✓\n",
      "2022-02-23 06:02:21 PM: ['SII.PA', 'FR0000074122']: SI✓,F✓,E✓,BS✓,CF✓\n",
      "2022-02-23 06:02:25 PM: ['MLSIL.PA', 'FR0010679365']: SI✓,F✗,E✗,BS✗,CF✗\n",
      "2022-02-23 06:02:25 PM: ['SIKRI.OL', 'NO0010881717']: SI✓,F✓,E✓,BS✓,CF✓\n",
      "2022-02-23 06:02:25 PM: ['MLMAT.PA', 'CI0000000832']: SI✗,F✗,E✗,BS✗,CF✗\n"
     ]
    },
    {
     "name": "stdout",
     "output_type": "stream",
     "text": [
      "- MLMAT.PA: No data found, symbol may be delisted\n"
     ]
    },
    {
     "name": "stderr",
     "output_type": "stream",
     "text": [
      "2022-02-23 06:02:30 PM: ['SIP.BR', 'BE0003898187']: SI✓,F✓,E✓,BS✓,CF✓\n",
      "2022-02-23 06:02:33 PM: ['SKAND.OL', 'NO0010931207']: SI✓,F✓,E✗,BS✓,CF✓\n",
      "2022-02-23 06:02:35 PM: ['SKI.OL', 'NO0010781560']: SI✓,F✓,E✓,BS✓,CF✓\n",
      "2022-02-23 06:02:36 PM: ['SKUE.OL', 'NO0006001809']: SI✓,F✓,E✓,BS✓,CF✓\n",
      "2022-02-23 06:02:37 PM: ['SLIGR.AS', 'NL0000817179']: SI✓,F✓,E✓,BS✓,CF✓\n",
      "2022-02-23 06:02:42 PM: ['MLSML.PA', 'FR0011131788']: SI✓,F✓,E✗,BS✓,CF✓\n",
      "2022-02-23 06:02:42 PM: ['SMLBS.PA', 'FR0010649228']: SI✗,F✗,E✗,BS✗,CF✗\n"
     ]
    },
    {
     "name": "stdout",
     "output_type": "stream",
     "text": [
      "- SMLBS.PA: No data found, symbol may be delisted\n"
     ]
    },
    {
     "name": "stderr",
     "output_type": "stream",
     "text": [
      "2022-02-23 06:02:47 PM: ['SMCRT.OL', 'NO0011008971']: SI✓,F✓,E✓,BS✓,CF✓\n",
      "2022-02-23 06:02:49 PM: ['SMOP.OL', 'NO0011012502']: SI✓,F✓,E✓,BS✓,CF✓\n",
      "2022-02-23 06:02:50 PM: ['SMAR.BR', 'BE0974323553']: SI✓,F✓,E✓,BS✓,CF✓\n",
      "2022-02-23 06:02:54 PM: ['SMCP.PA', 'FR0013214145']: SI✓,F✓,E✓,BS✓,CF✓\n",
      "2022-02-23 06:02:54 PM: ['SMTPC.PA', 'FR0004016699']: SI✓,F✓,E✓,BS✓,CF✓\n",
      "2022-02-23 06:02:59 PM: ['SK3.IR', 'IE00B1RR8406']: SI✓,F✓,E✓,BS✓,CF✓\n",
      "2022-02-23 06:03:00 PM: ['SNOW.AS', 'NL0010627865']: SI✓,F✓,E✓,BS✓,CF✓\n",
      "2022-02-23 06:03:01 PM: ['SFCA.PA', 'FR0010209809']: SI✓,F✓,E✗,BS✓,CF✓\n",
      "2022-02-23 06:03:05 PM: ['GLE.PA', 'FR0000130809']: SI✓,F✓,E✓,BS✓,CF✓\n",
      "2022-02-23 06:03:06 PM: ['SW.PA', 'FR0000121220']: SI✓,F✓,E✓,BS✓,CF✓\n",
      "2022-02-23 06:03:10 PM: ['SEC.PA', 'FR0000078321']: SI✓,F✓,E✓,BS✓,CF✓\n",
      "2022-02-23 06:03:13 PM: ['SOF.BR', 'BE0003717312']: SI✓,F✓,E✓,BS✓,CF✓\n",
      "2022-02-23 06:03:14 PM: ['SOFT.BR', 'BE0003773877']: SI✓,F✓,E✓,BS✓,CF✓\n",
      "2022-02-23 06:03:17 PM: ['SOFTX.OL', 'NO0010811961']: SI✓,F✓,E✗,BS✓,CF✓\n",
      "2022-02-23 06:03:17 PM: ['SOG.PA', 'FR0000065864']: SI✓,F✓,E✓,BS✓,CF✓\n",
      "2022-02-23 06:03:24 PM: ['SOGN.OL', 'NO0006000603']: SI✓,F✓,E✓,BS✓,CF✓\n",
      "2022-02-23 06:03:25 PM: ['SOI.PA', 'FR0013227113']: SI✓,F✓,E✓,BS✓,CF✓\n",
      "2022-02-23 06:03:27 PM: ['LOCAL.PA', 'FR00140006O9']: SI✓,F✓,E✓,BS✓,CF✓\n",
      "2022-02-23 06:03:29 PM: ['SOLON.OL', 'NO0003106700']: SI✓,F✓,E✓,BS✓,CF✓\n",
      "2022-02-23 06:03:30 PM: ['SOFF.OL', 'NO0003080608']: SI✓,F✓,E✓,BS✓,CF✓\n",
      "2022-02-23 06:03:36 PM: ['S30.PA', 'FR0013379484']: SI✓,F✓,E✓,BS✓,CF✓\n",
      "2022-02-23 06:03:37 PM: ['SOLV.BR', 'BE0003545531']: SI✓,F✓,E✓,BS✓,CF✓\n",
      "2022-02-23 06:03:39 PM: ['SOLB.BR', 'BE0003470755']: SI✓,F✓,E✓,BS✓,CF✓\n",
      "2022-02-23 06:03:41 PM: ['SO.PA', 'FR0013199916']: SI✓,F✓,E✓,BS✓,CF✓\n",
      "2022-02-23 06:03:42 PM: ['SON.LS', 'PTSON0AM0001']: SI✓,F✓,E✓,BS✓,CF✓\n",
      "2022-02-23 06:03:47 PM: ['SNC.LS', 'PTSNC0AM0006']: SI✓,F✓,E✓,BS✓,CF✓\n",
      "2022-02-23 06:03:49 PM: ['SNG.LS', 'PTSNG0AM0007']: SI✓,F✓,E✗,BS✓,CF✓\n",
      "2022-02-23 06:03:49 PM: ['SOHO.OL', 'NO0010927288']: SI✓,F✓,E✓,BS✓,CF✓\n",
      "2022-02-23 06:03:53 PM: ['SOP.PA', 'FR0000050809']: SI✓,F✓,E✓,BS✓,CF✓\n",
      "2022-02-23 06:03:54 PM: ['FPN.PA', 'FR0011277391']: SI✓,F✓,E✓,BS✓,CF✓\n",
      "2022-02-23 06:04:00 PM: ['SB68.OL', 'NO0010887110']: SI✓,F✓,E✗,BS✓,CF✓\n",
      "2022-02-23 06:04:01 PM: ['SPA.BR', 'BE0003798155']: SI✓,F✓,E✓,BS✓,CF✓\n",
      "2022-02-23 06:04:01 PM: ['MING.OL', 'NO0006390301']: SI✓,F✓,E✓,BS✓,CF✓\n",
      "2022-02-23 06:04:05 PM: ['SRBNK.OL', 'NO0010631567']: SI✓,F✓,E✓,BS✓,CF✓\n",
      "2022-02-23 06:04:07 PM: ['SOON.OL', 'NO0006000207']: SI✓,F✓,E✓,BS✓,CF✓\n",
      "2022-02-23 06:04:13 PM: ['MORG.OL', 'NO0006390004']: SI✓,F✓,E✓,BS✓,CF✓\n",
      "2022-02-23 06:04:14 PM: ['SOR.OL', 'NO0006001502']: SI✓,F✓,E✓,BS✓,CF✓\n",
      "2022-02-23 06:04:15 PM: ['SVEG.OL', 'NO0006000900']: SI✓,F✓,E✓,BS✓,CF✓\n",
      "2022-02-23 06:04:19 PM: ['ALSPT.PA', 'FR00140043Y1']: SI✓,F✓,E✓,BS✓,CF✓\n",
      "2022-02-23 06:04:19 PM: ['SPOG.OL', 'NO0006222009']: SI✓,F✓,E✓,BS✓,CF✓\n",
      "2022-02-23 06:04:24 PM: ['SNOR.OL', 'NO0010691660']: SI✓,F✓,E✓,BS✓,CF✓\n",
      "2022-02-23 06:04:27 PM: ['HELG.OL', 'NO0010029804']: SI✓,F✓,E✓,BS✓,CF✓\n",
      "2022-02-23 06:04:27 PM: ['SPOL.OL', 'NO0010751910']: SI✓,F✓,E✓,BS✓,CF✓\n",
      "2022-02-23 06:04:32 PM: ['RING.OL', 'NO0006390400']: SI✓,F✓,E✓,BS✓,CF✓\n",
      "2022-02-23 06:04:33 PM: ['NONG.OL', 'NO0006000801']: SI✓,F✓,E✓,BS✓,CF✓\n",
      "2022-02-23 06:04:37 PM: ['SOAG.OL', 'NO0010285562']: SI✓,F✓,E✓,BS✓,CF✓\n",
      "2022-02-23 06:04:40 PM: ['MLSRP.PA', 'FR0000054371']: SI✓,F✓,E✗,BS✓,CF✓\n",
      "2022-02-23 06:04:40 PM: ['SPIE.PA', 'FR0012757854']: SI✓,F✓,E✓,BS✓,CF✓\n",
      "2022-02-23 06:04:42 PM: ['SGDBS.PA', 'FR0014003UB4']: SI✗,F✗,E✗,BS✗,CF✗\n",
      "2022-02-23 06:04:44 PM: ['ALSGD.PA', 'FR0011464452']: SI✓,F✓,E✓,BS✓,CF✓\n",
      "2022-02-23 06:04:51 PM: ['ALSPW.PA', 'FR0011398874']: SI✓,F✓,E✓,BS✓,CF✓\n",
      "2022-02-23 06:04:51 PM: ['SPR1T.AS', 'NL0015000NL9']: SI✗,F✗,E✗,BS✗,CF✗\n"
     ]
    },
    {
     "name": "stdout",
     "output_type": "stream",
     "text": [
      "- SPR1T.AS: No data found, symbol may be delisted\n"
     ]
    },
    {
     "name": "stderr",
     "output_type": "stream",
     "text": [
      "2022-02-23 06:04:51 PM: ['SPR1.AS', 'NL0015000NM7']: SI✓,F✗,E✗,BS✗,CF✗\n",
      "2022-02-23 06:04:52 PM: ['SCP.LS', 'PTSCP0AM0001']: SI✓,F✓,E✓,BS✓,CF✓\n",
      "2022-02-23 06:04:53 PM: ['SPR1W.AS', 'NL0015000NK1']: SI✗,F✗,E✗,BS✗,CF✗\n"
     ]
    },
    {
     "name": "stdout",
     "output_type": "stream",
     "text": [
      "- SPR1W.AS: No data found, symbol may be delisted\n"
     ]
    },
    {
     "name": "stderr",
     "output_type": "stream",
     "text": [
      "2022-02-23 06:05:03 PM: ['STATT.OL', 'NO0010775844']: SI✓,F✓,E✗,BS✓,CF✓\n",
      "2022-02-23 06:05:03 PM: ['DPT.PA', 'FR0000054199']: SI✓,F✓,E✓,BS✓,CF✓\n",
      "2022-02-23 06:05:05 PM: ['STF.PA', 'FR0000064271']: SI✓,F✓,E✓,BS✓,CF✓\n",
      "2022-02-23 06:05:05 PM: ['SQI.PA', 'FR0011289040']: SI✓,F✓,E✓,BS✓,CF✓\n",
      "2022-02-23 06:05:05 PM: ['STLA.PA', 'NL00150001Q9']: SI✓,F✓,E✗,BS✓,CF✓\n",
      "2022-02-23 06:05:16 PM: ['STRN.AS', 'NL0000336303']: SI✓,F✓,E✓,BS✓,CF✓\n",
      "2022-02-23 06:05:17 PM: ['STM.PA', 'NL0000226223']: SI✓,F✓,E✓,BS✓,CF✓\n",
      "2022-02-23 06:05:17 PM: ['STB.OL', 'NO0003053605']: SI✓,F✓,E✓,BS✓,CF✓\n",
      "2022-02-23 06:05:18 PM: ['SNI.OL', 'BMG850801025']: SI✓,F✓,E✓,BS✓,CF✓\n",
      "2022-02-23 06:05:19 PM: ['ALSAS.PA', 'FR0000074775']: SI✓,F✓,E✓,BS✓,CF✓\n",
      "2022-02-23 06:05:28 PM: ['MLSTR.PA', 'FR0000063976']: SI✓,F✓,E✗,BS✗,CF✓\n",
      "2022-02-23 06:05:28 PM: ['ALSTW.PA', 'FR0010528059']: SI✓,F✓,E✓,BS✓,CF✓\n",
      "2022-02-23 06:05:30 PM: ['STRO.OL', 'NO0010098247']: SI✓,F✓,E✓,BS✓,CF✓\n",
      "2022-02-23 06:05:31 PM: ['SUBC.OL', 'LU0075646355']: SI✓,F✓,E✓,BS✓,CF✓\n",
      "2022-02-23 06:05:31 PM: ['SEV.PA', 'FR0010613471']: SI✓,F✓,E✓,BS✓,CF✓\n",
      "2022-02-23 06:05:39 PM: ['MLSUM.PA', 'GB00B8GJBS16']: SI✓,F✓,E✗,BS✓,CF✓\n",
      "2022-02-23 06:05:40 PM: ['SUNSB.OL', 'NO0010672900']: SI✓,F✓,E✗,BS✓,CF✓\n",
      "2022-02-23 06:05:42 PM: ['SWP.PA', 'FR0004180578']: SI✓,F✓,E✓,BS✓,CF✓\n",
      "2022-02-23 06:05:43 PM: ['AIID.IR', 'US8730483000']: SI✓,F✓,E✗,BS✓,CF✓\n",
      "2022-02-23 06:05:43 PM: ['SDG.PA', 'FR0000032658']: SI✓,F✓,E✓,BS✓,CF✓\n",
      "2022-02-23 06:05:51 PM: ['TKTT.PA', 'FR0004188670']: SI✓,F✓,E✓,BS✓,CF✓\n",
      "2022-02-23 06:05:52 PM: ['TRVX.OL', 'NO0010689326']: SI✓,F✓,E✓,BS✓,CF✓\n",
      "2022-02-23 06:05:53 PM: ['TECBS.PA', 'FR0013526225']: SI✗,F✗,E✗,BS✗,CF✗\n",
      "2022-02-23 06:05:54 PM: ['TAYN.PA', 'FR0000063307']: SI✓,F✓,E✗,BS✓,CF✓\n",
      "2022-02-23 06:05:54 PM: ['MLTEA.PA', 'FR0000033466']: SI✓,F✓,E✗,BS✓,CF✓\n",
      "2022-02-23 06:06:03 PM: ['TE.PA', 'NL0014559478']: SI✓,F✓,E✓,BS✓,CF✓\n",
      "2022-02-23 06:06:04 PM: ['TCH.PA', 'FR0013505062']: SI✓,F✓,E✓,BS✓,CF✓\n",
      "2022-02-23 06:06:05 PM: ['TECH.OL', 'NO0003095309']: SI✓,F✓,E✓,BS✓,CF✓\n",
      "2022-02-23 06:06:05 PM: ['FTI.PA', 'GB00BDSFG982']: SI✓,F✓,E✓,BS✓,CF✓\n",
      "2022-02-23 06:06:07 PM: ['TECO.OL', 'NO0010887516']: SI✓,F✓,E✓,BS✓,CF✓\n",
      "2022-02-23 06:06:16 PM: ['TDSA.LS', 'PTTD10AM0000']: SI✓,F✓,E✓,BS✓,CF✓\n",
      "2022-02-23 06:06:16 PM: ['TEKNA.OL', 'NO0010951577']: SI✓,F✗,E✗,BS✗,CF✗\n",
      "2022-02-23 06:06:18 PM: ['TIT.BR', 'IT0003497168']: SI✓,F✓,E✗,BS✓,CF✓\n",
      "2022-02-23 06:06:18 PM: ['TFA.BR', 'ES0178430E18']: SI✓,F✓,E✗,BS✓,CF✓\n",
      "2022-02-23 06:06:19 PM: ['TNET.BR', 'BE0003826436']: SI✓,F✓,E✓,BS✓,CF✓\n",
      "2022-02-23 06:06:27 PM: ['TEL.OL', 'NO0010063308']: SI✓,F✓,E✓,BS✓,CF✓\n",
      "2022-02-23 06:06:28 PM: ['TEP.PA', 'FR0000051807']: SI✓,F✓,E✓,BS✓,CF✓\n",
      "2022-02-23 06:06:30 PM: ['MLVST.PA', 'FR0011076595']: SI✓,F✓,E✗,BS✓,CF✓\n",
      "2022-02-23 06:06:30 PM: ['TVRB.PA', 'CH0008175645']: SI✓,F✓,E✓,BS✓,CF✓\n",
      "2022-02-23 06:06:31 PM: ['TERB.BR', 'BE0003573814']: SI✓,F✓,E✓,BS✓,CF✓\n",
      "2022-02-23 06:06:38 PM: ['TCO.IR', 'GB00BLGZ9862']: SI✗,F✗,E✗,BS✗,CF✗\n",
      "2022-02-23 06:06:40 PM: ['TESB.BR', 'BE0003555639']: SI✓,F✓,E✓,BS✓,CF✓\n",
      "2022-02-23 06:06:42 PM: ['TEXF.BR', 'BE0974263924']: SI✓,F✓,E✓,BS✓,CF✓\n",
      "2022-02-23 06:06:42 PM: ['TFG.AS', 'GG00B1RMC548']: SI✓,F✓,E✓,BS✓,CF✓\n",
      "2022-02-23 06:06:42 PM: ['TFI.PA', 'FR0000054900']: SI✓,F✓,E✓,BS✓,CF✓\n",
      "2022-02-23 06:06:50 PM: ['TFF.PA', 'FR0013295789']: SI✓,F✓,E✓,BS✓,CF✓\n",
      "2022-02-23 06:06:52 PM: ['TGS.OL', 'NO0003078800']: SI✓,F✓,E✓,BS✓,CF✓\n",
      "2022-02-23 06:06:53 PM: ['HO.PA', 'FR0000121329']: SI✓,F✓,E✓,BS✓,CF✓\n",
      "2022-02-23 06:06:54 PM: ['KING.OL', 'NL00150001S5']: SI✓,F✓,E✓,BS✓,CF✓\n",
      "2022-02-23 06:06:54 PM: ['ALTBG.PA', 'FR0011053636']: SI✓,F✓,E✓,BS✓,CF✓\n",
      "2022-02-23 06:07:02 PM: ['TBGBS.PA', 'FR00140065G1']: SI✗,F✗,E✗,BS✗,CF✗\n",
      "2022-02-23 06:07:02 PM: ['NVG.LS', 'PTPTI0AM0006']: SI✓,F✓,E✓,BS✓,CF✓\n",
      "2022-02-23 06:07:05 PM: ['ALTHE.PA', 'FR0010120402']: SI✓,F✓,E✓,BS✓,CF✓\n",
      "2022-02-23 06:07:05 PM: ['ALTHX.PA', 'FR0013286259']: SI✓,F✓,E✓,BS✓,CF✓\n",
      "2022-02-23 06:07:06 PM: ['ALTER.PA', 'FR0004197747']: SI✓,F✓,E✓,BS✓,CF✓\n",
      "2022-02-23 06:07:13 PM: ['ALVET.PA', 'BE0974387194']: SI✓,F✓,E✓,BS✓,CF✓\n",
      "2022-02-23 06:07:15 PM: ['THEP.PA', 'FR0013333432']: SI✓,F✓,E✓,BS✓,CF✓\n",
      "2022-02-23 06:07:16 PM: ['TBIRD.AS', 'VGG885761061']: SI✓,F✓,E✓,BS✓,CF✓\n",
      "2022-02-23 06:07:17 PM: ['TIE.AS', 'NL0010389508']: SI✓,F✓,E✓,BS✓,CF✓\n",
      "2022-02-23 06:07:18 PM: ['TIETO.OL', 'FI0009000277']: SI✓,F✓,E✗,BS✓,CF✓\n",
      "2022-02-23 06:07:26 PM: ['TKO.PA', 'FR0013230612']: SI✓,F✓,E✓,BS✓,CF✓\n",
      "2022-02-23 06:07:26 PM: ['TINC.BR', 'BE0974282148']: SI✓,F✓,E✓,BS✓,CF✓\n",
      "2022-02-23 06:07:28 PM: ['TIPI.PA', 'FR0000066482']: SI✓,F✓,E✓,BS✓,CF✓\n",
      "2022-02-23 06:07:29 PM: ['TISN.BR', 'IT0004513666']: SI✓,F✗,E✗,BS✗,CF✗\n",
      "2022-02-23 06:07:30 PM: ['TITC.BR', 'BE0974338700']: SI✓,F✓,E✓,BS✓,CF✓\n",
      "2022-02-23 06:07:37 PM: ['ALTIV.PA', 'FR0000060949']: SI✓,F✓,E✓,BS✓,CF✓\n",
      "2022-02-23 06:07:38 PM: ['TWEKA.AS', 'NL0000852523']: SI✓,F✓,E✓,BS✓,CF✓\n",
      "2022-02-23 06:07:39 PM: ['ALTLX.PA', 'LU0394945660']: SI✗,F✗,E✗,BS✗,CF✗\n",
      "2022-02-23 06:07:40 PM: ['TOM2.AS', 'NL0013332471']: SI✓,F✓,E✓,BS✓,CF✓\n",
      "2022-02-23 06:07:40 PM: ['TOM.OL', 'NO0005668905']: SI✓,F✓,E✓,BS✓,CF✓\n",
      "2022-02-23 06:07:49 PM: ['ALTBM.PA', 'FR0011668821']: SI✓,F✓,E✗,BS✓,CF✓\n",
      "2022-02-23 06:07:49 PM: ['ALTOO.PA', 'FR00140062B9']: SI✓,F✓,E✗,BS✓,CF✓\n",
      "2022-02-23 06:07:51 PM: ['TTE.PA', 'FR0000120271']: SI✓,F✓,E✓,BS✓,CF✓\n",
      "2022-02-23 06:07:52 PM: ['EC.PA', 'GA0000121459']: SI✓,F✓,E✓,BS✓,CF✓\n",
      "2022-02-23 06:07:53 PM: ['TOTG.OL', 'NO0006001205']: SI✓,F✓,E✓,BS✓,CF✓\n",
      "2022-02-23 06:08:01 PM: ['EIFF.PA', 'FR0000036816']: SI✓,F✓,E✓,BS✓,CF✓\n",
      "2022-02-23 06:08:01 PM: ['TOUP.PA', 'FR0000033003']: SI✓,F✓,E✓,BS✓,CF✓\n",
      "2022-02-23 06:08:01 PM: ['MLPSH.PA', 'FR0011040690']: SI✗,F✗,E✗,BS✗,CF✗\n",
      "2022-02-23 06:08:03 PM: ['MLABO.PA', 'FR0010621722']: SI✓,F✓,E✓,BS✓,CF✓\n",
      "2022-02-23 06:08:04 PM: ['SCT.LS', 'PTSCT0AP0018']: SI✓,F✓,E✗,BS✓,CF✓\n",
      "2022-02-23 06:08:12 PM: ['MLTRA.PA', 'FR0000031866']: SI✓,F✓,E✗,BS✓,CF✓\n",
      "2022-02-23 06:08:12 PM: ['TRAN.PA', 'FR00140039U7']: SI✓,F✗,E✗,BS✗,CF✗\n",
      "2022-02-23 06:08:12 PM: ['TNG.PA', 'FR0005175080']: SI✓,F✓,E✓,BS✓,CF✓\n",
      "2022-02-23 06:08:14 PM: ['TRANW.PA', 'FR0014003AC4']: SI✗,F✗,E✗,BS✗,CF✗\n",
      "2022-02-23 06:08:16 PM: ['TRE.OL', 'NO0010763550']: SI✓,F✓,E✗,BS✓,CF✓\n",
      "2022-02-23 06:08:24 PM: ['TRI.PA', 'FR0005691656']: SI✓,F✓,E✓,BS✓,CF✓\n",
      "2022-02-23 06:08:25 PM: ['ALTRI.PA', 'FR0010397901']: SI✓,F✓,E✓,BS✓,CF✓\n",
      "2022-02-23 06:08:25 PM: ['ALTRO.PA', 'FR0004175099']: SI✓,F✓,E✓,BS✓,CF✓\n",
      "2022-02-23 06:08:25 PM: ['MLTRO.PA', 'FR0000031106']: SI✓,F✓,E✓,BS✓,CF✓\n",
      "2022-02-23 06:08:27 PM: ['ALTTI.PA', 'FR0010383877']: SI✓,F✓,E✓,BS✓,CF✓\n",
      "2022-02-23 06:08:36 PM: ['TUB.BR', 'BE0003823409']: SI✓,F✓,E✓,BS✓,CF✓\n",
      "2022-02-23 06:08:37 PM: ['TYSB.OL', 'NO0010731615']: SI✓,F✓,E✗,BS✓,CF✓\n",
      "2022-02-23 06:08:38 PM: ['TQW.IR', 'GB0001500809']: SI✓,F✗,E✗,BS✗,CF✗\n",
      "2022-02-23 06:08:39 PM: ['ALTXC.PA', 'FR0010654087']: SI✓,F✓,E✓,BS✓,CF✓\n",
      "2022-02-23 06:08:40 PM: ['ALU10.PA', 'FR0000079147']: SI✓,F✓,E✓,BS✓,CF✓\n",
      "2022-02-23 06:08:47 PM: ['UBI.PA', 'FR0000054470']: SI✓,F✓,E✓,BS✓,CF✓\n",
      "2022-02-23 06:08:50 PM: ['PNSB.BR', 'BE0003838555']: SI✓,F✓,E✓,BS✓,CF✓\n",
      "2022-02-23 06:08:50 PM: ['ALUCR.PA', 'FR0011070457']: SI✓,F✓,E✓,BS✓,CF✓\n",
      "2022-02-23 06:08:52 PM: ['ULTI.OL', 'NO0010851603']: SI✓,F✓,E✓,BS✓,CF✓\n",
      "2022-02-23 06:08:52 PM: ['UCB.BR', 'BE0003739530']: SI✓,F✓,E✓,BS✓,CF✓\n",
      "2022-02-23 06:08:59 PM: ['MLUMG.PA', 'FR0011776889']: SI✓,F✓,E✗,BS✓,CF✓\n",
      "2022-02-23 06:09:01 PM: ['ALUMS.PA', 'FR0013263878']: SI✓,F✓,E✓,BS✓,CF✓\n",
      "2022-02-23 06:09:02 PM: ['UMG.AS', 'NL0015000IY2']: SI✓,F✓,E✓,BS✓,CF✓\n",
      "2022-02-23 06:09:03 PM: ['UMI.BR', 'BE0974320526']: SI✓,F✓,E✓,BS✓,CF✓\n",
      "2022-02-23 06:09:04 PM: ['MLUMH.PA', 'FR0005783503']: SI✓,F✓,E✗,BS✓,CF✓\n",
      "2022-02-23 06:09:12 PM: ['URW.AS', 'FR0013326246']: SI✓,F✓,E✓,BS✓,CF✓\n",
      "2022-02-23 06:09:12 PM: ['UNBL.PA', 'FR0000054215']: SI✓,F✓,E✗,BS✓,CF✓\n",
      "2022-02-23 06:09:12 PM: ['UPG.BR', 'BE0974371032']: SI✓,F✓,E✓,BS✓,CF✓\n",
      "2022-02-23 06:09:16 PM: ['UNA.AS', 'GB00B10RZP78']: SI✓,F✓,E✓,BS✓,CF✓\n",
      "2022-02-23 06:09:16 PM: ['UFF.PA', 'FR0000034548']: SI✓,F✓,E✓,BS✓,CF✓\n",
      "2022-02-23 06:09:23 PM: ['UNPA.BR', 'US9078181081']: SI✓,F✓,E✗,BS✓,CF✓\n"
     ]
    },
    {
     "name": "stdout",
     "output_type": "stream",
     "text": [
      "- UNPA.BR: No data found for this date range, symbol may be delisted\n"
     ]
    },
    {
     "name": "stderr",
     "output_type": "stream",
     "text": [
      "2022-02-23 06:09:25 PM: ['UPR.IR', 'IE00BJ5FQX74']: SI✓,F✓,E✓,BS✓,CF✓\n",
      "2022-02-23 06:09:25 PM: ['FPG.PA', 'FR0000074197']: SI✓,F✓,E✓,BS✓,CF✓\n",
      "2022-02-23 06:09:28 PM: ['ALUNT.PA', 'FR0012709160']: SI✓,F✓,E✗,BS✓,CF✓\n",
      "2022-02-23 06:09:28 PM: ['ALUPG.PA', 'FR0010337865']: SI✓,F✓,E✓,BS✓,CF✓\n",
      "2022-02-23 06:09:35 PM: ['ALUVI.PA', 'FR0011898584']: SI✓,F✓,E✓,BS✓,CF✓\n",
      "2022-02-23 06:09:37 PM: ['VAF.LS', 'PTVAA0AM0019']: SI✓,F✓,E✓,BS✓,CF✓\n",
      "2022-02-23 06:09:37 PM: ['VLK.AS', 'NL0000302636']: SI✓,F✓,E✓,BS✓,CF✓\n",
      "2022-02-23 06:09:40 PM: ['ALVAL.PA', 'FR0013254851']: SI✓,F✓,E✓,BS✓,CF✓\n",
      "2022-02-23 06:09:40 PM: ['FR.PA', 'FR0013176526']: SI✓,F✓,E✓,BS✓,CF✓\n",
      "2022-02-23 06:09:43 PM: ['VKBS.PA', 'FR00140030K7']: SI✗,F✗,E✗,BS✗,CF✗\n"
     ]
    },
    {
     "name": "stdout",
     "output_type": "stream",
     "text": [
      "- VKBS.PA: No data found, symbol may be delisted\n"
     ]
    },
    {
     "name": "stderr",
     "output_type": "stream",
     "text": [
      "2022-02-23 06:09:47 PM: ['VK.PA', 'FR0013506730']: SI✓,F✗,E✗,BS✗,CF✗\n",
      "2022-02-23 06:09:48 PM: ['MLVAL.PA', 'FR0012833770']: SI✗,F✗,E✗,BS✗,CF✗\n",
      "2022-02-23 06:09:48 PM: ['VLA.PA', 'FR0004056851']: SI✓,F✓,E✓,BS✓,CF✓\n",
      "2022-02-23 06:09:53 PM: ['VALUE.AS', 'NL0010661864']: SI✓,F✓,E✓,BS✓,CF✓\n",
      "2022-02-23 06:09:55 PM: ['PREVA.AS', 'NL0015118803']: SI✓,F✓,E✗,BS✓,CF✓\n",
      "2022-02-23 06:09:58 PM: ['VAMT.AS', 'NL0015000GH1']: SI✗,F✗,E✗,BS✗,CF✗\n"
     ]
    },
    {
     "name": "stdout",
     "output_type": "stream",
     "text": [
      "- VAMT.AS: No data found, symbol may be delisted\n"
     ]
    },
    {
     "name": "stderr",
     "output_type": "stream",
     "text": [
      "2022-02-23 06:09:59 PM: ['VAM.AS', 'NL0015000G40']: SI✓,F✗,E✗,BS✗,CF✗\n",
      "2022-02-23 06:10:00 PM: ['VAMW.AS', 'NL0015000G32']: SI✗,F✗,E✗,BS✗,CF✗\n"
     ]
    },
    {
     "name": "stdout",
     "output_type": "stream",
     "text": [
      "- VAMW.AS: No data found, symbol may be delisted\n"
     ]
    },
    {
     "name": "stderr",
     "output_type": "stream",
     "text": [
      "2022-02-23 06:10:04 PM: ['MLVRE.PA', 'ES0105623005']: SI✗,F✗,E✗,BS✗,CF✗\n"
     ]
    },
    {
     "name": "stdout",
     "output_type": "stream",
     "text": [
      "- MLVRE.PA: No data found, symbol may be delisted\n"
     ]
    },
    {
     "name": "stderr",
     "output_type": "stream",
     "text": [
      "2022-02-23 06:10:05 PM: ['VAN.BR', 'BE0003839561']: SI✓,F✓,E✓,BS✓,CF✓\n",
      "2022-02-23 06:10:10 PM: ['VASTN.AS', 'NL0000288918']: SI✓,F✓,E✓,BS✓,CF✓\n",
      "2022-02-23 06:10:11 PM: ['VASTB.BR', 'BE0003754687']: SI✓,F✓,E✓,BS✓,CF✓\n",
      "2022-02-23 06:10:12 PM: ['VEI.OL', 'NO0005806802']: SI✓,F✓,E✓,BS✓,CF✓\n",
      "2022-02-23 06:10:15 PM: ['ALVU.PA', 'FR0010766667']: SI✓,F✓,E✓,BS✓,CF✓\n",
      "2022-02-23 06:10:17 PM: ['VIE.PA', 'FR0000124141']: SI✓,F✓,E✓,BS✓,CF✓\n",
      "2022-02-23 06:10:21 PM: ['VEON.AS', 'BMG9349W1038']: SI✓,F✓,E✗,BS✓,CF✓\n",
      "2022-02-23 06:10:23 PM: ['ALVER.PA', 'FR0004155240']: SI✓,F✓,E✓,BS✓,CF✓\n",
      "2022-02-23 06:10:24 PM: ['VRLA.PA', 'FR0013447729']: SI✓,F✓,E✓,BS✓,CF✓\n",
      "2022-02-23 06:10:28 PM: ['VMX.PA', 'FR0010291245']: SI✓,F✓,E✓,BS✓,CF✓\n",
      "2022-02-23 06:10:29 PM: ['VERIZ.BR', 'US92343V1044']: SI✓,F✓,E✗,BS✓,CF✓\n",
      "2022-02-23 06:10:34 PM: ['MLVER.PA', 'FR0006174496']: SI✓,F✓,E✗,BS✓,CF✓\n",
      "2022-02-23 06:10:35 PM: ['VETO.PA', 'FR0004186856']: SI✓,F✓,E✓,BS✓,CF✓\n",
      "2022-02-23 06:10:36 PM: ['VGP.BR', 'BE0003878957']: SI✓,F✓,E✓,BS✓,CF✓\n",
      "2022-02-23 06:10:39 PM: ['ALVIA.PA', 'FR0010326090']: SI✓,F✗,E✗,BS✗,CF✗\n",
      "2022-02-23 06:10:42 PM: ['VCT.PA', 'FR0000031775']: SI✓,F✓,E✓,BS✓,CF✓\n",
      "2022-02-23 06:10:47 PM: ['VIL.PA', 'FR0000050049']: SI✓,F✓,E✓,BS✓,CF✓\n",
      "2022-02-23 06:10:47 PM: ['RIN.PA', 'FR0000052516']: SI✓,F✓,E✓,BS✓,CF✓\n",
      "2022-02-23 06:10:48 PM: ['DG.PA', 'FR0000125486']: SI✓,F✓,E✓,BS✓,CF✓\n",
      "2022-02-23 06:10:50 PM: ['VIO.BR', 'BE0974271034']: SI✓,F✓,E✗,BS✓,CF✓\n",
      "2022-02-23 06:10:54 PM: ['VIRP.PA', 'FR0000031577']: SI✓,F✓,E✓,BS✓,CF✓\n",
      "2022-02-23 06:10:57 PM: ['VIVBS.PA', 'FR0014003O76']: SI✗,F✗,E✗,BS✗,CF✗\n"
     ]
    },
    {
     "name": "stdout",
     "output_type": "stream",
     "text": [
      "- VIVBS.PA: No data found for this date range, symbol may be delisted\n"
     ]
    },
    {
     "name": "stderr",
     "output_type": "stream",
     "text": [
      "2022-02-23 06:10:58 PM: ['ALVIV.PA', 'FR0004029478']: SI✓,F✓,E✓,BS✓,CF✓\n",
      "2022-02-23 06:11:00 PM: ['MLVIS.PA', 'FR0010033480']: SI✓,F✓,E✗,BS✓,CF✓\n",
      "2022-02-23 06:11:02 PM: ['SDT.PA', 'FR0000065765']: SI✓,F✓,E✗,BS✓,CF✓\n",
      "2022-02-23 06:11:05 PM: ['VMGBS.PA', 'FR0013322724']: SI✗,F✗,E✗,BS✗,CF✗\n"
     ]
    },
    {
     "name": "stdout",
     "output_type": "stream",
     "text": [
      "- VMGBS.PA: No data found for this date range, symbol may be delisted\n"
     ]
    },
    {
     "name": "stderr",
     "output_type": "stream",
     "text": [
      "2022-02-23 06:11:09 PM: ['ALVMG.PA', 'FR0013481835']: SI✓,F✓,E✓,BS✓,CF✓\n",
      "2022-02-23 06:11:09 PM: ['VMGBT.PA', 'FR0013321817']: SI✗,F✗,E✗,BS✗,CF✗\n"
     ]
    },
    {
     "name": "stdout",
     "output_type": "stream",
     "text": [
      "- VMGBT.PA: No data found for this date range, symbol may be delisted\n"
     ]
    },
    {
     "name": "stderr",
     "output_type": "stream",
     "text": [
      "2022-02-23 06:11:12 PM: ['VISTN.OL', 'NO0010734122']: SI✓,F✓,E✓,BS✓,CF✓\n",
      "2022-02-23 06:11:13 PM: ['VIVNV.PA', 'FR0014006O81']: SI✗,F✗,E✗,BS✗,CF✗\n"
     ]
    },
    {
     "name": "stdout",
     "output_type": "stream",
     "text": [
      "- VIVNV.PA: No data found, symbol may be delisted\n"
     ]
    },
    {
     "name": "stderr",
     "output_type": "stream",
     "text": [
      "2022-02-23 06:11:14 PM: ['VTR.PA', 'FR0010309096']: SI✓,F✓,E✓,BS✓,CF✓\n",
      "2022-02-23 06:11:21 PM: ['VVY.AS', 'NL00150002Q7']: SI✓,F✓,E✓,BS✓,CF✓\n",
      "2022-02-23 06:11:21 PM: ['VIV.PA', 'FR0000127771']: SI✓,F✓,E✓,BS✓,CF✓\n",
      "2022-02-23 06:11:24 PM: ['ALVGO.PA', 'FR0011532225']: SI✓,F✓,E✓,BS✓,CF✓\n",
      "2022-02-23 06:11:25 PM: ['VWA.BR', 'DE0007664005']: SI✓,F✓,E✗,BS✓,CF✓\n",
      "2022-02-23 06:11:27 PM: ['VWAP.BR', 'DE0007664039']: SI✓,F✓,E✗,BS✓,CF✓\n",
      "2022-02-23 06:11:33 PM: ['VLTSA.PA', 'FR0011995588']: SI✓,F✓,E✓,BS✓,CF✓\n",
      "2022-02-23 06:11:33 PM: ['VTA.AS', 'GG00B1GHHH78']: SI✓,F✓,E✓,BS✓,CF✓\n",
      "2022-02-23 06:11:35 PM: ['VOLUE.OL', 'NO0010894603']: SI✓,F✓,E✓,BS✓,CF✓\n",
      "2022-02-23 06:11:38 PM: ['VPK.AS', 'NL0009432491']: SI✓,F✓,E✓,BS✓,CF✓\n",
      "2022-02-23 06:11:38 PM: ['VVL.OL', 'NO0003025009']: SI✓,F✓,E✓,BS✓,CF✓\n",
      "2022-02-23 06:11:45 PM: ['VGM.OL', 'NO0011037483']: SI✓,F✗,E✗,BS✗,CF✗\n",
      "2022-02-23 06:11:45 PM: ['VOW.OL', 'NO0010708068']: SI✓,F✓,E✓,BS✓,CF✓\n",
      "2022-02-23 06:11:47 PM: ['ALVDM.PA', 'FR0004045847']: SI✓,F✓,E✓,BS✓,CF✓\n",
      "2022-02-23 06:11:48 PM: ['MLVRF.PA', 'ES0105492005']: SI✗,F✓,E✗,BS✓,CF✓\n",
      "2022-02-23 06:11:50 PM: ['VRAP.PA', 'FR0000062796']: SI✓,F✓,E✓,BS✓,CF✓\n",
      "2022-02-23 06:11:56 PM: ['WAWI.OL', 'NO0010571680']: SI✓,F✓,E✓,BS✓,CF✓\n",
      "2022-02-23 06:11:56 PM: ['WAGA.PA', 'FR0012532810']: SI✓,F✓,E✓,BS✓,CF✓\n",
      "2022-02-23 06:11:58 PM: ['ALLIX.PA', 'FR0010131409']: SI✓,F✓,E✓,BS✓,CF✓\n",
      "2022-02-23 06:12:00 PM: ['WEB.BR', 'BE0003734481']: SI✓,F✓,E✓,BS✓,CF✓\n",
      "2022-02-23 06:12:02 PM: ['WAVE.PA', 'FR0013357621']: SI✓,F✓,E✓,BS✓,CF✓\n",
      "2022-02-23 06:12:08 PM: ['WDP.BR', 'BE0974349814']: SI✓,F✓,E✓,BS✓,CF✓\n",
      "2022-02-23 06:12:09 PM: ['ALWEC.PA', 'FR0013079092']: SI✓,F✓,E✓,BS✓,CF✓\n",
      "2022-02-23 06:12:09 PM: ['MLWEA.PA', 'FR0010688465']: SI✓,F✓,E✗,BS✗,CF✓\n",
      "2022-02-23 06:12:12 PM: ['WSTEP.OL', 'NO0010609662']: SI✓,F✓,E✓,BS✓,CF✓\n",
      "2022-02-23 06:12:14 PM: ['ALWED.PA', 'FR0010688440']: SI✓,F✓,E✓,BS✓,CF✓\n",
      "2022-02-23 06:12:18 PM: ['MLWEL.PA', 'FR0004152700']: SI✗,F✓,E✗,BS✓,CF✓\n"
     ]
    },
    {
     "name": "stdout",
     "output_type": "stream",
     "text": [
      "- MLWEL.PA: No data found for this date range, symbol may be delisted\n"
     ]
    },
    {
     "name": "stderr",
     "output_type": "stream",
     "text": [
      "2022-02-23 06:12:21 PM: ['MF.PA', 'FR0000121204']: SI✓,F✓,E✓,BS✓,CF✓\n",
      "2022-02-23 06:12:22 PM: ['WHA.AS', 'NL0000289213']: SI✓,F✓,E✓,BS✓,CF✓\n",
      "2022-02-23 06:12:24 PM: ['WEHB.BR', 'BE0003724383']: SI✓,F✓,E✓,BS✓,CF✓\n",
      "2022-02-23 06:12:26 PM: ['WEST.OL', 'NO0010768096']: SI✓,F✓,E✗,BS✓,CF✓\n",
      "2022-02-23 06:12:29 PM: ['MLWEY.PA', 'FR0010768770']: SI✓,F✗,E✗,BS✗,CF✗\n",
      "2022-02-23 06:12:32 PM: ['MLWRC.PA', 'ES0105399002']: SI✓,F✓,E✗,BS✓,CF✓\n",
      "2022-02-23 06:12:33 PM: ['ROCK.BR', 'BE0974401334']: SI✓,F✓,E✓,BS✓,CF✓\n",
      "2022-02-23 06:12:36 PM: ['WWI.OL', 'NO0010571698']: SI✓,F✓,E✓,BS✓,CF✓\n",
      "2022-02-23 06:12:37 PM: ['WWIB.OL', 'NO0010576010']: SI✓,F✓,E✓,BS✓,CF✓\n",
      "2022-02-23 06:12:41 PM: ['WILS.OL', 'NO0010252356']: SI✓,F✓,E✓,BS✓,CF✓\n",
      "2022-02-23 06:12:43 PM: ['ALWF.PA', 'FR0014000P11']: SI✓,F✗,E✗,BS✗,CF✗\n",
      "2022-02-23 06:12:44 PM: ['ALWIT.PA', 'FR0013143872']: SI✓,F✓,E✓,BS✓,CF✓\n",
      "2022-02-23 06:12:47 PM: ['MLWIZ.PA', 'FR00140047H7']: SI✓,F✗,E✗,BS✗,CF✗\n",
      "2022-02-23 06:12:48 PM: ['WOLE.BR', 'BE0003600112']: SI✓,F✓,E✗,BS✓,CF✓\n",
      "2022-02-23 06:12:53 PM: ['WOLS.BR', 'BE0003571792']: SI✓,F✓,E✗,BS✓,CF✓\n",
      "2022-02-23 06:12:55 PM: ['WKL.AS', 'NL0000395903']: SI✓,F✓,E✓,BS✓,CF✓\n",
      "2022-02-23 06:12:56 PM: ['WLN.PA', 'FR0011981968']: SI✓,F✓,E✓,BS✓,CF✓\n",
      "2022-02-23 06:12:59 PM: ['XFAB.PA', 'BE0974310428']: SI✓,F✓,E✓,BS✓,CF✓\n",
      "2022-02-23 06:13:00 PM: ['XIL.PA', 'FR0004034072']: SI✓,F✓,E✓,BS✓,CF✓\n",
      "2022-02-23 06:13:05 PM: ['XIOR.BR', 'BE0974288202']: SI✓,F✓,E✓,BS✓,CF✓\n",
      "2022-02-23 06:13:06 PM: ['XPLRA.OL', 'NO0010895782']: SI✓,F✓,E✗,BS✓,CF✓\n",
      "2022-02-23 06:13:08 PM: ['XXL.OL', 'NO0010716863']: SI✓,F✓,E✓,BS✓,CF✓\n",
      "2022-02-23 06:13:11 PM: ['YATRA.AS', 'JE00B1FBT077']: SI✓,F✓,E✗,BS✓,CF✓\n",
      "2022-02-23 06:13:12 PM: ['YAR.OL', 'NO0010208051']: SI✓,F✓,E✓,BS✓,CF✓\n",
      "2022-02-23 06:13:16 PM: ['YEW.IR', 'IE00BDT5KP12']: SI✓,F✓,E✓,BS✓,CF✓\n",
      "2022-02-23 06:13:18 PM: ['ZAL.OL', 'NO0010708910']: SI✓,F✓,E✓,BS✓,CF✓\n",
      "2022-02-23 06:13:18 PM: ['ZAP.OL', 'NO0010713936']: SI✓,F✓,E✓,BS✓,CF✓\n",
      "2022-02-23 06:13:19 PM: ['CV.PA', 'BMG9887P1068']: SI✗,F✗,E✗,BS✗,CF✗\n"
     ]
    },
    {
     "name": "stdout",
     "output_type": "stream",
     "text": [
      "- CV.PA: No data found, symbol may be delisted\n"
     ]
    },
    {
     "name": "stderr",
     "output_type": "stream",
     "text": [
      "2022-02-23 06:13:23 PM: ['MLZAM.PA', 'ZM0000000037']: SI✓,F✓,E✗,BS✓,CF✓\n",
      "2022-02-23 06:13:28 PM: ['ZENA.OL', 'CA98936C1068']: SI✓,F✓,E✗,BS✓,CF✓\n",
      "2022-02-23 06:13:28 PM: ['ZWIPE.OL', 'NO0010721277']: SI✓,F✓,E✓,BS✓,CF✓\n",
      "2022-02-23 06:13:29 PM: ['ZEN.BR', 'BE0003809267']: SI✓,F✓,E✗,BS✓,CF✓\n",
      "2022-02-23 06:13:30 PM: ['ORN.OL', 'NO0010934748']: SI✓,F✓,E✓,BS✓,CF✓\n"
     ]
    }
   ],
   "source": [
    "# Loop through all tickers to acquire data\n",
    "with no_ssl_verification():\n",
    "  stock_info_list, price_list, financials_list, earnings_list, balance_sheet_list, cashflow_list = iterate_tickers(\n",
    "      tickers)"
   ]
  },
  {
   "cell_type": "code",
   "execution_count": 22,
   "metadata": {},
   "outputs": [],
   "source": [
    "# Concat lists with dataframes if need be and save all files to csv\n",
    "# Euronext stock info\n",
    "stock_info_euronext.to_csv(\n",
    "    'raw_data/stock_info_euronext.csv', sep='|', index=False)\n",
    "# Yahoo stock info\n",
    "stock_info_yahoo = pd.concat(stock_info_list)\n",
    "stock_info_yahoo.to_csv(\n",
    "    'raw_data/stock_info_yahoo.csv', sep='|', index=False)\n",
    "# Price history\n",
    "price_data = pd.concat(price_list)\n",
    "price_data.to_csv(\n",
    "    'raw_data/price_yahoo.csv', sep='|', index=False)\n",
    "# Financials history\n",
    "financials_data = pd.concat(financials_list)\n",
    "financials_data.to_csv(\n",
    "    'raw_data/financials_yahoo.csv', sep='|', index=False)\n",
    "# Earnings history\n",
    "earnings_data = pd.concat(earnings_list)\n",
    "earnings_data.to_csv(\n",
    "    'raw_data/earnings_yahoo.csv', sep='|', index=False)\n",
    "# Balance sheet history\n",
    "balance_sheet__data = pd.concat(balance_sheet_list)\n",
    "balance_sheet__data.to_csv(\n",
    "    'raw_data/balance_sheet_yahoo.csv', sep='|', index=False)\n",
    "# Cash flow history\n",
    "cashflow_data = pd.concat(cashflow_list)\n",
    "cashflow_data.to_csv(\n",
    "    'raw_data/cashflow_yahoo.csv', sep='|', index=False)"
   ]
  }
 ],
 "metadata": {
  "interpreter": {
   "hash": "cfdce0ec9f99bf6d1b48d1a5a3914060b182d34731884a217ab6526cd9b1a6dd"
  },
  "kernelspec": {
   "display_name": "Python 3.10.0 64-bit",
   "language": "python",
   "name": "python3"
  },
  "language_info": {
   "codemirror_mode": {
    "name": "ipython",
    "version": 3
   },
   "file_extension": ".py",
   "mimetype": "text/x-python",
   "name": "python",
   "nbconvert_exporter": "python",
   "pygments_lexer": "ipython3",
   "version": "3.9.7"
  },
  "orig_nbformat": 4
 },
 "nbformat": 4,
 "nbformat_minor": 2
}
