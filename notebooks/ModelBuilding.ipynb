{
 "cells": [
  {
   "cell_type": "code",
   "execution_count": 12,
   "metadata": {},
   "outputs": [],
   "source": [
    "# Import packages\n",
    "import pandas as pd\n",
    "import numpy as np\n",
    "import datetime\n",
    "import seaborn as sns\n",
    "import matplotlib.pyplot as plt\n",
    "%matplotlib inline\n",
    "# Set some formatting options for pandas\n",
    "pd.set_option('display.max_columns', 500)\n",
    "pd.set_option('display.width', 1000)\n",
    "pd.set_option('display.float_format', lambda x: '%.3f' % x)\n"
   ]
  },
  {
   "cell_type": "code",
   "execution_count": 13,
   "metadata": {},
   "outputs": [
    {
     "data": {
      "text/html": [
       "<div>\n",
       "<style scoped>\n",
       "    .dataframe tbody tr th:only-of-type {\n",
       "        vertical-align: middle;\n",
       "    }\n",
       "\n",
       "    .dataframe tbody tr th {\n",
       "        vertical-align: top;\n",
       "    }\n",
       "\n",
       "    .dataframe thead th {\n",
       "        text-align: right;\n",
       "    }\n",
       "</style>\n",
       "<table border=\"1\" class=\"dataframe\">\n",
       "  <thead>\n",
       "    <tr style=\"text-align: right;\">\n",
       "      <th></th>\n",
       "      <th>feature_current_ratio</th>\n",
       "      <th>feature_return_on_equity</th>\n",
       "      <th>feature_debt_to_equity_ratio</th>\n",
       "      <th>feature_operating_cash_flow_ratio</th>\n",
       "      <th>feature_interest_coverage_ratio</th>\n",
       "      <th>feature_ebit_to_total_assets</th>\n",
       "      <th>feature_free_cash_flow_ratio</th>\n",
       "      <th>feature_price_to_earnings_ratio</th>\n",
       "      <th>feature_payables_to_receivables_ratio</th>\n",
       "      <th>feature_debt_ratio</th>\n",
       "      <th>financial_year_end</th>\n",
       "      <th>one_year_holding_return</th>\n",
       "      <th>stock_isin</th>\n",
       "    </tr>\n",
       "  </thead>\n",
       "  <tbody>\n",
       "    <tr>\n",
       "      <th>0</th>\n",
       "      <td>1.210</td>\n",
       "      <td>0.035</td>\n",
       "      <td>0.943</td>\n",
       "      <td>1.937</td>\n",
       "      <td>-5.164</td>\n",
       "      <td>0.041</td>\n",
       "      <td>0.130</td>\n",
       "      <td>2.346</td>\n",
       "      <td>0.571</td>\n",
       "      <td>0.482</td>\n",
       "      <td>2017-12-31</td>\n",
       "      <td>-0.231</td>\n",
       "      <td>AN8068571086</td>\n",
       "    </tr>\n",
       "    <tr>\n",
       "      <th>1</th>\n",
       "      <td>1.166</td>\n",
       "      <td>0.136</td>\n",
       "      <td>0.938</td>\n",
       "      <td>1.790</td>\n",
       "      <td>-5.550</td>\n",
       "      <td>0.045</td>\n",
       "      <td>0.126</td>\n",
       "      <td>2.499</td>\n",
       "      <td>0.598</td>\n",
       "      <td>0.481</td>\n",
       "      <td>2018-12-31</td>\n",
       "      <td>-0.663</td>\n",
       "      <td>AN8068571086</td>\n",
       "    </tr>\n",
       "    <tr>\n",
       "      <th>2</th>\n",
       "      <td>1.186</td>\n",
       "      <td>-0.310</td>\n",
       "      <td>1.353</td>\n",
       "      <td>1.829</td>\n",
       "      <td>-4.875</td>\n",
       "      <td>0.053</td>\n",
       "      <td>0.141</td>\n",
       "      <td>2.517</td>\n",
       "      <td>0.618</td>\n",
       "      <td>0.571</td>\n",
       "      <td>2019-12-31</td>\n",
       "      <td>0.973</td>\n",
       "      <td>AN8068571086</td>\n",
       "    </tr>\n",
       "    <tr>\n",
       "      <th>3</th>\n",
       "      <td>1.231</td>\n",
       "      <td>-0.728</td>\n",
       "      <td>2.481</td>\n",
       "      <td>1.778</td>\n",
       "      <td>-2.941</td>\n",
       "      <td>0.039</td>\n",
       "      <td>0.103</td>\n",
       "      <td>1.820</td>\n",
       "      <td>0.560</td>\n",
       "      <td>0.706</td>\n",
       "      <td>2020-12-31</td>\n",
       "      <td>0.543</td>\n",
       "      <td>AN8068571086</td>\n",
       "    </tr>\n",
       "    <tr>\n",
       "      <th>4</th>\n",
       "      <td>1.705</td>\n",
       "      <td>0.207</td>\n",
       "      <td>1.446</td>\n",
       "      <td>0.626</td>\n",
       "      <td>-14.450</td>\n",
       "      <td>0.085</td>\n",
       "      <td>0.092</td>\n",
       "      <td>322.600</td>\n",
       "      <td>0.461</td>\n",
       "      <td>0.589</td>\n",
       "      <td>2017-12-31</td>\n",
       "      <td>-0.051</td>\n",
       "      <td>ANN4327C1220</td>\n",
       "    </tr>\n",
       "  </tbody>\n",
       "</table>\n",
       "</div>"
      ],
      "text/plain": [
       "   feature_current_ratio  feature_return_on_equity  feature_debt_to_equity_ratio  feature_operating_cash_flow_ratio  feature_interest_coverage_ratio  feature_ebit_to_total_assets  feature_free_cash_flow_ratio  feature_price_to_earnings_ratio  feature_payables_to_receivables_ratio  feature_debt_ratio financial_year_end  one_year_holding_return    stock_isin\n",
       "0                  1.210                     0.035                         0.943                              1.937                           -5.164                         0.041                         0.130                            2.346                                  0.571               0.482         2017-12-31                   -0.231  AN8068571086\n",
       "1                  1.166                     0.136                         0.938                              1.790                           -5.550                         0.045                         0.126                            2.499                                  0.598               0.481         2018-12-31                   -0.663  AN8068571086\n",
       "2                  1.186                    -0.310                         1.353                              1.829                           -4.875                         0.053                         0.141                            2.517                                  0.618               0.571         2019-12-31                    0.973  AN8068571086\n",
       "3                  1.231                    -0.728                         2.481                              1.778                           -2.941                         0.039                         0.103                            1.820                                  0.560               0.706         2020-12-31                    0.543  AN8068571086\n",
       "4                  1.705                     0.207                         1.446                              0.626                          -14.450                         0.085                         0.092                          322.600                                  0.461               0.589         2017-12-31                   -0.051  ANN4327C1220"
      ]
     },
     "execution_count": 13,
     "metadata": {},
     "output_type": "execute_result"
    }
   ],
   "source": [
    "# Import dataset\n",
    "df = pd.read_csv(r'dataset\\machine_learning_dataset.csv', sep='|')\n",
    "df.head()"
   ]
  },
  {
   "cell_type": "code",
   "execution_count": 14,
   "metadata": {},
   "outputs": [
    {
     "name": "stdout",
     "output_type": "stream",
     "text": [
      "<class 'pandas.core.frame.DataFrame'>\n",
      "RangeIndex: 4612 entries, 0 to 4611\n",
      "Data columns (total 13 columns):\n",
      " #   Column                                 Non-Null Count  Dtype  \n",
      "---  ------                                 --------------  -----  \n",
      " 0   feature_current_ratio                  4593 non-null   float64\n",
      " 1   feature_return_on_equity               4596 non-null   float64\n",
      " 2   feature_debt_to_equity_ratio           4596 non-null   float64\n",
      " 3   feature_operating_cash_flow_ratio      4314 non-null   float64\n",
      " 4   feature_interest_coverage_ratio        4239 non-null   float64\n",
      " 5   feature_ebit_to_total_assets           4599 non-null   float64\n",
      " 6   feature_free_cash_flow_ratio           4312 non-null   float64\n",
      " 7   feature_price_to_earnings_ratio        4582 non-null   float64\n",
      " 8   feature_payables_to_receivables_ratio  4381 non-null   float64\n",
      " 9   feature_debt_ratio                     4599 non-null   float64\n",
      " 10  financial_year_end                     4612 non-null   object \n",
      " 11  one_year_holding_return                4612 non-null   float64\n",
      " 12  stock_isin                             4612 non-null   object \n",
      "dtypes: float64(11), object(2)\n",
      "memory usage: 468.5+ KB\n"
     ]
    }
   ],
   "source": [
    "df.info()"
   ]
  },
  {
   "cell_type": "code",
   "execution_count": 15,
   "metadata": {},
   "outputs": [
    {
     "data": {
      "text/html": [
       "<div>\n",
       "<style scoped>\n",
       "    .dataframe tbody tr th:only-of-type {\n",
       "        vertical-align: middle;\n",
       "    }\n",
       "\n",
       "    .dataframe tbody tr th {\n",
       "        vertical-align: top;\n",
       "    }\n",
       "\n",
       "    .dataframe thead th {\n",
       "        text-align: right;\n",
       "    }\n",
       "</style>\n",
       "<table border=\"1\" class=\"dataframe\">\n",
       "  <thead>\n",
       "    <tr style=\"text-align: right;\">\n",
       "      <th></th>\n",
       "      <th>feature_current_ratio</th>\n",
       "      <th>feature_return_on_equity</th>\n",
       "      <th>feature_debt_to_equity_ratio</th>\n",
       "      <th>feature_operating_cash_flow_ratio</th>\n",
       "      <th>feature_interest_coverage_ratio</th>\n",
       "      <th>feature_ebit_to_total_assets</th>\n",
       "      <th>feature_free_cash_flow_ratio</th>\n",
       "      <th>feature_price_to_earnings_ratio</th>\n",
       "      <th>feature_payables_to_receivables_ratio</th>\n",
       "      <th>feature_debt_ratio</th>\n",
       "      <th>one_year_holding_return</th>\n",
       "    </tr>\n",
       "  </thead>\n",
       "  <tbody>\n",
       "    <tr>\n",
       "      <th>count</th>\n",
       "      <td>3893.000</td>\n",
       "      <td>3893.000</td>\n",
       "      <td>3893.000</td>\n",
       "      <td>3893.000</td>\n",
       "      <td>3893.000</td>\n",
       "      <td>3893.000</td>\n",
       "      <td>3893.000</td>\n",
       "      <td>3893.000</td>\n",
       "      <td>3893.000</td>\n",
       "      <td>3893.000</td>\n",
       "      <td>3893.000</td>\n",
       "    </tr>\n",
       "    <tr>\n",
       "      <th>mean</th>\n",
       "      <td>3.260</td>\n",
       "      <td>-0.065</td>\n",
       "      <td>2.295</td>\n",
       "      <td>1.882</td>\n",
       "      <td>275.145</td>\n",
       "      <td>-0.082</td>\n",
       "      <td>0.047</td>\n",
       "      <td>141.076</td>\n",
       "      <td>1.732</td>\n",
       "      <td>0.878</td>\n",
       "      <td>0.229</td>\n",
       "    </tr>\n",
       "    <tr>\n",
       "      <th>std</th>\n",
       "      <td>22.652</td>\n",
       "      <td>6.869</td>\n",
       "      <td>18.715</td>\n",
       "      <td>29.638</td>\n",
       "      <td>47553.724</td>\n",
       "      <td>2.683</td>\n",
       "      <td>0.439</td>\n",
       "      <td>632.774</td>\n",
       "      <td>23.701</td>\n",
       "      <td>13.844</td>\n",
       "      <td>3.214</td>\n",
       "    </tr>\n",
       "    <tr>\n",
       "      <th>min</th>\n",
       "      <td>0.000</td>\n",
       "      <td>-169.440</td>\n",
       "      <td>-191.576</td>\n",
       "      <td>-220.824</td>\n",
       "      <td>-1197805.000</td>\n",
       "      <td>-151.211</td>\n",
       "      <td>-9.131</td>\n",
       "      <td>-0.140</td>\n",
       "      <td>-46.036</td>\n",
       "      <td>0.000</td>\n",
       "      <td>-0.998</td>\n",
       "    </tr>\n",
       "    <tr>\n",
       "      <th>25%</th>\n",
       "      <td>0.960</td>\n",
       "      <td>-0.050</td>\n",
       "      <td>0.609</td>\n",
       "      <td>0.515</td>\n",
       "      <td>-12.918</td>\n",
       "      <td>-0.014</td>\n",
       "      <td>0.016</td>\n",
       "      <td>2.607</td>\n",
       "      <td>0.320</td>\n",
       "      <td>0.421</td>\n",
       "      <td>-0.258</td>\n",
       "    </tr>\n",
       "    <tr>\n",
       "      <th>50%</th>\n",
       "      <td>1.388</td>\n",
       "      <td>0.090</td>\n",
       "      <td>1.225</td>\n",
       "      <td>1.004</td>\n",
       "      <td>-4.011</td>\n",
       "      <td>0.035</td>\n",
       "      <td>0.082</td>\n",
       "      <td>11.903</td>\n",
       "      <td>0.593</td>\n",
       "      <td>0.569</td>\n",
       "      <td>0.001</td>\n",
       "    </tr>\n",
       "    <tr>\n",
       "      <th>75%</th>\n",
       "      <td>2.193</td>\n",
       "      <td>0.188</td>\n",
       "      <td>2.369</td>\n",
       "      <td>1.650</td>\n",
       "      <td>1.423</td>\n",
       "      <td>0.067</td>\n",
       "      <td>0.143</td>\n",
       "      <td>60.456</td>\n",
       "      <td>0.980</td>\n",
       "      <td>0.720</td>\n",
       "      <td>0.303</td>\n",
       "    </tr>\n",
       "    <tr>\n",
       "      <th>max</th>\n",
       "      <td>1098.975</td>\n",
       "      <td>195.951</td>\n",
       "      <td>615.750</td>\n",
       "      <td>1090.692</td>\n",
       "      <td>2684120.167</td>\n",
       "      <td>0.978</td>\n",
       "      <td>20.112</td>\n",
       "      <td>12406.586</td>\n",
       "      <td>917.894</td>\n",
       "      <td>842.140</td>\n",
       "      <td>172.059</td>\n",
       "    </tr>\n",
       "  </tbody>\n",
       "</table>\n",
       "</div>"
      ],
      "text/plain": [
       "       feature_current_ratio  feature_return_on_equity  feature_debt_to_equity_ratio  feature_operating_cash_flow_ratio  feature_interest_coverage_ratio  feature_ebit_to_total_assets  feature_free_cash_flow_ratio  feature_price_to_earnings_ratio  feature_payables_to_receivables_ratio  feature_debt_ratio  one_year_holding_return\n",
       "count               3893.000                  3893.000                      3893.000                           3893.000                         3893.000                      3893.000                      3893.000                         3893.000                               3893.000            3893.000                 3893.000\n",
       "mean                   3.260                    -0.065                         2.295                              1.882                          275.145                        -0.082                         0.047                          141.076                                  1.732               0.878                    0.229\n",
       "std                   22.652                     6.869                        18.715                             29.638                        47553.724                         2.683                         0.439                          632.774                                 23.701              13.844                    3.214\n",
       "min                    0.000                  -169.440                      -191.576                           -220.824                     -1197805.000                      -151.211                        -9.131                           -0.140                                -46.036               0.000                   -0.998\n",
       "25%                    0.960                    -0.050                         0.609                              0.515                          -12.918                        -0.014                         0.016                            2.607                                  0.320               0.421                   -0.258\n",
       "50%                    1.388                     0.090                         1.225                              1.004                           -4.011                         0.035                         0.082                           11.903                                  0.593               0.569                    0.001\n",
       "75%                    2.193                     0.188                         2.369                              1.650                            1.423                         0.067                         0.143                           60.456                                  0.980               0.720                    0.303\n",
       "max                 1098.975                   195.951                       615.750                           1090.692                      2684120.167                         0.978                        20.112                        12406.586                                917.894             842.140                  172.059"
      ]
     },
     "execution_count": 15,
     "metadata": {},
     "output_type": "execute_result"
    }
   ],
   "source": [
    "df.dropna(inplace=True)\n",
    "df.describe()"
   ]
  },
  {
   "cell_type": "code",
   "execution_count": 22,
   "metadata": {},
   "outputs": [
    {
     "data": {
      "text/plain": [
       "<seaborn.axisgrid.FacetGrid at 0x2cefe9e5e50>"
      ]
     },
     "execution_count": 22,
     "metadata": {},
     "output_type": "execute_result"
    },
    {
     "data": {
      "image/png": "[encoded data removed]",
      "text/plain": [
       "<Figure size 360x360 with 1 Axes>"
      ]
     },
     "metadata": {
      "needs_background": "light"
     },
     "output_type": "display_data"
    }
   ],
   "source": [
    "sns.displot(df['one_year_holding_return'])\n"
   ]
  },
  {
   "cell_type": "code",
   "execution_count": 24,
   "metadata": {},
   "outputs": [
    {
     "data": {
      "text/html": [
       "<div>\n",
       "<style scoped>\n",
       "    .dataframe tbody tr th:only-of-type {\n",
       "        vertical-align: middle;\n",
       "    }\n",
       "\n",
       "    .dataframe tbody tr th {\n",
       "        vertical-align: top;\n",
       "    }\n",
       "\n",
       "    .dataframe thead th {\n",
       "        text-align: right;\n",
       "    }\n",
       "</style>\n",
       "<table border=\"1\" class=\"dataframe\">\n",
       "  <thead>\n",
       "    <tr style=\"text-align: right;\">\n",
       "      <th></th>\n",
       "      <th>feature_current_ratio</th>\n",
       "      <th>feature_return_on_equity</th>\n",
       "      <th>feature_debt_to_equity_ratio</th>\n",
       "      <th>feature_operating_cash_flow_ratio</th>\n",
       "      <th>feature_interest_coverage_ratio</th>\n",
       "      <th>feature_ebit_to_total_assets</th>\n",
       "      <th>feature_free_cash_flow_ratio</th>\n",
       "      <th>feature_price_to_earnings_ratio</th>\n",
       "      <th>feature_payables_to_receivables_ratio</th>\n",
       "      <th>feature_debt_ratio</th>\n",
       "      <th>one_year_holding_return</th>\n",
       "    </tr>\n",
       "  </thead>\n",
       "  <tbody>\n",
       "    <tr>\n",
       "      <th>count</th>\n",
       "      <td>3734.000</td>\n",
       "      <td>3734.000</td>\n",
       "      <td>3734.000</td>\n",
       "      <td>3734.000</td>\n",
       "      <td>3734.000</td>\n",
       "      <td>3734.000</td>\n",
       "      <td>3734.000</td>\n",
       "      <td>3734.000</td>\n",
       "      <td>3734.000</td>\n",
       "      <td>3734.000</td>\n",
       "      <td>3734.000</td>\n",
       "    </tr>\n",
       "    <tr>\n",
       "      <th>mean</th>\n",
       "      <td>2.373</td>\n",
       "      <td>-0.013</td>\n",
       "      <td>1.812</td>\n",
       "      <td>1.049</td>\n",
       "      <td>39.324</td>\n",
       "      <td>-0.008</td>\n",
       "      <td>0.059</td>\n",
       "      <td>81.545</td>\n",
       "      <td>0.941</td>\n",
       "      <td>0.585</td>\n",
       "      <td>0.141</td>\n",
       "    </tr>\n",
       "    <tr>\n",
       "      <th>std</th>\n",
       "      <td>4.312</td>\n",
       "      <td>1.137</td>\n",
       "      <td>4.580</td>\n",
       "      <td>6.264</td>\n",
       "      <td>1314.182</td>\n",
       "      <td>0.188</td>\n",
       "      <td>0.186</td>\n",
       "      <td>221.380</td>\n",
       "      <td>2.303</td>\n",
       "      <td>0.362</td>\n",
       "      <td>0.792</td>\n",
       "    </tr>\n",
       "    <tr>\n",
       "      <th>min</th>\n",
       "      <td>0.000</td>\n",
       "      <td>-17.380</td>\n",
       "      <td>-52.683</td>\n",
       "      <td>-79.387</td>\n",
       "      <td>-37823.143</td>\n",
       "      <td>-2.139</td>\n",
       "      <td>-1.267</td>\n",
       "      <td>-0.140</td>\n",
       "      <td>-46.036</td>\n",
       "      <td>0.000</td>\n",
       "      <td>-0.993</td>\n",
       "    </tr>\n",
       "    <tr>\n",
       "      <th>25%</th>\n",
       "      <td>0.970</td>\n",
       "      <td>-0.050</td>\n",
       "      <td>0.631</td>\n",
       "      <td>0.522</td>\n",
       "      <td>-13.289</td>\n",
       "      <td>-0.013</td>\n",
       "      <td>0.019</td>\n",
       "      <td>2.703</td>\n",
       "      <td>0.317</td>\n",
       "      <td>0.420</td>\n",
       "      <td>-0.257</td>\n",
       "    </tr>\n",
       "    <tr>\n",
       "      <th>50%</th>\n",
       "      <td>1.397</td>\n",
       "      <td>0.089</td>\n",
       "      <td>1.230</td>\n",
       "      <td>1.004</td>\n",
       "      <td>-4.177</td>\n",
       "      <td>0.036</td>\n",
       "      <td>0.083</td>\n",
       "      <td>11.873</td>\n",
       "      <td>0.586</td>\n",
       "      <td>0.564</td>\n",
       "      <td>0.000</td>\n",
       "    </tr>\n",
       "    <tr>\n",
       "      <th>75%</th>\n",
       "      <td>2.194</td>\n",
       "      <td>0.184</td>\n",
       "      <td>2.356</td>\n",
       "      <td>1.642</td>\n",
       "      <td>1.197</td>\n",
       "      <td>0.067</td>\n",
       "      <td>0.143</td>\n",
       "      <td>57.429</td>\n",
       "      <td>0.961</td>\n",
       "      <td>0.711</td>\n",
       "      <td>0.301</td>\n",
       "    </tr>\n",
       "    <tr>\n",
       "      <th>max</th>\n",
       "      <td>64.764</td>\n",
       "      <td>19.785</td>\n",
       "      <td>50.455</td>\n",
       "      <td>89.069</td>\n",
       "      <td>36206.000</td>\n",
       "      <td>0.978</td>\n",
       "      <td>1.187</td>\n",
       "      <td>2032.765</td>\n",
       "      <td>69.222</td>\n",
       "      <td>8.803</td>\n",
       "      <td>9.592</td>\n",
       "    </tr>\n",
       "  </tbody>\n",
       "</table>\n",
       "</div>"
      ],
      "text/plain": [
       "       feature_current_ratio  feature_return_on_equity  feature_debt_to_equity_ratio  feature_operating_cash_flow_ratio  feature_interest_coverage_ratio  feature_ebit_to_total_assets  feature_free_cash_flow_ratio  feature_price_to_earnings_ratio  feature_payables_to_receivables_ratio  feature_debt_ratio  one_year_holding_return\n",
       "count               3734.000                  3734.000                      3734.000                           3734.000                         3734.000                      3734.000                      3734.000                         3734.000                               3734.000            3734.000                 3734.000\n",
       "mean                   2.373                    -0.013                         1.812                              1.049                           39.324                        -0.008                         0.059                           81.545                                  0.941               0.585                    0.141\n",
       "std                    4.312                     1.137                         4.580                              6.264                         1314.182                         0.188                         0.186                          221.380                                  2.303               0.362                    0.792\n",
       "min                    0.000                   -17.380                       -52.683                            -79.387                       -37823.143                        -2.139                        -1.267                           -0.140                                -46.036               0.000                   -0.993\n",
       "25%                    0.970                    -0.050                         0.631                              0.522                          -13.289                        -0.013                         0.019                            2.703                                  0.317               0.420                   -0.257\n",
       "50%                    1.397                     0.089                         1.230                              1.004                           -4.177                         0.036                         0.083                           11.873                                  0.586               0.564                    0.000\n",
       "75%                    2.194                     0.184                         2.356                              1.642                            1.197                         0.067                         0.143                           57.429                                  0.961               0.711                    0.301\n",
       "max                   64.764                    19.785                        50.455                             89.069                        36206.000                         0.978                         1.187                         2032.765                                 69.222               8.803                    9.592"
      ]
     },
     "execution_count": 24,
     "metadata": {},
     "output_type": "execute_result"
    }
   ],
   "source": [
    "from scipy import stats\n",
    "df = df.drop(columns=['financial_year_end','stock_isin'])\n",
    "df = df[(np.abs(stats.zscore(df)) < 3).all(axis=1)]\n",
    "df.describe()\n"
   ]
  },
  {
   "cell_type": "code",
   "execution_count": 25,
   "metadata": {},
   "outputs": [
    {
     "data": {
      "text/plain": [
       "<seaborn.axisgrid.FacetGrid at 0x2ce840d4e80>"
      ]
     },
     "execution_count": 25,
     "metadata": {},
     "output_type": "execute_result"
    },
    {
     "data": {
      "image/png": "[encoded data removed]",
      "text/plain": [
       "<Figure size 360x360 with 1 Axes>"
      ]
     },
     "metadata": {
      "needs_background": "light"
     },
     "output_type": "display_data"
    }
   ],
   "source": [
    "sns.displot(df['one_year_holding_return'])\n"
   ]
  },
  {
   "cell_type": "code",
   "execution_count": 26,
   "metadata": {},
   "outputs": [
    {
     "data": {
      "text/plain": [
       "((3734, 10), (3734,))"
      ]
     },
     "execution_count": 26,
     "metadata": {},
     "output_type": "execute_result"
    }
   ],
   "source": [
    "X = df.drop(columns=['one_year_holding_return'])\n",
    "y = df['one_year_holding_return']\n",
    "X.shape, y.shape\n"
   ]
  },
  {
   "cell_type": "code",
   "execution_count": 27,
   "metadata": {},
   "outputs": [
    {
     "name": "stdout",
     "output_type": "stream",
     "text": [
      "x training dimensions:  (2800, 10)\n",
      "x testing dimensions:  (934, 10)\n",
      "y training dimensions:  (2800,)\n",
      "y testing dimensions:  (934,)\n"
     ]
    }
   ],
   "source": [
    "from sklearn.model_selection import train_test_split\n",
    "X_train, X_test, y_train, y_test = train_test_split(\n",
    "    X, y, random_state=42, test_size=0.25)\n",
    "print('x training dimensions: ', X_train.shape)\n",
    "print('x testing dimensions: ', X_test.shape)\n",
    "print('y training dimensions: ', y_train.shape)\n",
    "print('y testing dimensions: ', y_test.shape)\n"
   ]
  },
  {
   "cell_type": "code",
   "execution_count": 28,
   "metadata": {},
   "outputs": [],
   "source": [
    "def plot_actual_vs_predicted(y_actual, y_pred):\n",
    "  highest_value = min(np.amax(y_actual), np.amax(y_pred))\n",
    "  lowest_value = min(np.amin(y_actual), np.amin(y_pred))\n",
    "  highest_value_rounded = round(highest_value/10)*10\n",
    "  lowest_value_rounded = round(lowest_value/10)*10\n",
    "  plt.subplots(figsize=(7.5, 7.5))\n",
    "  plt.xlim(lowest_value_rounded, highest_value_rounded)\n",
    "  plt.ylim(lowest_value_rounded, highest_value_rounded)\n",
    "  plt.xlabel('Actual', fontsize=10)\n",
    "  plt.ylabel('Predicted', fontsize=10)\n",
    "  # Straight line\n",
    "  line = [lowest_value_rounded, highest_value_rounded]\n",
    "  sns.scatterplot(x=y_actual, y=y_pred)\n",
    "  sns.lineplot(x=line, y=line)\n"
   ]
  },
  {
   "cell_type": "code",
   "execution_count": 29,
   "metadata": {},
   "outputs": [
    {
     "name": "stdout",
     "output_type": "stream",
     "text": [
      "Model: Pipeline\n",
      "MSE: 0.5367\n",
      "R2: -0.0040\n",
      "Coefficients:\n",
      "Intercept: 0.1523\n",
      "feature_current_ratio: -0.01\n",
      "feature_return_on_equity: -0.02\n",
      "feature_debt_to_equity_ratio: -0.00\n",
      "feature_operating_cash_flow_ratio: 0.02\n",
      "feature_interest_coverage_ratio: 0.00\n",
      "feature_ebit_to_total_assets: -0.03\n",
      "feature_free_cash_flow_ratio: 0.04\n",
      "feature_price_to_earnings_ratio: 0.03\n",
      "feature_payables_to_receivables_ratio: -0.02\n",
      "feature_debt_ratio: -0.01\n"
     ]
    },
    {
     "name": "stderr",
     "output_type": "stream",
     "text": [
      "C:\\Users\\Michael.CamdenSmith\\Anaconda3\\envs\\StockAnalysis\\lib\\site-packages\\seaborn\\_decorators.py:36: FutureWarning: Pass the following variables as keyword args: x, y. From version 0.12, the only valid positional argument will be `data`, and passing other arguments without an explicit keyword will result in an error or misinterpretation.\n",
      "  warnings.warn(\n"
     ]
    },
    {
     "data": {
      "text/plain": [
       "<AxesSubplot:xlabel='one_year_holding_return'>"
      ]
     },
     "execution_count": 29,
     "metadata": {},
     "output_type": "execute_result"
    },
    {
     "data": {
      "image/png": "[encoded data removed]",
      "text/plain": [
       "<Figure size 432x288 with 1 Axes>"
      ]
     },
     "metadata": {
      "needs_background": "light"
     },
     "output_type": "display_data"
    }
   ],
   "source": [
    "# Ridge Model\n",
    "from sklearn.linear_model import LinearRegression\n",
    "from sklearn.preprocessing import PowerTransformer\n",
    "from sklearn.pipeline import Pipeline\n",
    "from sklearn.metrics import mean_squared_error, r2_score\n",
    "from numpy import arange\n",
    "\n",
    "# # define model evaluation method\n",
    "# cv = RepeatedKFold(n_splits=10, n_repeats=3, random_state=1)\n",
    "# define model\n",
    "model = LinearRegression()\n",
    "\n",
    "model = Pipeline(\n",
    "    [('scaler', PowerTransformer()),\n",
    "     ('model', model)]\n",
    ")\n",
    "\n",
    "# Train the model using the training sets\n",
    "model.fit(X_train, y_train)\n",
    "\n",
    "model_name = type(model).__name__\n",
    "intercept = format(model['model'].intercept_, '.4f')\n",
    "y_pred_testing = model.predict(X_test)\n",
    "y_pred_training = model.predict(X_train)\n",
    "coefficients = ['%.2f' % elem for elem in model['model'].coef_]\n",
    "train_r_squared = format(r2_score(y_train, y_pred_training), '.4f')\n",
    "test_r_squared = format(r2_score(y_test, y_pred_testing), '.4f')\n",
    "train_mse = format(mean_squared_error(y_train, y_pred_training), '.4f')\n",
    "test_mse = format(mean_squared_error(y_test, y_pred_testing), '.4f')\n",
    "\n",
    "\n",
    "print(f\"Model: {model_name}\")\n",
    "print(f\"MSE: {test_mse}\")\n",
    "print(f\"R2: {test_r_squared}\")\n",
    "print(f\"Coefficients:\")\n",
    "print(f\"Intercept: {intercept}\")\n",
    "for x, y in zip(X_train.columns, coefficients):\n",
    "  print(f\"{x}: {y}\")\n",
    "sns.regplot(y_test, y_pred_testing)\n"
   ]
  },
  {
   "cell_type": "code",
   "execution_count": null,
   "metadata": {},
   "outputs": [],
   "source": []
  }
 ],
 "metadata": {
  "interpreter": {
   "hash": "cfdce0ec9f99bf6d1b48d1a5a3914060b182d34731884a217ab6526cd9b1a6dd"
  },
  "kernelspec": {
   "display_name": "Python 3.10.0 64-bit",
   "language": "python",
   "name": "python3"
  },
  "language_info": {
   "codemirror_mode": {
    "name": "ipython",
    "version": 3
   },
   "file_extension": ".py",
   "mimetype": "text/x-python",
   "name": "python",
   "nbconvert_exporter": "python",
   "pygments_lexer": "ipython3",
   "version": "3.9.7"
  },
  "orig_nbformat": 4
 },
 "nbformat": 4,
 "nbformat_minor": 2
}
