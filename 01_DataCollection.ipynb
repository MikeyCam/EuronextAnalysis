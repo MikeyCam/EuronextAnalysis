{
 "cells": [
  {
   "cell_type": "code",
   "execution_count": 1,
   "metadata": {},
   "outputs": [],
   "source": [
    "# Import packages\n",
    "import logging\n",
    "import pandas as pd\n",
    "import numpy as np\n",
    "import yfinance as yf\n",
    "import datetime as dt\n",
    "import os\n",
    "import sys\n",
    "import re\n",
    "import string\n",
    "import concurrent\n",
    "from typing import List, Optional\n",
    "from ignore_SSL_errors import no_ssl_verification\n",
    "pd.set_option('display.max_columns', 500)\n",
    "pd.set_option('display.width', 1000)\n",
    "pd.set_option('display.float_format', lambda x: '%.3f' % x)"
   ]
  },
  {
   "cell_type": "code",
   "execution_count": 2,
   "metadata": {},
   "outputs": [
    {
     "name": "stderr",
     "output_type": "stream",
     "text": [
      "2022-02-07 11:22:32 AM: Format check\n"
     ]
    }
   ],
   "source": [
    "# Initiallze logging\n",
    "logging.basicConfig(format='%(asctime)s: %(message)s',\n",
    "                    datefmt='%Y-%m-%d %I:%M:%S %p',\n",
    "                    handlers=[logging.StreamHandler()],\n",
    "                    level=logging.INFO)\n",
    "logging.info('Format check')\n"
   ]
  },
  {
   "cell_type": "code",
   "execution_count": 3,
   "metadata": {},
   "outputs": [
    {
     "data": {
      "text/html": [
       "<div>\n",
       "<style scoped>\n",
       "    .dataframe tbody tr th:only-of-type {\n",
       "        vertical-align: middle;\n",
       "    }\n",
       "\n",
       "    .dataframe tbody tr th {\n",
       "        vertical-align: top;\n",
       "    }\n",
       "\n",
       "    .dataframe thead th {\n",
       "        text-align: right;\n",
       "    }\n",
       "</style>\n",
       "<table border=\"1\" class=\"dataframe\">\n",
       "  <thead>\n",
       "    <tr style=\"text-align: right;\">\n",
       "      <th></th>\n",
       "      <th>stock_name</th>\n",
       "      <th>stock_isin</th>\n",
       "      <th>stock_euronext_symbol</th>\n",
       "      <th>stock_exchange_markets</th>\n",
       "      <th>stock_trading_currency</th>\n",
       "    </tr>\n",
       "  </thead>\n",
       "  <tbody>\n",
       "    <tr>\n",
       "      <th>0</th>\n",
       "      <td>1000MERCIS</td>\n",
       "      <td>FR0010285965</td>\n",
       "      <td>ALMIL</td>\n",
       "      <td>Euronext Growth Paris</td>\n",
       "      <td>EUR</td>\n",
       "    </tr>\n",
       "    <tr>\n",
       "      <th>1</th>\n",
       "      <td>2020 BULKERS</td>\n",
       "      <td>BMG9156K1018</td>\n",
       "      <td>2020</td>\n",
       "      <td>Oslo B�rs</td>\n",
       "      <td>NOK</td>\n",
       "    </tr>\n",
       "    <tr>\n",
       "      <th>2</th>\n",
       "      <td>2CRSI</td>\n",
       "      <td>FR0013341781</td>\n",
       "      <td>2CRSI</td>\n",
       "      <td>Euronext Paris</td>\n",
       "      <td>EUR</td>\n",
       "    </tr>\n",
       "    <tr>\n",
       "      <th>3</th>\n",
       "      <td>2MX ORGANIC</td>\n",
       "      <td>FR0014000T90</td>\n",
       "      <td>2MX</td>\n",
       "      <td>Euronext Paris</td>\n",
       "      <td>EUR</td>\n",
       "    </tr>\n",
       "    <tr>\n",
       "      <th>4</th>\n",
       "      <td>2MX ORGANIC BS</td>\n",
       "      <td>FR0014000TB2</td>\n",
       "      <td>2MXBS</td>\n",
       "      <td>Euronext Paris</td>\n",
       "      <td>EUR</td>\n",
       "    </tr>\n",
       "  </tbody>\n",
       "</table>\n",
       "</div>"
      ],
      "text/plain": [
       "       stock_name    stock_isin stock_euronext_symbol stock_exchange_markets stock_trading_currency\n",
       "0      1000MERCIS  FR0010285965                 ALMIL  Euronext Growth Paris                    EUR\n",
       "1    2020 BULKERS  BMG9156K1018                  2020              Oslo B�rs                    NOK\n",
       "2           2CRSI  FR0013341781                 2CRSI         Euronext Paris                    EUR\n",
       "3     2MX ORGANIC  FR0014000T90                   2MX         Euronext Paris                    EUR\n",
       "4  2MX ORGANIC BS  FR0014000TB2                 2MXBS         Euronext Paris                    EUR"
      ]
     },
     "execution_count": 3,
     "metadata": {},
     "output_type": "execute_result"
    }
   ],
   "source": [
    "# Import list of euronext stocks => https://live.euronext.com/en/products/equities/list\n",
    "# Important to remove rows 1 to 4 from csv file as they will create an error\n",
    "file_name = \"Euronext_Equities_2022-01-11.csv\"\n",
    "fields_list = ['Name', 'ISIN', 'Symbol', 'Market', 'Trading Currency']\n",
    "stock_info_euronext = pd.read_csv(file_name, sep=';', usecols=fields_list)\n",
    "renaming_dict = {\n",
    "    'Name': 'stock_name',\n",
    "    'ISIN': 'stock_isin',\n",
    "    'Symbol': 'stock_euronext_symbol',\n",
    "    'Market': 'stock_exchange_markets',\n",
    "    'Trading Currency': 'stock_trading_currency'\n",
    "}\n",
    "stock_info_euronext.rename(columns=renaming_dict, inplace=True)\n",
    "stock_info_euronext.head()\n"
   ]
  },
  {
   "cell_type": "code",
   "execution_count": 4,
   "metadata": {},
   "outputs": [],
   "source": [
    "# Correct special character is Oslo Bors if needed, might not be needed if you encoding is correct on the csv\n",
    "stock_info_euronext['stock_exchange_markets'] = stock_info_euronext['stock_exchange_markets'].str.replace(\n",
    "    '�', 'ø')\n"
   ]
  },
  {
   "cell_type": "code",
   "execution_count": 5,
   "metadata": {},
   "outputs": [
    {
     "data": {
      "text/plain": [
       "array(['Euronext Growth Paris', 'Oslo Børs', 'Euronext Paris',\n",
       "       'Euronext Expand Oslo', 'Euronext Access Paris',\n",
       "       'Euronext Amsterdam', 'Euronext Growth Oslo', 'Euronext Brussels',\n",
       "       'Euronext Expert Market', 'Euronext Brussels, Paris',\n",
       "       'Euronext Paris, Amsterdam', 'Euronext Paris, Brussels',\n",
       "       'Euronext Brussels, Amsterdam', 'Euronext Access Lisbon',\n",
       "       'Euronext Amsterdam, Brussels', 'Euronext Dublin',\n",
       "       'Euronext Lisbon', 'Euronext Amsterdam, Brussels, Paris',\n",
       "       'Euronext Amsterdam, Paris', 'Traded not listed Brussels',\n",
       "       'Euronext Growth Paris, Brussels', 'Euronext Growth Brussels',\n",
       "       'Euronext Access Brussels', 'Euronext Growth Dublin',\n",
       "       'Euronext Paris, Amsterdam, Brussels', 'Euronext Growth Lisbon'],\n",
       "      dtype=object)"
      ]
     },
     "execution_count": 5,
     "metadata": {},
     "output_type": "execute_result"
    }
   ],
   "source": [
    "# Get distinct stock details, we will need to try map this accordingly\n",
    "stock_info_euronext['stock_exchange_markets'].unique()\n"
   ]
  },
  {
   "cell_type": "code",
   "execution_count": 6,
   "metadata": {},
   "outputs": [],
   "source": [
    "# Create a mapping for the exchange cities to yahoo codes\n",
    "stock_exchange_markets_to_main_city_mapping = {\n",
    "    'Amsterdam':'AS',\n",
    "    'Brussels':'BR',\n",
    "    'Dublin':'IR',\n",
    "    'Lisbon':'LS',\n",
    "    'Oslo':'OL',\n",
    "    'Paris':'PA' \n",
    "    }"
   ]
  },
  {
   "cell_type": "code",
   "execution_count": 7,
   "metadata": {},
   "outputs": [
    {
     "data": {
      "text/plain": [
       "['Amsterdam', 'Brussels', 'Dublin', 'Lisbon', 'Oslo', 'Paris']"
      ]
     },
     "execution_count": 7,
     "metadata": {},
     "output_type": "execute_result"
    }
   ],
   "source": [
    "# Create a unique list of cities\n",
    "cities_list = list(stock_exchange_markets_to_main_city_mapping.keys())\n",
    "cities_list"
   ]
  },
  {
   "cell_type": "code",
   "execution_count": 8,
   "metadata": {},
   "outputs": [],
   "source": [
    "# Function that takes in a string (input_text) and a list of different cities\n",
    "# Returns the first city mentioned in the string that is in the cities list\n",
    "def return_first_city(input_text: str, cities_list: List[str]) -> str:\n",
    "    split_word_list = re.sub('['+string.punctuation+']', '', input_text).split()\n",
    "    for word in split_word_list:\n",
    "      if word in cities_list:\n",
    "        result = word\n",
    "        break\n",
    "      else:\n",
    "        result = \"No city mentioned\"\n",
    "    return result\n",
    "\n",
    "\n",
    "# Quick test to see required logic works\n",
    "assert return_first_city('Amsterdam, Paris, Brussels', cities_list) == 'Amsterdam', 'Check logic'\n",
    "assert return_first_city('Brussels, Amsterdam, Paris, Brussels',\n",
    "                         cities_list) == 'Brussels', 'Check logic'\n"
   ]
  },
  {
   "cell_type": "code",
   "execution_count": 9,
   "metadata": {},
   "outputs": [
    {
     "data": {
      "text/html": [
       "<div>\n",
       "<style scoped>\n",
       "    .dataframe tbody tr th:only-of-type {\n",
       "        vertical-align: middle;\n",
       "    }\n",
       "\n",
       "    .dataframe tbody tr th {\n",
       "        vertical-align: top;\n",
       "    }\n",
       "\n",
       "    .dataframe thead th {\n",
       "        text-align: right;\n",
       "    }\n",
       "</style>\n",
       "<table border=\"1\" class=\"dataframe\">\n",
       "  <thead>\n",
       "    <tr style=\"text-align: right;\">\n",
       "      <th></th>\n",
       "      <th>stock_name</th>\n",
       "      <th>stock_isin</th>\n",
       "      <th>stock_euronext_symbol</th>\n",
       "      <th>stock_exchange_markets</th>\n",
       "      <th>stock_trading_currency</th>\n",
       "      <th>main_city</th>\n",
       "    </tr>\n",
       "  </thead>\n",
       "  <tbody>\n",
       "    <tr>\n",
       "      <th>0</th>\n",
       "      <td>1000MERCIS</td>\n",
       "      <td>FR0010285965</td>\n",
       "      <td>ALMIL</td>\n",
       "      <td>Euronext Growth Paris</td>\n",
       "      <td>EUR</td>\n",
       "      <td>Paris</td>\n",
       "    </tr>\n",
       "    <tr>\n",
       "      <th>1</th>\n",
       "      <td>2020 BULKERS</td>\n",
       "      <td>BMG9156K1018</td>\n",
       "      <td>2020</td>\n",
       "      <td>Oslo Børs</td>\n",
       "      <td>NOK</td>\n",
       "      <td>Oslo</td>\n",
       "    </tr>\n",
       "    <tr>\n",
       "      <th>2</th>\n",
       "      <td>2CRSI</td>\n",
       "      <td>FR0013341781</td>\n",
       "      <td>2CRSI</td>\n",
       "      <td>Euronext Paris</td>\n",
       "      <td>EUR</td>\n",
       "      <td>Paris</td>\n",
       "    </tr>\n",
       "    <tr>\n",
       "      <th>3</th>\n",
       "      <td>2MX ORGANIC</td>\n",
       "      <td>FR0014000T90</td>\n",
       "      <td>2MX</td>\n",
       "      <td>Euronext Paris</td>\n",
       "      <td>EUR</td>\n",
       "      <td>Paris</td>\n",
       "    </tr>\n",
       "    <tr>\n",
       "      <th>4</th>\n",
       "      <td>2MX ORGANIC BS</td>\n",
       "      <td>FR0014000TB2</td>\n",
       "      <td>2MXBS</td>\n",
       "      <td>Euronext Paris</td>\n",
       "      <td>EUR</td>\n",
       "      <td>Paris</td>\n",
       "    </tr>\n",
       "  </tbody>\n",
       "</table>\n",
       "</div>"
      ],
      "text/plain": [
       "       stock_name    stock_isin stock_euronext_symbol stock_exchange_markets stock_trading_currency main_city\n",
       "0      1000MERCIS  FR0010285965                 ALMIL  Euronext Growth Paris                    EUR     Paris\n",
       "1    2020 BULKERS  BMG9156K1018                  2020              Oslo Børs                    NOK      Oslo\n",
       "2           2CRSI  FR0013341781                 2CRSI         Euronext Paris                    EUR     Paris\n",
       "3     2MX ORGANIC  FR0014000T90                   2MX         Euronext Paris                    EUR     Paris\n",
       "4  2MX ORGANIC BS  FR0014000TB2                 2MXBS         Euronext Paris                    EUR     Paris"
      ]
     },
     "execution_count": 9,
     "metadata": {},
     "output_type": "execute_result"
    }
   ],
   "source": [
    "# Create column to get the main city\n",
    "stock_info_euronext['main_city'] = stock_info_euronext['stock_exchange_markets'].apply(\n",
    "    lambda x: return_first_city(x, cities_list))\n",
    "stock_info_euronext.head()\n"
   ]
  },
  {
   "cell_type": "code",
   "execution_count": 10,
   "metadata": {},
   "outputs": [
    {
     "data": {
      "text/html": [
       "<div>\n",
       "<style scoped>\n",
       "    .dataframe tbody tr th:only-of-type {\n",
       "        vertical-align: middle;\n",
       "    }\n",
       "\n",
       "    .dataframe tbody tr th {\n",
       "        vertical-align: top;\n",
       "    }\n",
       "\n",
       "    .dataframe thead th {\n",
       "        text-align: right;\n",
       "    }\n",
       "</style>\n",
       "<table border=\"1\" class=\"dataframe\">\n",
       "  <thead>\n",
       "    <tr style=\"text-align: right;\">\n",
       "      <th></th>\n",
       "      <th>stock_name</th>\n",
       "      <th>stock_isin</th>\n",
       "      <th>stock_euronext_symbol</th>\n",
       "      <th>stock_exchange_markets</th>\n",
       "      <th>stock_trading_currency</th>\n",
       "      <th>main_city</th>\n",
       "      <th>yahoo_city_code</th>\n",
       "    </tr>\n",
       "  </thead>\n",
       "  <tbody>\n",
       "    <tr>\n",
       "      <th>0</th>\n",
       "      <td>1000MERCIS</td>\n",
       "      <td>FR0010285965</td>\n",
       "      <td>ALMIL</td>\n",
       "      <td>Euronext Growth Paris</td>\n",
       "      <td>EUR</td>\n",
       "      <td>Paris</td>\n",
       "      <td>PA</td>\n",
       "    </tr>\n",
       "    <tr>\n",
       "      <th>1</th>\n",
       "      <td>2020 BULKERS</td>\n",
       "      <td>BMG9156K1018</td>\n",
       "      <td>2020</td>\n",
       "      <td>Oslo Børs</td>\n",
       "      <td>NOK</td>\n",
       "      <td>Oslo</td>\n",
       "      <td>OL</td>\n",
       "    </tr>\n",
       "    <tr>\n",
       "      <th>2</th>\n",
       "      <td>2CRSI</td>\n",
       "      <td>FR0013341781</td>\n",
       "      <td>2CRSI</td>\n",
       "      <td>Euronext Paris</td>\n",
       "      <td>EUR</td>\n",
       "      <td>Paris</td>\n",
       "      <td>PA</td>\n",
       "    </tr>\n",
       "    <tr>\n",
       "      <th>3</th>\n",
       "      <td>2MX ORGANIC</td>\n",
       "      <td>FR0014000T90</td>\n",
       "      <td>2MX</td>\n",
       "      <td>Euronext Paris</td>\n",
       "      <td>EUR</td>\n",
       "      <td>Paris</td>\n",
       "      <td>PA</td>\n",
       "    </tr>\n",
       "    <tr>\n",
       "      <th>4</th>\n",
       "      <td>2MX ORGANIC BS</td>\n",
       "      <td>FR0014000TB2</td>\n",
       "      <td>2MXBS</td>\n",
       "      <td>Euronext Paris</td>\n",
       "      <td>EUR</td>\n",
       "      <td>Paris</td>\n",
       "      <td>PA</td>\n",
       "    </tr>\n",
       "  </tbody>\n",
       "</table>\n",
       "</div>"
      ],
      "text/plain": [
       "       stock_name    stock_isin stock_euronext_symbol stock_exchange_markets stock_trading_currency main_city yahoo_city_code\n",
       "0      1000MERCIS  FR0010285965                 ALMIL  Euronext Growth Paris                    EUR     Paris              PA\n",
       "1    2020 BULKERS  BMG9156K1018                  2020              Oslo Børs                    NOK      Oslo              OL\n",
       "2           2CRSI  FR0013341781                 2CRSI         Euronext Paris                    EUR     Paris              PA\n",
       "3     2MX ORGANIC  FR0014000T90                   2MX         Euronext Paris                    EUR     Paris              PA\n",
       "4  2MX ORGANIC BS  FR0014000TB2                 2MXBS         Euronext Paris                    EUR     Paris              PA"
      ]
     },
     "execution_count": 10,
     "metadata": {},
     "output_type": "execute_result"
    }
   ],
   "source": [
    "# Get the Yahoo city mapping\n",
    "stock_info_euronext['yahoo_city_code'] = stock_info_euronext['main_city'].map(\n",
    "    stock_exchange_markets_to_main_city_mapping)\n",
    "stock_info_euronext.head()\n"
   ]
  },
  {
   "cell_type": "code",
   "execution_count": 11,
   "metadata": {},
   "outputs": [
    {
     "data": {
      "text/html": [
       "<div>\n",
       "<style scoped>\n",
       "    .dataframe tbody tr th:only-of-type {\n",
       "        vertical-align: middle;\n",
       "    }\n",
       "\n",
       "    .dataframe tbody tr th {\n",
       "        vertical-align: top;\n",
       "    }\n",
       "\n",
       "    .dataframe thead th {\n",
       "        text-align: right;\n",
       "    }\n",
       "</style>\n",
       "<table border=\"1\" class=\"dataframe\">\n",
       "  <thead>\n",
       "    <tr style=\"text-align: right;\">\n",
       "      <th></th>\n",
       "      <th>stock_name</th>\n",
       "      <th>stock_isin</th>\n",
       "      <th>stock_euronext_symbol</th>\n",
       "      <th>stock_exchange_markets</th>\n",
       "      <th>stock_trading_currency</th>\n",
       "      <th>main_city</th>\n",
       "      <th>yahoo_city_code</th>\n",
       "      <th>yahoo_code</th>\n",
       "    </tr>\n",
       "  </thead>\n",
       "  <tbody>\n",
       "    <tr>\n",
       "      <th>0</th>\n",
       "      <td>1000MERCIS</td>\n",
       "      <td>FR0010285965</td>\n",
       "      <td>ALMIL</td>\n",
       "      <td>Euronext Growth Paris</td>\n",
       "      <td>EUR</td>\n",
       "      <td>Paris</td>\n",
       "      <td>PA</td>\n",
       "      <td>ALMIL.PA</td>\n",
       "    </tr>\n",
       "    <tr>\n",
       "      <th>1</th>\n",
       "      <td>2020 BULKERS</td>\n",
       "      <td>BMG9156K1018</td>\n",
       "      <td>2020</td>\n",
       "      <td>Oslo Børs</td>\n",
       "      <td>NOK</td>\n",
       "      <td>Oslo</td>\n",
       "      <td>OL</td>\n",
       "      <td>2020.OL</td>\n",
       "    </tr>\n",
       "    <tr>\n",
       "      <th>2</th>\n",
       "      <td>2CRSI</td>\n",
       "      <td>FR0013341781</td>\n",
       "      <td>2CRSI</td>\n",
       "      <td>Euronext Paris</td>\n",
       "      <td>EUR</td>\n",
       "      <td>Paris</td>\n",
       "      <td>PA</td>\n",
       "      <td>2CRSI.PA</td>\n",
       "    </tr>\n",
       "    <tr>\n",
       "      <th>3</th>\n",
       "      <td>2MX ORGANIC</td>\n",
       "      <td>FR0014000T90</td>\n",
       "      <td>2MX</td>\n",
       "      <td>Euronext Paris</td>\n",
       "      <td>EUR</td>\n",
       "      <td>Paris</td>\n",
       "      <td>PA</td>\n",
       "      <td>2MX.PA</td>\n",
       "    </tr>\n",
       "    <tr>\n",
       "      <th>4</th>\n",
       "      <td>2MX ORGANIC BS</td>\n",
       "      <td>FR0014000TB2</td>\n",
       "      <td>2MXBS</td>\n",
       "      <td>Euronext Paris</td>\n",
       "      <td>EUR</td>\n",
       "      <td>Paris</td>\n",
       "      <td>PA</td>\n",
       "      <td>2MXBS.PA</td>\n",
       "    </tr>\n",
       "  </tbody>\n",
       "</table>\n",
       "</div>"
      ],
      "text/plain": [
       "       stock_name    stock_isin stock_euronext_symbol stock_exchange_markets stock_trading_currency main_city yahoo_city_code yahoo_code\n",
       "0      1000MERCIS  FR0010285965                 ALMIL  Euronext Growth Paris                    EUR     Paris              PA   ALMIL.PA\n",
       "1    2020 BULKERS  BMG9156K1018                  2020              Oslo Børs                    NOK      Oslo              OL    2020.OL\n",
       "2           2CRSI  FR0013341781                 2CRSI         Euronext Paris                    EUR     Paris              PA   2CRSI.PA\n",
       "3     2MX ORGANIC  FR0014000T90                   2MX         Euronext Paris                    EUR     Paris              PA     2MX.PA\n",
       "4  2MX ORGANIC BS  FR0014000TB2                 2MXBS         Euronext Paris                    EUR     Paris              PA   2MXBS.PA"
      ]
     },
     "execution_count": 11,
     "metadata": {},
     "output_type": "execute_result"
    }
   ],
   "source": [
    "# Create the full city code\n",
    "stock_info_euronext['yahoo_code'] = stock_info_euronext['stock_euronext_symbol'].str.cat(\n",
    "    stock_info_euronext['yahoo_city_code'], sep='.')\n",
    "stock_info_euronext.head()\n"
   ]
  },
  {
   "cell_type": "code",
   "execution_count": 12,
   "metadata": {},
   "outputs": [
    {
     "data": {
      "text/plain": [
       "count         1690\n",
       "unique        1690\n",
       "top       ALMIL.PA\n",
       "freq             1\n",
       "Name: yahoo_code, dtype: object"
      ]
     },
     "execution_count": 12,
     "metadata": {},
     "output_type": "execute_result"
    }
   ],
   "source": [
    "# Check all yahoo codes are unique\n",
    "stock_info_euronext['yahoo_code'].describe()\n"
   ]
  },
  {
   "cell_type": "code",
   "execution_count": 13,
   "metadata": {},
   "outputs": [
    {
     "data": {
      "text/plain": [
       "count             1790\n",
       "unique            1787\n",
       "top       NL0006294274\n",
       "freq                 2\n",
       "Name: stock_isin, dtype: object"
      ]
     },
     "execution_count": 13,
     "metadata": {},
     "output_type": "execute_result"
    }
   ],
   "source": [
    "# Check all ISN codes are unique\n",
    "stock_info_euronext['stock_isin'].describe()\n"
   ]
  },
  {
   "cell_type": "code",
   "execution_count": 14,
   "metadata": {},
   "outputs": [
    {
     "data": {
      "text/html": [
       "<div>\n",
       "<style scoped>\n",
       "    .dataframe tbody tr th:only-of-type {\n",
       "        vertical-align: middle;\n",
       "    }\n",
       "\n",
       "    .dataframe tbody tr th {\n",
       "        vertical-align: top;\n",
       "    }\n",
       "\n",
       "    .dataframe thead th {\n",
       "        text-align: right;\n",
       "    }\n",
       "</style>\n",
       "<table border=\"1\" class=\"dataframe\">\n",
       "  <thead>\n",
       "    <tr style=\"text-align: right;\">\n",
       "      <th></th>\n",
       "      <th>stock_name</th>\n",
       "      <th>stock_isin</th>\n",
       "      <th>stock_euronext_symbol</th>\n",
       "      <th>stock_exchange_markets</th>\n",
       "      <th>stock_trading_currency</th>\n",
       "      <th>main_city</th>\n",
       "      <th>yahoo_city_code</th>\n",
       "      <th>yahoo_code</th>\n",
       "    </tr>\n",
       "  </thead>\n",
       "  <tbody>\n",
       "    <tr>\n",
       "      <th>482</th>\n",
       "      <td>DIAGEO</td>\n",
       "      <td>GB0002374006</td>\n",
       "      <td>DGE</td>\n",
       "      <td>Euronext Paris</td>\n",
       "      <td>EUR</td>\n",
       "      <td>Paris</td>\n",
       "      <td>PA</td>\n",
       "      <td>DGE.PA</td>\n",
       "    </tr>\n",
       "    <tr>\n",
       "      <th>483</th>\n",
       "      <td>DIAGEO PLC</td>\n",
       "      <td>GB0002374006</td>\n",
       "      <td>GUI1</td>\n",
       "      <td>Euronext Dublin</td>\n",
       "      <td>EUR</td>\n",
       "      <td>Dublin</td>\n",
       "      <td>IR</td>\n",
       "      <td>GUI1.IR</td>\n",
       "    </tr>\n",
       "    <tr>\n",
       "      <th>578</th>\n",
       "      <td>ENVIPCO</td>\n",
       "      <td>NL0015000GX8</td>\n",
       "      <td>ENVI</td>\n",
       "      <td>Euronext Amsterdam</td>\n",
       "      <td>EUR</td>\n",
       "      <td>Amsterdam</td>\n",
       "      <td>AS</td>\n",
       "      <td>ENVI.AS</td>\n",
       "    </tr>\n",
       "    <tr>\n",
       "      <th>579</th>\n",
       "      <td>ENVIPCO HOLDING</td>\n",
       "      <td>NL0015000GX8</td>\n",
       "      <td>ENVIP</td>\n",
       "      <td>Euronext Growth Oslo</td>\n",
       "      <td>NOK</td>\n",
       "      <td>Oslo</td>\n",
       "      <td>OL</td>\n",
       "      <td>ENVIP.OL</td>\n",
       "    </tr>\n",
       "    <tr>\n",
       "      <th>612</th>\n",
       "      <td>EURONEXT</td>\n",
       "      <td>NL0006294274</td>\n",
       "      <td>ENX</td>\n",
       "      <td>Euronext Paris, Amsterdam, Brussels</td>\n",
       "      <td>EUR</td>\n",
       "      <td>Paris</td>\n",
       "      <td>PA</td>\n",
       "      <td>ENX.PA</td>\n",
       "    </tr>\n",
       "    <tr>\n",
       "      <th>613</th>\n",
       "      <td>EURONEXT</td>\n",
       "      <td>NL0006294274</td>\n",
       "      <td>ENXP</td>\n",
       "      <td>Euronext Lisbon</td>\n",
       "      <td>EUR</td>\n",
       "      <td>Lisbon</td>\n",
       "      <td>LS</td>\n",
       "      <td>ENXP.LS</td>\n",
       "    </tr>\n",
       "  </tbody>\n",
       "</table>\n",
       "</div>"
      ],
      "text/plain": [
       "          stock_name    stock_isin stock_euronext_symbol               stock_exchange_markets stock_trading_currency  main_city yahoo_city_code yahoo_code\n",
       "482           DIAGEO  GB0002374006                   DGE                       Euronext Paris                    EUR      Paris              PA     DGE.PA\n",
       "483       DIAGEO PLC  GB0002374006                  GUI1                      Euronext Dublin                    EUR     Dublin              IR    GUI1.IR\n",
       "578          ENVIPCO  NL0015000GX8                  ENVI                   Euronext Amsterdam                    EUR  Amsterdam              AS    ENVI.AS\n",
       "579  ENVIPCO HOLDING  NL0015000GX8                 ENVIP                 Euronext Growth Oslo                    NOK       Oslo              OL   ENVIP.OL\n",
       "612         EURONEXT  NL0006294274                   ENX  Euronext Paris, Amsterdam, Brussels                    EUR      Paris              PA     ENX.PA\n",
       "613         EURONEXT  NL0006294274                  ENXP                      Euronext Lisbon                    EUR     Lisbon              LS    ENXP.LS"
      ]
     },
     "execution_count": 14,
     "metadata": {},
     "output_type": "execute_result"
    }
   ],
   "source": [
    "# Show duplicates\n",
    "stock_info_euronext[stock_info_euronext.duplicated(['stock_isin'], keep=False)]\n"
   ]
  },
  {
   "cell_type": "code",
   "execution_count": 15,
   "metadata": {},
   "outputs": [
    {
     "data": {
      "text/html": [
       "<div>\n",
       "<style scoped>\n",
       "    .dataframe tbody tr th:only-of-type {\n",
       "        vertical-align: middle;\n",
       "    }\n",
       "\n",
       "    .dataframe tbody tr th {\n",
       "        vertical-align: top;\n",
       "    }\n",
       "\n",
       "    .dataframe thead th {\n",
       "        text-align: right;\n",
       "    }\n",
       "</style>\n",
       "<table border=\"1\" class=\"dataframe\">\n",
       "  <thead>\n",
       "    <tr style=\"text-align: right;\">\n",
       "      <th></th>\n",
       "      <th>stock_name</th>\n",
       "      <th>stock_isin</th>\n",
       "      <th>stock_euronext_symbol</th>\n",
       "      <th>stock_exchange_markets</th>\n",
       "      <th>stock_trading_currency</th>\n",
       "      <th>main_city</th>\n",
       "      <th>yahoo_city_code</th>\n",
       "      <th>yahoo_code</th>\n",
       "    </tr>\n",
       "  </thead>\n",
       "  <tbody>\n",
       "  </tbody>\n",
       "</table>\n",
       "</div>"
      ],
      "text/plain": [
       "Empty DataFrame\n",
       "Columns: [stock_name, stock_isin, stock_euronext_symbol, stock_exchange_markets, stock_trading_currency, main_city, yahoo_city_code, yahoo_code]\n",
       "Index: []"
      ]
     },
     "execution_count": 15,
     "metadata": {},
     "output_type": "execute_result"
    }
   ],
   "source": [
    "# Keep first occurence and remove other duplicates\n",
    "stock_info_euronext = stock_info_euronext.drop_duplicates(['stock_isin'], keep='first')\n",
    "stock_info_euronext[stock_info_euronext.duplicated(['stock_isin'], keep=False)]\n"
   ]
  },
  {
   "cell_type": "code",
   "execution_count": 16,
   "metadata": {},
   "outputs": [
    {
     "data": {
      "text/plain": [
       "count             1787\n",
       "unique            1787\n",
       "top       FR0010285965\n",
       "freq                 1\n",
       "Name: stock_isin, dtype: object"
      ]
     },
     "execution_count": 16,
     "metadata": {},
     "output_type": "execute_result"
    }
   ],
   "source": [
    "stock_info_euronext['stock_isin'].describe()\n"
   ]
  },
  {
   "cell_type": "code",
   "execution_count": 17,
   "metadata": {},
   "outputs": [],
   "source": [
    "# Create a function that extracts price data from yahoo using a ticker code\n",
    "def get_yahoo_data(ticker_and_isin: List[str]) -> Optional[pd.DataFrame]:\n",
    "    yahoo_code = ticker_and_isin[0]\n",
    "    stock_isin = ticker_and_isin[1]\n",
    "    try:\n",
    "        ticker = yf.Ticker(yahoo_code)\n",
    "    except:\n",
    "        ticker = None\n",
    "    # Get some basic stock info\n",
    "    try:\n",
    "        stock_info = ticker.info\n",
    "    except:\n",
    "        stock_info = None\n",
    "    try: \n",
    "        yahoo_sector = stock_info['sector']\n",
    "    except:\n",
    "        yahoo_sector = None\n",
    "    try:\n",
    "        yahoo_industry = stock_info['industry']\n",
    "    except:\n",
    "        yahoo_industry = None\n",
    "    try:\n",
    "        yahoo_full_time_employees = stock_info['fullTimeEmployees']\n",
    "    except:\n",
    "        yahoo_full_time_employees = None\n",
    "    try:\n",
    "        yahoo_shares_outstanding = stock_info['sharesOutstanding']\n",
    "    except:\n",
    "        yahoo_shares_outstanding = None\n",
    "    if yahoo_sector or yahoo_industry or yahoo_full_time_employees or yahoo_shares_outstanding:\n",
    "        stock_info_dict = {\n",
    "            'stock_isin' : stock_isin,\n",
    "            'yahoo_sector': [yahoo_sector],\n",
    "            'yahoo_industry': [yahoo_industry],\n",
    "            'yahoo_full_time_employees': [yahoo_full_time_employees],\n",
    "            'yahoo_shares_outstanding': [yahoo_shares_outstanding]\n",
    "        }\n",
    "        stock_info = pd.DataFrame.from_dict(stock_info_dict)\n",
    "    else:\n",
    "        stock_info = pd.DataFrame()\n",
    "    try:\n",
    "        # Get the return history\n",
    "        prices = ticker.history(period=\"5y\")\n",
    "        renaming_dict = {\n",
    "            'Date': 'date',\n",
    "            'Open': 'open_price',\n",
    "            'High': 'high_price',\n",
    "            'Low': 'low_price',\n",
    "            'Close': 'close_price',\n",
    "            'Adj Close': 'adjusted_close_price',\n",
    "            'Volume': 'trading_volume',\n",
    "            'Dividends': 'dividents',\n",
    "            'Stock Splits': 'stock_splits',\n",
    "        }\n",
    "        prices.reset_index(inplace=True)\n",
    "        prices.rename(columns=renaming_dict, inplace=True)\n",
    "        prices['stock_isin'] = stock_isin\n",
    "    except:\n",
    "        prices = pd.DataFrame()\n",
    "    # Get financial statement history\n",
    "    try:\n",
    "        financials = ticker.financials\n",
    "        financials.index.set_names(['financial_statement_measure'], inplace=True)\n",
    "        financials.reset_index(inplace=True)\n",
    "        financials = pd.melt(financials, id_vars='financial_statement_measure',\n",
    "                                    var_name='date', value_name='amount')\n",
    "        financials['stock_isin'] = stock_isin\n",
    "    except:\n",
    "        financials = pd.DataFrame()\n",
    "    # Get earnings history\n",
    "    try:\n",
    "        earnings = ticker.earnings\n",
    "        earnings.index.set_names(['year'], inplace=True)\n",
    "        earnings.reset_index(inplace=True)\n",
    "        earnings = pd.melt(earnings, id_vars='year',\n",
    "                                        var_name='earnings_measure', value_name='amount')\n",
    "        earnings['stock_isin'] = stock_isin\n",
    "    except:\n",
    "        earnings = pd.DataFrame()\n",
    "    # Get balance sheet history\n",
    "    try:\n",
    "        balance_sheet = ticker.balance_sheet\n",
    "        balance_sheet.index.set_names(['balance_sheet_measure'], inplace=True)\n",
    "        balance_sheet.reset_index(inplace=True)\n",
    "        balance_sheet = pd.melt(balance_sheet, id_vars='balance_sheet_measure',\n",
    "                                        var_name='date', value_name='amount')\n",
    "        balance_sheet['stock_isin'] = stock_isin\n",
    "    except:\n",
    "        balance_sheet = pd.DataFrame()\n",
    "    # Get cashflow history\n",
    "    try:\n",
    "        cashflow = ticker.cashflow\n",
    "        cashflow.index.set_names(['cash_flow_measure'], inplace=True)\n",
    "        cashflow.reset_index(inplace=True)\n",
    "        cashflow = pd.melt(cashflow, id_vars='cash_flow_measure',\n",
    "                                        var_name='date', value_name='amount')\n",
    "        cashflow['stock_isin'] = stock_isin\n",
    "    except:\n",
    "        cashflow = pd.DataFrame()\n",
    "    return stock_info, prices, financials, earnings, balance_sheet, cashflow\n",
    "\n",
    "\n"
   ]
  },
  {
   "cell_type": "code",
   "execution_count": 18,
   "metadata": {},
   "outputs": [
    {
     "name": "stdout",
     "output_type": "stream",
     "text": [
      "Stock info:\n",
      "     stock_isin yahoo_sector        yahoo_industry  yahoo_full_time_employees  yahoo_shares_outstanding\n",
      "0  US0378331005   Technology  Consumer Electronics                     100000               16319399936\n",
      "----------------------------------------------------------\n",
      "Historical prices:\n",
      "        date  open_price  high_price  low_price  close_price  trading_volume  dividents  stock_splits    stock_isin\n",
      "0 2017-02-06      30.348      30.670     30.294       30.621       107383600      0.000         0.000  US0378331005\n",
      "1 2017-02-07      30.680      31.044     30.658       30.912       152735200      0.000         0.000  US0378331005\n",
      "2 2017-02-08      30.870      31.074     30.839       31.032        92016400      0.000         0.000  US0378331005\n",
      "3 2017-02-09      31.075      31.264     30.950       31.256       113399600      0.142         0.000  US0378331005\n",
      "4 2017-02-10      31.266      31.379     31.169       31.186        80262000      0.000         0.000  US0378331005\n",
      "----------------------------------------------------------\n",
      "Historical financials:\n",
      "    financial_statement_measure       date           amount    stock_isin\n",
      "0          Research Development 2021-09-25  21914000000.000  US0378331005\n",
      "1  Effect Of Accounting Charges 2021-09-25             None  US0378331005\n",
      "2             Income Before Tax 2021-09-25 109207000000.000  US0378331005\n",
      "3             Minority Interest 2021-09-25             None  US0378331005\n",
      "4                    Net Income 2021-09-25  94680000000.000  US0378331005\n",
      "----------------------------------------------------------\n",
      "Historical earnings:\n",
      "   year earnings_measure        amount    stock_isin\n",
      "0  2018          Revenue  265595000000  US0378331005\n",
      "1  2019          Revenue  260174000000  US0378331005\n",
      "2  2020          Revenue  274515000000  US0378331005\n",
      "3  2021          Revenue  365817000000  US0378331005\n",
      "4  2018         Earnings   59531000000  US0378331005\n",
      "----------------------------------------------------------\n",
      "Historical balance sheet:\n",
      "      balance_sheet_measure       date           amount    stock_isin\n",
      "0                Total Liab 2021-09-25 287912000000.000  US0378331005\n",
      "1  Total Stockholder Equity 2021-09-25  63090000000.000  US0378331005\n",
      "2        Other Current Liab 2021-09-25  53577000000.000  US0378331005\n",
      "3              Total Assets 2021-09-25 351002000000.000  US0378331005\n",
      "4              Common Stock 2021-09-25  57365000000.000  US0378331005\n",
      "----------------------------------------------------------\n",
      "Historical cashflow:\n",
      "                           cash_flow_measure       date           amount    stock_isin\n",
      "0                                Investments 2021-09-25  -2819000000.000  US0378331005\n",
      "1                      Change To Liabilities 2021-09-25  14002000000.000  US0378331005\n",
      "2  Total Cashflows From Investing Activities 2021-09-25 -14545000000.000  US0378331005\n",
      "3                             Net Borrowings 2021-09-25  12665000000.000  US0378331005\n",
      "4       Total Cash From Financing Activities 2021-09-25 -93353000000.000  US0378331005\n",
      "----------------------------------------------------------\n"
     ]
    }
   ],
   "source": [
    "# Test by extracting Apple stock returns\n",
    "with no_ssl_verification():\n",
    "    stock_info, prices, financials, earnings, balance_sheet, cashflow = get_yahoo_data(\n",
    "        ['AAPL', 'US0378331005'])\n",
    "print('Stock info:')\n",
    "print(stock_info.head())\n",
    "print('----------------------------------------------------------')\n",
    "print('Historical prices:')\n",
    "print(prices.head())\n",
    "print('----------------------------------------------------------')\n",
    "print('Historical financials:')\n",
    "print(financials.head())\n",
    "print('----------------------------------------------------------')\n",
    "print('Historical earnings:')\n",
    "print(earnings.head())\n",
    "print('----------------------------------------------------------')\n",
    "print('Historical balance sheet:')\n",
    "print(balance_sheet.head())\n",
    "print('----------------------------------------------------------')\n",
    "print('Historical cashflow:')\n",
    "print(cashflow.head())\n",
    "print('----------------------------------------------------------')\n"
   ]
  },
  {
   "cell_type": "code",
   "execution_count": 19,
   "metadata": {},
   "outputs": [
    {
     "data": {
      "text/plain": [
       "1687"
      ]
     },
     "execution_count": 19,
     "metadata": {},
     "output_type": "execute_result"
    }
   ],
   "source": [
    "# Prepare list of ticker information to pass into our iterator function.\n",
    "relevant_tickers = stock_info_euronext[[\n",
    "    'yahoo_code', 'stock_isin']].dropna()\n",
    "tickers = relevant_tickers.to_numpy().tolist()\n",
    "len(tickers)"
   ]
  },
  {
   "cell_type": "code",
   "execution_count": 20,
   "metadata": {},
   "outputs": [],
   "source": [
    "# Define function to run through all the ticker codes and extract price data\n",
    "# https://docs.python.org/3/library/concurrent.futures.html\n",
    "def iterate_tickers(tickers: List[List[str]])-> List[pd.DataFrame]:\n",
    "    stock_info_list, prices_list, financials_list, earnings_list, balance_sheet_list, cashflow_list = (list() for i in range(6))\n",
    "    no_of_tickers = len(tickers)\n",
    "    logging.info(f'Starting extraction of data for {no_of_tickers} tickers')\n",
    "    with concurrent.futures.ThreadPoolExecutor(max_workers=5) as executor:\n",
    "        # Start the load operations and mark each future with its ticker and isn number\n",
    "        download_ticker_info = {executor.submit(\n",
    "            get_yahoo_data, ticker_and_isn): ticker_and_isn for ticker_and_isn in tickers}\n",
    "        for future in concurrent.futures.as_completed(download_ticker_info):\n",
    "            current_download = download_ticker_info[future]\n",
    "            stock_info, prices, financials, earnings, balance_sheet, cashflow = future.result()\n",
    "            stock_info_list.append(stock_info)\n",
    "            prices_list.append(prices)\n",
    "            financials_list.append(financials)\n",
    "            earnings_list.append(earnings)\n",
    "            balance_sheet_list.append(balance_sheet)\n",
    "            cashflow_list.append(cashflow)\n",
    "            # Check mark \\u2713 cross mark \\u2717\n",
    "            # Retrieval status\n",
    "            SI = '\\u2717' if stock_info.empty else '\\u2713'\n",
    "            F = '\\u2717' if financials.empty else '\\u2713'\n",
    "            E = '\\u2717' if earnings.empty else '\\u2713'\n",
    "            BS = '\\u2717' if balance_sheet.empty else '\\u2713'\n",
    "            CF = '\\u2717' if cashflow.empty else '\\u2713'\n",
    "            logging.info(f'{current_download}: SI{SI},F{F},E{E},BS{BS},CF{CF}')\n",
    "    return stock_info_list, prices_list, financials_list, earnings_list, balance_sheet_list, cashflow_list\n"
   ]
  },
  {
   "cell_type": "code",
   "execution_count": 21,
   "metadata": {},
   "outputs": [
    {
     "name": "stderr",
     "output_type": "stream",
     "text": [
      "2022-02-07 11:22:46 AM: Starting extraction of data for 1687 tickers\n",
      "2022-02-07 11:23:01 AM: ['2MXBS.PA', 'FR0014000TB2']: SI✗,F✗,E✗,BS✗,CF✗\n",
      "2022-02-07 11:23:01 AM: ['ALMIL.PA', 'FR0010285965']: SI✓,F✓,E✓,BS✓,CF✓\n",
      "2022-02-07 11:23:02 AM: ['2020.OL', 'BMG9156K1018']: SI✓,F✓,E✓,BS✓,CF✓\n",
      "2022-02-07 11:23:02 AM: ['2MX.PA', 'FR0014000T90']: SI✓,F✗,E✗,BS✗,CF✗\n",
      "2022-02-07 11:23:03 AM: ['2CRSI.PA', 'FR0013341781']: SI✓,F✓,E✓,BS✓,CF✓\n",
      "2022-02-07 11:23:21 AM: ['AASB.OL', 'NO0010672181']: SI✓,F✓,E✗,BS✓,CF✓\n",
      "2022-02-07 11:23:23 AM: ['MLATV.PA', 'FR0010050773']: SI✗,F✗,E✗,BS✗,CF✗\n",
      "2022-02-07 11:23:24 AM: ['AALB.AS', 'NL0000852564']: SI✓,F✓,E✓,BS✓,CF✓\n"
     ]
    },
    {
     "name": "stdout",
     "output_type": "stream",
     "text": [
      "- MLATV.PA: No data found, symbol may be delisted\n"
     ]
    },
    {
     "name": "stderr",
     "output_type": "stream",
     "text": [
      "2022-02-07 11:23:26 AM: ['ASP.PA', 'FR0000076887']: SI✓,F✓,E✓,BS✓,CF✓\n",
      "2022-02-07 11:23:30 AM: ['5PG.OL', 'DK0060945467']: SI✓,F✓,E✓,BS✓,CF✓\n",
      "2022-02-07 11:23:42 AM: ['ABI.BR', 'BE0974293251']: SI✓,F✓,E✓,BS✓,CF✓\n",
      "2022-02-07 11:23:43 AM: ['AB.PA', 'FR0010557264']: SI✓,F✓,E✓,BS✓,CF✓\n",
      "2022-02-07 11:23:48 AM: ['ABEO.PA', 'FR0013185857']: SI✓,F✓,E✓,BS✓,CF✓\n",
      "2022-02-07 11:23:49 AM: ['ABCA.PA', 'FR0004040608']: SI✓,F✓,E✓,BS✓,CF✓\n",
      "2022-02-07 11:23:52 AM: ['ABG.OL', 'NO0003021909']: SI✓,F✓,E✓,BS✓,CF✓\n",
      "2022-02-07 11:24:04 AM: ['ABNX.PA', 'FR0012616852']: SI✓,F✓,E✓,BS✓,CF✓\n",
      "2022-02-07 11:24:04 AM: ['ABVX.PA', 'FR0012333284']: SI✓,F✓,E✓,BS✓,CF✓\n",
      "2022-02-07 11:24:10 AM: ['ABN.AS', 'NL0011540547']: SI✓,F✓,E✓,BS✓,CF✓\n",
      "2022-02-07 11:24:10 AM: ['ABO.BR', 'BE0974278104']: SI✓,F✓,E✓,BS✓,CF✓\n",
      "2022-02-07 11:24:21 AM: ['ACPH.BR', 'GB00BYWF9Y76']: SI✓,F✓,E✓,BS✓,CF✓\n",
      "2022-02-07 11:24:23 AM: ['ACAN.PA', 'FR0000064602']: SI✓,F✓,E✗,BS✓,CF✓\n",
      "2022-02-07 11:24:28 AM: ['ACCEL.AS', 'NL0009767532']: SI✓,F✓,E✓,BS✓,CF✓\n",
      "2022-02-07 11:24:28 AM: ['ACCB.BR', 'BE0003696102']: SI✓,F✓,E✗,BS✓,CF✓\n",
      "2022-02-07 11:24:39 AM: ['AC.PA', 'FR0000120404']: SI✓,F✓,E✓,BS✓,CF✓\n",
      "2022-02-07 11:24:40 AM: ['AAC.PA', 'FR0014003PZ3']: SI✓,F✗,E✗,BS✗,CF✗\n",
      "2022-02-07 11:24:43 AM: ['AACW.PA', 'FR0014003QK3']: SI✗,F✗,E✗,BS✗,CF✗\n",
      "2022-02-07 11:24:47 AM: ['ALALO.PA', 'FR0010493510']: SI✓,F✓,E✓,BS✓,CF✓\n",
      "2022-02-07 11:24:48 AM: ['AXS.AS', 'GB00BQQFX454']: SI✓,F✓,E✓,BS✓,CF✓\n",
      "2022-02-07 11:25:00 AM: ['ACKB.BR', 'BE0003764785']: SI✓,F✓,E✓,BS✓,CF✓\n",
      "2022-02-07 11:25:02 AM: ['EOS.PA', 'FR0000076861']: SI✓,F✓,E✓,BS✓,CF✓\n",
      "2022-02-07 11:25:07 AM: ['ALACT.PA', 'FR0014005OJ5']: SI✓,F✓,E✓,BS✓,CF✓\n",
      "2022-02-07 11:25:09 AM: ['ATI.PA', 'FR0000076655']: SI✓,F✓,E✓,BS✓,CF✓\n",
      "2022-02-07 11:25:09 AM: ['MLACT.PA', 'FR0010979377']: SI✓,F✓,E✗,BS✗,CF✓\n",
      "2022-02-07 11:25:19 AM: ['ALADA.PA', 'FR0000053076']: SI✓,F✓,E✗,BS✓,CF✓\n",
      "2022-02-07 11:25:21 AM: ['ALDV.PA', 'BE0974269012']: SI✓,F✓,E✓,BS✓,CF✓\n",
      "2022-02-07 11:25:28 AM: ['ALARF.PA', 'FR0013284627']: SI✓,F✓,E✓,BS✓,CF✓\n",
      "2022-02-07 11:25:31 AM: ['ADOC.PA', 'FR0011184241']: SI✓,F✓,E✓,BS✓,CF✓\n",
      "2022-02-07 11:25:34 AM: ['ADE.OL', 'NO0010844038']: SI✓,F✓,E✓,BS✓,CF✓\n",
      "2022-02-07 11:25:39 AM: ['ALADO.PA', 'FR0013247244']: SI✓,F✓,E✓,BS✓,CF✓\n",
      "2022-02-07 11:25:42 AM: ['ADP.PA', 'FR0010340141']: SI✓,F✓,E✓,BS✓,CF✓\n",
      "2022-02-07 11:25:50 AM: ['ADS.OL', 'CY0108052115']: SI✓,F✓,E✓,BS✓,CF✓\n",
      "2022-02-07 11:25:51 AM: ['ALADM.PA', 'FR0010457531']: SI✓,F✓,E✓,BS✓,CF✓\n",
      "2022-02-07 11:25:55 AM: ['ADUX.PA', 'FR0012821890']: SI✗,F✓,E✓,BS✓,CF✓\n",
      "2022-02-07 11:25:57 AM: ['ALADV.PA', 'FR0004152874']: SI✗,F✓,E✗,BS✓,CF✓\n",
      "2022-02-07 11:26:03 AM: ['ADVIC.PA', 'FR0013296746']: SI✓,F✓,E✓,BS✓,CF✓\n",
      "2022-02-07 11:26:11 AM: ['ADVI.PA', 'FR0000053043']: SI✓,F✓,E✓,BS✓,CF✓\n",
      "2022-02-07 11:26:12 AM: ['ADYEN.AS', 'NL0012969182']: SI✓,F✓,E✓,BS✓,CF✓\n",
      "2022-02-07 11:26:16 AM: ['AED.BR', 'BE0003851681']: SI✓,F✗,E✗,BS✗,CF✗\n",
      "2022-02-07 11:26:20 AM: ['AEGA.OL', 'NO0010626559']: SI✓,F✓,E✓,BS✓,CF✓\n",
      "2022-02-07 11:26:25 AM: ['AGN.AS', 'NL0000303709']: SI✓,F✓,E✓,BS✓,CF✓\n",
      "2022-02-07 11:26:32 AM: ['AKOM.PA', 'US00774B2088']: SI✓,F✓,E✗,BS✓,CF✓\n",
      "2022-02-07 11:26:34 AM: ['AFME.PA', 'FR0013333077']: SI✓,F✓,E✓,BS✓,CF✓\n",
      "2022-02-07 11:26:39 AM: ['AFG.OL', 'NO0003078107']: SI✓,F✓,E✓,BS✓,CF✓\n",
      "2022-02-07 11:26:42 AM: ['ALAFY.PA', 'FR0014005AC9']: SI✓,F✓,E✓,BS✓,CF✓\n",
      "2022-02-07 11:26:47 AM: ['MLAGI.PA', 'FR0011908045']: SI✓,F✓,E✗,BS✗,CF✓\n",
      "2022-02-07 11:26:53 AM: ['AGS.BR', 'BE0974264930']: SI✓,F✓,E✓,BS✓,CF✓\n",
      "2022-02-07 11:26:53 AM: ['MLAA.PA', 'FR0014005WE9']: SI✓,F✗,E✗,BS✗,CF✗\n",
      "2022-02-07 11:27:01 AM: ['AGLX.OL', 'NO0010872468']: SI✓,F✓,E✓,BS✓,CF✓\n",
      "2022-02-07 11:27:03 AM: ['AGFB.BR', 'BE0003755692']: SI✓,F✓,E✓,BS✓,CF✓\n",
      "2022-02-07 11:27:08 AM: ['MLAGP.PA', 'ES0105478004']: SI✓,F✓,E✗,BS✓,CF✓\n",
      "2022-02-07 11:27:13 AM: ['ALAGP.PA', 'FR0013452281']: SI✓,F✓,E✓,BS✓,CF✓\n",
      "2022-02-07 11:27:14 AM: ['ALAGR.PA', 'FR0010641449']: SI✓,F✓,E✓,BS✓,CF✓\n",
      "2022-02-07 11:27:23 AM: ['AD.AS', 'NL0011794037']: SI✓,F✓,E✓,BS✓,CF✓\n",
      "2022-02-07 11:27:24 AM: ['CUR.LS', 'PTCUR0AP0000']: SI✗,F✗,E✗,BS✗,CF✗\n"
     ]
    },
    {
     "name": "stdout",
     "output_type": "stream",
     "text": [
      "- CUR.LS: No data found, symbol may be delisted\n"
     ]
    },
    {
     "name": "stderr",
     "output_type": "stream",
     "text": [
      "2022-02-07 11:27:27 AM: ['A5G.IR', 'IE00BF0L3536']: SI✓,F✓,E✓,BS✓,CF✓\n",
      "2022-02-07 11:27:33 AM: ['AF.PA', 'FR0000031122']: SI✓,F✓,E✓,BS✓,CF✓\n",
      "2022-02-07 11:27:36 AM: ['AI.PA', 'FR0000120073']: SI✓,F✓,E✓,BS✓,CF✓\n",
      "2022-02-07 11:27:44 AM: ['MLAIM.PA', 'FR0013285103']: SI✓,F✓,E✗,BS✓,CF✓\n",
      "2022-02-07 11:27:45 AM: ['AIR.PA', 'NL0000235190']: SI✓,F✓,E✓,BS✓,CF✓\n",
      "2022-02-07 11:27:47 AM: ['AIRX.OL', 'NO0010895568']: SI✓,F✓,E✓,BS✓,CF✓\n",
      "2022-02-07 11:27:52 AM: ['ALAIR.PA', 'IT0005450819']: SI✓,F✗,E✗,BS✗,CF✗\n",
      "2022-02-07 11:27:55 AM: ['MLAIR.PA', 'FR0014003V77']: SI✓,F✗,E✗,BS✗,CF✗\n",
      "2022-02-07 11:28:05 AM: ['AKAST.OL', 'NO0010215684']: SI✓,F✓,E✓,BS✓,CF✓\n",
      "2022-02-07 11:28:08 AM: ['AKER.OL', 'NO0010234552']: SI✓,F✓,E✓,BS✓,CF✓\n",
      "2022-02-07 11:28:11 AM: ['AKBM.OL', 'NO0010886625']: SI✓,F✓,E✓,BS✓,CF✓\n",
      "2022-02-07 11:28:14 AM: ['AJAX.AS', 'NL0000018034']: SI✓,F✓,E✓,BS✓,CF✓\n",
      "2022-02-07 11:28:16 AM: ['AKRBP.OL', 'NO0010345853']: SI✓,F✓,E✓,BS✓,CF✓\n",
      "2022-02-07 11:28:25 AM: ['ACC.OL', 'NO0010890304']: SI✓,F✓,E✓,BS✓,CF✓\n",
      "2022-02-07 11:28:30 AM: ['ACH.OL', 'NO0010936081']: SI✓,F✗,E✗,BS✗,CF✗\n",
      "2022-02-07 11:28:37 AM: ['AOW.OL', 'NO0010890312']: SI✓,F✓,E✓,BS✓,CF✓\n",
      "2022-02-07 11:28:39 AM: ['AKH.OL', 'NO0010921232']: SI✓,F✗,E✗,BS✗,CF✗\n",
      "2022-02-07 11:28:40 AM: ['AKSO.OL', 'NO0010716582']: SI✓,F✓,E✓,BS✓,CF✓\n",
      "2022-02-07 11:28:46 AM: ['AKA.PA', 'FR0004180537']: SI✓,F✓,E✓,BS✓,CF✓\n",
      "2022-02-07 11:28:54 AM: ['AKOBO.OL', 'SE0015193412']: SI✓,F✓,E✗,BS✓,CF✓\n",
      "2022-02-07 11:28:59 AM: ['AKZA.AS', 'NL0013267909']: SI✓,F✓,E✓,BS✓,CF✓\n",
      "2022-02-07 11:29:01 AM: ['AKW.PA', 'FR0000053027']: SI✓,F✓,E✓,BS✓,CF✓\n",
      "2022-02-07 11:29:08 AM: ['AAA.PA', 'FR0000062465']: SI✓,F✗,E✗,BS✗,CF✗\n",
      "2022-02-07 11:29:08 AM: ['AKVA.OL', 'NO0003097503']: SI✓,F✓,E✓,BS✓,CF✓\n",
      "2022-02-07 11:29:17 AM: ['ABIO.PA', 'FR0000060402']: SI✓,F✓,E✓,BS✓,CF✓\n",
      "2022-02-07 11:29:19 AM: ['ABIBS.PA', 'FR0013368438']: SI✗,F✗,E✗,BS✗,CF✗\n",
      "2022-02-07 11:29:22 AM: ['ALCHI.PA', 'FR0014000JX7']: SI✓,F✓,E✓,BS✓,CF✓\n",
      "2022-02-07 11:29:29 AM: ['ALD.PA', 'FR0013258662']: SI✓,F✓,E✓,BS✓,CF✓\n",
      "2022-02-07 11:29:30 AM: ['MLALE.PA', 'GB00BJ9M4V82']: SI✓,F✓,E✗,BS✓,CF✓\n",
      "2022-02-07 11:29:39 AM: ['ALFEN.AS', 'NL0012817175']: SI✓,F✓,E✓,BS✓,CF✓\n",
      "2022-02-07 11:29:40 AM: ['ALLFG.AS', 'GB00BNTJ3546']: SI✓,F✓,E✓,BS✓,CF✓\n",
      "2022-02-07 11:29:42 AM: ['AMUND.AS', 'NL0010696704']: SI✓,F✓,E✓,BS✓,CF✓\n",
      "2022-02-07 11:29:50 AM: ['ALM.PA', 'FR0013421286']: SI✓,F✓,E✓,BS✓,CF✓\n",
      "2022-02-07 11:29:50 AM: ['CDA.PA', 'FR0000053324']: SI✓,F✓,E✓,BS✓,CF✓\n",
      "2022-02-07 11:30:00 AM: ['LTA.PA', 'FR0000053837']: SI✗,F✓,E✓,BS✓,CF✓\n",
      "2022-02-07 11:30:03 AM: ['ALO.PA', 'FR0010220475']: SI✓,F✓,E✓,BS✓,CF✓\n",
      "2022-02-07 11:30:06 AM: ['ALTA.PA', 'FR0000033219']: SI✓,F✓,E✓,BS✓,CF✓\n",
      "2022-02-07 11:30:09 AM: ['AREIT.PA', 'FR0000039216']: SI✓,F✓,E✗,BS✓,CF✓\n",
      "2022-02-07 11:30:10 AM: ['ATE.PA', 'FR0000071946']: SI✓,F✓,E✓,BS✓,CF✓\n",
      "2022-02-07 11:30:22 AM: ['ALT.OL', 'IE00BLRPRP89']: SI✓,F✓,E✓,BS✓,CF✓\n",
      "2022-02-07 11:30:25 AM: ['ALORA.PA', 'FR0000061244']: SI✓,F✓,E✓,BS✓,CF✓\n",
      "2022-02-07 11:30:27 AM: ['ALTR.LS', 'PTALT0AE0002']: SI✓,F✓,E✓,BS✓,CF✓\n",
      "2022-02-07 11:30:30 AM: ['ALTUR.PA', 'FR0010395681']: SI✓,F✓,E✓,BS✓,CF✓\n",
      "2022-02-07 11:30:30 AM: ['ALX.AS', 'NL0012194724']: SI✓,F✓,E✓,BS✓,CF✓\n",
      "2022-02-07 11:30:42 AM: ['MLALV.PA', 'FR0013253812']: SI✓,F✓,E✗,BS✓,CF✓\n",
      "2022-02-07 11:30:44 AM: ['ALAMA.PA', 'GB00BNKGZC51']: SI✓,F✓,E✓,BS✓,CF✓\n",
      "2022-02-07 11:30:47 AM: ['MLAAH.PA', 'NL0010273694']: SI✓,F✓,E✗,BS✓,CF✓\n",
      "2022-02-07 11:30:52 AM: ['AMSC.OL', 'NO0010272065']: SI✓,F✓,E✓,BS✓,CF✓\n",
      "2022-02-07 11:30:52 AM: ['AMG.AS', 'NL0000888691']: SI✓,F✓,E✓,BS✓,CF✓\n",
      "2022-02-07 11:31:01 AM: ['ALMIB.PA', 'FR0011051598']: SI✓,F✓,E✓,BS✓,CF✓\n",
      "2022-02-07 11:31:09 AM: ['AMPLI.PA', 'FR0012789667']: SI✓,F✓,E✓,BS✓,CF✓\n",
      "2022-02-07 11:31:09 AM: ['ACOMO.AS', 'NL0000313286']: SI✓,F✓,E✓,BS✓,CF✓\n",
      "2022-02-07 11:31:11 AM: ['AMUN.PA', 'FR0004125920']: SI✓,F✓,E✓,BS✓,CF✓\n",
      "2022-02-07 11:31:13 AM: ['ANDF.OL', 'NO0010829765']: SI✓,F✓,E✓,BS✓,CF✓\n",
      "2022-02-07 11:31:21 AM: ['ANT.BR', 'BE0003676872']: SI✓,F✓,E✗,BS✓,CF✓\n",
      "2022-02-07 11:31:28 AM: ['ANTIN.PA', 'FR0014005AL0']: SI✓,F✓,E✓,BS✓,CF✓\n",
      "2022-02-07 11:31:30 AM: ['APM.PA', 'KYG6096M1069']: SI✓,F✓,E✗,BS✓,CF✓\n",
      "2022-02-07 11:31:34 AM: ['ABT.OL', 'NO0010307135']: SI✓,F✓,E✓,BS✓,CF✓\n",
      "2022-02-07 11:31:35 AM: ['APAM.AS', 'LU0569974404']: SI✓,F✓,E✓,BS✓,CF✓\n",
      "2022-02-07 11:31:42 AM: ['AQUA.OL', 'NO0010715394']: SI✓,F✓,E✓,BS✓,CF✓\n",
      "2022-02-07 11:31:48 AM: ['ALAQU.PA', 'FR0010340711']: SI✓,F✓,E✓,BS✓,CF✓\n",
      "2022-02-07 11:31:48 AM: ['ARAMI.PA', 'FR0014003U94']: SI✓,F✓,E✓,BS✓,CF✓\n",
      "2022-02-07 11:31:54 AM: ['ARCAD.AS', 'NL0006237562']: SI✓,F✓,E✓,BS✓,CF✓\n",
      "2022-02-07 11:31:55 AM: ['MT.AS', 'LU1598757687']: SI✓,F✓,E✓,BS✓,CF✓\n",
      "2022-02-07 11:32:01 AM: ['ARCH.OL', 'BMG0451H1170']: SI✓,F✓,E✓,BS✓,CF✓\n",
      "2022-02-07 11:32:06 AM: ['ABS.OL', 'NO0010859580']: SI✓,F✓,E✗,BS✓,CF✓\n",
      "2022-02-07 11:32:07 AM: ['ALJXR.PA', 'FR0000182479']: SI✓,F✓,E✗,BS✓,CF✓\n",
      "2022-02-07 11:32:13 AM: ['AFISH.OL', 'NO0010917719']: SI✓,F✓,E✓,BS✓,CF✓\n",
      "2022-02-07 11:32:14 AM: ['AZT.OL', 'NO0010014632']: SI✓,F✓,E✓,BS✓,CF✓\n",
      "2022-02-07 11:32:22 AM: ['ALCUR.PA', 'FR0013398997']: SI✓,F✓,E✓,BS✓,CF✓\n",
      "2022-02-07 11:32:28 AM: ['MLARD.PA', 'FR0005057635']: SI✓,F✗,E✗,BS✗,CF✗\n",
      "2022-02-07 11:32:29 AM: ['ARDO.PA', 'FR0004070795']: SI✗,F✗,E✗,BS✗,CF✗\n",
      "2022-02-07 11:32:39 AM: ['AFK.OL', 'NO0003572802']: SI✓,F✓,E✓,BS✓,CF✓\n",
      "2022-02-07 11:32:40 AM: ['ARG.PA', 'FR0010481960']: SI✓,F✓,E✓,BS✓,CF✓\n",
      "2022-02-07 11:32:43 AM: ['ARGX.BR', 'NL0010832176']: SI✓,F✓,E✓,BS✓,CF✓\n",
      "2022-02-07 11:32:50 AM: ['ARGEO.OL', 'NO0010946593']: SI✓,F✓,E✗,BS✓,CF✓\n",
      "2022-02-07 11:32:59 AM: ['MLARI.PA', 'ES0105601001']: SI✗,F✗,E✗,BS✗,CF✗\n"
     ]
    },
    {
     "name": "stdout",
     "output_type": "stream",
     "text": [
      "- MLARI.PA: No data found, symbol may be delisted\n"
     ]
    },
    {
     "name": "stderr",
     "output_type": "stream",
     "text": [
      "2022-02-07 11:33:01 AM: ['MLARO.PA', 'ES0105486007']: SI✗,F✓,E✗,BS✓,CF✓\n",
      "2022-02-07 11:33:01 AM: ['AKE.PA', 'FR0010313833']: SI✓,F✓,E✓,BS✓,CF✓\n",
      "2022-02-07 11:33:04 AM: ['ARR.OL', 'NO0003108102']: SI✓,F✓,E✓,BS✓,CF✓\n",
      "2022-02-07 11:33:11 AM: ['ARTE.PA', 'FR0012185536']: SI✓,F✓,E✓,BS✓,CF✓\n",
      "2022-02-07 11:33:20 AM: ['PRC.PA', 'FR0000074783']: SI✓,F✓,E✓,BS✓,CF✓\n",
      "2022-02-07 11:33:21 AM: ['ARTO.PA', 'FR0000076952']: SI✓,F✓,E✓,BS✓,CF✓\n",
      "2022-02-07 11:33:22 AM: ['ASC.BR', 'BE0003856730']: SI✓,F✓,E✓,BS✓,CF✓\n",
      "2022-02-07 11:33:24 AM: ['ASTK.OL', 'DK0060477263']: SI✓,F✓,E✓,BS✓,CF✓\n",
      "2022-02-07 11:33:32 AM: ['MLAEM.PA', 'FR0012968485']: SI✓,F✗,E✗,BS✗,CF✗\n",
      "2022-02-07 11:33:41 AM: ['ASM.AS', 'NL0000334118']: SI✓,F✓,E✓,BS✓,CF✓\n",
      "2022-02-07 11:33:42 AM: ['ASIT.BR', 'BE0974289218']: SI✓,F✓,E✓,BS✓,CF✓\n",
      "2022-02-07 11:33:43 AM: ['ASML.AS', 'NL0010273215']: SI✓,F✓,E✓,BS✓,CF✓\n",
      "2022-02-07 11:33:49 AM: ['ASRNL.AS', 'NL0011872643']: SI✓,F✓,E✓,BS✓,CF✓\n",
      "2022-02-07 11:33:56 AM: ['GEN.BR', 'IT0000062072']: SI✓,F✓,E✗,BS✓,CF✓\n",
      "2022-02-07 11:34:02 AM: ['ASY.PA', 'FR0000074148']: SI✓,F✓,E✓,BS✓,CF✓\n",
      "2022-02-07 11:34:03 AM: ['ASTRO.OL', 'CH1122548808']: SI✓,F✗,E✗,BS✗,CF✗\n",
      "2022-02-07 11:34:06 AM: ['ATA.PA', 'FR0010478248']: SI✓,F✓,E✓,BS✓,CF✓\n",
      "2022-02-07 11:34:13 AM: ['ATEA.OL', 'NO0004822503']: SI✓,F✓,E✓,BS✓,CF✓\n",
      "2022-02-07 11:34:16 AM: ['ATEME.PA', 'FR0011992700']: SI✓,F✓,E✓,BS✓,CF✓\n",
      "2022-02-07 11:34:22 AM: ['ASA.OL', 'NO0010768500']: SI✓,F✓,E✓,BS✓,CF✓\n",
      "2022-02-07 11:34:25 AM: ['ATEB.BR', 'BE0003837540']: SI✓,F✓,E✓,BS✓,CF✓\n",
      "2022-02-07 11:34:27 AM: ['ATO.PA', 'FR0000051732']: SI✓,F✓,E✓,BS✓,CF✓\n",
      "2022-02-07 11:34:37 AM: ['ATRS.AS', 'JE00B3DCF752']: SI✓,F✓,E✗,BS✓,CF✓\n",
      "2022-02-07 11:34:38 AM: ['AUB.PA', 'FR0000063737']: SI✓,F✓,E✓,BS✓,CF✓\n",
      "2022-02-07 11:34:42 AM: ['ALAUD.PA', 'FR00140059B5']: SI✓,F✓,E✓,BS✓,CF✓\n",
      "2022-02-07 11:34:48 AM: ['ALAVY.PA', 'BE0974334667']: SI✓,F✓,E✓,BS✓,CF✓\n",
      "2022-02-07 11:34:50 AM: ['MLAUD.PA', 'FR0011896463']: SI✓,F✓,E✗,BS✓,CF✓\n",
      "2022-02-07 11:34:57 AM: ['AUGR.PA', 'FR0000061780']: SI✓,F✓,E✗,BS✓,CF✓\n",
      "2022-02-07 11:35:00 AM: ['ALAMG.PA', 'FR0013410370']: SI✓,F✓,E✗,BS✓,CF✓\n",
      "2022-02-07 11:35:04 AM: ['AURE.PA', 'FR0000039232']: SI✓,F✓,E✓,BS✓,CF✓\n",
      "2022-02-07 11:35:08 AM: ['AURA.OL', 'NO0011032310']: SI✓,F✗,E✗,BS✗,CF✗\n",
      "2022-02-07 11:35:11 AM: ['AURS.PA', 'FR0013183589']: SI✓,F✓,E✓,BS✓,CF✓\n",
      "2022-02-07 11:35:22 AM: ['AURG.OL', 'NO0006001601']: SI✓,F✓,E✓,BS✓,CF✓\n",
      "2022-02-07 11:35:22 AM: ['AUSS.OL', 'NO0010073489']: SI✓,F✓,E✓,BS✓,CF✓\n",
      "2022-02-07 11:35:23 AM: ['AUTO.OL', 'BMG0670A1099']: SI✓,F✓,E✓,BS✓,CF✓\n",
      "2022-02-07 11:35:29 AM: ['AGAS.OL', 'BMG067231032']: SI✓,F✓,E✓,BS✓,CF✓\n",
      "2022-02-07 11:35:32 AM: ['AVTX.AS', 'NL0012047823']: SI✓,F✓,E✓,BS✓,CF✓\n",
      "2022-02-07 11:35:42 AM: ['AVT.PA', 'FR0013529815']: SI✓,F✓,E✓,BS✓,CF✓\n",
      "2022-02-07 11:35:44 AM: ['ALNG.OL', 'NO0010607971']: SI✓,F✓,E✓,BS✓,CF✓\n",
      "2022-02-07 11:35:44 AM: ['AWDR.OL', 'GB00B5LJSC86']: SI✓,F✓,E✓,BS✓,CF✓\n",
      "2022-02-07 11:35:49 AM: ['CS.PA', 'FR0000120628']: SI✓,F✓,E✓,BS✓,CF✓\n",
      "2022-02-07 11:35:53 AM: ['CSNV.PA', 'FR00140074K5']: SI✓,F✓,E✗,BS✓,CF✓\n"
     ]
    },
    {
     "name": "stdout",
     "output_type": "stream",
     "text": [
      "- CSNV.PA: No data found for this date range, symbol may be delisted\n"
     ]
    },
    {
     "name": "stderr",
     "output_type": "stream",
     "text": [
      "2022-02-07 11:36:02 AM: ['ACR.OL', 'NO0010840515']: SI✓,F✓,E✓,BS✓,CF✓\n",
      "2022-02-07 11:36:04 AM: ['AYFIE.OL', 'NO0010793243']: SI✓,F✗,E✗,BS✗,CF✗\n",
      "2022-02-07 11:36:06 AM: ['AXW.PA', 'FR0011040500']: SI✓,F✓,E✓,BS✓,CF✓\n",
      "2022-02-07 11:36:09 AM: ['MLAZL.PA', 'IT0004812258']: SI✓,F✓,E✗,BS✓,CF✓\n",
      "2022-02-07 11:36:13 AM: ['AZE.BR', 'BE0974400328']: SI✓,F✓,E✓,BS✓,CF✓\n",
      "2022-02-07 11:36:21 AM: ['MLAAT.PA', 'PTAZR0AM0006']: SI✓,F✓,E✗,BS✓,CF✓\n",
      "2022-02-07 11:36:24 AM: ['BSGR.AS', 'LU1789205884']: SI✓,F✓,E✓,BS✓,CF✓\n",
      "2022-02-07 11:36:27 AM: ['B2H.OL', 'NO0010633951']: SI✓,F✓,E✓,BS✓,CF✓\n",
      "2022-02-07 11:36:28 AM: ['BCP.LS', 'PTBCP0AM0015']: SI✓,F✓,E✓,BS✓,CF✓\n",
      "2022-02-07 11:36:37 AM: ['ALBKK.PA', 'FR0013384369']: SI✓,F✓,E✗,BS✓,CF✓\n",
      "2022-02-07 11:36:44 AM: ['BAKKA.OL', 'FO0000000179']: SI✓,F✓,E✓,BS✓,CF✓\n",
      "2022-02-07 11:36:45 AM: ['BAIN.PA', 'MC0000031187']: SI✓,F✓,E✗,BS✓,CF✓\n",
      "2022-02-07 11:36:47 AM: ['BALTA.BR', 'BE0974314461']: SI✓,F✓,E✓,BS✓,CF✓\n",
      "2022-02-07 11:36:49 AM: ['BALT.OL', 'NO0010810476']: SI✓,F✓,E✗,BS✓,CF✓\n",
      "2022-02-07 11:36:57 AM: ['BALYO.PA', 'FR0013258399']: SI✓,F✓,E✓,BS✓,CF✓\n",
      "2022-02-07 11:37:04 AM: ['BAMNB.AS', 'NL0000337319']: SI✓,F✓,E✓,BS✓,CF✓\n",
      "2022-02-07 11:37:06 AM: ['BBV.BR', 'ES0113211835']: SI✓,F✓,E✗,BS✓,CF✓\n",
      "2022-02-07 11:37:06 AM: ['SANTA.BR', 'ES0113900J37']: SI✓,F✓,E✗,BS✓,CF✓\n",
      "2022-02-07 11:37:09 AM: ['BANI.BR', 'BE0003870871']: SI✓,F✓,E✓,BS✓,CF✓\n",
      "2022-02-07 11:37:15 AM: ['DD7E.IR', 'IE0000730790']: SI✗,F✗,E✗,BS✗,CF✗\n",
      "2022-02-07 11:37:25 AM: ['BUI.PA', 'FR0000062788']: SI✓,F✓,E✓,BS✓,CF✓\n",
      "2022-02-07 11:37:25 AM: ['DD7D.IR', 'IE0000730808']: SI✗,F✗,E✗,BS✗,CF✗\n",
      "2022-02-07 11:37:28 AM: ['BIRG.IR', 'IE00BD1RP616']: SI✓,F✓,E✓,BS✓,CF✓\n",
      "2022-02-07 11:37:34 AM: ['MLBAR.PA', 'ES0105362000']: SI✗,F✗,E✗,BS✗,CF✗\n",
      "2022-02-07 11:37:39 AM: ['BAR.BR', 'BE0974362940']: SI✓,F✓,E✓,BS✓,CF✓\n",
      "2022-02-07 11:37:48 AM: ['BARRA.OL', 'SGXZ33675836']: SI✓,F✗,E✗,BS✗,CF✗\n",
      "2022-02-07 11:37:49 AM: ['BFIT.AS', 'NL0011872650']: SI✓,F✓,E✓,BS✓,CF✓\n",
      "2022-02-07 11:37:49 AM: ['BAS.BR', 'BE0003674851']: SI✓,F✓,E✗,BS✓,CF✓\n",
      "2022-02-07 11:37:54 AM: ['BASS.PA', 'FR0004023208']: SI✓,F✓,E✓,BS✓,CF✓\n",
      "2022-02-07 11:37:59 AM: ['BLC.PA', 'FR0000035370']: SI✓,F✓,E✓,BS✓,CF✓\n",
      "2022-02-07 11:38:09 AM: ['MLBAT.PA', 'FR0010436170']: SI✓,F✓,E✗,BS✓,CF✓\n",
      "2022-02-07 11:38:09 AM: ['ALBDM.PA', 'FR0000035305']: SI✓,F✓,E✓,BS✓,CF✓\n",
      "2022-02-07 11:38:10 AM: ['BESI.AS', 'NL0012866412']: SI✓,F✓,E✓,BS✓,CF✓\n",
      "2022-02-07 11:38:12 AM: ['MLBMD.PA', 'CH0451123589']: SI✓,F✓,E✓,BS✓,CF✓\n",
      "2022-02-07 11:38:21 AM: ['BEAB.BR', 'BE0003661726']: SI✓,F✗,E✗,BS✗,CF✗\n",
      "2022-02-07 11:38:29 AM: ['MLBBO.PA', 'CH1148983609']: SI✓,F✗,E✗,BS✗,CF✗\n",
      "2022-02-07 11:38:29 AM: ['BEFB.BR', 'BE0003678894']: SI✓,F✓,E✓,BS✓,CF✓\n",
      "2022-02-07 11:38:31 AM: ['FBEL.PA', 'FR0000121857']: SI✓,F✓,E✓,BS✓,CF✓\n",
      "2022-02-07 11:38:32 AM: ['BEKB.BR', 'BE0974258874']: SI✓,F✓,E✓,BS✓,CF✓\n",
      "2022-02-07 11:38:43 AM: ['BLV.PA', 'FR0014003FE9']: SI✓,F✓,E✓,BS✓,CF✓\n",
      "2022-02-07 11:38:50 AM: ['BELR.BR', 'BE0020575115']: SI✓,F✓,E✗,BS✓,CF✓\n",
      "2022-02-07 11:38:51 AM: ['BELCO.OL', 'NO0003094104']: SI✓,F✓,E✓,BS✓,CF✓\n",
      "2022-02-07 11:38:53 AM: ['BELU.BR', 'BE0003723377']: SI✓,F✓,E✗,BS✓,CF✓\n",
      "2022-02-07 11:38:54 AM: ['BEN.PA', 'FR0000035164']: SI✓,F✓,E✓,BS✓,CF✓\n",
      "2022-02-07 11:39:02 AM: ['SLBEN.LS', 'PTSLB0AM0010']: SI✓,F✓,E✗,BS✓,CF✓\n",
      "2022-02-07 11:39:10 AM: ['BCS.OL', 'NO0010950249']: SI✓,F✗,E✗,BS✗,CF✗\n",
      "2022-02-07 11:39:14 AM: ['ALDBL.PA', 'FR0000066961']: SI✓,F✓,E✓,BS✓,CF✓\n",
      "2022-02-07 11:39:14 AM: ['BBED.AS', 'NL0000339703']: SI✓,F✓,E✓,BS✓,CF✓\n",
      "2022-02-07 11:39:16 AM: ['BGBIO.OL', 'NO0010650013']: SI✓,F✓,E✓,BS✓,CF✓\n",
      "2022-02-07 11:39:21 AM: ['BEVER.AS', 'NL0000285278']: SI✓,F✓,E✗,BS✓,CF✓\n",
      "2022-02-07 11:39:30 AM: ['BEWI.OL', 'NO0010890965']: SI✓,F✓,E✓,BS✓,CF✓\n",
      "2022-02-07 11:39:35 AM: ['BB.PA', 'FR0000120966']: SI✓,F✓,E✓,BS✓,CF✓\n",
      "2022-02-07 11:39:38 AM: ['BIG.PA', 'FR0000074072']: SI✓,F✓,E✓,BS✓,CF✓\n",
      "2022-02-07 11:39:39 AM: ['ALBLD.PA', 'FR0004174233']: SI✓,F✓,E✓,BS✓,CF✓\n",
      "2022-02-07 11:39:43 AM: ['ALTUV.PA', 'FR0013345493']: SI✓,F✓,E✓,BS✓,CF✓\n",
      "2022-02-07 11:39:49 AM: ['BCART.BR', 'BE0974281132']: SI✓,F✓,E✓,BS✓,CF✓\n",
      "2022-02-07 11:39:56 AM: ['BFISH.OL', 'NO0010955198']: SI✓,F✗,E✗,BS✗,CF✗\n",
      "2022-02-07 11:40:00 AM: ['ALCOR.PA', 'FR0012788065']: SI✓,F✓,E✓,BS✓,CF✓\n",
      "2022-02-07 11:40:06 AM: ['BIM.PA', 'FR0013280286']: SI✓,F✓,E✓,BS✓,CF✓\n",
      "2022-02-07 11:40:06 AM: ['ALBPS.PA', 'FR0012816825']: SI✓,F✓,E✓,BS✓,CF✓\n",
      "2022-02-07 11:40:09 AM: ['BPSBS.PA', 'FR0013507290']: SI✗,F✗,E✗,BS✗,CF✗\n"
     ]
    },
    {
     "name": "stdout",
     "output_type": "stream",
     "text": [
      "- BPSBS.PA: No data found for this date range, symbol may be delisted\n"
     ]
    },
    {
     "name": "stderr",
     "output_type": "stream",
     "text": [
      "2022-02-07 11:40:16 AM: ['ALBIO.PA', 'FR0011005933']: SI✓,F✓,E✓,BS✓,CF✓\n",
      "2022-02-07 11:40:23 AM: ['BTLS.BR', 'BE0974386188']: SI✓,F✓,E✓,BS✓,CF✓\n",
      "2022-02-07 11:40:25 AM: ['BSP.OL', 'NO0010755101']: SI✓,F✓,E✗,BS✓,CF✓\n",
      "2022-02-07 11:40:26 AM: ['BLEE.PA', 'FR0000062150']: SI✓,F✓,E✗,BS✓,CF✓\n",
      "2022-02-07 11:40:33 AM: ['MLBSP.PA', 'FR0013340973']: SI✓,F✓,E✗,BS✓,CF✓\n",
      "2022-02-07 11:40:35 AM: ['ALBLU.PA', 'FR0011041011']: SI✓,F✓,E✓,BS✓,CF✓\n",
      "2022-02-07 11:40:42 AM: ['BLUBT.PA', 'FR0013480985']: SI✗,F✗,E✗,BS✗,CF✗\n",
      "2022-02-07 11:40:46 AM: ['ALBOA.PA', 'FR0011365907']: SI✓,F✓,E✗,BS✓,CF✓\n",
      "2022-02-07 11:40:47 AM: ['BNP.PA', 'FR0000131104']: SI✓,F✓,E✓,BS✓,CF✓\n",
      "2022-02-07 11:40:53 AM: ['MLONE.PA', 'FR0010106039']: SI✓,F✓,E✗,BS✓,CF✓\n",
      "2022-02-07 11:40:54 AM: ['BOEI.BR', 'US0970231058']: SI✓,F✓,E✗,BS✓,CF✓\n",
      "2022-02-07 11:41:02 AM: ['BOI.PA', 'FR0000061129']: SI✓,F✓,E✓,BS✓,CF✓\n",
      "2022-02-07 11:41:07 AM: ['BOL.PA', 'FR0000039299']: SI✓,F✓,E✓,BS✓,CF✓\n",
      "2022-02-07 11:41:09 AM: ['BON.PA', 'FR0000063935']: SI✓,F✓,E✓,BS✓,CF✓\n",
      "2022-02-07 11:41:14 AM: ['BOTHE.BR', 'BE0974280126']: SI✓,F✗,E✗,BS✗,CF✗\n",
      "2022-02-07 11:41:14 AM: ['BONHR.OL', 'NO0003110603']: SI✓,F✓,E✓,BS✓,CF✓\n",
      "2022-02-07 11:41:22 AM: ['ALBOO.PA', 'FR0011814938']: SI✗,F✓,E✗,BS✓,CF✓\n",
      "2022-02-07 11:41:26 AM: ['BOR.OL', 'NO0003111700']: SI✓,F✓,E✓,BS✓,CF✓\n",
      "2022-02-07 11:41:30 AM: ['BORR.OL', 'BMG1466R1732']: SI✓,F✓,E✓,BS✓,CF✓\n",
      "2022-02-07 11:41:34 AM: ['BRG.OL', 'NO0010657505']: SI✓,F✓,E✓,BS✓,CF✓\n",
      "2022-02-07 11:41:39 AM: ['BOKA.AS', 'NL0000852580']: SI✓,F✓,E✓,BS✓,CF✓\n",
      "2022-02-07 11:41:45 AM: ['ALBOU.PA', 'FR0000054421']: SI✓,F✓,E✓,BS✓,CF✓\n",
      "2022-02-07 11:41:48 AM: ['BSD.PA', 'FR0000074254']: SI✓,F✓,E✓,BS✓,CF✓\n",
      "2022-02-07 11:41:48 AM: ['BGHL.AS', 'GG00B1FQG453']: SI✓,F✓,E✓,BS✓,CF✓\n",
      "2022-02-07 11:41:54 AM: ['BGHS.AS', 'GG00B39VMM07']: SI✗,F✗,E✗,BS✗,CF✗\n"
     ]
    },
    {
     "name": "stdout",
     "output_type": "stream",
     "text": [
      "- BGHS.AS: No data found, symbol may be delisted\n"
     ]
    },
    {
     "name": "stderr",
     "output_type": "stream",
     "text": [
      "2022-02-07 11:42:00 AM: ['BOUV.OL', 'NO0010360266']: SI✓,F✗,E✗,BS✗,CF✗\n",
      "2022-02-07 11:42:05 AM: ['EN.PA', 'FR0000120503']: SI✓,F✓,E✓,BS✓,CF✓\n",
      "2022-02-07 11:42:07 AM: ['BPOST.BR', 'BE0974268972']: SI✓,F✓,E✓,BS✓,CF✓\n",
      "2022-02-07 11:42:12 AM: ['ENNV.PA', 'FR0014006U75']: SI✗,F✗,E✗,BS✗,CF✗\n"
     ]
    },
    {
     "name": "stdout",
     "output_type": "stream",
     "text": [
      "- ENNV.PA: No data found, symbol may be delisted\n"
     ]
    },
    {
     "name": "stderr",
     "output_type": "stream",
     "text": [
      "2022-02-07 11:42:18 AM: ['BNB.BR', 'BE0003008019']: SI✓,F✓,E✓,BS✓,CF✓\n",
      "2022-02-07 11:42:20 AM: ['BRA.OL', 'NO0010167331']: SI✓,F✓,E✗,BS✓,CF✓\n",
      "2022-02-07 11:42:27 AM: ['BACE.AS', 'KYG137071075']: SI✓,F✗,E✗,BS✗,CF✗\n",
      "2022-02-07 11:42:28 AM: ['BREB.BR', 'LU1068091351']: SI✓,F✓,E✓,BS✓,CF✓\n",
      "2022-02-07 11:42:38 AM: ['BACEU.AS', 'KYG137071158']: SI✓,F✗,E✗,BS✗,CF✗\n",
      "2022-02-07 11:42:38 AM: ['BRILL.AS', 'NL0000442523']: SI✓,F✓,E✓,BS✓,CF✓\n",
      "2022-02-07 11:42:42 AM: ['BRNL.AS', 'NL0010776944']: SI✓,F✓,E✓,BS✓,CF✓\n",
      "2022-02-07 11:42:47 AM: ['BVI.PA', 'FR0006174348']: SI✓,F✓,E✓,BS✓,CF✓\n",
      "2022-02-07 11:42:51 AM: ['BUR.PA', 'FR0000061137']: SI✓,F✓,E✓,BS✓,CF✓\n",
      "2022-02-07 11:42:58 AM: ['BWEK.OL', 'SGXZ80461361']: SI✓,F✓,E✓,BS✓,CF✓\n",
      "2022-02-07 11:42:59 AM: ['BWE.OL', 'BMG0702P1086']: SI✓,F✓,E✓,BS✓,CF✓\n",
      "2022-02-07 11:43:00 AM: ['BWIDL.OL', 'NO0010947385']: SI✓,F✓,E✓,BS✓,CF✓\n",
      "2022-02-07 11:43:07 AM: ['BWLPG.OL', 'BMG173841013']: SI✓,F✓,E✓,BS✓,CF✓\n",
      "2022-02-07 11:43:11 AM: ['BWO.OL', 'BMG1738J1247']: SI✓,F✓,E✓,BS✓,CF✓\n",
      "2022-02-07 11:43:19 AM: ['ALCG.PA', 'FR0013530102']: SI✓,F✓,E✓,BS✓,CF✓\n",
      "2022-02-07 11:43:19 AM: ['BMA.OL', 'NO0003087603']: SI✓,F✓,E✓,BS✓,CF✓\n",
      "2022-02-07 11:43:21 AM: ['CAT31.PA', 'FR0000045544']: SI✓,F✓,E✓,BS✓,CF✓\n",
      "2022-02-07 11:43:27 AM: ['CADLR.OL', 'DK0061412772']: SI✓,F✓,E✓,BS✓,CF✓\n",
      "2022-02-07 11:43:31 AM: ['CAFO.PA', 'FR0010151589']: SI✓,F✓,E✓,BS✓,CF✓\n",
      "2022-02-07 11:43:40 AM: ['MLAAE.PA', 'FR0010781377']: SI✓,F✓,E✗,BS✓,CF✓\n",
      "2022-02-07 11:43:41 AM: ['C5H.IR', 'IE00BWY4ZF18']: SI✓,F✓,E✗,BS✓,CF✓\n",
      "2022-02-07 11:43:42 AM: ['CAMBI.OL', 'NO0010078850']: SI✓,F✓,E✓,BS✓,CF✓\n",
      "2022-02-07 11:43:47 AM: ['CBDG.PA', 'FR0000079659']: SI✓,F✓,E✓,BS✓,CF✓\n",
      "2022-02-07 11:43:50 AM: ['CAMB.BR', 'BE0003825420']: SI✓,F✓,E✓,BS✓,CF✓\n",
      "2022-02-07 11:44:02 AM: ['CAP.PA', 'FR0000125338']: SI✓,F✓,E✓,BS✓,CF✓\n",
      "2022-02-07 11:44:03 AM: ['CAPLI.PA', 'FR0012969095']: SI✓,F✓,E✓,BS✓,CF✓\n",
      "2022-02-07 11:44:05 AM: ['CAND.BR', 'BE0974298300']: SI✓,F✓,E✗,BS✓,CF✓\n",
      "2022-02-07 11:44:07 AM: ['CARA.OL', 'NO0010123060']: SI✓,F✓,E✓,BS✓,CF✓\n",
      "2022-02-07 11:44:10 AM: ['ALCRB.PA', 'FR0011648716']: SI✓,F✓,E✓,BS✓,CF✓\n",
      "2022-02-07 11:44:21 AM: ['CARBN.OL', 'NO0010778095']: SI✓,F✓,E✓,BS✓,CF✓\n",
      "2022-02-07 11:44:23 AM: ['CPINV.BR', 'BE0974273055']: SI✓,F✓,E✓,BS✓,CF✓\n",
      "2022-02-07 11:44:24 AM: ['ALCAR.PA', 'FR0010907956']: SI✓,F✓,E✓,BS✓,CF✓\n",
      "2022-02-07 11:44:27 AM: ['CARM.PA', 'FR0010828137']: SI✓,F✓,E✓,BS✓,CF✓\n",
      "2022-02-07 11:44:32 AM: ['CARP.PA', 'FR0000064156']: SI✓,F✓,E✗,BS✓,CF✓\n",
      "2022-02-07 11:44:42 AM: ['CA.PA', 'FR0000120172']: SI✓,F✓,E✓,BS✓,CF✓\n",
      "2022-02-07 11:44:45 AM: ['CAS.PA', 'FR0000072894']: SI✓,F✓,E✓,BS✓,CF✓\n",
      "2022-02-07 11:44:47 AM: ['CO.PA', 'FR0000125585']: SI✓,F✓,E✓,BS✓,CF✓\n",
      "2022-02-07 11:44:47 AM: ['CATG.PA', 'FR0010193052']: SI✓,F✓,E✓,BS✓,CF✓\n",
      "2022-02-07 11:44:53 AM: ['CTRG.PA', 'FR0000064446']: SI✓,F✓,E✓,BS✓,CF✓\n",
      "2022-02-07 11:45:02 AM: ['CATR.PA', 'US1491231015']: SI✓,F✓,E✗,BS✓,CF✓\n",
      "2022-02-07 11:45:06 AM: ['ALCBI.PA', 'FR0014007LW0']: SI✓,F✓,E✗,BS✓,CF✓\n",
      "2022-02-07 11:45:07 AM: ['MLCEC.PA', 'FR0010717579']: SI✓,F✓,E✗,BS✓,CF✓\n",
      "2022-02-07 11:45:08 AM: ['CBOT.PA', 'FR0010193979']: SI✓,F✓,E✓,BS✓,CF✓\n",
      "2022-02-07 11:45:13 AM: ['CGM.PA', 'FR0000053506']: SI✓,F✓,E✓,BS✓,CF✓\n",
      "2022-02-07 11:45:23 AM: ['ALCLS.PA', 'FR0010425595']: SI✓,F✓,E✓,BS✓,CF✓\n",
      "2022-02-07 11:45:26 AM: ['CYAD.BR', 'BE0974260896']: SI✓,F✓,E✓,BS✓,CF✓\n",
      "2022-02-07 11:45:27 AM: ['ALPCV.PA', 'FR0013178712']: SI✓,F✓,E✓,BS✓,CF✓\n",
      "2022-02-07 11:45:28 AM: ['CENER.BR', 'BE0974303357']: SI✓,F✓,E✓,BS✓,CF✓\n",
      "2022-02-07 11:45:34 AM: ['ALCES.PA', 'FR0013297165']: SI✓,F✓,E✓,BS✓,CF✓\n",
      "2022-02-07 11:45:42 AM: ['MLCSA.PA', 'IT0005402034']: SI✓,F✓,E✗,BS✓,CF✓\n",
      "2022-02-07 11:45:44 AM: ['MLCSB.PA', 'IT0005398877']: SI✓,F✓,E✗,BS✓,CF✓\n",
      "2022-02-07 11:45:48 AM: ['CFI.PA', 'FR0000037475']: SI✓,F✓,E✗,BS✓,CF✓\n",
      "2022-02-07 11:45:48 AM: ['CFEB.BR', 'BE0003883031']: SI✓,F✓,E✓,BS✓,CF✓\n",
      "2022-02-07 11:45:54 AM: ['MLCFM.PA', 'MC0010000826']: SI✓,F✓,E✓,BS✓,CF✓\n",
      "2022-02-07 11:46:02 AM: ['CGG.PA', 'FR0013181864']: SI✓,F✓,E✓,BS✓,CF✓\n",
      "2022-02-07 11:46:04 AM: ['CGGBS.PA', 'FR0013309614']: SI✗,F✗,E✗,BS✗,CF✗\n",
      "2022-02-07 11:46:07 AM: ['CGGBT.PA', 'FR0013309622']: SI✗,F✗,E✗,BS✗,CF✗\n",
      "2022-02-07 11:46:07 AM: ['MLCFD.PA', 'FR0000037871']: SI✓,F✓,E✗,BS✓,CF✓\n",
      "2022-02-07 11:46:16 AM: ['MLCVG.PA', 'FR0000051567']: SI✓,F✓,E✗,BS✓,CF✓\n",
      "2022-02-07 11:46:23 AM: ['CRI.PA', 'FR0000130692']: SI✓,F✓,E✓,BS✓,CF✓\n",
      "2022-02-07 11:46:24 AM: ['CHSR.PA', 'FR0000060907']: SI✓,F✓,E✗,BS✓,CF✓\n",
      "2022-02-07 11:46:25 AM: ['CHTEX.BR', 'US1667641005']: SI✓,F✓,E✗,BS✓,CF✓\n",
      "2022-02-07 11:46:27 AM: ['MLCHE.PA', 'FR0010447086']: SI✓,F✓,E✗,BS✓,CF✓\n",
      "2022-02-07 11:46:40 AM: ['MLTV.BR', 'BE0974370026']: SI✓,F✗,E✗,BS✗,CF✗\n",
      "2022-02-07 11:46:43 AM: ['CDI.PA', 'FR0000130403']: SI✓,F✓,E✓,BS✓,CF✓\n",
      "2022-02-07 11:46:44 AM: ['CIB.PA', 'FR0000054322']: SI✓,F✓,E✗,BS✓,CF✓\n",
      "2022-02-07 11:46:45 AM: ['COMB.BR', 'BE0003592038']: SI✓,F✓,E✓,BS✓,CF✓\n",
      "2022-02-07 11:46:47 AM: ['MLCMB.PA', 'FR0000060428']: SI✓,F✓,E✗,BS✓,CF✓\n",
      "2022-02-07 11:46:59 AM: ['MLCIO.PA', 'FR0012384907']: SI✓,F✓,E✗,BS✓,CF✓\n",
      "2022-02-07 11:47:04 AM: ['CIS.BR', 'US17275R1023']: SI✗,F✗,E✗,BS✗,CF✗\n",
      "2022-02-07 11:47:05 AM: ['CLA.PA', 'FR0013426004']: SI✓,F✓,E✓,BS✓,CF✓\n",
      "2022-02-07 11:47:05 AM: ['CIRCA.OL', 'NO0010917594']: SI✓,F✓,E✓,BS✓,CF✓\n",
      "2022-02-07 11:47:09 AM: ['ALCLA.PA', 'FR0004152882']: SI✓,F✓,E✓,BS✓,CF✓\n",
      "2022-02-07 11:47:19 AM: ['CSS.OL', 'AU000000CSS3']: SI✓,F✓,E✗,BS✓,CF✓\n",
      "2022-02-07 11:47:24 AM: ['CLOUD.OL', 'NO0010876642']: SI✓,F✓,E✓,BS✓,CF✓\n",
      "2022-02-07 11:47:27 AM: ['CMCOM.AS', 'NL0012747059']: SI✓,F✓,E✓,BS✓,CF✓\n",
      "2022-02-07 11:47:27 AM: ['COM.PA', 'FR0000053399']: SI✓,F✓,E✓,BS✓,CF✓\n",
      "2022-02-07 11:47:38 AM: ['CNV.PA', 'NL0010949392']: SI✓,F✓,E✗,BS✓,CF✓\n",
      "2022-02-07 11:47:41 AM: ['CNP.PA', 'FR0000120222']: SI✓,F✓,E✓,BS✓,CF✓\n",
      "2022-02-07 11:47:46 AM: ['CAPSL.OL', 'NO0010923121']: SI✓,F✗,E✗,BS✗,CF✗\n",
      "2022-02-07 11:47:46 AM: ['COBH.BR', 'BE0003519270']: SI✓,F✓,E✗,BS✓,CF✓\n",
      "2022-02-07 11:47:50 AM: ['CCEP.AS', 'GB00BDCPN049']: SI✓,F✓,E✓,BS✓,CF✓\n",
      "2022-02-07 11:48:03 AM: ['ALCOF.PA', 'FR0013257409']: SI✓,F✓,E✓,BS✓,CF✓\n",
      "2022-02-07 11:48:03 AM: ['COFA.PA', 'FR0010667147']: SI✓,F✓,E✓,BS✓,CF✓\n",
      "2022-02-07 11:48:05 AM: ['CFN.LS', 'PTCFN0AE0003']: SI✓,F✓,E✓,BS✓,CF✓\n",
      "2022-02-07 11:48:06 AM: ['COFB.BR', 'BE0003593044']: SI✓,F✓,E✓,BS✓,CF✓\n",
      "2022-02-07 11:48:10 AM: ['ALLEC.PA', 'FR0013335742']: SI✓,F✓,E✓,BS✓,CF✓\n",
      "2022-02-07 11:48:23 AM: ['ALCOG.PA', 'FR0011071570']: SI✓,F✓,E✓,BS✓,CF✓\n",
      "2022-02-07 11:48:24 AM: ['COH.PA', 'FR0004031763']: SI✓,F✓,E✓,BS✓,CF✓\n",
      "2022-02-07 11:48:24 AM: ['ALCOI.PA', 'BE0160342011']: SI✓,F✓,E✓,BS✓,CF✓\n",
      "2022-02-07 11:48:26 AM: ['RE.PA', 'FR0000121634']: SI✓,F✓,E✓,BS✓,CF✓\n",
      "2022-02-07 11:48:29 AM: ['MLCLP.PA', 'FR0010959684']: SI✓,F✓,E✗,BS✓,CF✓\n",
      "2022-02-07 11:48:43 AM: ['COLR.BR', 'BE0974256852']: SI✓,F✓,E✓,BS✓,CF✓\n",
      "2022-02-07 11:48:43 AM: ['MLMFI.PA', 'BE6252013725']: SI✓,F✓,E✗,BS✓,CF✓\n",
      "2022-02-07 11:48:43 AM: ['ODET.PA', 'FR0000062234']: SI✓,F✓,E✓,BS✓,CF✓\n",
      "2022-02-07 11:48:48 AM: ['CDU.LS', 'PTCDU0AE0003']: SI✓,F✓,E✗,BS✓,CF✓\n",
      "2022-02-07 11:48:48 AM: ['MLCNT.PA', 'FR0000077828']: SI✓,F✓,E✓,BS✗,CF✓\n",
      "2022-02-07 11:49:02 AM: ['MLLCB.PA', 'FR00140007I9']: SI✓,F✓,E✗,BS✓,CF✓\n",
      "2022-02-07 11:49:04 AM: ['CONTX.OL', 'SE0014731154']: SI✓,F✓,E✓,BS✓,CF✓\n",
      "2022-02-07 11:49:05 AM: ['CPA.LS', 'PTCPA0AP0006']: SI✓,F✓,E✗,BS✓,CF✓\n",
      "2022-02-07 11:49:08 AM: ['CLB.AS', 'NL0000200384']: SI✓,F✓,E✓,BS✓,CF✓\n",
      "2022-02-07 11:49:09 AM: ['CRBN.AS', 'NL0010583399']: SI✓,F✓,E✓,BS✓,CF✓\n",
      "2022-02-07 11:49:23 AM: ['MLCOR.PA', 'FR0010035816']: SI✓,F✓,E✗,BS✗,CF✓\n",
      "2022-02-07 11:49:25 AM: ['CORRE.IR', 'NL0015000DY3']: SI✓,F✗,E✗,BS✗,CF✗\n",
      "2022-02-07 11:49:25 AM: ['COR.LS', 'PTCOR0AE0006']: SI✓,F✓,E✓,BS✓,CF✓\n",
      "2022-02-07 11:49:28 AM: ['MLCOU.PA', 'FR0004998318']: SI✓,F✓,E✗,BS✓,CF✓\n",
      "2022-02-07 11:49:30 AM: ['COUR.PA', 'FR0000065393']: SI✓,F✓,E✓,BS✓,CF✓\n",
      "2022-02-07 11:49:44 AM: ['COV.PA', 'FR0000064578']: SI✓,F✓,E✓,BS✓,CF✓\n",
      "2022-02-07 11:49:45 AM: ['CRAYN.OL', 'NO0010808892']: SI✓,F✓,E✓,BS✓,CF✓\n",
      "2022-02-07 11:49:46 AM: ['COVH.PA', 'FR0000060303']: SI✓,F✓,E✓,BS✓,CF✓\n",
      "2022-02-07 11:49:49 AM: ['CRAP.PA', 'FR0000044323']: SI✓,F✓,E✓,BS✓,CF✓\n",
      "2022-02-07 11:49:51 AM: ['CRAV.PA', 'FR0000185506']: SI✓,F✓,E✓,BS✓,CF✓\n",
      "2022-02-07 11:50:03 AM: ['CRBP2.PA', 'FR0010483768']: SI✓,F✓,E✓,BS✓,CF✓\n",
      "2022-02-07 11:50:05 AM: ['CRLA.PA', 'FR0010461053']: SI✓,F✓,E✓,BS✓,CF✓\n",
      "2022-02-07 11:50:05 AM: ['CIV.PA', 'FR0000045213']: SI✓,F✓,E✓,BS✓,CF✓\n",
      "2022-02-07 11:50:09 AM: ['CRLO.PA', 'FR0000045239']: SI✓,F✓,E✓,BS✓,CF✓\n",
      "2022-02-07 11:50:15 AM: ['CMO.PA', 'FR0000045551']: SI✓,F✓,E✓,BS✓,CF✓\n",
      "2022-02-07 11:50:22 AM: ['CNF.PA', 'FR0000185514']: SI✓,F✓,E✓,BS✓,CF✓\n",
      "2022-02-07 11:50:27 AM: ['CCN.PA', 'FR0000044364']: SI✓,F✓,E✓,BS✓,CF✓\n",
      "2022-02-07 11:50:27 AM: ['CAF.PA', 'FR0000045528']: SI✓,F✓,E✓,BS✓,CF✓\n",
      "2022-02-07 11:50:30 AM: ['CRSU.PA', 'FR0000045346']: SI✓,F✓,E✓,BS✓,CF✓\n",
      "2022-02-07 11:50:35 AM: ['CRTO.PA', 'FR0000045304']: SI✓,F✓,E✓,BS✓,CF✓\n",
      "2022-02-07 11:50:42 AM: ['ACA.PA', 'FR0000045072']: SI✓,F✓,E✓,BS✓,CF✓\n",
      "2022-02-07 11:50:45 AM: ['OPTI.BR', 'BE0003836534']: SI✓,F✓,E✓,BS✓,CF✓\n",
      "2022-02-07 11:50:49 AM: ['DD8A.IR', 'IE0001827264']: SI✗,F✗,E✗,BS✗,CF✗\n",
      "2022-02-07 11:50:51 AM: ['DD8B.IR', 'IE0001827603']: SI✗,F✗,E✗,BS✗,CF✗\n",
      "2022-02-07 11:50:54 AM: ['CRG.IR', 'IE0001827041']: SI✓,F✓,E✓,BS✓,CF✓\n",
      "2022-02-07 11:51:01 AM: ['ALCJ.PA', 'FR0011716265']: SI✓,F✓,E✓,BS✓,CF✓\n",
      "2022-02-07 11:51:08 AM: ['CPA1.AS', 'KYG2581M1078']: SI✓,F✗,E✗,BS✗,CF✗\n",
      "2022-02-07 11:51:09 AM: ['CROS.PA', 'FR0000050395']: SI✓,F✓,E✗,BS✓,CF✓\n",
      "2022-02-07 11:51:10 AM: ['CPA1W.AS', 'KYG2581M1151']: SI✗,F✗,E✗,BS✗,CF✗\n",
      "2022-02-07 11:51:15 AM: ['SX.PA', 'FR0007317813']: SI✓,F✓,E✓,BS✓,CF✓\n",
      "2022-02-07 11:51:19 AM: ['CSAM.OL', 'NO0010894512']: SI✓,F✓,E✓,BS✓,CF✓\n",
      "2022-02-07 11:51:27 AM: ['CTCA1.AS', 'NL0015000DC9']: SI✓,F✗,E✗,BS✗,CF✗\n",
      "2022-02-07 11:51:28 AM: ['CTAC.AS', 'NL0000345577']: SI✓,F✓,E✓,BS✓,CF✓\n",
      "2022-02-07 11:51:35 AM: ['CTCT1.AS', 'NL0015000F09']: SI✗,F✗,E✗,BS✗,CF✗\n"
     ]
    },
    {
     "name": "stdout",
     "output_type": "stream",
     "text": [
      "- CTCT1.AS: No data found, symbol may be delisted\n"
     ]
    },
    {
     "name": "stderr",
     "output_type": "stream",
     "text": [
      "2022-02-07 11:51:37 AM: ['CTCW1.AS', 'NL0015000DD7']: SI✗,F✗,E✗,BS✗,CF✗\n",
      "2022-02-07 11:51:40 AM: ['CTPNV.AS', 'NL00150006R6']: SI✓,F✓,E✓,BS✓,CF✓\n",
      "2022-02-07 11:51:48 AM: ['CLEX.BR', 'BE0003463685']: SI✓,F✓,E✗,BS✓,CF✓\n",
      "2022-02-07 11:51:49 AM: ['CTT.LS', 'PTCTT0AM0001']: SI✓,F✓,E✓,BS✓,CF✓\n",
      "2022-02-07 11:51:54 AM: ['ALCYB.PA', 'FR0014004QR6']: SI✓,F✓,E✓,BS✓,CF✓\n",
      "2022-02-07 11:51:55 AM: ['CYBBT.PA', 'FR0013340817']: SI✗,F✗,E✗,BS✗,CF✗\n",
      "2022-02-07 11:51:58 AM: ['CYBK1.PA', 'FR0013507977']: SI✗,F✗,E✗,BS✗,CF✗\n"
     ]
    },
    {
     "name": "stdout",
     "output_type": "stream",
     "text": [
      "- CYBK1.PA: No data found for this date range, symbol may be delisted\n"
     ]
    },
    {
     "name": "stderr",
     "output_type": "stream",
     "text": [
      "2022-02-07 11:52:06 AM: ['CYBKA.PA', 'FR0013507985']: SI✗,F✗,E✗,BS✗,CF✗\n"
     ]
    },
    {
     "name": "stdout",
     "output_type": "stream",
     "text": [
      "- CYBKA.PA: No data found for this date range, symbol may be delisted\n"
     ]
    },
    {
     "name": "stderr",
     "output_type": "stream",
     "text": [
      "2022-02-07 11:52:07 AM: ['CYBKB.PA', 'FR0013508009']: SI✗,F✗,E✗,BS✗,CF✗\n"
     ]
    },
    {
     "name": "stdout",
     "output_type": "stream",
     "text": [
      "- CYBKB.PA: No data found for this date range, symbol may be delisted\n"
     ]
    },
    {
     "name": "stderr",
     "output_type": "stream",
     "text": [
      "2022-02-07 11:52:14 AM: ['CYVIZ.OL', 'NO0010015175']: SI✓,F✓,E✓,BS✓,CF✓\n",
      "2022-02-07 11:52:15 AM: ['DIE.BR', 'BE0974259880']: SI✓,F✓,E✓,BS✓,CF✓\n",
      "2022-02-07 11:52:21 AM: ['ALDLS.PA', 'FR0010404368']: SI✓,F✓,E✓,BS✓,CF✓\n",
      "2022-02-07 11:52:25 AM: ['DHG.IR', 'IE00BJMZDW83']: SI✓,F✓,E✓,BS✓,CF✓\n",
      "2022-02-07 11:52:29 AM: ['MLDAM.PA', 'FR0000077885']: SI✓,F✓,E✗,BS✓,CF✓\n",
      "2022-02-07 11:52:33 AM: ['ALDAR.PA', 'FR0000185423']: SI✓,F✓,E✓,BS✓,CF✓\n",
      "2022-02-07 11:52:37 AM: ['BN.PA', 'FR0000120644']: SI✓,F✓,E✓,BS✓,CF✓\n",
      "2022-02-07 11:52:43 AM: ['AM.PA', 'FR0014004L86']: SI✓,F✓,E✓,BS✓,CF✓\n",
      "2022-02-07 11:52:48 AM: ['DSYNV.PA', 'FR00140078T7']: SI✗,F✗,E✗,BS✗,CF✗\n"
     ]
    },
    {
     "name": "stdout",
     "output_type": "stream",
     "text": [
      "- DSYNV.PA: No data found, symbol may be delisted\n"
     ]
    },
    {
     "name": "stderr",
     "output_type": "stream",
     "text": [
      "2022-02-07 11:52:48 AM: ['DSY.PA', 'FR0014003TT8']: SI✗,F✓,E✓,BS✓,CF✓\n",
      "2022-02-07 11:52:55 AM: ['DLE.IR', 'IE0000527006']: SI✓,F✓,E✓,BS✓,CF✓\n",
      "2022-02-07 11:52:56 AM: ['ALDBT.PA', 'FR0013066750']: SI✓,F✓,E✓,BS✓,CF✓\n",
      "2022-02-07 11:53:04 AM: ['DBV.PA', 'FR0010417345']: SI✓,F✓,E✓,BS✓,CF✓\n",
      "2022-02-07 11:53:07 AM: ['DEE.PA', 'FR0014003G01']: SI✓,F✗,E✗,BS✗,CF✗\n",
      "2022-02-07 11:53:09 AM: ['DECB.BR', 'BE0003789063']: SI✓,F✓,E✓,BS✓,CF✓\n",
      "2022-02-07 11:53:15 AM: ['DEEW.PA', 'FR0014003G19']: SI✗,F✗,E✗,BS✗,CF✗\n",
      "2022-02-07 11:53:18 AM: ['DVD.OL', 'NO0010955917']: SI✓,F✗,E✗,BS✗,CF✗\n",
      "2022-02-07 11:53:25 AM: ['ALDEI.PA', 'FR0010879056']: SI✓,F✓,E✓,BS✓,CF✓\n",
      "2022-02-07 11:53:26 AM: ['DKUPL.PA', 'FR0000062978']: SI✓,F✓,E✓,BS✓,CF✓\n",
      "2022-02-07 11:53:30 AM: ['ALDEL.PA', 'FR0000054132']: SI✓,F✓,E✓,BS✓,CF✓\n",
      "2022-02-07 11:53:35 AM: ['ALDR.PA', 'FR0011522168']: SI✓,F✓,E✗,BS✓,CF✓\n",
      "2022-02-07 11:53:35 AM: ['ALDBY.PA', 'FR0013400991']: SI✗,F✗,E✗,BS✗,CF✗\n",
      "2022-02-07 11:53:46 AM: ['ALDLT.PA', 'FR0013283108']: SI✓,F✓,E✓,BS✓,CF✓\n",
      "2022-02-07 11:53:47 AM: ['DBG.PA', 'FR0000053381']: SI✓,F✓,E✓,BS✓,CF✓\n",
      "2022-02-07 11:53:50 AM: ['DSRT.OL', 'NO0010963275']: SI✓,F✗,E✗,BS✗,CF✗\n",
      "2022-02-07 11:53:56 AM: ['DTEL.BR', 'DE0005557508']: SI✓,F✓,E✗,BS✓,CF✓\n",
      "2022-02-07 11:54:02 AM: ['MLDYH.PA', 'SE0007045380']: SI✗,F✗,E✗,BS✗,CF✗\n",
      "2022-02-07 11:54:06 AM: ['DGB.AS', 'NL0009169515']: SI✓,F✓,E✓,BS✓,CF✓\n",
      "2022-02-07 11:54:08 AM: ['ALDEV.PA', 'FR0000060840']: SI✓,F✓,E✗,BS✓,CF✓\n",
      "2022-02-07 11:54:10 AM: ['DGE.PA', 'GB0002374006']: SI✓,F✓,E✗,BS✓,CF✓\n",
      "2022-02-07 11:54:16 AM: ['DGM.PA', 'FR0012202497']: SI✓,F✓,E✓,BS✓,CF✓\n",
      "2022-02-07 11:54:23 AM: ['DIEG.BR', 'BE0003698124']: SI✓,F✗,E✗,BS✗,CF✗\n",
      "2022-02-07 11:54:27 AM: ['DCACW.AS', 'GG00BMB5XY22']: SI✗,F✗,E✗,BS✗,CF✗\n",
      "2022-02-07 11:54:31 AM: ['DISL.BR', 'BE0003605160']: SI✓,F✓,E✗,BS✓,CF✓\n",
      "2022-02-07 11:54:31 AM: ['DCACS.AS', 'GG00BMB5XZ39']: SI✓,F✗,E✗,BS✗,CF✗\n",
      "2022-02-07 11:54:36 AM: ['DLTX.OL', 'NO0003055808']: SI✓,F✗,E✗,BS✗,CF✗\n",
      "2022-02-07 11:54:45 AM: ['DNB.OL', 'NO0010161896']: SI✓,F✓,E✓,BS✓,CF✓\n",
      "2022-02-07 11:54:51 AM: ['DPAM.PA', 'FR0000065260']: SI✓,F✓,E✓,BS✓,CF✓\n",
      "2022-02-07 11:54:52 AM: ['DNO.OL', 'NO0003921009']: SI✓,F✓,E✓,BS✓,CF✓\n",
      "2022-02-07 11:54:55 AM: ['DOF.OL', 'NO0010070063']: SI✓,F✓,E✓,BS✓,CF✓\n",
      "2022-02-07 11:55:00 AM: ['ALDNX.PA', 'FR0010436584']: SI✓,F✓,E✓,BS✓,CF✓\n",
      "2022-02-07 11:55:03 AM: ['ALDOL.PA', 'FR0014004QZ9']: SI✓,F✓,E✓,BS✓,CF✓\n",
      "2022-02-07 11:55:10 AM: ['ALDNE.PA', 'FR0013331212']: SI✓,F✓,E✓,BS✓,CF✓\n",
      "2022-02-07 11:55:13 AM: ['DQ7A.IR', 'IE00BLRPQQ22']: SI✓,F✓,E✓,BS✓,CF✓\n",
      "2022-02-07 11:55:17 AM: ['DPA.AS', 'NL0009197771']: SI✓,F✓,E✓,BS✓,CF✓\n",
      "2022-02-07 11:55:20 AM: ['ALDRV.PA', 'FR0013088606']: SI✓,F✓,E✓,BS✓,CF✓\n",
      "2022-02-07 11:55:24 AM: ['BNBS.PA', 'FR0014007951']: SI✗,F✗,E✗,BS✗,CF✗\n",
      "2022-02-07 11:55:32 AM: ['DSC2.AS', 'NL00150000S7']: SI✓,F✗,E✗,BS✗,CF✗\n",
      "2022-02-07 11:55:34 AM: ['DSC2S.AS', 'NL00150002R5']: SI✗,F✗,E✗,BS✗,CF✗\n"
     ]
    },
    {
     "name": "stdout",
     "output_type": "stream",
     "text": [
      "- DSC2S.AS: No data found for this date range, symbol may be delisted\n"
     ]
    },
    {
     "name": "stderr",
     "output_type": "stream",
     "text": [
      "2022-02-07 11:55:39 AM: ['DSCW1.AS', 'NL00150000T5']: SI✗,F✗,E✗,BS✗,CF✗\n",
      "2022-02-07 11:55:40 AM: ['DSM.AS', 'NL0000009827']: SI✓,F✓,E✓,BS✓,CF✓\n",
      "2022-02-07 11:55:42 AM: ['DSCW2.AS', 'NL00150000U3']: SI✗,F✗,E✗,BS✗,CF✗\n",
      "2022-02-07 11:55:52 AM: ['DSCW3.AS', 'NL00150000V1']: SI✗,F✗,E✗,BS✗,CF✗\n",
      "2022-02-07 11:55:53 AM: ['MLDYN.PA', 'FR0000052920']: SI✓,F✓,E✗,BS✓,CF✓\n",
      "2022-02-07 11:56:00 AM: ['MLDYX.PA', 'LU0881232630']: SI✓,F✓,E✗,BS✓,CF✓\n",
      "2022-02-07 11:56:02 AM: ['EON.BR', 'DE000ENAG999']: SI✓,F✓,E✗,BS✓,CF✓\n",
      "2022-02-07 11:56:05 AM: ['ALAGO.PA', 'FR0014004339']: SI✓,F✓,E✓,BS✓,CF✓\n",
      "2022-02-07 11:56:12 AM: ['EAM.OL', 'NO0010607781']: SI✓,F✓,E✓,BS✓,CF✓\n",
      "2022-02-07 11:56:14 AM: ['EAS2P.AS', 'NL0000345627']: SI✓,F✓,E✓,BS✓,CF✓\n",
      "2022-02-07 11:56:20 AM: ['MLEAS.PA', 'HK0000038783']: SI✓,F✓,E✗,BS✓,CF✓\n",
      "2022-02-07 11:56:20 AM: ['MLEDR.PA', 'FR0007200100']: SI✓,F✓,E✗,BS✓,CF✓\n",
      "2022-02-07 11:56:24 AM: ['MLEAV.PA', 'FR0010536185']: SI✓,F✓,E✗,BS✓,CF✓\n",
      "2022-02-07 11:56:34 AM: ['EBUS.AS', 'NL0015000CZ2']: SI✓,F✓,E✓,BS✓,CF✓\n",
      "2022-02-07 11:56:36 AM: ['ECIT.OL', 'NO0010939804']: SI✓,F✓,E✓,BS✓,CF✓\n",
      "2022-02-07 11:56:38 AM: ['MLECO.PA', 'DE000A0XYM45']: SI✗,F✗,E✗,BS✗,CF✗\n",
      "2022-02-07 11:56:43 AM: ['ALECO.PA', 'FR0013534617']: SI✓,F✓,E✓,BS✓,CF✓\n",
      "2022-02-07 11:56:45 AM: ['ECONB.BR', 'BE0974313455']: SI✓,F✓,E✓,BS✓,CF✓\n",
      "2022-02-07 11:56:54 AM: ['ALESA.PA', 'FR0011490648']: SI✓,F✓,E✓,BS✓,CF✓\n",
      "2022-02-07 11:56:54 AM: ['ECO.OL', 'NO0010936891']: SI✓,F✓,E✓,BS✓,CF✓\n",
      "2022-02-07 11:57:01 AM: ['EWIND.OL', 'NO0010998529']: SI✓,F✗,E✗,BS✗,CF✗\n",
      "2022-02-07 11:57:03 AM: ['EDEN.PA', 'FR0010908533']: SI✓,F✓,E✓,BS✓,CF✓\n",
      "2022-02-07 11:57:05 AM: ['EDF.PA', 'FR0010242511']: SI✓,F✓,E✓,BS✓,CF✓\n",
      "2022-02-07 11:57:13 AM: ['ALEAC.PA', 'IT0005351504']: SI✓,F✓,E✗,BS✓,CF✓\n",
      "2022-02-07 11:57:15 AM: ['MLEDS.PA', 'FR0000052755']: SI✓,F✗,E✗,BS✗,CF✗\n",
      "2022-02-07 11:57:22 AM: ['EDP.LS', 'PTEDP0AM0009']: SI✓,F✓,E✓,BS✓,CF✓\n",
      "2022-02-07 11:57:22 AM: ['EDPR.LS', 'ES0127797019']: SI✓,F✓,E✓,BS✓,CF✓\n",
      "2022-02-07 11:57:23 AM: ['MLEDU.PA', 'FR0010439265']: SI✗,F✗,E✗,BS✗,CF✗\n",
      "2022-02-07 11:57:33 AM: ['MLEES.PA', 'FR0010945733']: SI✓,F✓,E✗,BS✓,CF✓\n",
      "2022-02-07 11:57:37 AM: ['EFIC1.AS', 'NL00150006Z9']: SI✓,F✗,E✗,BS✗,CF✗\n",
      "2022-02-07 11:57:41 AM: ['EFICW.AS', 'NL00150007A0']: SI✗,F✗,E✗,BS✗,CF✗\n",
      "2022-02-07 11:57:44 AM: ['GID.PA', 'FR0000072373']: SI✓,F✓,E✓,BS✓,CF✓\n",
      "2022-02-07 11:57:45 AM: ['EFICT.AS', 'NL00150009J7']: SI✗,F✗,E✗,BS✗,CF✗\n"
     ]
    },
    {
     "name": "stdout",
     "output_type": "stream",
     "text": [
      "- EFICT.AS: No data found, symbol may be delisted\n"
     ]
    },
    {
     "name": "stderr",
     "output_type": "stream",
     "text": [
      "2022-02-07 11:57:53 AM: ['EHCS.AS', 'NL0015000K10']: SI✓,F✗,E✗,BS✗,CF✗\n",
      "2022-02-07 11:58:03 AM: ['EIOF.OL', 'NO0010263023']: SI✓,F✓,E✓,BS✓,CF✓\n",
      "2022-02-07 11:58:05 AM: ['EHCW.AS', 'NL0015000K28']: SI✗,F✗,E✗,BS✗,CF✗\n"
     ]
    },
    {
     "name": "stdout",
     "output_type": "stream",
     "text": [
      "- EHCW.AS: No data found, symbol may be delisted\n"
     ]
    },
    {
     "name": "stderr",
     "output_type": "stream",
     "text": [
      "2022-02-07 11:58:09 AM: ['EHCT.AS', 'NL0015000K02']: SI✗,F✗,E✗,BS✗,CF✗\n"
     ]
    },
    {
     "name": "stdout",
     "output_type": "stream",
     "text": [
      "- EHCT.AS: No data found, symbol may be delisted\n"
     ]
    },
    {
     "name": "stderr",
     "output_type": "stream",
     "text": [
      "2022-02-07 11:58:12 AM: ['FGR.PA', 'FR0000130452']: SI✓,F✓,E✓,BS✓,CF✓\n",
      "2022-02-07 11:58:16 AM: ['EKI.PA', 'FR0011466069']: SI✓,F✓,E✓,BS✓,CF✓\n",
      "2022-02-07 11:58:22 AM: ['EKOP.BR', 'BE0974380124']: SI✓,F✓,E✓,BS✓,CF✓\n",
      "2022-02-07 11:58:26 AM: ['ELEC.PA', 'FR0000031023']: SI✓,F✓,E✓,BS✓,CF✓\n",
      "2022-02-07 11:58:34 AM: ['EEM.PA', 'FR0000035719']: SI✓,F✓,E✗,BS✓,CF✓\n",
      "2022-02-07 11:58:35 AM: ['EMGS.OL', 'NO0010358484']: SI✓,F✓,E✓,BS✓,CF✓\n",
      "2022-02-07 11:58:38 AM: ['ELIMP.OL', 'NO0010911902']: SI✓,F✓,E✓,BS✓,CF✓\n",
      "2022-02-07 11:58:43 AM: ['ELI.BR', 'BE0003822393']: SI✓,F✓,E✓,BS✓,CF✓\n",
      "2022-02-07 11:58:48 AM: ['ELIOR.PA', 'FR0011950732']: SI✓,F✓,E✓,BS✓,CF✓\n",
      "2022-02-07 11:58:55 AM: ['ELIS.PA', 'FR0012435121']: SI✓,F✓,E✓,BS✓,CF✓\n",
      "2022-02-07 11:58:56 AM: ['ELK.OL', 'NO0010816093']: SI✓,F✓,E✓,BS✓,CF✓\n",
      "2022-02-07 11:58:59 AM: ['ELABS.OL', 'NO0010722283']: SI✓,F✓,E✓,BS✓,CF✓\n",
      "2022-02-07 11:59:03 AM: ['ELOP.OL', 'NO0010864036']: SI✓,F✓,E✓,BS✓,CF✓\n",
      "2022-02-07 11:59:07 AM: ['ELO.OL', 'NO0011002586']: SI✓,F✓,E✓,BS✓,CF✓\n",
      "2022-02-07 11:59:16 AM: ['ALDUB.PA', 'FR0004030708']: SI✓,F✓,E✓,BS✓,CF✓\n",
      "2022-02-07 11:59:19 AM: ['ALEMV.PA', 'FR0013356755']: SI✓,F✓,E✓,BS✓,CF✓\n",
      "2022-02-07 11:59:19 AM: ['ENDUR.OL', 'NO0010379779']: SI✓,F✓,E✓,BS✓,CF✓\n",
      "2022-02-07 11:59:22 AM: ['ALNN6.PA', 'FR0013330792']: SI✓,F✓,E✓,BS✓,CF✓\n",
      "2022-02-07 11:59:25 AM: ['ALNRG.PA', 'FR0013399359']: SI✓,F✓,E✗,BS✓,CF✓\n",
      "2022-02-07 11:59:35 AM: ['EXR.IR', 'IE00BG0HDR01']: SI✗,F✗,E✗,BS✗,CF✗\n",
      "2022-02-07 11:59:36 AM: ['ALENE.PA', 'FR0011915339']: SI✓,F✓,E✓,BS✓,CF✓\n",
      "2022-02-07 11:59:41 AM: ['ENGI.PA', 'FR0010208488']: SI✓,F✓,E✓,BS✓,CF✓\n",
      "2022-02-07 11:59:42 AM: ['ENI.BR', 'IT0003132476']: SI✓,F✓,E✗,BS✓,CF✓\n",
      "2022-02-07 11:59:54 AM: ['ALENO.PA', 'FR0014004974']: SI✓,F✓,E✗,BS✓,CF✓\n",
      "2022-02-07 11:59:57 AM: ['ALESE.PA', 'FR0014004362']: SI✓,F✓,E✓,BS✓,CF✓\n",
      "2022-02-07 11:59:58 AM: ['ENSU.OL', 'NO0010299068']: SI✓,F✓,E✗,BS✓,CF✓\n",
      "2022-02-07 12:00:00 PM: ['ENTPA.AS', 'NL0015000F82']: SI✓,F✗,E✗,BS✗,CF✗\n",
      "2022-02-07 12:00:08 PM: ['ENTPT.AS', 'NL0015000F90']: SI✗,F✗,E✗,BS✗,CF✗\n"
     ]
    },
    {
     "name": "stdout",
     "output_type": "stream",
     "text": [
      "- ENTPT.AS: No data found, symbol may be delisted\n"
     ]
    },
    {
     "name": "stderr",
     "output_type": "stream",
     "text": [
      "2022-02-07 12:00:14 PM: ['ENTPW.AS', 'NL0015000FD2']: SI✗,F✗,E✗,BS✗,CF✗\n",
      "2022-02-07 12:00:17 PM: ['ENTRA.OL', 'NO0010716418']: SI✓,F✓,E✓,BS✓,CF✓\n",
      "2022-02-07 12:00:17 PM: ['ALENT.PA', 'FR0010424697']: SI✓,F✓,E✓,BS✓,CF✓\n",
      "2022-02-07 12:00:20 PM: ['ALENR.PA', 'FR0000045122']: SI✓,F✓,E✗,BS✓,CF✓\n",
      "2022-02-07 12:00:27 PM: ['ALTEV.PA', 'FR0010278762']: SI✓,F✓,E✓,BS✓,CF✓\n",
      "2022-02-07 12:00:33 PM: ['ENVI.AS', 'NL0015000GX8']: SI✓,F✓,E✓,BS✓,CF✓\n",
      "2022-02-07 12:00:37 PM: ['EPIC.AS', 'KYG3166N1060']: SI✓,F✓,E✗,BS✓,CF✓\n",
      "2022-02-07 12:00:38 PM: ['ALEO2.PA', 'FR0010465534']: SI✓,F✓,E✓,BS✓,CF✓\n",
      "2022-02-07 12:00:41 PM: ['EPICW.AS', 'KYG3166N1144']: SI✗,F✗,E✗,BS✗,CF✗\n"
     ]
    },
    {
     "name": "stdout",
     "output_type": "stream",
     "text": [
      "- EPICW.AS: No data found, symbol may be delisted\n"
     ]
    },
    {
     "name": "stderr",
     "output_type": "stream",
     "text": [
      "2022-02-07 12:00:51 PM: ['EQNR.OL', 'NO0010096985']: SI✓,F✓,E✓,BS✓,CF✓\n",
      "2022-02-07 12:00:52 PM: ['ERA.PA', 'FR0000131757']: SI✓,F✓,E✓,BS✓,CF✓\n",
      "2022-02-07 12:00:58 PM: ['ERYP.PA', 'FR0011471135']: SI✓,F✓,E✓,BS✓,CF✓\n",
      "2022-02-07 12:00:58 PM: ['ESG.AS', 'NL00150006O3']: SI✓,F✗,E✗,BS✗,CF✗\n",
      "2022-02-07 12:01:07 PM: ['ESGT.AS', 'NL00150006Q8']: SI✗,F✗,E✗,BS✗,CF✗\n"
     ]
    },
    {
     "name": "stdout",
     "output_type": "stream",
     "text": [
      "- ESGT.AS: No data found, symbol may be delisted\n"
     ]
    },
    {
     "name": "stderr",
     "output_type": "stream",
     "text": [
      "2022-02-07 12:01:10 PM: ['ESGWA.AS', 'NL00150006P0']: SI✗,F✗,E✗,BS✗,CF✗\n",
      "2022-02-07 12:01:13 PM: ['ESI.PA', 'FR0004110310']: SI✓,F✓,E✓,BS✓,CF✓\n",
      "2022-02-07 12:01:18 PM: ['ALESK.PA', 'FR0000035818']: SI✓,F✓,E✓,BS✓,CF✓\n",
      "2022-02-07 12:01:24 PM: ['ESP.AS', 'NL0009272137']: SI✓,F✓,E✗,BS✓,CF✓\n",
      "2022-02-07 12:01:26 PM: ['EL.PA', 'FR0000121667']: SI✓,F✓,E✓,BS✓,CF✓\n",
      "2022-02-07 12:01:30 PM: ['ES.PA', 'FR0000120669']: SI✓,F✓,E✓,BS✓,CF✓\n",
      "2022-02-07 12:01:35 PM: ['ESON.LS', 'PTESO0AM0000']: SI✓,F✓,E✗,BS✓,CF✓\n",
      "2022-02-07 12:01:40 PM: ['EFI.PA', 'FR0000061475']: SI✓,F✓,E✓,BS✓,CF✓\n",
      "2022-02-07 12:01:44 PM: ['ALEUA.PA', 'FR0010844001']: SI✓,F✓,E✗,BS✓,CF✓\n",
      "2022-02-07 12:01:50 PM: ['RF.PA', 'FR0000121121']: SI✓,F✓,E✓,BS✓,CF✓\n",
      "2022-02-07 12:01:50 PM: ['EUR.PA', 'FR0000054678']: SI✓,F✓,E✓,BS✓,CF✓\n",
      "2022-02-07 12:01:55 PM: ['ALERS.PA', 'FR0013240934']: SI✓,F✓,E✓,BS✓,CF✓\n",
      "2022-02-07 12:01:59 PM: ['ECT.AS', 'GB00B94QM994']: SI✓,F✓,E✓,BS✓,CF✓\n"
     ]
    },
    {
     "name": "stdout",
     "output_type": "stream",
     "text": [
      "- ECT.AS: Duplicate key 1502866800\n"
     ]
    },
    {
     "name": "stderr",
     "output_type": "stream",
     "text": [
      "2022-02-07 12:02:04 PM: ['ECMPA.AS', 'NL0015000K93']: SI✓,F✓,E✓,BS✓,CF✓\n",
      "2022-02-07 12:02:08 PM: ['ERFNV.PA', 'FR0014006O73']: SI✓,F✓,E✗,BS✓,CF✓\n"
     ]
    },
    {
     "name": "stdout",
     "output_type": "stream",
     "text": [
      "- ERFNV.PA: No data found for this date range, symbol may be delisted\n"
     ]
    },
    {
     "name": "stderr",
     "output_type": "stream",
     "text": [
      "2022-02-07 12:02:10 PM: ['ALECR.PA', 'FR0013256518']: SI✓,F✓,E✓,BS✓,CF✓\n",
      "2022-02-07 12:02:18 PM: ['ERF.PA', 'FR0014000MR3']: SI✓,F✓,E✓,BS✓,CF✓\n",
      "2022-02-07 12:02:21 PM: ['MLERO.PA', 'FR0010157115']: SI✓,F✓,E✗,BS✓,CF✓\n",
      "2022-02-07 12:02:29 PM: ['ALEMG.PA', 'FR0000075343']: SI✓,F✓,E✓,BS✓,CF✓\n",
      "2022-02-07 12:02:30 PM: ['EURN.BR', 'BE0003816338']: SI✓,F✓,E✓,BS✓,CF✓\n",
      "2022-02-07 12:02:34 PM: ['MLCAN.PA', 'ES0105586004']: SI✗,F✗,E✗,BS✗,CF✗\n"
     ]
    },
    {
     "name": "stdout",
     "output_type": "stream",
     "text": [
      "- MLCAN.PA: No data found, symbol may be delisted\n"
     ]
    },
    {
     "name": "stderr",
     "output_type": "stream",
     "text": [
      "2022-02-07 12:02:39 PM: ['ENX.PA', 'NL0006294274']: SI✓,F✓,E✓,BS✓,CF✓\n",
      "2022-02-07 12:02:40 PM: ['ALECP.PA', 'FR0010490920']: SI✓,F✓,E✓,BS✓,CF✓\n",
      "2022-02-07 12:02:49 PM: ['ALEUP.PA', 'FR0013514114']: SI✓,F✓,E✓,BS✓,CF✓\n",
      "2022-02-07 12:02:50 PM: ['EUCAR.PA', 'FR0012789949']: SI✓,F✓,E✓,BS✓,CF✓\n",
      "2022-02-07 12:02:56 PM: ['EPR.OL', 'NO0010735343']: SI✓,F✓,E✓,BS✓,CF✓\n",
      "2022-02-07 12:02:59 PM: ['ETL.PA', 'FR0010221234']: SI✓,F✓,E✓,BS✓,CF✓\n",
      "2022-02-07 12:03:08 PM: ['EGR.PA', 'FR0000035784']: SI✓,F✓,E✓,BS✓,CF✓\n",
      "2022-02-07 12:03:11 PM: ['EFUEL.OL', 'DK0061414711']: SI✓,F✓,E✓,BS✓,CF✓\n",
      "2022-02-07 12:03:11 PM: ['MLEVE.PA', 'FR0000044745']: SI✓,F✓,E✗,BS✓,CF✓\n",
      "2022-02-07 12:03:20 PM: ['ALTVO.PA', 'FR0004166197']: SI✓,F✓,E✓,BS✓,CF✓\n",
      "2022-02-07 12:03:20 PM: ['EVS.BR', 'BE0003820371']: SI✓,F✓,E✓,BS✓,CF✓\n",
      "2022-02-07 12:03:28 PM: ['ALEXA.PA', 'FR0000064164']: SI✗,F✓,E✗,BS✓,CF✓\n",
      "2022-02-07 12:03:30 PM: ['EXN.PA', 'FR0014005DA7']: SI✓,F✓,E✓,BS✓,CF✓\n",
      "2022-02-07 12:03:31 PM: ['EXTX.OL', 'NO0010852213']: SI✓,F✓,E✗,BS✓,CF✓\n",
      "2022-02-07 12:03:41 PM: ['EXE.PA', 'FR0004527638']: SI✓,F✓,E✓,BS✓,CF✓\n",
      "2022-02-07 12:03:44 PM: ['EXM.BR', 'BE0003808251']: SI✓,F✓,E✓,BS✓,CF✓\n",
      "2022-02-07 12:03:48 PM: ['EXPL.PA', 'FR0014003AQ4']: SI✗,F✓,E✗,BS✓,CF✓\n",
      "2022-02-07 12:03:49 PM: ['ALPHI.PA', 'ES0105029005']: SI✓,F✓,E✗,BS✓,CF✓\n",
      "2022-02-07 12:03:51 PM: ['FAGR.BR', 'BE0003874915']: SI✓,F✓,E✓,BS✓,CF✓\n",
      "2022-02-07 12:04:02 PM: ['MLFMV.LS', 'PTFNV1AM0002']: SI✓,F✓,E✗,BS✓,CF✓\n",
      "2022-02-07 12:04:06 PM: ['MLECE.PA', 'ES0105553004']: SI✗,F✗,E✗,BS✗,CF✗\n"
     ]
    },
    {
     "name": "stdout",
     "output_type": "stream",
     "text": [
      "- MLECE.PA: No data found, symbol may be delisted\n"
     ]
    },
    {
     "name": "stderr",
     "output_type": "stream",
     "text": [
      "2022-02-07 12:04:08 PM: ['ALFBA.PA', 'FR0004034593']: SI✓,F✓,E✓,BS✓,CF✓\n",
      "2022-02-07 12:04:08 PM: ['FAST.AS', 'NL0013654809']: SI✓,F✓,E✓,BS✓,CF✓\n",
      "2022-02-07 12:04:11 PM: ['EO.PA', 'FR0000121147']: SI✓,F✓,E✓,BS✓,CF✓\n",
      "2022-02-07 12:04:23 PM: ['FAUV.PA', 'FR0000063034']: SI✓,F✓,E✗,BS✓,CF✓\n",
      "2022-02-07 12:04:27 PM: ['FAYE.PA', 'FR0000031973']: SI✓,F✓,E✗,BS✓,CF✓\n",
      "2022-02-07 12:04:28 PM: ['MLFDV.PA', 'FR0012300424']: SI✓,F✗,E✗,BS✗,CF✗\n",
      "2022-02-07 12:04:30 PM: ['EG7.IR', 'IE0003290289']: SI✓,F✓,E✓,BS✓,CF✓\n",
      "2022-02-07 12:04:32 PM: ['GYQ.IR', 'GB0031477770']: SI✓,F✓,E✗,BS✓,CF✓\n",
      "2022-02-07 12:04:43 PM: ['FDJ.PA', 'FR0013451333']: SI✓,F✓,E✓,BS✓,CF✓\n",
      "2022-02-07 12:04:47 PM: ['FALG.PA', 'FR0011271600']: SI✓,F✓,E✓,BS✓,CF✓\n",
      "2022-02-07 12:04:47 PM: ['FCMC.PA', 'FR0000062101']: SI✓,F✓,E✓,BS✓,CF✓\n",
      "2022-02-07 12:04:51 PM: ['ORIA.PA', 'FR0000060535']: SI✓,F✓,E✓,BS✓,CF✓\n",
      "2022-02-07 12:04:53 PM: ['SACI.PA', 'FR0000061418']: SI✓,F✓,E✓,BS✓,CF✓\n",
      "2022-02-07 12:05:04 PM: ['FGA.PA', 'FR0011665280']: SI✓,F✓,E✓,BS✓,CF✓\n",
      "2022-02-07 12:05:06 PM: ['EBPF.PA', 'FR0000062507']: SI✓,F✓,E✗,BS✓,CF✓\n",
      "2022-02-07 12:05:07 PM: ['BERR.PA', 'FR0000062341']: SI✓,F✓,E✗,BS✓,CF✓\n",
      "2022-02-07 12:05:11 PM: ['FOAF.PA', 'SN0000033192']: SI✓,F✗,E✗,BS✗,CF✗\n",
      "2022-02-07 12:05:13 PM: ['FINM.PA', 'FR0000060824']: SI✓,F✓,E✗,BS✓,CF✓\n",
      "2022-02-07 12:05:26 PM: ['FNTS.PA', 'FR0000035123']: SI✓,F✓,E✗,BS✓,CF✓\n",
      "2022-02-07 12:05:26 PM: ['MLFXO.PA', 'FR0010487272']: SI✗,F✗,E✗,BS✗,CF✗\n",
      "2022-02-07 12:05:31 PM: ['FIPP.PA', 'FR0000038184']: SI✓,F✓,E✗,BS✓,CF✓\n",
      "2022-02-07 12:05:32 PM: ['MLFIR.PA', 'CH0120879058']: SI✓,F✓,E✗,BS✓,CF✓\n",
      "2022-02-07 12:05:32 PM: ['FKRFT.OL', 'NO0010815673']: SI✓,F✓,E✓,BS✓,CF✓\n",
      "2022-02-07 12:05:47 PM: ['FLNG.OL', 'BMG359472021']: SI✓,F✓,E✓,BS✓,CF✓\n",
      "2022-02-07 12:05:49 PM: ['ALFLE.PA', 'FR0000074759']: SI✓,F✓,E✓,BS✓,CF✓\n",
      "2022-02-07 12:05:51 PM: ['FLOB.BR', 'BE0003215143']: SI✓,F✓,E✓,BS✓,CF✓\n",
      "2022-02-07 12:05:52 PM: ['FLEXD.LS', 'PTFXD0AM0018']: SI✓,F✓,E✗,BS✓,CF✓\n",
      "2022-02-07 12:05:52 PM: ['FLOW.AS', 'NL0011279492']: SI✓,F✓,E✓,BS✓,CF✓\n",
      "2022-02-07 12:06:08 PM: ['UNI.BR', 'BE0003847648']: SI✓,F✓,E✓,BS✓,CF✓\n",
      "2022-02-07 12:06:12 PM: ['FLYRT.OL', 'NO0011198111']: SI✗,F✗,E✗,BS✗,CF✗\n",
      "2022-02-07 12:06:12 PM: ['FLYR.OL', 'NO0010931900']: SI✓,F✓,E✓,BS✓,CF✓\n"
     ]
    },
    {
     "name": "stdout",
     "output_type": "stream",
     "text": [
      "- FLYRT.OL: No data found for this date range, symbol may be delisted\n"
     ]
    },
    {
     "name": "stderr",
     "output_type": "stream",
     "text": [
      "2022-02-07 12:06:13 PM: ['FLTR.IR', 'IE00BWT6H894']: SI✓,F✓,E✓,BS✓,CF✓\n",
      "2022-02-07 12:06:23 PM: ['FLUX.BR', 'BE0974265945']: SI✓,F✓,E✓,BS✓,CF✓\n",
      "2022-02-07 12:06:28 PM: ['FNAC.PA', 'FR0011476928']: SI✓,F✓,E✓,BS✓,CF✓\n",
      "2022-02-07 12:06:33 PM: ['MLFNP.PA', 'FR0013230067']: SI✓,F✓,E✗,BS✓,CF✓\n",
      "2022-02-07 12:06:34 PM: ['ALFOC.PA', 'FR0012419307']: SI✓,F✓,E✓,BS✓,CF✓\n",
      "2022-02-07 12:06:35 PM: ['FNG.BR', 'BE0974332646']: SI✓,F✓,E✓,BS✓,CF✓\n",
      "2022-02-07 12:06:43 PM: ['LEBL.PA', 'FR0000065930']: SI✓,F✓,E✗,BS✓,CF✓\n",
      "2022-02-07 12:06:48 PM: ['FATL.PA', 'FR0013455482']: SI✓,F✓,E✓,BS✓,CF✓\n",
      "2022-02-07 12:06:54 PM: ['INEA.PA', 'FR0010341032']: SI✓,F✓,E✓,BS✓,CF✓\n",
      "2022-02-07 12:06:54 PM: ['EURS.PA', 'FR0000038499']: SI✓,F✓,E✗,BS✓,CF✓\n",
      "2022-02-07 12:06:58 PM: ['FLY.PA', 'FR0000033409']: SI✓,F✓,E✓,BS✓,CF✓\n",
      "2022-02-07 12:07:06 PM: ['MLVIN.PA', 'FR0011605617']: SI✓,F✗,E✗,BS✗,CF✗\n",
      "2022-02-07 12:07:08 PM: ['SPEL.PA', 'FR0000053944']: SI✓,F✓,E✓,BS✓,CF✓\n",
      "2022-02-07 12:07:14 PM: ['FOOTL.BR', 'US3448491049']: SI✓,F✓,E✗,BS✓,CF✓\n",
      "2022-02-07 12:07:14 PM: ['FORE.PA', 'CI0000053161']: SI✓,F✓,E✗,BS✓,CF✓\n",
      "2022-02-07 12:07:19 PM: ['FFARM.AS', 'NL0011832811']: SI✓,F✓,E✓,BS✓,CF✓\n",
      "2022-02-07 12:07:27 PM: ['FOU.BR', 'BE0003752665']: SI✓,F✓,E✗,BS✓,CF✓\n",
      "2022-02-07 12:07:27 PM: ['FORSE.PA', 'FR0014005SB3']: SI✓,F✓,E✓,BS✓,CF✓\n",
      "2022-02-07 12:07:35 PM: ['ALFPC.PA', 'FR0010485268']: SI✓,F✓,E✓,BS✓,CF✓\n",
      "2022-02-07 12:07:36 PM: ['LFDE.PA', 'FR0013030152']: SI✓,F✓,E✓,BS✓,CF✓\n",
      "2022-02-07 12:07:41 PM: ['MLFSG.PA', 'FR0013222346']: SI✓,F✓,E✗,BS✓,CF✓\n",
      "2022-02-07 12:07:48 PM: ['MLFTI.PA', 'FR0010823724']: SI✓,F✓,E✗,BS✓,CF✓\n",
      "2022-02-07 12:07:48 PM: ['ALFRE.PA', 'FR0004187367']: SI✓,F✓,E✓,BS✓,CF✓\n",
      "2022-02-07 12:07:57 PM: ['FREY.PA', 'FR0010588079']: SI✓,F✓,E✓,BS✓,CF✓\n",
      "2022-02-07 12:07:59 PM: ['FRO.OL', 'BMG3682E1921']: SI✓,F✓,E✓,BS✓,CF✓\n",
      "2022-02-07 12:08:02 PM: ['FROY.OL', 'NO0010936792']: SI✓,F✓,E✓,BS✓,CF✓\n",
      "2022-02-07 12:08:09 PM: ['FCP.LS', 'PTFCP0AM0008']: SI✓,F✓,E✗,BS✓,CF✓\n",
      "2022-02-07 12:08:11 PM: ['FUR.AS', 'NL00150003E1']: SI✓,F✓,E✓,BS✓,CF✓\n",
      "2022-02-07 12:08:19 PM: ['MLGAI.PA', 'FR0000053415']: SI✓,F✓,E✗,BS✓,CF✓\n",
      "2022-02-07 12:08:21 PM: ['GLPG.AS', 'BE0003818359']: SI✓,F✓,E✓,BS✓,CF✓\n",
      "2022-02-07 12:08:22 PM: ['MLGAL.PA', 'FR0011100759']: SI✓,F✓,E✗,BS✓,CF✓\n",
      "2022-02-07 12:08:30 PM: ['GALIM.PA', 'FR0000030611']: SI✓,F✓,E✗,BS✓,CF✓\n",
      "2022-02-07 12:08:35 PM: ['GALP.LS', 'PTGAL0AM0009']: SI✓,F✓,E✓,BS✓,CF✓\n",
      "2022-02-07 12:08:39 PM: ['GIG.OL', 'US36467X2062']: SI✓,F✓,E✓,BS✓,CF✓\n",
      "2022-02-07 12:08:41 PM: ['GAM.PA', 'FR0000034894']: SI✓,F✓,E✓,BS✓,CF✓\n",
      "2022-02-07 12:08:42 PM: ['ALBI.PA', 'FR0000124414']: SI✓,F✓,E✓,BS✓,CF✓\n",
      "2022-02-07 12:08:48 PM: ['ALGAU.PA', 'FR0013495298']: SI✓,F✓,E✓,BS✓,CF✓\n",
      "2022-02-07 12:08:58 PM: ['RISH.OL', 'NO0010262686']: SI✓,F✓,E✓,BS✓,CF✓\n",
      "2022-02-07 12:09:00 PM: ['GEA.PA', 'FR0000053035']: SI✓,F✓,E✓,BS✓,CF✓\n",
      "2022-02-07 12:09:01 PM: ['ALGEC.PA', 'FR0000079634']: SI✓,F✓,E✗,BS✓,CF✓\n",
      "2022-02-07 12:09:03 PM: ['GBLB.BR', 'BE0003797140']: SI✓,F✓,E✓,BS✓,CF✓\n",
      "2022-02-07 12:09:08 PM: ['GFC.PA', 'FR0010040865']: SI✓,F✓,E✓,BS✓,CF✓\n",
      "2022-02-07 12:09:18 PM: ['GNE.PA', 'US3696043013']: SI✗,F✓,E✗,BS✓,CF✓\n",
      "2022-02-07 12:09:21 PM: ['GNRO.PA', 'CH0308403085']: SI✓,F✓,E✓,BS✓,CF✓\n",
      "2022-02-07 12:09:24 PM: ['GNFT.PA', 'FR0004163111']: SI✓,F✓,E✓,BS✓,CF✓\n",
      "2022-02-07 12:09:24 PM: ['GENX.PA', 'FR0010501692']: SI✓,F✓,E✓,BS✓,CF✓\n",
      "2022-02-07 12:09:28 PM: ['GENK.BR', 'BE0003740546']: SI✓,F✓,E✗,BS✓,CF✓\n",
      "2022-02-07 12:09:41 PM: ['GV.PA', 'FR0011799907']: SI✓,F✓,E✓,BS✓,CF✓\n",
      "2022-02-07 12:09:43 PM: ['GENT.OL', 'NO0010748866']: SI✓,F✓,E✓,BS✓,CF✓\n",
      "2022-02-07 12:09:44 PM: ['SIGHT.PA', 'FR0013183985']: SI✓,F✓,E✓,BS✓,CF✓\n",
      "2022-02-07 12:09:46 PM: ['ALGEN.PA', 'FR0004053510']: SI✓,F✓,E✓,BS✓,CF✓\n",
      "2022-02-07 12:09:52 PM: ['MLGEQ.PA', 'PTGVE1AE0009']: SI✓,F✗,E✗,BS✗,CF✗\n",
      "2022-02-07 12:10:01 PM: ['GOJXN.AS', 'NL0000430106']: SI✓,F✓,E✓,BS✓,CF✓\n",
      "2022-02-07 12:10:06 PM: ['GET.PA', 'FR0010533075']: SI✓,F✓,E✓,BS✓,CF✓\n",
      "2022-02-07 12:10:09 PM: ['ALGEV.PA', 'FR0000033888']: SI✓,F✓,E✓,BS✓,CF✓\n",
      "2022-02-07 12:10:13 PM: ['GIGA.OL', 'NO0011013765']: SI✓,F✗,E✗,BS✗,CF✗\n",
      "2022-02-07 12:10:14 PM: ['GEPBS.PA', 'FR0013483047']: SI✗,F✗,E✗,BS✗,CF✗\n"
     ]
    },
    {
     "name": "stdout",
     "output_type": "stream",
     "text": [
      "- GEPBS.PA: No data found for this date range, symbol may be delisted\n"
     ]
    },
    {
     "name": "stderr",
     "output_type": "stream",
     "text": [
      "2022-02-07 12:10:22 PM: ['GIMB.BR', 'BE0003699130']: SI✓,F✓,E✓,BS✓,CF✓\n",
      "2022-02-07 12:10:27 PM: ['GJF.OL', 'NO0010582521']: SI✓,F✓,E✓,BS✓,CF✓\n",
      "2022-02-07 12:10:30 PM: ['GLO.PA', 'FR0000066672']: SI✓,F✓,E✓,BS✓,CF✓\n",
      "2022-02-07 12:10:32 PM: ['GL9.IR', 'IE0000669501']: SI✓,F✓,E✓,BS✓,CF✓\n",
      "2022-02-07 12:10:34 PM: ['GVR.IR', 'IE00BD6JX574']: SI✓,F✓,E✓,BS✓,CF✓\n",
      "2022-02-07 12:10:44 PM: ['GLINT.LS', 'PTPAD0AM0007']: SI✓,F✓,E✗,BS✓,CF✓\n",
      "2022-02-07 12:10:47 PM: ['ALGBE.PA', 'FR0011052257']: SI✓,F✓,E✓,BS✓,CF✓\n",
      "2022-02-07 12:10:52 PM: ['GNP.OL', 'NO0010886013']: SI✓,F✗,E✗,BS✗,CF✗\n",
      "2022-02-07 12:10:57 PM: ['ALGLD.PA', 'FR0011208693']: SI✓,F✓,E✓,BS✓,CF✓\n",
      "2022-02-07 12:10:59 PM: ['MLNDG.PA', 'ES0105537007']: SI✗,F✗,E✗,BS✗,CF✗\n"
     ]
    },
    {
     "name": "stdout",
     "output_type": "stream",
     "text": [
      "- MLNDG.PA: No data found, symbol may be delisted\n"
     ]
    },
    {
     "name": "stderr",
     "output_type": "stream",
     "text": [
      "2022-02-07 12:11:05 PM: ['GEOS.OL', 'NO0010813843']: SI✓,F✓,E✗,BS✓,CF✓\n",
      "2022-02-07 12:11:07 PM: ['GOGL.OL', 'BMG396372051']: SI✓,F✓,E✓,BS✓,CF✓\n",
      "2022-02-07 12:11:14 PM: ['GOD.OL', 'NO0004913609']: SI✓,F✓,E✓,BS✓,CF✓\n",
      "2022-02-07 12:11:19 PM: ['GPE.PA', 'FR0010214064']: SI✓,F✓,E✓,BS✓,CF✓\n",
      "2022-02-07 12:11:25 PM: ['MLGML.PA', 'FR0013371507']: SI✓,F✓,E✗,BS✓,CF✓\n",
      "2022-02-07 12:11:25 PM: ['ALPAR.PA', 'FR0013204070']: SI✓,F✓,E✓,BS✓,CF✓\n",
      "2022-02-07 12:11:29 PM: ['GRVO.PA', 'FR0000065971']: SI✓,F✓,E✓,BS✓,CF✓\n",
      "2022-02-07 12:11:35 PM: ['8GW.IR', 'IE00B1FR8863']: SI✓,F✓,E✗,BS✓,CF✓\n",
      "2022-02-07 12:11:38 PM: ['MLCMG.PA', 'FR0013406881']: SI✓,F✓,E✗,BS✓,CF✓\n",
      "2022-02-07 12:11:44 PM: ['GEM.OL', 'NO0010907744']: SI✓,F✗,E✗,BS✗,CF✗\n",
      "2022-02-07 12:11:45 PM: ['GRP.IR', 'IE00BF2NR112']: SI✓,F✓,E✓,BS✓,CF✓\n",
      "2022-02-07 12:11:48 PM: ['GVOLT.LS', 'PTGNV0AM0001']: SI✓,F✓,E✓,BS✓,CF✓\n",
      "2022-02-07 12:11:57 PM: ['GREEN.BR', 'BE0003765790']: SI✓,F✓,E✓,BS✓,CF✓\n",
      "2022-02-07 12:12:01 PM: ['GSF.OL', 'NO0010365521']: SI✓,F✓,E✓,BS✓,CF✓\n",
      "2022-02-07 12:12:05 PM: ['GRONG.OL', 'NO0010636491']: SI✓,F✓,E✗,BS✓,CF✓\n",
      "2022-02-07 12:12:05 PM: ['ALGRO.PA', 'FR0014005ZM5']: SI✓,F✓,E✗,BS✓,CF✓\n",
      "2022-02-07 12:12:16 PM: ['ALKEM.PA', 'FR00140069V2']: SI✓,F✓,E✗,BS✓,CF✓\n",
      "2022-02-07 12:12:18 PM: ['MLSFI.PA', 'FR00140066X4']: SI✓,F✗,E✗,BS✗,CF✗\n",
      "2022-02-07 12:12:21 PM: ['MLGRC.PA', 'FR0000076960']: SI✓,F✗,E✗,BS✗,CF✗\n",
      "2022-02-07 12:12:22 PM: ['MLCAS.PA', 'FR0014003RM7']: SI✓,F✗,E✗,BS✗,CF✗\n",
      "2022-02-07 12:12:25 PM: ['CEN.PA', 'FR0000036675']: SI✓,F✓,E✗,BS✓,CF✓\n",
      "2022-02-07 12:12:37 PM: ['FLO.PA', 'FR0014004X25']: SI✓,F✓,E✓,BS✓,CF✓\n",
      "2022-02-07 12:12:37 PM: ['GOE.PA', 'FR0000062671']: SI✓,F✓,E✓,BS✓,CF✓\n",
      "2022-02-07 12:12:42 PM: ['ALGIL.PA', 'FR0012819381']: SI✓,F✓,E✓,BS✓,CF✓\n",
      "2022-02-07 12:12:44 PM: ['IRD.PA', 'FR0000124232']: SI✓,F✓,E✓,BS✓,CF✓\n",
      "2022-02-07 12:12:46 PM: ['GJAJ.PA', 'FR0004010338']: SI✓,F✓,E✓,BS✓,CF✓\n",
      "2022-02-07 12:12:57 PM: ['ALLDL.PA', 'FR0000075442']: SI✓,F✓,E✓,BS✓,CF✓\n",
      "2022-02-07 12:13:01 PM: ['OPN.PA', 'FR0004050300']: SI✓,F✓,E✓,BS✓,CF✓\n",
      "2022-02-07 12:13:02 PM: ['PARP.PA', 'FR0012612646']: SI✓,F✓,E✓,BS✓,CF✓\n",
      "2022-02-07 12:13:02 PM: ['MLPVG.PA', 'FR0010529719']: SI✗,F✗,E✗,BS✗,CF✗\n",
      "2022-02-07 12:13:10 PM: ['SFPI.PA', 'FR0004155000']: SI✓,F✓,E✓,BS✓,CF✓\n",
      "2022-02-07 12:13:19 PM: ['ALGTR.PA', 'FR0013429404']: SI✓,F✓,E✓,BS✓,CF✓\n",
      "2022-02-07 12:13:21 PM: ['ALIMO.PA', 'FR0014000RP6']: SI✓,F✓,E✓,BS✓,CF✓\n",
      "2022-02-07 12:13:22 PM: ['GTBP.PA', 'US36254L2097']: SI✗,F✓,E✗,BS✓,CF✓\n",
      "2022-02-07 12:13:22 PM: ['GTT.PA', 'FR0011726835']: SI✓,F✓,E✓,BS✓,CF✓\n",
      "2022-02-07 12:13:30 PM: ['MLGDI.PA', 'LU1840650458']: SI✓,F✓,E✗,BS✓,CF✓\n",
      "2022-02-07 12:13:38 PM: ['GBT.PA', 'FR0000032526']: SI✓,F✓,E✓,BS✓,CF✓\n",
      "2022-02-07 12:13:40 PM: ['ALHEO.PA', 'CA4433003064']: SI✓,F✓,E✓,BS✓,CF✓\n",
      "2022-02-07 12:13:41 PM: ['GUI.PA', 'FR0000066722']: SI✓,F✓,E✓,BS✓,CF✓\n",
      "2022-02-07 12:13:42 PM: ['GYL.OL', 'NO0004288200']: SI✓,F✓,E✗,BS✓,CF✓\n",
      "2022-02-07 12:13:50 PM: ['HAFNI.OL', 'BMG4233B1090']: SI✓,F✓,E✓,BS✓,CF✓\n",
      "2022-02-07 12:13:59 PM: ['HMSO.IR', 'GB00BK7YQK64']: SI✓,F✓,E✗,BS✓,CF✓\n",
      "2022-02-07 12:14:00 PM: ['HAL.AS', 'BMG455841020']: SI✓,F✓,E✓,BS✓,CF✓\n",
      "2022-02-07 12:14:01 PM: ['ALHGO.PA', 'GB00BMDXQ672']: SI✓,F✓,E✗,BS✓,CF✓\n",
      "2022-02-07 12:14:03 PM: ['HAMO.BR', 'BE0974352842']: SI✓,F✓,E✓,BS✓,CF✓\n",
      "2022-02-07 12:14:12 PM: ['HMONY.OL', 'NO0010921299']: SI✓,F✓,E✗,BS✓,CF✓\n",
      "2022-02-07 12:14:19 PM: ['PIG.PA', 'FR0000066755']: SI✓,F✓,E✓,BS✓,CF✓\n",
      "2022-02-07 12:14:20 PM: ['HKY.OL', 'NO0011045429']: SI✗,F✗,E✗,BS✗,CF✗\n",
      "2022-02-07 12:14:21 PM: ['HAV.OL', 'NO0010931918']: SI✓,F✓,E✓,BS✓,CF✓\n",
      "2022-02-07 12:14:24 PM: ['HAVI.OL', 'NO0010257728']: SI✓,F✓,E✓,BS✓,CF✓\n",
      "2022-02-07 12:14:33 PM: ['HYARD.OL', 'NO0010708605']: SI✓,F✓,E✓,BS✓,CF✓\n",
      "2022-02-07 12:14:38 PM: ['HDF.PA', 'FR0014003VY4']: SI✓,F✗,E✗,BS✗,CF✗\n",
      "2022-02-07 12:14:38 PM: ['MLAHC.PA', 'FR0013251584']: SI✓,F✓,E✗,BS✓,CF✓\n",
      "2022-02-07 12:14:40 PM: ['HBCN.IR', 'IE00014QAJZ5']: SI✓,F✓,E✗,BS✓,CF✓\n",
      "2022-02-07 12:14:42 PM: ['MLHAY.PA', 'ES0105498002']: SI✗,F✓,E✗,BS✓,CF✓\n",
      "2022-02-07 12:14:58 PM: ['HEGAW.AS', 'KYG4406A1105']: SI✗,F✗,E✗,BS✗,CF✗\n"
     ]
    },
    {
     "name": "stdout",
     "output_type": "stream",
     "text": [
      "- HEGAW.AS: No data found, symbol may be delisted\n"
     ]
    },
    {
     "name": "stderr",
     "output_type": "stream",
     "text": [
      "2022-02-07 12:15:00 PM: ['HEIJM.AS', 'NL0009269109']: SI✓,F✓,E✓,BS✓,CF✓\n",
      "2022-02-07 12:15:01 PM: ['HEGA.AS', 'KYG4406A1022']: SI✓,F✗,E✗,BS✗,CF✗\n",
      "2022-02-07 12:15:03 PM: ['HEGAU.AS', 'KYG4406A1287']: SI✓,F✗,E✗,BS✗,CF✗\n",
      "2022-02-07 12:15:05 PM: ['HEIA.AS', 'NL0000009165']: SI✓,F✓,E✓,BS✓,CF✓\n",
      "2022-02-07 12:15:19 PM: ['HEIO.AS', 'NL0000008977']: SI✓,F✓,E✓,BS✓,CF✓\n",
      "2022-02-07 12:15:20 PM: ['RMS.PA', 'FR0000052292']: SI✓,F✓,E✓,BS✓,CF✓\n",
      "2022-02-07 12:15:21 PM: ['ALHRG.PA', 'FR0000066540']: SI✓,F✓,E✓,BS✓,CF✓\n",
      "2022-02-07 12:15:26 PM: ['HEX.OL', 'NO0003067902']: SI✓,F✓,E✓,BS✓,CF✓\n",
      "2022-02-07 12:15:31 PM: ['HPUR.OL', 'NO0010904923']: SI✓,F✓,E✓,BS✓,CF✓\n",
      "2022-02-07 12:15:39 PM: ['HEXA.PA', 'FR0004159473']: SI✓,F✓,E✓,BS✓,CF✓\n",
      "2022-02-07 12:15:40 PM: ['ALHF.PA', 'FR0000038531']: SI✗,F✓,E✗,BS✓,CF✓\n",
      "2022-02-07 12:15:43 PM: ['HBRN.IR', 'IE00BGHQ1986']: SI✓,F✓,E✓,BS✓,CF✓\n",
      "2022-02-07 12:15:46 PM: ['HCO.PA', 'FR0000054231']: SI✓,F✓,E✓,BS✓,CF✓\n",
      "2022-02-07 12:15:50 PM: ['HSHIP.OL', 'BMG4660A1036']: SI✗,F✗,E✗,BS✗,CF✗\n"
     ]
    },
    {
     "name": "stdout",
     "output_type": "stream",
     "text": [
      "- HSHIP.OL: No data found for this date range, symbol may be delisted\n"
     ]
    },
    {
     "name": "stderr",
     "output_type": "stream",
     "text": [
      "2022-02-07 12:15:59 PM: ['ALHYP.PA', 'FR0012821916']: SI✓,F✓,E✓,BS✓,CF✓\n",
      "2022-02-07 12:15:59 PM: ['ALHIO.PA', 'FR0000077562']: SI✓,F✓,E✓,BS✓,CF✓\n",
      "2022-02-07 12:16:03 PM: ['ALHIT.PA', 'FR0010396309']: SI✓,F✓,E✓,BS✓,CF✓\n",
      "2022-02-07 12:16:09 PM: ['MLHBB.PA', 'FR0000051302']: SI✓,F✗,E✗,BS✗,CF✗\n",
      "2022-02-07 12:16:15 PM: ['MLHK.PA', 'DE000A11Q133']: SI✓,F✓,E✗,BS✓,CF✓\n",
      "2022-02-07 12:16:18 PM: ['HAUTO.OL', 'NO0011082075']: SI✓,F✓,E✗,BS✓,CF✓\n",
      "2022-02-07 12:16:19 PM: ['ALHGR.PA', 'FR0013451044']: SI✓,F✓,E✓,BS✓,CF✓\n",
      "2022-02-07 12:16:27 PM: ['HBC.OL', 'NO0010598683']: SI✓,F✓,E✓,BS✓,CF✓\n",
      "2022-02-07 12:16:32 PM: ['HOLN.PA', 'CH0012214059']: SI✓,F✓,E✓,BS✓,CF✓\n",
      "2022-02-07 12:16:37 PM: ['HOLCO.AS', 'NL0000440311']: SI✓,F✓,E✓,BS✓,CF✓\n",
      "2022-02-07 12:16:38 PM: ['MLHCF.PA', 'FR0012336691']: SI✓,F✗,E✗,BS✗,CF✗\n",
      "2022-02-07 12:16:47 PM: ['MLHPE.PA', 'FR0010312181']: SI✓,F✓,E✓,BS✓,CF✓\n",
      "2022-02-07 12:16:48 PM: ['HOMI.BR', 'BE0003760742']: SI✓,F✓,E✓,BS✓,CF✓\n",
      "2022-02-07 12:16:50 PM: ['MLHPI.PA', 'FR0014000U63']: SI✓,F✓,E✗,BS✓,CF✓\n",
      "2022-02-07 12:16:57 PM: ['HOP.PA', 'FR0000065278']: SI✓,F✓,E✓,BS✓,CF✓\n",
      "2022-02-07 12:16:59 PM: ['HRGI.OL', 'NO0010917339']: SI✓,F✓,E✓,BS✓,CF✓\n",
      "2022-02-07 12:17:08 PM: ['MLHMC.PA', 'FR0006226791']: SI✓,F✓,E✗,BS✗,CF✓\n",
      "2022-02-07 12:17:12 PM: ['MLHOT.PA', 'FR0000053738']: SI✓,F✗,E✗,BS✗,CF✗\n",
      "2022-02-07 12:17:14 PM: ['HSW.IR', 'GB00BYYN4225']: SI✓,F✓,E✗,BS✓,CF✓\n",
      "2022-02-07 12:17:17 PM: ['HDP.PA', 'FR0004165801']: SI✓,F✓,E✓,BS✓,CF✓\n",
      "2022-02-07 12:17:19 PM: ['MLHIN.PA', 'FR0006563904']: SI✓,F✓,E✗,BS✗,CF✓\n",
      "2022-02-07 12:17:28 PM: ['HOC.OL', 'NO0010781818']: SI✓,F✓,E✓,BS✓,CF✓\n",
      "2022-02-07 12:17:31 PM: ['HUDL.OL', 'NO0010859648']: SI✓,F✗,E✗,BS✗,CF✗\n",
      "2022-02-07 12:17:34 PM: ['HDLY.OL', 'NO0010776990']: SI✓,F✓,E✓,BS✓,CF✓\n",
      "2022-02-07 12:17:38 PM: ['HUNDP.AS', 'ANN4327C1303']: SI✗,F✓,E✗,BS✓,CF✓\n",
      "2022-02-07 12:17:39 PM: ['HDG.AS', 'ANN4327C1220']: SI✓,F✓,E✓,BS✓,CF✓\n",
      "2022-02-07 12:17:48 PM: ['HUNT.OL', 'NO0010283211']: SI✓,F✗,E✗,BS✗,CF✗\n",
      "2022-02-07 12:17:49 PM: ['HYSG.BR', 'GB00BYN5BY03']: SI✗,F✗,E✗,BS✗,CF✗\n",
      "2022-02-07 12:17:55 PM: ['ALHYG.PA', 'FR0004153930']: SI✓,F✗,E✗,BS✗,CF✗\n",
      "2022-02-07 12:17:58 PM: ['HYDRA.AS', 'NL0009391242']: SI✓,F✓,E✓,BS✓,CF✓\n",
      "2022-02-07 12:18:00 PM: ['MLHYD.PA', 'FR0000064735']: SI✓,F✓,E✗,BS✓,CF✓\n",
      "2022-02-07 12:18:10 PM: ['MLHYE.PA', 'FR0005843125']: SI✓,F✓,E✗,BS✓,CF✓\n",
      "2022-02-07 12:18:13 PM: ['ALHRS.PA', 'FR0014001PM5']: SI✓,F✓,E✓,BS✓,CF✓\n",
      "2022-02-07 12:18:13 PM: ['HYPRO.OL', 'NO0010892359']: SI✓,F✓,E✓,BS✓,CF✓\n",
      "2022-02-07 12:18:17 PM: ['HYL.BR', 'BE0974363955']: SI✓,F✓,E✓,BS✓,CF✓\n",
      "2022-02-07 12:18:21 PM: ['HYN.OL', 'NO0010920945']: SI✓,F✗,E✗,BS✗,CF✗\n",
      "2022-02-07 12:18:31 PM: ['HSPG.OL', 'NO0010012636']: SI✓,F✓,E✓,BS✓,CF✓\n",
      "2022-02-07 12:18:33 PM: ['ALICR.PA', 'FR0014005IU4']: SI✓,F✓,E✓,BS✓,CF✓\n",
      "2022-02-07 12:18:33 PM: ['I2PO.PA', 'FR0014004J15']: SI✓,F✗,E✗,BS✗,CF✗\n",
      "2022-02-07 12:18:39 PM: ['I2POW.PA', 'FR0014004JF6']: SI✗,F✗,E✗,BS✗,CF✗\n",
      "2022-02-07 12:18:43 PM: ['ALI2S.PA', 'FR0005854700']: SI✓,F✓,E✓,BS✓,CF✓\n",
      "2022-02-07 12:18:49 PM: ['MLINT.PA', 'ES0105479002']: SI✗,F✗,E✗,BS✗,CF✗\n",
      "2022-02-07 12:18:54 PM: ['IBAB.BR', 'BE0003766806']: SI✓,F✓,E✓,BS✓,CF✓\n",
      "2022-02-07 12:18:56 PM: ['IBS.LS', 'PTIBS0AM0008']: SI✓,F✓,E✓,BS✓,CF✓\n",
      "2022-02-07 12:18:58 PM: ['IBMA.BR', 'US4592001014']: SI✓,F✓,E✗,BS✓,CF✓\n",
      "2022-02-07 12:19:04 PM: ['ICAD.PA', 'FR0000035081']: SI✓,F✓,E✓,BS✓,CF✓\n",
      "2022-02-07 12:19:08 PM: ['IFISH.OL', 'NO0010884794']: SI✓,F✓,E✓,BS✓,CF✓\n",
      "2022-02-07 12:19:15 PM: ['ICEGR.OL', 'NO0010734742']: SI✓,F✓,E✓,BS✓,CF✓\n",
      "2022-02-07 12:19:19 PM: ['IDL.PA', 'FR0010929125']: SI✓,F✓,E✓,BS✓,CF✓\n",
      "2022-02-07 12:19:21 PM: ['ISLAX.OL', 'NO0010724701']: SI✓,F✓,E✓,BS✓,CF✓\n",
      "2022-02-07 12:19:24 PM: ['IDEX.OL', 'NO0003070609']: SI✓,F✓,E✓,BS✓,CF✓\n",
      "2022-02-07 12:19:26 PM: ['IDIP.PA', 'FR0000051393']: SI✓,F✓,E✓,BS✓,CF✓\n",
      "2022-02-07 12:19:35 PM: ['MLIDS.PA', 'FR0000079691']: SI✓,F✓,E✗,BS✗,CF✓\n",
      "2022-02-07 12:19:40 PM: ['ALIDS.PA', 'FR0000062184']: SI✓,F✓,E✓,BS✓,CF✓\n",
      "2022-02-07 12:19:41 PM: ['IEP.BR', 'BE0003748622']: SI✓,F✓,E✗,BS✓,CF✓\n",
      "2022-02-07 12:19:46 PM: ['IEX.AS', 'NL0010556726']: SI✓,F✓,E✓,BS✓,CF✓\n",
      "2022-02-07 12:19:48 PM: ['IGE.PA', 'FR0000030827']: SI✓,F✓,E✓,BS✓,CF✓\n",
      "2022-02-07 12:19:56 PM: ['MLABC.PA', 'ES0105551008']: SI✗,F✗,E✗,BS✗,CF✗\n"
     ]
    },
    {
     "name": "stdout",
     "output_type": "stream",
     "text": [
      "- MLABC.PA: No data found for this date range, symbol may be delisted\n"
     ]
    },
    {
     "name": "stderr",
     "output_type": "stream",
     "text": [
      "2022-02-07 12:20:01 PM: ['ALIE.PA', 'IT0005380602']: SI✓,F✓,E✗,BS✓,CF✓\n",
      "2022-02-07 12:20:02 PM: ['ALIKO.PA', 'FR00140048X2']: SI✓,F✗,E✗,BS✗,CF✗\n",
      "2022-02-07 12:20:06 PM: ['MLIML.PA', 'FR0010086371']: SI✓,F✓,E✓,BS✓,CF✓\n",
      "2022-02-07 12:20:08 PM: ['IMCD.AS', 'NL0010801007']: SI✓,F✓,E✓,BS✓,CF✓\n",
      "2022-02-07 12:20:17 PM: ['NK.PA', 'FR0000120859']: SI✓,F✓,E✓,BS✓,CF✓\n",
      "2022-02-07 12:20:20 PM: ['MLIPP.PA', 'FR0006859039']: SI✓,F✓,E✗,BS✓,CF✓\n",
      "2022-02-07 12:20:21 PM: ['ALIMR.PA', 'FR0013060100']: SI✓,F✓,E✗,BS✓,CF✓\n",
      "2022-02-07 12:20:28 PM: ['MCC.BR', 'BE0974287196']: SI✓,F✗,E✗,BS✗,CF✗\n",
      "2022-02-07 12:20:29 PM: ['IMMOU.BR', 'BE0003893139']: SI✓,F✓,E✓,BS✓,CF✓\n",
      "2022-02-07 12:20:38 PM: ['IMDA.PA', 'FR0000033243']: SI✓,F✓,E✓,BS✓,CF✓\n",
      "2022-02-07 12:20:40 PM: ['IMMO.BR', 'BE0003599108']: SI✓,F✓,E✓,BS✓,CF✓\n",
      "2022-02-07 12:20:43 PM: ['GPA.LS', 'PTGPA0AP0007']: SI✓,F✓,E✓,BS✓,CF✓\n",
      "2022-02-07 12:20:48 PM: ['ALIMP.PA', 'FR0013470168']: SI✓,F✓,E✓,BS✓,CF✓\n",
      "2022-02-07 12:20:58 PM: ['IPR.LS', 'PTIPR0AM0000']: SI✓,F✓,E✓,BS✓,CF✓\n",
      "2022-02-07 12:20:59 PM: ['MLIFS.PA', 'ES0105590006']: SI✓,F✗,E✗,BS✗,CF✗\n",
      "2022-02-07 12:21:06 PM: ['INA.LS', 'PTINA0AP0008']: SI✓,F✓,E✓,BS✓,CF✓\n",
      "2022-02-07 12:21:07 PM: ['MLIMP.PA', 'FR0000065773']: SI✓,F✓,E✗,BS✓,CF✓\n",
      "2022-02-07 12:21:08 PM: ['INCLU.BR', 'BE0974374069']: SI✓,F✓,E✓,BS✓,CF✓\n",
      "2022-02-07 12:21:19 PM: ['INDCT.OL', 'NO0010536048']: SI✓,F✓,E✗,BS✓,CF✓\n",
      "2022-02-07 12:21:26 PM: ['INF.PA', 'FR0000071797']: SI✓,F✓,E✓,BS✓,CF✓\n",
      "2022-02-07 12:21:28 PM: ['INFE.PA', 'FR0000066219']: SI✓,F✓,E✓,BS✓,CF✓\n",
      "2022-02-07 12:21:30 PM: ['INGA.AS', 'NL0011821202']: SI✓,F✓,E✓,BS✓,CF✓\n",
      "2022-02-07 12:21:34 PM: ['MLIFC.PA', 'FR0011158823']: SI✓,F✓,E✗,BS✓,CF✓\n",
      "2022-02-07 12:21:43 PM: ['MLISP.PA', 'ES0105473005']: SI✗,F✗,E✗,BS✗,CF✗\n",
      "2022-02-07 12:21:48 PM: ['MLINM.PA', 'ES0105511002']: SI✗,F✗,E✗,BS✗,CF✗\n"
     ]
    },
    {
     "name": "stdout",
     "output_type": "stream",
     "text": [
      "- MLINM.PA: No data found, symbol may be delisted\n"
     ]
    },
    {
     "name": "stderr",
     "output_type": "stream",
     "text": [
      "2022-02-07 12:21:50 PM: ['IPH.PA', 'FR0010331421']: SI✓,F✓,E✓,BS✓,CF✓\n",
      "2022-02-07 12:21:51 PM: ['ALINN.PA', 'FR0000064297']: SI✓,F✓,E✓,BS✓,CF✓\n",
      "2022-02-07 12:22:06 PM: ['MLIRF.PA', 'IT0005391161']: SI✓,F✓,E✓,BS✓,CF✓\n",
      "2022-02-07 12:22:08 PM: ['MLIDP.PA', 'GB00BT9PTW34']: SI✗,F✗,E✗,BS✗,CF✗\n"
     ]
    },
    {
     "name": "stdout",
     "output_type": "stream",
     "text": [
      "- MLIDP.PA: No data found, symbol may be delisted\n"
     ]
    },
    {
     "name": "stderr",
     "output_type": "stream",
     "text": [
      "2022-02-07 12:22:10 PM: ['INSR.OL', 'NO0010593544']: SI✓,F✓,E✓,BS✓,CF✓\n",
      "2022-02-07 12:22:11 PM: ['INPST.AS', 'LU2290522684']: SI✓,F✓,E✓,BS✓,CF✓\n",
      "2022-02-07 12:22:12 PM: ['INSTA.OL', 'NO0010762792']: SI✓,F✓,E✓,BS✓,CF✓\n",
      "2022-02-07 12:22:25 PM: ['ALLUX.PA', 'FR0000060451']: SI✓,F✓,E✗,BS✓,CF✓\n",
      "2022-02-07 12:22:27 PM: ['ALINT.PA', 'FR0010908723']: SI✓,F✓,E✓,BS✓,CF✓\n",
      "2022-02-07 12:22:30 PM: ['IWS.OL', 'NO0010955883']: SI✓,F✓,E✓,BS✓,CF✓\n",
      "2022-02-07 12:22:33 PM: ['INCO.BR', 'US4581401001']: SI✓,F✓,E✗,BS✓,CF✓\n",
      "2022-02-07 12:22:33 PM: ['MLVIE.PA', 'FR0014003FN0']: SI✓,F✗,E✗,BS✗,CF✗\n",
      "2022-02-07 12:22:46 PM: ['IOX.OL', 'NO0010284318']: SI✓,F✓,E✓,BS✓,CF✓\n",
      "2022-02-07 12:22:48 PM: ['ITP.PA', 'FR0004024222']: SI✓,F✓,E✓,BS✓,CF✓\n",
      "2022-02-07 12:22:50 PM: ['INTER.AS', 'NL0010937058']: SI✓,F✓,E✓,BS✓,CF✓\n",
      "2022-02-07 12:22:53 PM: ['ITXT.PA', 'FR0000064958']: SI✓,F✓,E✗,BS✓,CF✓\n",
      "2022-02-07 12:22:55 PM: ['INTO.BR', 'BE0003746600']: SI✓,F✓,E✓,BS✓,CF✓\n",
      "2022-02-07 12:23:05 PM: ['ALINS.PA', 'FR0011179886']: SI✓,F✓,E✓,BS✓,CF✓\n",
      "2022-02-07 12:23:11 PM: ['MLIOC.PA', 'BE6200101556']: SI✓,F✗,E✗,BS✗,CF✗\n",
      "2022-02-07 12:23:11 PM: ['ALINV.PA', 'BE0974299316']: SI✓,F✓,E✓,BS✓,CF✓\n",
      "2022-02-07 12:23:12 PM: ['IVA.PA', 'FR0013233012']: SI✓,F✓,E✓,BS✓,CF✓\n",
      "2022-02-07 12:23:20 PM: ['MLIPO.PA', 'ES0105417002']: SI✗,F✗,E✗,BS✗,CF✗\n",
      "2022-02-07 12:23:31 PM: ['IPS.PA', 'FR0000073298']: SI✓,F✓,E✓,BS✓,CF✓\n",
      "2022-02-07 12:23:31 PM: ['IPSNV.PA', 'FR00140078W1']: SI✓,F✓,E✗,BS✓,CF✓\n"
     ]
    },
    {
     "name": "stdout",
     "output_type": "stream",
     "text": [
      "- IPSNV.PA: No data found for this date range, symbol may be delisted\n"
     ]
    },
    {
     "name": "stderr",
     "output_type": "stream",
     "text": [
      "2022-02-07 12:23:33 PM: ['IPN.PA', 'FR0010259150']: SI✓,F✓,E✓,BS✓,CF✓\n",
      "2022-02-07 12:23:34 PM: ['IR5B.IR', 'IE00BLP58571']: SI✗,F✗,E✗,BS✗,CF✗\n",
      "2022-02-07 12:44:39 PM: ['IRES.IR', 'IE00BJ34P519']: SI✓,F✓,E✓,BS✓,CF✓\n",
      "2022-02-07 12:44:51 PM: ['ALITL.PA', 'FR0000072597']: SI✓,F✓,E✓,BS✓,CF✓\n",
      "2022-02-07 12:45:09 PM: ['ITERA.OL', 'NO0010001118']: SI✓,F✓,E✓,BS✓,CF✓\n",
      "2022-02-07 12:45:09 PM: ['MLITN.PA', 'IT0005336521']: SI✓,F✓,E✗,BS✓,CF✓\n",
      "2022-02-07 12:45:23 PM: ['ALISP.PA', 'ES0109429037']: SI✓,F✓,E✓,BS✓,CF✓\n",
      "2022-02-07 12:45:42 PM: ['ITE.PA', 'FR0004026151']: SI✓,F✓,E✓,BS✓,CF✓\n",
      "2022-02-07 12:45:54 PM: ['JMT.LS', 'PTJMT0AE0001']: SI✓,F✓,E✓,BS✓,CF✓\n",
      "2022-02-07 12:46:12 PM: ['JBOG.PA', 'FR0012872141']: SI✓,F✓,E✓,BS✓,CF✓\n",
      "2022-02-07 12:46:29 PM: ['JCQ.PA', 'FR0000033904']: SI✓,F✓,E✓,BS✓,CF✓\n",
      "2022-02-07 12:46:33 PM: ['DEC.PA', 'FR0000077919']: SI✓,F✓,E✓,BS✓,CF✓\n",
      "2022-02-07 12:46:40 PM: ['JDEP.AS', 'NL0014332678']: SI✓,F✓,E✓,BS✓,CF✓\n",
      "2022-02-07 12:46:43 PM: ['JEN.BR', 'BE0003858751']: SI✓,F✓,E✓,BS✓,CF✓\n",
      "2022-02-07 12:46:54 PM: ['JIN.OL', 'BMG5137R1088']: SI✓,F✓,E✓,BS✓,CF✓\n",
      "2022-02-07 12:47:03 PM: ['MLJSA.PA', 'FR0010680033']: SI✓,F✓,E✗,BS✓,CF✓\n",
      "2022-02-07 12:47:12 PM: ['TKWY.AS', 'NL0012015705']: SI✓,F✓,E✓,BS✓,CF✓\n",
      "2022-02-07 12:47:19 PM: ['JAREN.OL', 'NO0010359433']: SI✓,F✓,E✓,BS✓,CF✓\n",
      "2022-02-07 12:47:24 PM: ['KAHOT.OL', 'NO0010823131']: SI✓,F✓,E✓,BS✓,CF✓\n",
      "2022-02-07 12:47:37 PM: ['KAL.OL', 'NO0010874597']: SI✓,F✓,E✓,BS✓,CF✓\n",
      "2022-02-07 12:47:43 PM: ['ALKAL.PA', 'FR0010722819']: SI✓,F✓,E✓,BS✓,CF✓\n",
      "2022-02-07 12:47:55 PM: ['KOF.PA', 'FR0004007813']: SI✓,F✓,E✓,BS✓,CF✓\n",
      "2022-02-07 12:48:02 PM: ['KBC.BR', 'BE0003565737']: SI✓,F✓,E✓,BS✓,CF✓\n",
      "2022-02-07 12:48:07 PM: ['KBCA.BR', 'BE0003867844']: SI✓,F✓,E✓,BS✓,CF✓\n",
      "2022-02-07 12:48:21 PM: ['KENDR.AS', 'NL0000852531']: SI✓,F✓,E✓,BS✓,CF✓\n",
      "2022-02-07 12:48:28 PM: ['KMR.IR', 'IE00BDC5DG00']: SI✓,F✓,E✗,BS✓,CF✓\n",
      "2022-02-07 12:48:42 PM: ['KER.PA', 'FR0000121485']: SI✓,F✓,E✓,BS✓,CF✓\n",
      "2022-02-07 12:48:44 PM: ['ALKLK.PA', 'FR0013156007']: SI✓,F✓,E✓,BS✓,CF✓\n",
      "2022-02-07 12:48:48 PM: ['KRZ.IR', 'IE0004906560']: SI✓,F✓,E✓,BS✓,CF✓\n",
      "2022-02-07 12:49:00 PM: ['ALKEY.PA', 'FR0004029411']: SI✓,F✓,E✗,BS✓,CF✓\n",
      "2022-02-07 12:49:07 PM: ['KEYW.BR', 'BE0003880979']: SI✓,F✓,E✓,BS✓,CF✓\n",
      "2022-02-07 12:49:22 PM: ['KID.OL', 'NO0010743545']: SI✓,F✓,E✓,BS✓,CF✓\n",
      "2022-02-07 12:49:28 PM: ['KIN.BR', 'BE0974274061']: SI✓,F✓,E✓,BS✓,CF✓\n",
      "2022-02-07 12:49:28 PM: ['KRX.IR', 'IE0004927939']: SI✓,F✓,E✓,BS✓,CF✓\n",
      "2022-02-07 12:49:43 PM: ['ALKKO.PA', 'FR0013374667']: SI✓,F✓,E✓,BS✓,CF✓\n",
      "2022-02-07 12:49:43 PM: ['KIT.OL', 'NO0003079709']: SI✓,F✓,E✓,BS✓,CF✓\n",
      "2022-02-07 12:50:06 PM: ['ALKLA.PA', 'FR0011038348']: SI✓,F✓,E✓,BS✓,CF✓\n",
      "2022-02-07 12:50:12 PM: ['KCC.OL', 'NO0010833262']: SI✓,F✓,E✓,BS✓,CF✓\n",
      "2022-02-07 12:50:14 PM: ['LI.PA', 'FR0000121964']: SI✓,F✓,E✓,BS✓,CF✓\n",
      "2022-02-07 12:50:23 PM: ['ALSIM.PA', 'GB00B19RTX44']: SI✓,F✓,E✗,BS✓,CF✓\n",
      "2022-02-07 12:50:28 PM: ['KMCP.OL', 'NO0010360175']: SI✓,F✓,E✓,BS✓,CF✓\n",
      "2022-02-07 12:51:08 PM: ['ALKOM.PA', 'ES0105425005']: SI✓,F✓,E✗,BS✓,CF✓\n",
      "2022-02-07 12:51:11 PM: ['KOMP.OL', 'NO0010694029']: SI✓,F✓,E✓,BS✓,CF✓\n",
      "2022-02-07 12:51:14 PM: ['KOMPL.OL', 'NO0011016040']: SI✓,F✓,E✓,BS✓,CF✓\n",
      "2022-02-07 12:51:40 PM: ['KOA.OL', 'NO0003033102']: SI✓,F✓,E✓,BS✓,CF✓\n",
      "2022-02-07 12:51:40 PM: ['KOG.OL', 'NO0003043309']: SI✓,F✓,E✓,BS✓,CF✓\n",
      "2022-02-07 12:52:05 PM: ['KORI.PA', 'FR0010386334']: SI✓,F✓,E✓,BS✓,CF✓\n",
      "2022-02-07 12:52:09 PM: ['KPN.AS', 'NL0000009082']: SI✓,F✓,E✓,BS✓,CF✓\n",
      "2022-02-07 12:52:16 PM: ['KRAB.OL', 'NO0010815103']: SI✓,F✓,E✓,BS✓,CF✓\n"
     ]
    },
    {
     "name": "stdout",
     "output_type": "stream",
     "text": [
      "- MLKTS.LS: No data found for this date range, symbol may be delisted\n"
     ]
    },
    {
     "name": "stderr",
     "output_type": "stream",
     "text": [
      "2022-02-07 12:52:30 PM: ['MLKTS.LS', 'ES0105536009']: SI✗,F✗,E✗,BS✗,CF✗\n",
      "2022-02-07 12:52:31 PM: ['ALVAP.PA', 'FR0013419876']: SI✓,F✓,E✓,BS✓,CF✓\n"
     ]
    },
    {
     "name": "stdout",
     "output_type": "stream",
     "text": [
      "- VAPBS.PA: No data found, symbol may be delisted\n"
     ]
    },
    {
     "name": "stderr",
     "output_type": "stream",
     "text": [
      "2022-02-07 12:52:47 PM: ['VAPBS.PA', 'FR0014001KF0']: SI✗,F✗,E✗,BS✗,CF✗\n",
      "2022-02-07 12:52:53 PM: ['KYOTO.OL', 'NO0010936750']: SI✓,F✗,E✗,BS✗,CF✗\n",
      "2022-02-07 12:53:19 PM: ['OR.PA', 'FR0000120321']: SI✓,F✓,E✓,BS✓,CF✓\n",
      "2022-02-07 12:53:23 PM: ['LACR.PA', 'FR0000066607']: SI✓,F✓,E✓,BS✓,CF✓\n",
      "2022-02-07 12:53:33 PM: ['ALPER.PA', 'NL0012191662']: SI✓,F✓,E✗,BS✓,CF✓\n",
      "2022-02-07 12:53:43 PM: ['MMB.PA', 'FR0000130213']: SI✓,F✓,E✓,BS✓,CF✓\n",
      "2022-02-07 12:53:52 PM: ['ALLAN.PA', 'FR0004027068']: SI✓,F✓,E✓,BS✓,CF✓\n",
      "2022-02-07 12:54:20 PM: ['LAT.PA', 'FR0000032278']: SI✓,F✓,E✓,BS✓,CF✓\n",
      "2022-02-07 12:54:31 PM: ['ALLGO.PA', 'FR0013308582']: SI✓,F✓,E✓,BS✓,CF✓\n",
      "2022-02-07 12:54:38 PM: ['LVIDE.AS', 'NL0010545679']: SI✓,F✓,E✓,BS✓,CF✓\n",
      "2022-02-07 12:54:45 PM: ['LOUP.PA', 'FR0013204336']: SI✓,F✓,E✓,BS✓,CF✓\n",
      "2022-02-07 12:55:01 PM: ['LPE.PA', 'FR0006864484']: SI✓,F✓,E✓,BS✓,CF✓\n",
      "2022-02-07 12:55:12 PM: ['ALTAN.PA', 'FR0000075673']: SI✓,F✓,E✓,BS✓,CF✓\n"
     ]
    },
    {
     "name": "stdout",
     "output_type": "stream",
     "text": [
      "- LSSNV.PA: No data found, symbol may be delisted\n"
     ]
    },
    {
     "name": "stderr",
     "output_type": "stream",
     "text": [
      "2022-02-07 12:55:41 PM: ['LSSNV.PA', 'FR00140078U5']: SI✗,F✗,E✗,BS✗,CF✗\n",
      "2022-02-07 12:55:47 PM: ['LSS.PA', 'FR0000065484']: SI✓,F✓,E✓,BS✓,CF✓\n",
      "2022-02-07 12:55:55 PM: ['LBON.PA', 'FR0000121295']: SI✓,F✓,E✓,BS✓,CF✓\n",
      "2022-02-07 12:56:15 PM: ['LSG.OL', 'NO0003096208']: SI✓,F✓,E✓,BS✓,CF✓\n",
      "2022-02-07 12:56:25 PM: ['LR.PA', 'FR0010307819']: SI✓,F✓,E✓,BS✓,CF✓\n",
      "2022-02-07 12:56:31 PM: ['MLPAP.PA', 'FR0014003I41']: SI✓,F✗,E✗,BS✗,CF✗\n",
      "2022-02-07 12:56:47 PM: ['ALLHB.PA', 'FR0007080254']: SI✓,F✓,E✓,BS✓,CF✓\n",
      "2022-02-07 12:56:52 PM: ['TBMBT.PA', 'FR0013483401']: SI✗,F✗,E✗,BS✗,CF✗\n",
      "2022-02-07 12:57:10 PM: ['ALLEX.PA', 'FR0000033599']: SI✓,F✓,E✓,BS✓,CF✓\n",
      "2022-02-07 12:57:27 PM: ['LIN.PA', 'FR0004156297']: SI✓,F✓,E✓,BS✓,CF✓\n",
      "2022-02-07 12:57:33 PM: ['LIFE.OL', 'NO0010591191']: SI✓,F✓,E✗,BS✓,CF✓\n",
      "2022-02-07 12:57:38 PM: ['LINK.OL', 'NO0010894231']: SI✓,F✓,E✓,BS✓,CF✓\n",
      "2022-02-07 12:58:07 PM: ['LIG.LS', 'PTLIG0AE0002']: SI✓,F✓,E✗,BS✓,CF✓\n",
      "2022-02-07 12:58:08 PM: ['FII.PA', 'FR0000050353']: SI✓,F✓,E✓,BS✓,CF✓\n",
      "2022-02-07 12:58:20 PM: ['LIT.LS', 'PTLIT0AE0005']: SI✓,F✓,E✗,BS✓,CF✓\n",
      "2022-02-07 12:58:40 PM: ['LNA.PA', 'FR0004170017']: SI✓,F✓,E✓,BS✓,CF✓\n",
      "2022-02-07 12:58:45 PM: ['ALLLN.PA', 'ES0105089009']: SI✓,F✓,E✗,BS✓,CF✓\n",
      "2022-02-07 12:58:56 PM: ['MLLOG.PA', 'ES0105333001']: SI✗,F✗,E✗,BS✗,CF✗\n",
      "2022-02-07 12:58:58 PM: ['ALLOG.PA', 'FR0000044943']: SI✓,F✓,E✓,BS✓,CF✓\n",
      "2022-02-07 12:59:03 PM: ['MLLOI.PA', 'FR0004155208']: SI✓,F✓,E✗,BS✓,CF✓\n",
      "2022-02-07 12:59:22 PM: ['MLCAC.PA', 'FR0006205019']: SI✓,F✓,E✗,BS✓,CF✓\n",
      "2022-02-07 12:59:42 PM: ['LOTB.BR', 'BE0003604155']: SI✓,F✓,E✓,BS✓,CF✓\n",
      "2022-02-07 12:59:49 PM: ['BOLS.AS', 'NL0010998878']: SI✓,F✓,E✓,BS✓,CF✓\n",
      "2022-02-07 12:59:54 PM: ['LUCBS.PA', 'FR0013525953']: SI✗,F✗,E✗,BS✗,CF✗\n",
      "2022-02-07 12:59:59 PM: ['ALUCI.PA', 'FR0011884378']: SI✓,F✓,E✓,BS✓,CF✓\n",
      "2022-02-07 01:00:27 PM: ['LBIRD.PA', 'FR0000038242']: SI✓,F✓,E✓,BS✓,CF✓\n",
      "2022-02-07 01:01:08 PM: ['LYTIX.OL', 'NO0010405780']: SI✓,F✓,E✗,BS✓,CF✓\n",
      "2022-02-07 01:01:12 PM: ['MLV4S.PA', 'BE6201089735']: SI✓,F✓,E✗,BS✓,CF✓\n",
      "2022-02-07 01:01:14 PM: ['MC.PA', 'FR0000121014']: SI✓,F✓,E✓,BS✓,CF✓\n",
      "2022-02-07 01:01:40 PM: ['MVW.OL', 'NO0010976343']: SI✓,F✓,E✓,BS✓,CF✓\n",
      "2022-02-07 01:01:52 PM: ['LYS.PA', 'FR0013233475']: SI✓,F✓,E✓,BS✓,CF✓\n",
      "2022-02-07 01:02:05 PM: ['MAAT.PA', 'FR0012634822']: SI✓,F✓,E✓,BS✓,CF✓\n",
      "2022-02-07 01:02:06 PM: ['MRM.PA', 'FR0000060196']: SI✓,F✓,E✓,BS✓,CF✓\n",
      "2022-02-07 01:02:10 PM: ['ALMII.PA', 'FR0013270626']: SI✓,F✓,E✓,BS✓,CF✓\n",
      "2022-02-07 01:02:21 PM: ['MLMAD.PA', 'FR0010328302']: SI✓,F✓,E✗,BS✗,CF✓\n",
      "2022-02-07 01:02:30 PM: ['ALMNG.PA', 'FR0010812230']: SI✓,F✓,E✓,BS✓,CF✓\n",
      "2022-02-07 01:02:38 PM: ['MGN.OL', 'NO0010187032']: SI✓,F✓,E✓,BS✓,CF✓\n",
      "2022-02-07 01:02:42 PM: ['MSEIS.OL', 'NO0010663669']: SI✓,F✓,E✓,BS✓,CF✓\n",
      "2022-02-07 01:02:42 PM: ['MLMGL.PA', 'FR0010827741']: SI✓,F✓,E✗,BS✓,CF✓\n",
      "2022-02-07 01:02:54 PM: ['MLMAB.PA', 'FR0000061657']: SI✓,F✗,E✗,BS✗,CF✗\n",
      "2022-02-07 01:03:01 PM: ['MLCLI.PA', 'FR0011092089']: SI✓,F✗,E✗,BS✗,CF✗\n",
      "2022-02-07 01:03:16 PM: ['MDM.PA', 'FR0013153541']: SI✓,F✓,E✓,BS✓,CF✓\n",
      "2022-02-07 01:03:20 PM: ['MAJ.AS', 'LU2382956378']: SI✓,F✓,E✓,BS✓,CF✓\n",
      "2022-02-07 01:03:21 PM: ['ALMAK.PA', 'FR0000072993']: SI✓,F✓,E✓,BS✓,CF✓\n",
      "2022-02-07 01:03:30 PM: ['ALMKS.PA', 'ES0105463006']: SI✓,F✓,E✗,BS✓,CF✓\n",
      "2022-02-07 01:03:32 PM: ['MLC.IR', 'IE00BVGC3741']: SI✓,F✓,E✓,BS✓,CF✓\n",
      "2022-02-07 01:03:52 PM: ['MALT.PA', 'FR0000030074']: SI✓,F✓,E✓,BS✓,CF✓\n",
      "2022-02-07 01:03:59 PM: ['MTU.PA', 'FR0000038606']: SI✓,F✓,E✓,BS✓,CF✓\n",
      "2022-02-07 01:04:06 PM: ['MAN.PA', 'FR0000032302']: SI✓,F✓,E✓,BS✓,CF✓\n",
      "2022-02-07 01:04:07 PM: ['MLMAQ.PA', 'ES0105447009']: SI✓,F✗,E✗,BS✗,CF✗\n",
      "2022-02-07 01:04:10 PM: ['MROIL.BR', 'US5658491064']: SI✓,F✓,E✗,BS✓,CF✓\n",
      "2022-02-07 01:04:33 PM: ['ALMAR.PA', 'FR0013400835']: SI✓,F✓,E✗,BS✓,CF✓\n",
      "2022-02-07 01:04:52 PM: ['MAREL.AS', 'IS0000000388']: SI✓,F✓,E✗,BS✓,CF✓\n",
      "2022-02-07 01:04:56 PM: ['IAM.PA', 'MA0000011488']: SI✓,F✓,E✓,BS✓,CF✓\n",
      "2022-02-07 01:05:07 PM: ['MAR.LS', 'PTMFR0AM0003']: SI✓,F✓,E✓,BS✓,CF✓\n",
      "2022-02-07 01:05:07 PM: ['ALMAS.PA', 'FR0004155687']: SI✓,F✓,E✓,BS✓,CF✓\n",
      "2022-02-07 01:05:14 PM: ['MASBS.PA', 'FR0013472446']: SI✗,F✗,E✗,BS✗,CF✗\n",
      "2022-02-07 01:05:57 PM: ['MKEA.PA', 'FR0010609263']: SI✓,F✓,E✓,BS✓,CF✓\n",
      "2022-02-07 01:05:58 PM: ['MBWBT.PA', 'FR0013404944']: SI✗,F✗,E✗,BS✗,CF✗\n"
     ]
    },
    {
     "name": "stdout",
     "output_type": "stream",
     "text": [
      "- MBWBT.PA: No data found for this date range, symbol may be delisted\n"
     ]
    },
    {
     "name": "stderr",
     "output_type": "stream",
     "text": [
      "2022-02-07 01:06:00 PM: ['MAS.OL', 'NO0010974983']: SI✓,F✓,E✓,BS✓,CF✓\n",
      "2022-02-07 01:06:02 PM: ['MAU.PA', 'FR0000051070']: SI✓,F✓,E✓,BS✓,CF✓\n",
      "2022-02-07 01:06:04 PM: ['MBWS.PA', 'FR0000060873']: SI✓,F✓,E✓,BS✓,CF✓\n"
     ]
    },
    {
     "name": "stdout",
     "output_type": "stream",
     "text": [
      "- MBWSZ.PA: No data found for this date range, symbol may be delisted\n"
     ]
    },
    {
     "name": "stderr",
     "output_type": "stream",
     "text": [
      "2022-02-07 01:06:27 PM: ['MBWSZ.PA', 'FR0013066313']: SI✗,F✗,E✗,BS✗,CF✗\n",
      "2022-02-07 01:06:34 PM: ['ALMDP.PA', 'FR0010844464']: SI✓,F✗,E✗,BS✗,CF✗\n",
      "2022-02-07 01:06:37 PM: ['MCPHY.PA', 'FR0011742329']: SI✓,F✓,E✓,BS✓,CF✓\n",
      "2022-02-07 01:06:38 PM: ['MDXH.BR', 'BE0003844611']: SI✓,F✓,E✓,BS✓,CF✓\n",
      "2022-02-07 01:06:41 PM: ['EDI.PA', 'FR0000064404']: SI✓,F✓,E✓,BS✓,CF✓\n",
      "2022-02-07 01:06:58 PM: ['MCP.LS', 'PTGMC0AM0003']: SI✓,F✓,E✓,BS✓,CF✓\n",
      "2022-02-07 01:07:06 PM: ['MLLAB.PA', 'IT0005324105']: SI✓,F✓,E✗,BS✓,CF✓\n",
      "2022-02-07 01:07:12 PM: ['ALKER.PA', 'IT0005380438']: SI✓,F✓,E✗,BS✓,CF✓\n",
      "2022-02-07 01:07:24 PM: ['MEDCL.PA', 'FR0004065605']: SI✓,F✓,E✓,BS✓,CF✓\n",
      "2022-02-07 01:07:26 PM: ['ALMDT.PA', 'FR0011049824']: SI✓,F✓,E✓,BS✓,CF✓\n"
     ]
    },
    {
     "name": "stdout",
     "output_type": "stream",
     "text": [
      "- MLMCE.PA: No data found, symbol may be delisted\n"
     ]
    },
    {
     "name": "stderr",
     "output_type": "stream",
     "text": [
      "2022-02-07 01:07:49 PM: ['MLMCE.PA', 'IT0004844848']: SI✗,F✗,E✗,BS✗,CF✗\n",
      "2022-02-07 01:08:00 PM: ['MEDI.OL', 'NO0010159684']: SI✓,F✓,E✓,BS✓,CF✓\n",
      "2022-02-07 01:08:05 PM: ['MELE.BR', 'BE0165385973']: SI✓,F✓,E✓,BS✓,CF✓\n",
      "2022-02-07 01:08:18 PM: ['MWTR.OL', 'NL00150003D3']: SI✓,F✓,E✓,BS✓,CF✓\n",
      "2022-02-07 01:08:21 PM: ['MELG.OL', 'NO0006001908']: SI✓,F✓,E✓,BS✓,CF✓\n",
      "2022-02-07 01:08:42 PM: ['MEMS.PA', 'FR0010298620']: SI✓,F✓,E✓,BS✓,CF✓\n",
      "2022-02-07 01:08:51 PM: ['MRCEL.OL', 'NO0010307143']: SI✓,F✓,E✓,BS✓,CF✓\n",
      "2022-02-07 01:08:59 PM: ['MERY.PA', 'FR0010241638']: SI✓,F✓,E✓,BS✓,CF✓\n"
     ]
    },
    {
     "name": "stdout",
     "output_type": "stream",
     "text": [
      "- MLMIV.PA: No data found, symbol may be delisted\n"
     ]
    },
    {
     "name": "stderr",
     "output_type": "stream",
     "text": [
      "2022-02-07 01:09:19 PM: ['MLMIV.PA', 'ES0105559001']: SI✗,F✗,E✗,BS✗,CF✗\n",
      "2022-02-07 01:09:21 PM: ['MRK.PA', 'US58933Y1055']: SI✓,F✓,E✗,BS✓,CF✓\n",
      "2022-02-07 01:09:31 PM: ['MRL.LS', 'ES0105025003']: SI✓,F✓,E✗,BS✓,CF✓\n",
      "2022-02-07 01:09:38 PM: ['MRN.PA', 'FR0000039620']: SI✓,F✓,E✓,BS✓,CF✓\n",
      "2022-02-07 01:09:46 PM: ['METEX.PA', 'FR0004177046']: SI✓,F✓,E✓,BS✓,CF✓\n",
      "2022-02-07 01:10:00 PM: ['MLETA.PA', 'FR0010492181']: SI✓,F✗,E✗,BS✗,CF✗\n",
      "2022-02-07 01:10:13 PM: ['ALMTH.PA', 'IT0004615396']: SI✗,F✗,E✗,BS✗,CF✗\n",
      "2022-02-07 01:10:16 PM: ['ALMET.PA', 'FR0011217710']: SI✓,F✓,E✓,BS✓,CF✓\n",
      "2022-02-07 01:10:20 PM: ['MLMIB.PA', 'BE0974328602']: SI✓,F✓,E✗,BS✓,CF✓\n",
      "2022-02-07 01:10:35 PM: ['MMT.PA', 'FR0000053225']: SI✓,F✓,E✓,BS✓,CF✓\n",
      "2022-02-07 01:10:59 PM: ['ALMGI.PA', 'FR0010204453']: SI✓,F✓,E✓,BS✓,CF✓\n",
      "2022-02-07 01:11:06 PM: ['ALMDG.PA', 'FR0010353888']: SI✓,F✓,E✓,BS✓,CF✓\n",
      "2022-02-07 01:11:11 PM: ['MUN.PA', 'FR0000077570']: SI✓,F✓,E✓,BS✓,CF✓\n",
      "2022-02-07 01:11:18 PM: ['ML.PA', 'FR0000121261']: SI✓,F✓,E✓,BS✓,CF✓\n"
     ]
    },
    {
     "name": "stdout",
     "output_type": "stream",
     "text": [
      "- MLSKN.PA: No data found, symbol may be delisted\n"
     ]
    },
    {
     "name": "stderr",
     "output_type": "stream",
     "text": [
      "2022-02-07 01:11:41 PM: ['MLSKN.PA', 'GB00BF553726']: SI✗,F✗,E✗,BS✗,CF✗\n",
      "2022-02-07 01:11:56 PM: ['MLNMA.PA', 'FR0010500363']: SI✓,F✓,E✗,BS✓,CF✓\n",
      "2022-02-07 01:12:02 PM: ['MSF.BR', 'US5949181045']: SI✓,F✓,E✗,BS✓,CF✓\n",
      "2022-02-07 01:12:07 PM: ['MIKO.BR', 'BE0003731453']: SI✓,F✓,E✓,BS✓,CF✓\n",
      "2022-02-07 01:12:16 PM: ['ALMLB.PA', 'FR0013053535']: SI✓,F✓,E✗,BS✓,CF✓\n",
      "2022-02-07 01:12:31 PM: ['MIO.IR', 'IE00BD64C665']: SI✓,F✓,E✗,BS✓,CF✓\n",
      "2022-02-07 01:12:44 PM: ['ALBUD.PA', 'FR0004172450']: SI✓,F✓,E✗,BS✓,CF✓\n",
      "2022-02-07 01:12:55 PM: ['MITRA.BR', 'BE0974283153']: SI✓,F✓,E✓,BS✓,CF✓\n",
      "2022-02-07 01:12:56 PM: ['MNTR.OL', 'NO0010895022']: SI✓,F✓,E✓,BS✓,CF✓\n"
     ]
    },
    {
     "name": "stdout",
     "output_type": "stream",
     "text": [
      "- MLAMY.PA: No data found for this date range, symbol may be delisted\n"
     ]
    },
    {
     "name": "stderr",
     "output_type": "stream",
     "text": [
      "2022-02-07 01:13:09 PM: ['MLAMY.PA', 'FR0013268067']: SI✗,F✗,E✗,BS✗,CF✗\n",
      "2022-02-07 01:13:19 PM: ['NEDSE.AS', 'NL0009312842']: SI✓,F✓,E✓,BS✓,CF✓\n",
      "2022-02-07 01:13:33 PM: ['ALMND.PA', 'FR00140050Q2']: SI✓,F✓,E✓,BS✓,CF✓\n",
      "2022-02-07 01:13:36 PM: ['GRW.IR', 'GB00BY7QYJ50']: SI✓,F✓,E✗,BS✓,CF✓\n",
      "2022-02-07 01:13:50 PM: ['MLMON.PA', 'FR0010882886']: SI✓,F✓,E✗,BS✓,CF✓\n",
      "2022-02-07 01:13:51 PM: ['MONC.PA', 'FR0000076986']: SI✓,F✓,E✓,BS✓,CF✓\n",
      "2022-02-07 01:14:12 PM: ['MLMR.LS', 'PTMNN0AE0006']: SI✗,F✗,E✗,BS✗,CF✗\n",
      "2022-02-07 01:14:16 PM: ['MONT.BR', 'BE0003853703']: SI✓,F✓,E✓,BS✓,CF✓\n",
      "2022-02-07 01:14:22 PM: ['MOP.BR', 'NL0000488153']: SI✓,F✓,E✗,BS✓,CF✓\n",
      "2022-02-07 01:14:29 PM: ['MOPF.BR', 'NL0000488161']: SI✓,F✗,E✗,BS✗,CF✗\n",
      "2022-02-07 01:14:45 PM: ['MORE.AS', 'CWN814651014']: SI✓,F✓,E✓,BS✓,CF✓\n",
      "2022-02-07 01:14:58 PM: ['EGL.LS', 'PTMEN0AE0005']: SI✓,F✓,E✓,BS✓,CF✓\n",
      "2022-02-07 01:15:00 PM: ['MTRK.AS', 'GB00BMXH3352']: SI✓,F✓,E✓,BS✓,CF✓\n",
      "2022-02-07 01:15:06 PM: ['ALMOU.PA', 'FR0011033083']: SI✓,F✓,E✓,BS✓,CF✓\n",
      "2022-02-07 01:15:14 PM: ['MOUR.BR', 'BE0003602134']: SI✓,F✓,E✓,BS✓,CF✓\n",
      "2022-02-07 01:15:26 PM: ['MOWI.OL', 'NO0003054108']: SI✓,F✓,E✓,BS✓,CF✓\n",
      "2022-02-07 01:15:35 PM: ['MPCC.OL', 'NO0010791353']: SI✓,F✓,E✓,BS✓,CF✓\n",
      "2022-02-07 01:15:36 PM: ['MPCES.OL', 'NL0015268814']: SI✓,F✗,E✗,BS✗,CF✗\n",
      "2022-02-07 01:15:42 PM: ['ALMRB.PA', 'FR0004034320']: SI✓,F✗,E✗,BS✗,CF✗\n",
      "2022-02-07 01:15:45 PM: ['MLMTD.PA', 'FR0010518936']: SI✗,F✗,E✗,BS✗,CF✗\n",
      "2022-02-07 01:15:58 PM: ['MLMUL.PA', 'FR0012990968']: SI✓,F✗,E✗,BS✗,CF✗\n"
     ]
    },
    {
     "name": "stdout",
     "output_type": "stream",
     "text": [
      "- MLM24.LS: No data found, symbol may be delisted\n"
     ]
    },
    {
     "name": "stderr",
     "output_type": "stream",
     "text": [
      "2022-02-07 01:16:09 PM: ['MLM24.LS', 'PTMUS0AM0018']: SI✗,F✗,E✗,BS✗,CF✗\n",
      "2022-02-07 01:16:12 PM: ['MULTI.OL', 'NO0010734338']: SI✓,F✓,E✓,BS✓,CF✓\n",
      "2022-02-07 01:16:17 PM: ['MEURV.BR', 'DE0008430026']: SI✓,F✓,E✗,BS✓,CF✓\n",
      "2022-02-07 01:16:22 PM: ['ALMUN.PA', 'FR0013462231']: SI✓,F✓,E✓,BS✓,CF✓\n",
      "2022-02-07 01:16:34 PM: ['GREV.PA', 'FR0000037970']: SI✓,F✓,E✗,BS✓,CF✓\n",
      "2022-02-07 01:16:43 PM: ['NACON.PA', 'FR0013482791']: SI✓,F✓,E✓,BS✓,CF✓\n",
      "2022-02-07 01:16:43 PM: ['NAI.AS', 'NL0015000CG2']: SI✓,F✗,E✗,BS✗,CF✗\n"
     ]
    },
    {
     "name": "stdout",
     "output_type": "stream",
     "text": [
      "- NAIW.AS: No data found, symbol may be delisted\n"
     ]
    },
    {
     "name": "stderr",
     "output_type": "stream",
     "text": [
      "2022-02-07 01:16:58 PM: ['NAIW.AS', 'NL0015000CH0']: SI✗,F✗,E✗,BS✗,CF✗\n"
     ]
    },
    {
     "name": "stdout",
     "output_type": "stream",
     "text": [
      "- NAITR.AS: No data found, symbol may be delisted\n"
     ]
    },
    {
     "name": "stderr",
     "output_type": "stream",
     "text": [
      "2022-02-07 01:16:59 PM: ['NAITR.AS', 'NL0015000CF4']: SI✗,F✗,E✗,BS✗,CF✗\n",
      "2022-02-07 01:17:10 PM: ['ALNMR.PA', 'FR0014003J32']: SI✓,F✓,E✓,BS✓,CF✓\n",
      "2022-02-07 01:17:15 PM: ['NAPA.OL', 'DK0060520450']: SI✓,F✓,E✓,BS✓,CF✓\n",
      "2022-02-07 01:17:21 PM: ['NANO.PA', 'FR0011341205']: SI✓,F✓,E✓,BS✓,CF✓\n",
      "2022-02-07 01:17:34 PM: ['NAVYA.PA', 'FR0013018041']: SI✓,F✓,E✓,BS✓,CF✓\n",
      "2022-02-07 01:17:38 PM: ['NAVA.OL', 'NO0010205966']: SI✓,F✓,E✓,BS✓,CF✓\n",
      "2022-02-07 01:17:50 PM: ['NKR.OL', 'NO0003049405']: SI✓,F✓,E✗,BS✓,CF✓\n",
      "2022-02-07 01:17:52 PM: ['NEDAP.AS', 'NL0000371243']: SI✓,F✓,E✓,BS✓,CF✓\n",
      "2022-02-07 01:17:58 PM: ['NEL.OL', 'NO0010081235']: SI✓,F✓,E✓,BS✓,CF✓\n",
      "2022-02-07 01:18:06 PM: ['MLNEO.PA', 'FR0004157543']: SI✓,F✓,E✗,BS✓,CF✓\n",
      "2022-02-07 01:18:10 PM: ['NEOEN.PA', 'FR0011675362']: SI✓,F✓,E✓,BS✓,CF✓\n",
      "2022-02-07 01:18:22 PM: ['ALNLF.PA', 'FR0011636083']: SI✓,F✓,E✗,BS✓,CF✓\n",
      "2022-02-07 01:18:24 PM: ['NLFBS.PA', 'FR0013282936']: SI✗,F✗,E✗,BS✗,CF✗\n",
      "2022-02-07 01:18:39 PM: ['ALNEV.PA', 'FR0004032746']: SI✓,F✓,E✓,BS✓,CF✓\n",
      "2022-02-07 01:18:40 PM: ['NRP.AS', 'IM00BDD7WV31']: SI✓,F✓,E✗,BS✓,CF✓\n",
      "2022-02-07 01:18:47 PM: ['ALNTG.PA', 'FR0004154060']: SI✓,F✓,E✓,BS✓,CF✓\n",
      "2022-02-07 01:18:57 PM: ['NOC.OL', 'GB00BF2PG875']: SI✓,F✓,E✗,BS✓,CF✓\n",
      "2022-02-07 01:19:02 PM: ['MLNEU.BR', 'BE0003680916']: SI✓,F✓,E✗,BS✓,CF✓\n",
      "2022-02-07 01:19:16 PM: ['NRO.PA', 'FR0004050250']: SI✓,F✓,E✓,BS✓,CF✓\n",
      "2022-02-07 01:19:19 PM: ['NSE.AS', 'NL0009822014']: SI✓,F✓,E✗,BS✓,CF✓\n",
      "2022-02-07 01:19:28 PM: ['NEWAY.AS', 'NL0000440618']: SI✓,F✓,E✓,BS✓,CF✓\n",
      "2022-02-07 01:19:39 PM: ['NEWT.BR', 'BE0003832491']: SI✓,F✓,E✗,BS✓,CF✓\n",
      "2022-02-07 01:19:48 PM: ['NEX.PA', 'FR0000044448']: SI✓,F✓,E✓,BS✓,CF✓\n",
      "2022-02-07 01:19:54 PM: ['ALNOR.LS', 'PTNEX0AM0002']: SI✓,F✗,E✗,BS✗,CF✗\n",
      "2022-02-07 01:20:02 PM: ['NXI.PA', 'FR0010112524']: SI✓,F✓,E✓,BS✓,CF✓\n",
      "2022-02-07 01:20:07 PM: ['NEXT.OL', 'NO0010629108']: SI✓,F✓,E✓,BS✓,CF✓\n",
      "2022-02-07 01:20:18 PM: ['ALNXT.PA', 'FR0004171346']: SI✓,F✓,E✓,BS✓,CF✓\n",
      "2022-02-07 01:20:21 PM: ['NEXTA.BR', 'BE0003770840']: SI✓,F✓,E✓,BS✓,CF✓\n",
      "2022-02-07 01:20:31 PM: ['NEXTS.PA', 'FR0012789386']: SI✓,F✓,E✓,BS✓,CF✓\n",
      "2022-02-07 01:20:36 PM: ['ALNFL.PA', 'FR0014003XT0']: SI✓,F✗,E✗,BS✗,CF✗\n",
      "2022-02-07 01:20:42 PM: ['NHOA.PA', 'FR0012650166']: SI✓,F✓,E✓,BS✓,CF✓\n",
      "2022-02-07 01:20:54 PM: ['COX.PA', 'FR0013018124']: SI✓,F✓,E✓,BS✓,CF✓\n",
      "2022-02-07 01:20:57 PM: ['NISB.OL', 'NO0010733082']: SI✓,F✓,E✗,BS✓,CF✓\n",
      "2022-02-07 01:21:10 PM: ['NN.AS', 'NL0010773842']: SI✓,F✓,E✓,BS✓,CF✓\n",
      "2022-02-07 01:21:11 PM: ['NOKIA.PA', 'FI0009000681']: SI✓,F✓,E✗,BS✓,CF✓\n",
      "2022-02-07 01:21:17 PM: ['NORBT.OL', 'NO0010856511']: SI✓,F✓,E✓,BS✓,CF✓\n",
      "2022-02-07 01:21:28 PM: ['NCOD.OL', 'NO0010892912']: SI✓,F✗,E✗,BS✗,CF✗\n",
      "2022-02-07 01:21:32 PM: ['NORDH.OL', 'NO0011002651']: SI✓,F✓,E✓,BS✓,CF✓\n",
      "2022-02-07 01:21:42 PM: ['NOHAL.OL', 'NO0003058109']: SI✓,F✓,E✓,BS✓,CF✓\n",
      "2022-02-07 01:21:47 PM: ['NOAP.OL', 'DK0061414638']: SI✓,F✓,E✓,BS✓,CF✓\n",
      "2022-02-07 01:21:51 PM: ['NOM.OL', 'NO0010317340']: SI✓,F✓,E✓,BS✓,CF✓\n",
      "2022-02-07 01:22:05 PM: ['NOD.OL', 'NO0003055501']: SI✓,F✓,E✓,BS✓,CF✓\n",
      "2022-02-07 01:22:14 PM: ['NANOV.OL', 'NO0010597883']: SI✓,F✓,E✓,BS✓,CF✓\n",
      "2022-02-07 01:22:19 PM: ['NORSE.OL', 'NO0010946445']: SI✓,F✗,E✗,BS✗,CF✗\n",
      "2022-02-07 01:22:20 PM: ['NUMND.OL', 'NO0010907090']: SI✓,F✓,E✗,BS✓,CF✓\n",
      "2022-02-07 01:22:25 PM: ['NHY.OL', 'NO0005052605']: SI✓,F✓,E✓,BS✓,CF✓\n",
      "2022-02-07 01:22:41 PM: ['NSOL.OL', 'NO0010941925']: SI✓,F✓,E✓,BS✓,CF✓\n",
      "2022-02-07 01:22:42 PM: ['NTI.OL', 'NO0010969108']: SI✓,F✓,E✓,BS✓,CF✓\n",
      "2022-02-07 01:22:50 PM: ['NSKOG.OL', 'NO0010861115']: SI✓,F✓,E✓,BS✓,CF✓\n",
      "2022-02-07 01:22:51 PM: ['NTEL.OL', 'NO0010900087']: SI✓,F✓,E✗,BS✓,CF✓\n",
      "2022-02-07 01:23:02 PM: ['NORTH.OL', 'NO0010550056']: SI✓,F✓,E✓,BS✓,CF✓\n",
      "2022-02-07 01:23:14 PM: ['NOL.OL', 'BMG6682J1036']: SI✓,F✓,E✓,BS✓,CF✓\n",
      "2022-02-07 01:23:15 PM: ['NODL.OL', 'BMG6624L1090']: SI✓,F✓,E✓,BS✓,CF✓\n",
      "2022-02-07 01:23:27 PM: ['NRS.OL', 'NO0010331838']: SI✓,F✓,E✓,BS✓,CF✓\n",
      "2022-02-07 01:23:27 PM: ['NAS.OL', 'NO0010196140']: SI✓,F✓,E✓,BS✓,CF✓\n",
      "2022-02-07 01:23:33 PM: ['NBX.OL', 'NO0010984966']: SI✓,F✗,E✗,BS✗,CF✗\n",
      "2022-02-07 01:23:50 PM: ['NOR.OL', 'NO0010379266']: SI✓,F✓,E✓,BS✓,CF✓\n",
      "2022-02-07 01:23:53 PM: ['NOS.LS', 'PTZON0AM0006']: SI✓,F✓,E✓,BS✓,CF✓\n",
      "2022-02-07 01:24:05 PM: ['NBA.LS', 'PTNBA0AM0006']: SI✓,F✓,E✓,BS✓,CF✓\n",
      "2022-02-07 01:24:06 PM: ['ALNOV.PA', 'FR0010397232']: SI✓,F✓,E✓,BS✓,CF✓\n",
      "2022-02-07 01:24:09 PM: ['MLNOV.PA', 'FR0000185464']: SI✓,F✓,E✓,BS✓,CF✓\n",
      "2022-02-07 01:24:27 PM: ['NR21.PA', 'FR0014001PV6']: SI✓,F✗,E✗,BS✗,CF✗\n",
      "2022-02-07 01:24:30 PM: ['ALNOX.PA', 'NL0012044762']: SI✓,F✓,E✓,BS✓,CF✓\n",
      "2022-02-07 01:24:45 PM: ['NRC.OL', 'NO0003679102']: SI✓,F✓,E✓,BS✓,CF✓\n",
      "2022-02-07 01:24:47 PM: ['ALNSC.PA', 'FR0000064529']: SI✓,F✓,E✓,BS✓,CF✓\n",
      "2022-02-07 01:24:50 PM: ['NRG.PA', 'FR0000121691']: SI✓,F✓,E✓,BS✓,CF✓\n",
      "2022-02-07 01:25:03 PM: ['ALNSE.PA', 'FR0004065639']: SI✓,F✓,E✓,BS✓,CF✓\n",
      "2022-02-07 01:25:09 PM: ['NSI.AS', 'NL0012365084']: SI✓,F✓,E✓,BS✓,CF✓\n",
      "2022-02-07 01:25:23 PM: ['NXFIL.AS', 'NL0015000D50']: SI✓,F✓,E✓,BS✓,CF✓\n",
      "2022-02-07 01:25:25 PM: ['NYKD.OL', 'NO0010714785']: SI✓,F✓,E✓,BS✓,CF✓\n",
      "2022-02-07 01:25:25 PM: ['NTS.OL', 'NO0004895103']: SI✓,F✓,E✓,BS✓,CF✓\n",
      "2022-02-07 01:25:42 PM: ['NYR.BR', 'BE0974294267']: SI✓,F✓,E✓,BS✓,CF✓\n",
      "2022-02-07 01:25:44 PM: ['NYXH.BR', 'BE0974358906']: SI✓,F✓,E✓,BS✓,CF✓\n",
      "2022-02-07 01:25:55 PM: ['MLOSA.PA', 'FR0013072741']: SI✓,F✓,E✗,BS✓,CF✓\n",
      "2022-02-07 01:26:00 PM: ['ALBIZ.PA', 'FR0014003711']: SI✓,F✓,E✓,BS✓,CF✓\n",
      "2022-02-07 01:26:05 PM: ['ALOBR.PA', 'FR0010330613']: SI✓,F✓,E✓,BS✓,CF✓\n",
      "2022-02-07 01:26:17 PM: ['OCPET.BR', 'US6745991058']: SI✓,F✓,E✗,BS✓,CF✓\n",
      "2022-02-07 01:26:22 PM: ['OBSRV.OL', 'NO0010865009']: SI✓,F✓,E✗,BS✓,CF✓\n",
      "2022-02-07 01:26:31 PM: ['OSUN.OL', 'NO0010887565']: SI✓,F✓,E✓,BS✓,CF✓\n",
      "2022-02-07 01:26:42 PM: ['OCI.AS', 'NL0010558797']: SI✓,F✓,E✓,BS✓,CF✓\n",
      "2022-02-07 01:26:44 PM: ['OTS.OL', 'NO0010317316']: SI✓,F✗,E✗,BS✗,CF✗\n",
      "2022-02-07 01:26:51 PM: ['MLOCT.PA', 'FR0013310281']: SI✓,F✓,E✗,BS✓,CF✓\n",
      "2022-02-07 01:26:56 PM: ['ODL.OL', 'BMG671801022']: SI✓,F✓,E✓,BS✓,CF✓\n",
      "2022-02-07 01:27:06 PM: ['ODF.OL', 'NO0003399909']: SI✓,F✓,E✓,BS✓,CF✓\n",
      "2022-02-07 01:27:14 PM: ['ODYSY.AS', 'LU2355630455']: SI✓,F✗,E✗,BS✗,CF✗\n",
      "2022-02-07 01:27:19 PM: ['ODFB.OL', 'NO0003399917']: SI✓,F✓,E✗,BS✓,CF✓\n",
      "2022-02-07 01:27:20 PM: ['ODYSW.AS', 'LU2355630968']: SI✗,F✗,E✗,BS✗,CF✗\n",
      "2022-02-07 01:27:30 PM: ['SBT.PA', 'FR0000052680']: SI✓,F✓,E✓,BS✓,CF✓\n",
      "2022-02-07 01:27:43 PM: ['OKEA.OL', 'NO0010816895']: SI✓,F✓,E✓,BS✓,CF✓\n",
      "2022-02-07 01:27:55 PM: ['OET.OL', 'MHY641771016']: SI✓,F✓,E✓,BS✓,CF✓\n",
      "2022-02-07 01:27:56 PM: ['OLG.PA', 'FR0010428771']: SI✓,F✓,E✓,BS✓,CF✓\n",
      "2022-02-07 01:28:02 PM: ['OLT.OL', 'NO0005638858']: SI✓,F✓,E✓,BS✓,CF✓\n",
      "2022-02-07 01:28:06 PM: ['MLORE.LS', 'PTOTP0AM0004']: SI✓,F✓,E✗,BS✓,CF✓\n",
      "2022-02-07 01:28:16 PM: ['ALODC.PA', 'FR0014003T71']: SI✓,F✓,E✓,BS✓,CF✓\n",
      "2022-02-07 01:28:31 PM: ['MLOEX.PA', 'FR0013266772']: SI✓,F✓,E✗,BS✓,CF✓\n",
      "2022-02-07 01:28:32 PM: ['ALONC.PA', 'FR0011766229']: SI✓,F✓,E✓,BS✓,CF✓\n",
      "2022-02-07 01:28:36 PM: ['MLONL.PA', 'FR0004174712']: SI✓,F✓,E✗,BS✓,CF✓\n",
      "2022-02-07 01:28:45 PM: ['ONTEX.BR', 'BE0974276082']: SI✓,F✓,E✓,BS✓,CF✓\n",
      "2022-02-07 01:28:52 PM: ['ONWD.BR', 'NL0015000HT4']: SI✓,F✓,E✓,BS✓,CF✓\n",
      "2022-02-07 01:29:10 PM: ['ORPH.IR', 'GB00B9275X97']: SI✓,F✓,E✗,BS✓,CF✓\n",
      "2022-02-07 01:29:11 PM: ['ALONX.PA', 'FR0010095596']: SI✓,F✓,E✓,BS✓,CF✓\n",
      "2022-02-07 01:29:18 PM: ['ORA.PA', 'FR0000133308']: SI✓,F✓,E✓,BS✓,CF✓\n",
      "2022-02-07 01:29:23 PM: ['OBEL.BR', 'BE0003735496']: SI✓,F✓,E✓,BS✓,CF✓\n",
      "2022-02-07 01:29:26 PM: ['ORANW.AS', 'NL0000370419']: SI✓,F✓,E✗,BS✓,CF✓\n"
     ]
    },
    {
     "name": "stdout",
     "output_type": "stream",
     "text": [
      "- ORAPB.PA: No data found for this date range, symbol may be delisted\n"
     ]
    },
    {
     "name": "stderr",
     "output_type": "stream",
     "text": [
      "2022-02-07 01:29:38 PM: ['ORAPB.PA', 'FR0013522216']: SI✗,F✗,E✗,BS✗,CF✗\n",
      "2022-02-07 01:29:46 PM: ['MLORB.PA', 'ES0105490009']: SI✗,F✓,E✗,BS✓,CF✓\n",
      "2022-02-07 01:29:47 PM: ['ORAP.PA', 'FR0000075392']: SI✓,F✓,E✓,BS✓,CF✓\n",
      "2022-02-07 01:30:04 PM: ['ORDI.AS', 'NL0000440584']: SI✓,F✓,E✓,BS✓,CF✓\n",
      "2022-02-07 01:30:08 PM: ['ALORD.PA', 'FR0013318052']: SI✓,F✓,E✓,BS✓,CF✓\n",
      "2022-02-07 01:30:12 PM: ['OREGE.PA', 'FR0010609206']: SI✓,F✓,E✓,BS✓,CF✓\n",
      "2022-02-07 01:30:20 PM: ['OIZ.IR', 'IE00B1WV4493']: SI✓,F✗,E✗,BS✗,CF✗\n",
      "2022-02-07 01:30:24 PM: ['ORE.LS', 'PTORE0AM0002']: SI✓,F✓,E✓,BS✓,CF✓\n",
      "2022-02-07 01:30:37 PM: ['MLORQ.PA', 'ES0105534004']: SI✓,F✗,E✗,BS✗,CF✗\n",
      "2022-02-07 01:30:43 PM: ['ORK.OL', 'NO0003733800']: SI✓,F✓,E✓,BS✓,CF✓\n",
      "2022-02-07 01:30:47 PM: ['ORQ1.IR', 'IE00BF0MZF04']: SI✓,F✓,E✓,BS✓,CF✓\n",
      "2022-02-07 01:30:59 PM: ['ORP.PA', 'FR0000184798']: SI✓,F✓,E✓,BS✓,CF✓\n",
      "2022-02-07 01:31:04 PM: ['OSE.PA', 'FR0012127173']: SI✓,F✓,E✓,BS✓,CF✓\n",
      "2022-02-07 01:31:15 PM: ['ALOSM.PA', 'FR0013231180']: SI✓,F✓,E✓,BS✓,CF✓\n",
      "2022-02-07 01:31:21 PM: ['OTEC.OL', 'NO0010040611']: SI✓,F✓,E✓,BS✓,CF✓\n",
      "2022-02-07 01:31:27 PM: ['OTOVO.OL', 'NO0010809783']: SI✓,F✓,E✓,BS✓,CF✓\n",
      "2022-02-07 01:31:37 PM: ['OVH.PA', 'FR0014005HJ9']: SI✓,F✓,E✓,BS✓,CF✓\n",
      "2022-02-07 01:31:40 PM: ['OVXA.IR', 'IE00B4XVDC01']: SI✓,F✓,E✗,BS✓,CF✓\n",
      "2022-02-07 01:31:52 PM: ['OXUR.BR', 'BE0003846632']: SI✓,F✓,E✓,BS✓,CF✓\n",
      "2022-02-07 01:31:54 PM: ['MLPAC.PA', 'FR0000077992']: SI✓,F✓,E✗,BS✓,CF✓\n",
      "2022-02-07 01:32:08 PM: ['PEN.OL', 'NO0010564701']: SI✓,F✓,E✓,BS✓,CF✓\n",
      "2022-02-07 01:32:13 PM: ['PID.PA', 'FR0013318813']: SI✓,F✓,E✓,BS✓,CF✓\n",
      "2022-02-07 01:32:19 PM: ['PAR.PA', 'FR0010263202']: SI✓,F✓,E✓,BS✓,CF✓\n",
      "2022-02-07 01:32:26 PM: ['PARRO.PA', 'FR0004038263']: SI✓,F✓,E✓,BS✓,CF✓\n",
      "2022-02-07 01:32:31 PM: ['PARB.OL', 'NO0010397581']: SI✓,F✓,E✓,BS✓,CF✓\n",
      "2022-02-07 01:32:39 PM: ['PABSA.PA', 'FR0013054269']: SI✗,F✗,E✗,BS✗,CF✗\n",
      "2022-02-07 01:32:40 PM: ['PABSB.PA', 'FR0013054335']: SI✗,F✗,E✗,BS✗,CF✗\n",
      "2022-02-07 01:32:49 PM: ['MLHOP.PA', 'FR0006823092']: SI✓,F✓,E✗,BS✓,CF✓\n",
      "2022-02-07 01:32:57 PM: ['MLPRX.PA', 'NL0012650535']: SI✓,F✓,E✗,BS✓,CF✓\n",
      "2022-02-07 01:33:10 PM: ['PSKY.OL', 'NO0010895667']: SI✓,F✓,E✓,BS✓,CF✓\n",
      "2022-02-07 01:33:11 PM: ['PSAT.PA', 'FR0000038465']: SI✓,F✓,E✓,BS✓,CF✓\n",
      "2022-02-07 01:33:16 PM: ['PAT.PA', 'FR0011027135']: SI✓,F✓,E✓,BS✓,CF✓\n"
     ]
    },
    {
     "name": "stdout",
     "output_type": "stream",
     "text": [
      "- ALPTR.LS: No data found, symbol may be delisted\n"
     ]
    },
    {
     "name": "stderr",
     "output_type": "stream",
     "text": [
      "2022-02-07 01:33:31 PM: ['ALPTR.LS', 'PTPRS0AM0017']: SI✗,F✗,E✗,BS✗,CF✗\n",
      "2022-02-07 01:33:37 PM: ['ALPAU.PA', 'FR0013479730']: SI✓,F✓,E✗,BS✓,CF✓\n",
      "2022-02-07 01:33:43 PM: ['PAY.BR', 'IL0010830391']: SI✓,F✓,E✗,BS✓,CF✓\n",
      "2022-02-07 01:33:43 PM: ['PCA.PA', 'FR0000053514']: SI✓,F✗,E✗,BS✗,CF✗\n",
      "2022-02-07 01:33:50 PM: ['PCIB.OL', 'NO0010405640']: SI✓,F✓,E✓,BS✓,CF✓\n",
      "2022-02-07 01:34:02 PM: ['PEACE.AS', 'NL0015000H31']: SI✓,F✗,E✗,BS✗,CF✗\n",
      "2022-02-07 01:34:13 PM: ['PACEW.AS', 'NL00150009B4']: SI✗,F✗,E✗,BS✗,CF✗\n",
      "2022-02-07 01:34:13 PM: ['PACEU.AS', 'NL00150009E8']: SI✓,F✗,E✗,BS✗,CF✗\n",
      "2022-02-07 01:34:15 PM: ['PACE.AS', 'NL00150009D0']: SI✓,F✓,E✗,BS✓,CF✓\n"
     ]
    },
    {
     "name": "stdout",
     "output_type": "stream",
     "text": [
      "- PEP.BR: No data found, symbol may be delisted\n"
     ]
    },
    {
     "name": "stderr",
     "output_type": "stream",
     "text": [
      "2022-02-07 01:34:26 PM: ['PEP.BR', 'US7134481081']: SI✗,F✗,E✗,BS✗,CF✗\n",
      "2022-02-07 01:34:41 PM: ['IL0A.IR', 'IE00BWB8X525']: SI✓,F✓,E✓,BS✓,CF✓\n",
      "2022-02-07 01:34:47 PM: ['PERR.PA', 'FR0000061459']: SI✓,F✓,E✓,BS✓,CF✓\n",
      "2022-02-07 01:34:50 PM: ['RI.PA', 'FR0000120693']: SI✓,F✓,E✓,BS✓,CF✓\n"
     ]
    },
    {
     "name": "stdout",
     "output_type": "stream",
     "text": [
      "- MLPER.PA: No data found, symbol may be delisted\n"
     ]
    },
    {
     "name": "stderr",
     "output_type": "stream",
     "text": [
      "2022-02-07 01:34:56 PM: ['MLPER.PA', 'ES0105612008']: SI✗,F✗,E✗,BS✗,CF✗\n",
      "2022-02-07 01:35:01 PM: ['PSH.AS', 'GG00BPFJTF46']: SI✓,F✓,E✓,BS✓,CF✓\n",
      "2022-02-07 01:35:20 PM: ['P8ET.IR', 'IE00B0Q82B24']: SI✓,F✓,E✗,BS✓,CF✓\n",
      "2022-02-07 01:35:24 PM: ['PSE.OL', 'CY0102630916']: SI✓,F✓,E✓,BS✓,CF✓\n",
      "2022-02-07 01:35:25 PM: ['PNOR.OL', 'AU0000057408']: SI✓,F✓,E✓,BS✓,CF✓\n",
      "2022-02-07 01:35:31 PM: ['PEUG.PA', 'FR0000064784']: SI✓,F✓,E✓,BS✓,CF✓\n",
      "2022-02-07 01:35:34 PM: ['PEXIP.OL', 'NO0010840507']: SI✓,F✓,E✓,BS✓,CF✓\n",
      "2022-02-07 01:35:59 PM: ['PGS.OL', 'NO0010199151']: SI✓,F✓,E✓,BS✓,CF✓\n",
      "2022-02-07 01:36:02 PM: ['ALPHS.PA', 'BE0974302342']: SI✓,F✓,E✓,BS✓,CF✓\n",
      "2022-02-07 01:36:04 PM: ['PHA.PA', 'FR0012882389']: SI✓,F✓,E✓,BS✓,CF✓\n",
      "2022-02-07 01:36:07 PM: ['PHARM.AS', 'NL0010391025']: SI✓,F✓,E✓,BS✓,CF✓\n",
      "2022-02-07 01:36:13 PM: ['ALPHA.PA', 'FR0011191287']: SI✓,F✓,E✓,BS✓,CF✓\n",
      "2022-02-07 01:36:33 PM: ['ALPHE.PA', 'FR0011651694']: SI✓,F✗,E✗,BS✗,CF✗\n",
      "2022-02-07 01:36:36 PM: ['INPHI.AS', 'NL0000009322']: SI✗,F✓,E✗,BS✓,CF✓\n",
      "2022-02-07 01:36:37 PM: ['PHR.LS', 'PTPTC0AM0009']: SI✓,F✓,E✓,BS✓,CF✓\n",
      "2022-02-07 01:36:45 PM: ['PHLY.OL', 'NO0010395577']: SI✓,F✓,E✓,BS✓,CF✓\n",
      "2022-02-07 01:36:46 PM: ['PHIA.AS', 'NL0000009538']: SI✓,F✓,E✓,BS✓,CF✓\n",
      "2022-02-07 01:37:07 PM: ['MLPHW.PA', 'FR0000185480']: SI✓,F✓,E✗,BS✓,CF✓\n",
      "2022-02-07 01:37:08 PM: ['MLPHO.PA', 'BE0948608451']: SI✓,F✗,E✗,BS✗,CF✗\n",
      "2022-02-07 01:37:13 PM: ['PHO.OL', 'NO0010000045']: SI✓,F✓,E✓,BS✓,CF✓\n",
      "2022-02-07 01:37:18 PM: ['PIC.BR', 'BE0003807246']: SI✓,F✓,E✓,BS✓,CF✓\n",
      "2022-02-07 01:37:24 PM: ['VAC.PA', 'FR0000073041']: SI✓,F✓,E✓,BS✓,CF✓\n",
      "2022-02-07 01:37:36 PM: ['PPG.OL', 'NO0010735681']: SI✓,F✓,E✗,BS✓,CF✓\n",
      "2022-02-07 01:37:43 PM: ['ALPDX.PA', 'FR0000061608']: SI✓,F✓,E✗,BS✓,CF✓\n",
      "2022-02-07 01:37:44 PM: ['ALPIX.PA', 'FR0011950641']: SI✓,F✓,E✓,BS✓,CF✓\n",
      "2022-02-07 01:37:53 PM: ['MLPLC.PA', 'FR0000030769']: SI✓,F✓,E✗,BS✗,CF✓\n",
      "2022-02-07 01:37:59 PM: ['ALPLA.PA', 'FR0010211037']: SI✓,F✓,E✓,BS✓,CF✓\n",
      "2022-02-07 01:38:11 PM: ['ALPAT.PA', 'FR0010785790']: SI✓,F✓,E✓,BS✓,CF✓\n",
      "2022-02-07 01:38:24 PM: ['PVL.PA', 'FR0013252186']: SI✓,F✓,E✓,BS✓,CF✓\n"
     ]
    },
    {
     "name": "stdout",
     "output_type": "stream",
     "text": [
      "- PATBS.PA: No data found, symbol may be delisted\n"
     ]
    },
    {
     "name": "stderr",
     "output_type": "stream",
     "text": [
      "2022-02-07 01:38:31 PM: ['PATBS.PA', 'FR0011844067']: SI✗,F✗,E✗,BS✗,CF✗\n",
      "2022-02-07 01:38:36 PM: ['POM.PA', 'FR0000124570']: SI✓,F✓,E✓,BS✓,CF✓\n",
      "2022-02-07 01:38:37 PM: ['PMG.OL', 'NO0010890726']: SI✓,F✓,E✗,BS✓,CF✓\n",
      "2022-02-07 01:38:46 PM: ['POL.OL', 'NO0010466022']: SI✓,F✓,E✓,BS✓,CF✓\n",
      "2022-02-07 01:39:06 PM: ['PLT.OL', 'NO0010341712']: SI✓,F✓,E✓,BS✓,CF✓\n",
      "2022-02-07 01:39:06 PM: ['PORF.AS', 'NL0000378669']: SI✓,F✓,E✓,BS✓,CF✓\n",
      "2022-02-07 01:39:16 PM: ['ALPJT.PA', 'FR0000066441']: SI✓,F✓,E✓,BS✓,CF✓\n",
      "2022-02-07 01:39:18 PM: ['ALPOU.PA', 'FR0013015583']: SI✓,F✓,E✓,BS✓,CF✓\n",
      "2022-02-07 01:39:23 PM: ['PNL.AS', 'NL0009739416']: SI✓,F✓,E✓,BS✓,CF✓\n",
      "2022-02-07 01:39:41 PM: ['PPLAA.AS', 'BMG7209L1000']: SI✗,F✓,E✗,BS✓,CF✓\n",
      "2022-02-07 01:39:42 PM: ['POXEL.PA', 'FR0012432516']: SI✓,F✓,E✓,BS✓,CF✓\n",
      "2022-02-07 01:39:47 PM: ['PPLAB.AS', 'BMG7209L1182']: SI✗,F✓,E✗,BS✓,CF✓\n",
      "2022-02-07 01:39:58 PM: ['PPLA.AS', 'US69355L1098']: SI✗,F✓,E✗,BS✓,CF✓\n",
      "2022-02-07 01:39:59 PM: ['PREC.PA', 'FR0014004EC4']: SI✓,F✓,E✓,BS✓,CF✓\n",
      "2022-02-07 01:40:17 PM: ['ALPRE.PA', 'FR0010169920']: SI✓,F✓,E✗,BS✓,CF✓\n",
      "2022-02-07 01:40:18 PM: ['ALPRI.PA', 'FR0004044600']: SI✓,F✓,E✓,BS✓,CF✓\n",
      "2022-02-07 01:40:34 PM: ['ALPRO.PA', 'FR0010313486']: SI✓,F✓,E✓,BS✓,CF✓\n",
      "2022-02-07 01:40:38 PM: ['PROAC.PA', 'FR0004052561']: SI✓,F✓,E✓,BS✓,CF✓\n",
      "2022-02-07 01:40:42 PM: ['PWG.PA', 'FR0012613610']: SI✓,F✓,E✓,BS✓,CF✓\n",
      "2022-02-07 01:40:54 PM: ['PROBT.PA', 'FR0013398617']: SI✗,F✗,E✗,BS✗,CF✗\n",
      "2022-02-07 01:40:55 PM: ['PROL.PA', 'FR0010380626']: SI✓,F✓,E✓,BS✓,CF✓\n"
     ]
    },
    {
     "name": "stdout",
     "output_type": "stream",
     "text": [
      "- PROBS.PA: No data found for this date range, symbol may be delisted\n"
     ]
    },
    {
     "name": "stderr",
     "output_type": "stream",
     "text": [
      "2022-02-07 01:41:06 PM: ['PROBS.PA', 'FR0013268042']: SI✗,F✗,E✗,BS✗,CF✗\n",
      "2022-02-07 01:41:12 PM: ['MLPRI.PA', 'FR0000061376']: SI✓,F✓,E✗,BS✓,CF✓\n",
      "2022-02-07 01:41:21 PM: ['PRS.OL', 'NO0010861990']: SI✓,F✓,E✓,BS✓,CF✓\n"
     ]
    },
    {
     "name": "stdout",
     "output_type": "stream",
     "text": [
      "- PSMP.BR: No data found for this date range, symbol may be delisted\n"
     ]
    },
    {
     "name": "stderr",
     "output_type": "stream",
     "text": [
      "2022-02-07 01:41:31 PM: ['PSMP.BR', 'DE000PSM7770']: SI✓,F✓,E✗,BS✓,CF✓\n",
      "2022-02-07 01:41:34 PM: ['PRX.AS', 'NL0013654783']: SI✓,F✓,E✓,BS✓,CF✓\n"
     ]
    },
    {
     "name": "stdout",
     "output_type": "stream",
     "text": [
      "- MLPRO.PA: No data found, symbol may be delisted\n"
     ]
    },
    {
     "name": "stderr",
     "output_type": "stream",
     "text": [
      "2022-02-07 01:41:46 PM: ['MLPRO.PA', 'CA74375L1058']: SI✗,F✗,E✗,BS✗,CF✗\n",
      "2022-02-07 01:41:47 PM: ['PROT.OL', 'NO0010209331']: SI✓,F✓,E✓,BS✓,CF✓\n",
      "2022-02-07 01:42:09 PM: ['PZQA.IR', 'IE00B66B5T26']: SI✓,F✓,E✓,BS✓,CF✓\n",
      "2022-02-07 01:42:12 PM: ['PROX.BR', 'BE0003810273']: SI✓,F✓,E✓,BS✓,CF✓\n",
      "2022-02-07 01:42:13 PM: ['PROXI.OL', 'NO0010893902']: SI✓,F✗,E✗,BS✗,CF✗\n",
      "2022-02-07 01:42:21 PM: ['PRYME.OL', 'NL00150005Z1']: SI✓,F✓,E✓,BS✓,CF✓\n",
      "2022-02-07 01:42:25 PM: ['PUBBS.PA', 'FR0000312928']: SI✗,F✗,E✗,BS✗,CF✗\n",
      "2022-02-07 01:42:42 PM: ['PYRUM.OL', 'DE000A2G8ZX8']: SI✓,F✗,E✗,BS✗,CF✗\n",
      "2022-02-07 01:42:44 PM: ['PUB.PA', 'FR0000130577']: SI✓,F✓,E✓,BS✓,CF✓\n",
      "2022-02-07 01:42:48 PM: ['QFR.OL', 'NO0003103103']: SI✓,F✓,E✓,BS✓,CF✓\n",
      "2022-02-07 01:42:58 PM: ['QRF.BR', 'BE0974272040']: SI✓,F✓,E✓,BS✓,CF✓\n",
      "2022-02-07 01:43:02 PM: ['QDT.PA', 'FR0000120560']: SI✓,F✓,E✓,BS✓,CF✓\n",
      "2022-02-07 01:43:18 PM: ['ALQP.PA', 'ES0105118006']: SI✓,F✓,E✓,BS✓,CF✓\n",
      "2022-02-07 01:43:19 PM: ['QFUEL.OL', 'NO0010785967']: SI✓,F✓,E✓,BS✓,CF✓\n",
      "2022-02-07 01:43:25 PM: ['ALQGC.PA', 'FR0011648971']: SI✓,F✓,E✓,BS✓,CF✓\n",
      "2022-02-07 01:43:29 PM: ['QUEST.OL', 'NO0011019119']: SI✓,F✗,E✗,BS✗,CF✗\n",
      "2022-02-07 01:43:38 PM: ['QEC.OL', 'CA74836K1003']: SI✓,F✓,E✓,BS✓,CF✓\n",
      "2022-02-07 01:43:52 PM: ['QFG.BR', 'BE0003730448']: SI✓,F✓,E✓,BS✓,CF✓\n",
      "2022-02-07 01:43:55 PM: ['QWABS.PA', 'FR0013472677']: SI✗,F✗,E✗,BS✗,CF✗\n",
      "2022-02-07 01:43:56 PM: ['ALQWA.PA', 'FR0010889386']: SI✓,F✓,E✓,BS✓,CF✓\n",
      "2022-02-07 01:44:01 PM: ['R8P.OL', 'NO0010859689']: SI✓,F✓,E✓,BS✓,CF✓\n",
      "2022-02-07 01:44:12 PM: ['MLRZE.LS', 'PTRIZ0AM0009']: SI✓,F✓,E✗,BS✓,CF✓\n",
      "2022-02-07 01:44:27 PM: ['RAKP.OL', 'GB00BRGBL804']: SI✓,F✓,E✗,BS✓,CF✓\n",
      "2022-02-07 01:44:36 PM: ['RAL.PA', 'FR0000060618']: SI✓,F✓,E✓,BS✓,CF✓\n",
      "2022-02-07 01:44:38 PM: ['RAM.LS', 'PTFRV0AE0004']: SI✓,F✓,E✓,BS✓,CF✓\n",
      "2022-02-07 01:44:40 PM: ['GDS.PA', 'FR0000044471']: SI✓,F✓,E✓,BS✓,CF✓\n",
      "2022-02-07 01:44:53 PM: ['RANA.OL', 'NO0010907389']: SI✓,F✓,E✓,BS✓,CF✓\n",
      "2022-02-07 01:45:07 PM: ['RAND.AS', 'NL0000379121']: SI✓,F✓,E✓,BS✓,CF✓\n",
      "2022-02-07 01:45:11 PM: ['ALRPD.PA', 'GB00BLG2TX24']: SI✓,F✓,E✗,BS✓,CF✓\n",
      "2022-02-07 01:45:12 PM: ['ML350.PA', 'FR0012395457']: SI✓,F✓,E✗,BS✓,CF✓\n",
      "2022-02-07 01:45:17 PM: ['REACH.OL', 'NO0003117202']: SI✓,F✓,E✓,BS✓,CF✓\n",
      "2022-02-07 01:45:25 PM: ['REAL.BR', 'BE0003841583']: SI✓,F✓,E✗,BS✓,CF✓\n",
      "2022-02-07 01:45:48 PM: ['ALREA.PA', 'FR0011858190']: SI✓,F✓,E✓,BS✓,CF✓\n",
      "2022-02-07 01:45:50 PM: ['RECSI.OL', 'NO0010112675']: SI✓,F✓,E✓,BS✓,CF✓\n",
      "2022-02-07 01:45:54 PM: ['REC.BR', 'BE0003656676']: SI✓,F✓,E✓,BS✓,CF✓\n",
      "2022-02-07 01:45:54 PM: ['RX.PA', 'FR0000120388']: SI✓,F✓,E✓,BS✓,CF✓\n",
      "2022-02-07 01:46:00 PM: ['RED.LS', 'PTRED0AP0010']: SI✓,F✓,E✓,BS✓,CF✓\n"
     ]
    },
    {
     "name": "stdout",
     "output_type": "stream",
     "text": [
      "- REI.BR: No data found, symbol may be delisted\n"
     ]
    },
    {
     "name": "stderr",
     "output_type": "stream",
     "text": [
      "2022-02-07 01:46:22 PM: ['REI.BR', 'BE0003829463']: SI✗,F✗,E✗,BS✗,CF✗\n",
      "2022-02-07 01:46:25 PM: ['REINA.AS', 'LU0383812293']: SI✓,F✓,E✗,BS✓,CF✓\n",
      "2022-02-07 01:46:34 PM: ['RCO.PA', 'FR0000130395']: SI✓,F✓,E✓,BS✓,CF✓\n",
      "2022-02-07 01:46:37 PM: ['REN.AS', 'GB00B2B0DG97']: SI✓,F✓,E✓,BS✓,CF✓\n",
      "2022-02-07 01:46:38 PM: ['RENE.LS', 'PTREL0AM0008']: SI✓,F✓,E✓,BS✓,CF✓\n",
      "2022-02-07 01:47:00 PM: ['RNO.PA', 'FR0000131906']: SI✓,F✓,E✓,BS✓,CF✓\n",
      "2022-02-07 01:47:01 PM: ['RWI.AS', 'GB00BNR4T868']: SI✓,F✓,E✗,BS✓,CF✓\n"
     ]
    },
    {
     "name": "stdout",
     "output_type": "stream",
     "text": [
      "- MLJDL.PA: No data found, symbol may be delisted\n"
     ]
    },
    {
     "name": "stderr",
     "output_type": "stream",
     "text": [
      "2022-02-07 01:47:11 PM: ['MLJDL.PA', 'ES0105550000']: SI✗,F✗,E✗,BS✗,CF✗\n",
      "2022-02-07 01:47:12 PM: ['RES.BR', 'BE0003707214']: SI✓,F✓,E✓,BS✓,CF✓\n",
      "2022-02-07 01:47:15 PM: ['RET.BR', 'BE0003720340']: SI✓,F✓,E✓,BS✓,CF✓\n",
      "2022-02-07 01:47:29 PM: ['MLREX.PA', 'FR0000077232']: SI✗,F✗,E✗,BS✗,CF✗\n",
      "2022-02-07 01:47:37 PM: ['ALREW.PA', 'FR0010820274']: SI✓,F✓,E✓,BS✓,CF✓\n",
      "2022-02-07 01:47:46 PM: ['RXL.PA', 'FR0010451203']: SI✓,F✓,E✓,BS✓,CF✓\n",
      "2022-02-07 01:47:48 PM: ['RIVER.OL', 'MT0001710103']: SI✓,F✓,E✗,BS✓,CF✓\n",
      "2022-02-07 01:47:49 PM: ['ALRIB.PA', 'FR0000075954']: SI✓,F✓,E✓,BS✓,CF✓\n",
      "2022-02-07 01:48:06 PM: ['RBT.PA', 'FR0000039091']: SI✓,F✓,E✓,BS✓,CF✓\n",
      "2022-02-07 01:48:09 PM: ['CBR.PA', 'FR0000045619']: SI✗,F✓,E✗,BS✓,CF✓\n",
      "2022-02-07 01:48:21 PM: ['CBE.PA', 'FR0000045601']: SI✓,F✓,E✗,BS✓,CF✓\n",
      "2022-02-07 01:48:28 PM: ['RBO.PA', 'FR0013344173']: SI✓,F✓,E✓,BS✓,CF✓\n",
      "2022-02-07 01:48:29 PM: ['ALROC.PA', 'FR0010523167']: SI✓,F✓,E✓,BS✓,CF✓\n",
      "2022-02-07 01:48:34 PM: ['ROCBT.PA', 'FR0013477593']: SI✗,F✗,E✗,BS✗,CF✗\n"
     ]
    },
    {
     "name": "stdout",
     "output_type": "stream",
     "text": [
      "- ROMER.OL: No data found for this date range, symbol may be delisted\n"
     ]
    },
    {
     "name": "stderr",
     "output_type": "stream",
     "text": [
      "2022-02-07 01:48:43 PM: ['ROMER.OL', 'NO0010808405']: SI✓,F✓,E✗,BS✓,CF✓\n",
      "2022-02-07 01:48:59 PM: ['ROMSB.OL', 'NO0010759988']: SI✓,F✓,E✗,BS✓,CF✓\n",
      "2022-02-07 01:48:59 PM: ['ROM.OL', 'BMG763301022']: SI✓,F✓,E✓,BS✓,CF✓\n",
      "2022-02-07 01:49:05 PM: ['ROOD.AS', 'NL0000440477']: SI✓,F✓,E✓,BS✓,CF✓\n",
      "2022-02-07 01:49:10 PM: ['ENGB.BR', 'BE0003575835']: SI✓,F✓,E✗,BS✓,CF✓\n",
      "2022-02-07 01:49:16 PM: ['ROTH.PA', 'FR0000031684']: SI✓,F✓,E✓,BS✓,CF✓\n",
      "2022-02-07 01:49:30 PM: ['ALRGR.PA', 'FR0000037640']: SI✗,F✗,E✗,BS✗,CF✗\n",
      "2022-02-07 01:49:36 PM: ['ROU.BR', 'BE0003741551']: SI✓,F✓,E✓,BS✓,CF✓\n",
      "2022-02-07 01:49:36 PM: ['MLROU.PA', 'FR0000035750']: SI✓,F✓,E✓,BS✓,CF✓\n",
      "2022-02-07 01:49:46 PM: ['RDSA.AS', 'GB00B03MLX29']: SI✓,F✓,E✓,BS✓,CF✓\n",
      "2022-02-07 01:49:56 PM: ['RDSB.AS', 'GB00B03MM408']: SI✓,F✓,E✓,BS✓,CF✓\n",
      "2022-02-07 01:50:03 PM: ['MLRSR.LS', 'ES0105505004']: SI✗,F✗,E✗,BS✗,CF✗\n",
      "2022-02-07 01:50:14 PM: ['RYA.IR', 'IE00BYTBXV33']: SI✓,F✓,E✓,BS✓,CF✓\n",
      "2022-02-07 01:50:17 PM: ['RUI.PA', 'FR0013269123']: SI✓,F✓,E✓,BS✓,CF✓\n",
      "2022-02-07 01:50:22 PM: ['SCB.LS', 'PTSCB0AM0001']: SI✓,F✓,E✗,BS✓,CF✓\n",
      "2022-02-07 01:50:35 PM: ['SK.PA', 'FR0000121709']: SI✓,F✓,E✓,BS✓,CF✓\n",
      "2022-02-07 01:50:39 PM: ['ALSAF.PA', 'FR0013467123']: SI✓,F✓,E✓,BS✓,CF✓\n",
      "2022-02-07 01:50:53 PM: ['SAF.PA', 'FR0000073272']: SI✓,F✓,E✓,BS✓,CF✓\n",
      "2022-02-07 01:50:55 PM: ['SAGA.OL', 'NO0010572589']: SI✓,F✓,E✓,BS✓,CF✓\n",
      "2022-02-07 01:50:59 PM: ['SGO.PA', 'FR0000125007']: SI✓,F✓,E✓,BS✓,CF✓\n",
      "2022-02-07 01:51:10 PM: ['SABE.PA', 'FR0000060121']: SI✓,F✓,E✗,BS✓,CF✓\n",
      "2022-02-07 01:51:13 PM: ['SALM.OL', 'NO0010310956']: SI✓,F✓,E✓,BS✓,CF✓\n",
      "2022-02-07 01:51:29 PM: ['SALME.OL', 'NO0010892094']: SI✓,F✓,E✓,BS✓,CF✓\n",
      "2022-02-07 01:51:31 PM: ['SACAM.OL', 'CL0002409135']: SI✓,F✓,E✗,BS✓,CF✓\n",
      "2022-02-07 01:51:34 PM: ['SAMS.PA', 'FR0000060071']: SI✓,F✓,E✓,BS✓,CF✓\n",
      "2022-02-07 01:51:48 PM: ['SADG.OL', 'NO0006001007']: SI✓,F✓,E✓,BS✓,CF✓\n",
      "2022-02-07 01:51:50 PM: ['SAN.PA', 'FR0000120578']: SI✓,F✓,E✓,BS✓,CF✓\n"
     ]
    },
    {
     "name": "stdout",
     "output_type": "stream",
     "text": [
      "- SANNV.PA: No data found for this date range, symbol may be delisted\n"
     ]
    },
    {
     "name": "stderr",
     "output_type": "stream",
     "text": [
      "2022-02-07 01:52:04 PM: ['SANNV.PA', 'FR0014006T94']: SI✓,F✓,E✗,BS✓,CF✓\n",
      "2022-02-07 01:52:07 PM: ['ALMER.PA', 'FR0010776617']: SI✓,F✓,E✓,BS✓,CF✓\n",
      "2022-02-07 01:52:11 PM: ['DIM.PA', 'FR0013154002']: SI✓,F✓,E✓,BS✓,CF✓\n",
      "2022-02-07 01:52:28 PM: ['SATS.OL', 'NO0010863285']: SI✓,F✓,E✓,BS✓,CF✓\n",
      "2022-02-07 01:52:30 PM: ['SASNO.OL', 'SE0003366871']: SI✓,F✓,E✓,BS✓,CF✓\n",
      "2022-02-07 01:52:41 PM: ['MLSDN.PA', 'FR0013155975']: SI✓,F✗,E✗,BS✗,CF✗\n",
      "2022-02-07 01:52:41 PM: ['SAVE.PA', 'FR0000120107']: SI✓,F✓,E✓,BS✓,CF✓\n",
      "2022-02-07 01:52:47 PM: ['SBANK.OL', 'NO0010739402']: SI✓,F✓,E✓,BS✓,CF✓\n",
      "2022-02-07 01:52:59 PM: ['MLSBT.PA', 'FR0004175222']: SI✓,F✓,E✓,BS✓,CF✓\n",
      "2022-02-07 01:52:59 PM: ['SBMO.AS', 'NL0000360618']: SI✓,F✓,E✓,BS✓,CF✓\n",
      "2022-02-07 01:53:05 PM: ['SCANA.OL', 'NO0003053308']: SI✓,F✓,E✓,BS✓,CF✓\n",
      "2022-02-07 01:53:06 PM: ['MLSHD.PA', 'CH0220529603']: SI✗,F✗,E✗,BS✗,CF✗\n",
      "2022-02-07 01:53:08 PM: ['SCATC.OL', 'NO0010715139']: SI✓,F✓,E✓,BS✓,CF✓\n",
      "2022-02-07 01:53:19 PM: ['MLCMI.PA', 'FR0010972091']: SI✓,F✓,E✗,BS✓,CF✓\n",
      "2022-02-07 01:53:20 PM: ['CBSM.PA', 'FR0006239109']: SI✓,F✓,E✓,BS✓,CF✓\n",
      "2022-02-07 01:53:27 PM: ['SCHB.OL', 'NO0010736879']: SI✓,F✓,E✓,BS✓,CF✓\n",
      "2022-02-07 01:53:27 PM: ['SCHA.OL', 'NO0003028904']: SI✓,F✓,E✓,BS✓,CF✓\n",
      "2022-02-07 01:53:32 PM: ['SCHD.BR', 'BE0012378593']: SI✓,F✓,E✗,BS✓,CF✓\n",
      "2022-02-07 01:53:40 PM: ['SU.PA', 'FR0000121972']: SI✓,F✓,E✓,BS✓,CF✓\n",
      "2022-02-07 01:53:41 PM: ['SLB.PA', 'AN8068571086']: SI✓,F✓,E✓,BS✓,CF✓\n",
      "2022-02-07 01:53:46 PM: ['MLSCH.PA', 'FR0010961920']: SI✓,F✗,E✗,BS✗,CF✗\n",
      "2022-02-07 01:53:48 PM: ['MLSCI.PA', 'ES0105592002']: SI✓,F✗,E✗,BS✗,CF✗\n",
      "2022-02-07 01:53:53 PM: ['SCR.PA', 'FR0010411983']: SI✓,F✓,E✓,BS✓,CF✓\n",
      "2022-02-07 01:54:01 PM: ['GEG.OL', 'CY0101162119']: SI✓,F✓,E✓,BS✓,CF✓\n",
      "2022-02-07 01:54:02 PM: ['SDSD.OL', 'CY0101550917']: SI✓,F✓,E✓,BS✓,CF✓\n",
      "2022-02-07 01:54:07 PM: ['SEAW7.OL', 'NO0010893803']: SI✓,F✓,E✓,BS✓,CF✓\n",
      "2022-02-07 01:54:09 PM: ['SDRL.OL', 'BMG7998G1069']: SI✓,F✓,E✓,BS✓,CF✓\n",
      "2022-02-07 01:54:14 PM: ['SCHP.PA', 'FR0000039109']: SI✓,F✓,E✓,BS✓,CF✓\n",
      "2022-02-07 01:54:20 PM: ['SGRO.PA', 'GB00B5ZN1N88']: SI✓,F✓,E✗,BS✓,CF✓\n",
      "2022-02-07 01:54:22 PM: ['ALSEI.PA', 'IT0005353484']: SI✓,F✓,E✗,BS✓,CF✓\n",
      "2022-02-07 01:54:26 PM: ['SLCO.PA', 'FR0000065492']: SI✗,F✓,E✗,BS✓,CF✓\n",
      "2022-02-07 01:54:30 PM: ['SELER.PA', 'FR0004175842']: SI✓,F✓,E✓,BS✓,CF✓\n",
      "2022-02-07 01:54:37 PM: ['SSG.OL', 'NO0010781206']: SI✓,F✓,E✓,BS✓,CF✓\n",
      "2022-02-07 01:54:43 PM: ['SBO.OL', 'NO0010612450']: SI✓,F✓,E✓,BS✓,CF✓\n",
      "2022-02-07 01:54:44 PM: ['SEM.LS', 'PTSEM0AM0004']: SI✓,F✓,E✓,BS✓,CF✓\n",
      "2022-02-07 01:54:47 PM: ['MLSMP.PA', 'IT0005072811']: SI✗,F✗,E✗,BS✗,CF✗\n",
      "2022-02-07 01:54:50 PM: ['ALSEN.PA', 'FR0012596468']: SI✓,F✓,E✓,BS✓,CF✓\n",
      "2022-02-07 01:54:57 PM: ['MLSEQ.PA', 'NL0010623518']: SI✓,F✓,E✗,BS✓,CF✓\n",
      "2022-02-07 01:55:02 PM: ['SEQUA.BR', 'BE0974340722']: SI✓,F✓,E✓,BS✓,CF✓\n",
      "2022-02-07 01:55:06 PM: ['ALSER.PA', 'FR0000073728']: SI✓,F✓,E✓,BS✓,CF✓\n",
      "2022-02-07 01:55:07 PM: ['SEFER.PA', 'FR0011950682']: SI✓,F✓,E✓,BS✓,CF✓\n",
      "2022-02-07 01:55:10 PM: ['SESG.PA', 'LU0088087324']: SI✓,F✓,E✓,BS✓,CF✓\n",
      "2022-02-07 01:55:18 PM: ['SESL.PA', 'FR0010282822']: SI✓,F✓,E✓,BS✓,CF✓\n",
      "2022-02-07 01:55:26 PM: ['STTL.BR', 'BE0974261902']: SI✗,F✗,E✗,BS✗,CF✗\n"
     ]
    },
    {
     "name": "stdout",
     "output_type": "stream",
     "text": [
      "- STTL.BR: No data found, symbol may be delisted\n"
     ]
    },
    {
     "name": "stderr",
     "output_type": "stream",
     "text": [
      "2022-02-07 01:55:27 PM: ['SRP.PA', 'FR0013006558']: SI✓,F✓,E✓,BS✓,CF✓\n",
      "2022-02-07 01:55:28 PM: ['SHLF.OL', 'KYG236271055']: SI✓,F✓,E✓,BS✓,CF✓\n",
      "2022-02-07 01:55:33 PM: ['SHUR.BR', 'LU1883301340']: SI✓,F✓,E✓,BS✓,CF✓\n",
      "2022-02-07 01:55:37 PM: ['ALBFR.PA', 'FR0010202606']: SI✓,F✓,E✓,BS✓,CF✓\n",
      "2022-02-07 01:55:45 PM: ['SIOFF.OL', 'KYG812291253']: SI✓,F✓,E✓,BS✓,CF✓\n",
      "2022-02-07 01:55:46 PM: ['SIA.BR', 'DE0007236101']: SI✓,F✓,E✗,BS✓,CF✓\n",
      "2022-02-07 01:55:49 PM: ['SIFG.AS', 'NL0011660485']: SI✓,F✓,E✓,BS✓,CF✓\n",
      "2022-02-07 01:55:52 PM: ['ALGIR.PA', 'FR0000060790']: SI✓,F✓,E✗,BS✓,CF✓\n",
      "2022-02-07 01:55:56 PM: ['LIGHT.AS', 'NL0011821392']: SI✓,F✓,E✓,BS✓,CF✓\n",
      "2022-02-07 01:56:06 PM: ['SIKRI.OL', 'NO0010881717']: SI✓,F✓,E✓,BS✓,CF✓\n",
      "2022-02-07 01:56:07 PM: ['SII.PA', 'FR0000074122']: SI✓,F✓,E✓,BS✓,CF✓\n",
      "2022-02-07 01:56:14 PM: ['MLSIL.PA', 'FR0010679365']: SI✓,F✗,E✗,BS✗,CF✗\n",
      "2022-02-07 01:56:14 PM: ['MLMAT.PA', 'CI0000000832']: SI✗,F✗,E✗,BS✗,CF✗\n"
     ]
    },
    {
     "name": "stdout",
     "output_type": "stream",
     "text": [
      "- MLMAT.PA: No data found, symbol may be delisted\n"
     ]
    },
    {
     "name": "stderr",
     "output_type": "stream",
     "text": [
      "2022-02-07 01:56:16 PM: ['SIP.BR', 'BE0003898187']: SI✓,F✓,E✓,BS✓,CF✓\n",
      "2022-02-07 01:56:26 PM: ['SKI.OL', 'NO0010781560']: SI✓,F✓,E✓,BS✓,CF✓\n",
      "2022-02-07 01:56:26 PM: ['SKAND.OL', 'NO0010931207']: SI✓,F✓,E✗,BS✓,CF✓\n",
      "2022-02-07 01:56:35 PM: ['SKUE.OL', 'NO0006001809']: SI✓,F✓,E✓,BS✓,CF✓\n",
      "2022-02-07 01:56:36 PM: ['SLIGR.AS', 'NL0000817179']: SI✓,F✓,E✓,BS✓,CF✓\n",
      "2022-02-07 01:56:36 PM: ['MLSML.PA', 'FR0011131788']: SI✓,F✓,E✗,BS✓,CF✓\n",
      "2022-02-07 01:56:45 PM: ['SMCRT.OL', 'NO0011008971']: SI✓,F✓,E✓,BS✓,CF✓\n",
      "2022-02-07 01:56:46 PM: ['SMLBS.PA', 'FR0010649228']: SI✗,F✗,E✗,BS✗,CF✗\n"
     ]
    },
    {
     "name": "stdout",
     "output_type": "stream",
     "text": [
      "- SMLBS.PA: No data found, symbol may be delisted\n"
     ]
    },
    {
     "name": "stderr",
     "output_type": "stream",
     "text": [
      "2022-02-07 01:56:55 PM: ['SMOP.OL', 'NO0011012502']: SI✓,F✓,E✓,BS✓,CF✓\n",
      "2022-02-07 01:56:56 PM: ['SMCP.PA', 'FR0013214145']: SI✓,F✓,E✓,BS✓,CF✓\n",
      "2022-02-07 01:56:57 PM: ['SMAR.BR', 'BE0974323553']: SI✓,F✓,E✓,BS✓,CF✓\n",
      "2022-02-07 01:57:04 PM: ['SMTPC.PA', 'FR0004016699']: SI✓,F✓,E✓,BS✓,CF✓\n",
      "2022-02-07 01:57:08 PM: ['SK3.IR', 'IE00B1RR8406']: SI✓,F✓,E✓,BS✓,CF✓\n",
      "2022-02-07 01:57:17 PM: ['SFCA.PA', 'FR0010209809']: SI✓,F✓,E✗,BS✓,CF✓\n",
      "2022-02-07 01:57:17 PM: ['SNOW.AS', 'NL0010627865']: SI✓,F✓,E✓,BS✓,CF✓\n",
      "2022-02-07 01:57:17 PM: ['GLE.PA', 'FR0000130809']: SI✓,F✓,E✓,BS✓,CF✓\n",
      "2022-02-07 01:57:25 PM: ['SW.PA', 'FR0000121220']: SI✓,F✓,E✓,BS✓,CF✓\n",
      "2022-02-07 01:57:29 PM: ['SEC.PA', 'FR0000078321']: SI✓,F✓,E✓,BS✓,CF✓\n",
      "2022-02-07 01:57:35 PM: ['SOF.BR', 'BE0003717312']: SI✓,F✓,E✓,BS✓,CF✓\n",
      "2022-02-07 01:57:36 PM: ['SOFTX.OL', 'NO0010811961']: SI✓,F✓,E✗,BS✓,CF✓\n",
      "2022-02-07 01:57:37 PM: ['SOFT.BR', 'BE0003773877']: SI✓,F✓,E✓,BS✓,CF✓\n",
      "2022-02-07 01:57:44 PM: ['SOG.PA', 'FR0000065864']: SI✓,F✓,E✓,BS✓,CF✓\n",
      "2022-02-07 01:57:49 PM: ['SOGN.OL', 'NO0006000603']: SI✓,F✓,E✓,BS✓,CF✓\n",
      "2022-02-07 01:57:55 PM: ['SOI.PA', 'FR0013227113']: SI✓,F✓,E✓,BS✓,CF✓\n",
      "2022-02-07 01:57:56 PM: ['SOLON.OL', 'NO0003106700']: SI✓,F✓,E✓,BS✓,CF✓\n",
      "2022-02-07 01:57:56 PM: ['LOCAL.PA', 'FR00140006O9']: SI✓,F✓,E✓,BS✓,CF✓\n",
      "2022-02-07 01:58:03 PM: ['SOFF.OL', 'NO0003080608']: SI✓,F✓,E✓,BS✓,CF✓\n",
      "2022-02-07 01:58:09 PM: ['S30.PA', 'FR0013379484']: SI✓,F✓,E✓,BS✓,CF✓\n",
      "2022-02-07 01:58:15 PM: ['SOLV.BR', 'BE0003545531']: SI✓,F✓,E✓,BS✓,CF✓\n",
      "2022-02-07 01:58:16 PM: ['SOLB.BR', 'BE0003470755']: SI✓,F✓,E✓,BS✓,CF✓\n",
      "2022-02-07 01:58:16 PM: ['SO.PA', 'FR0013199916']: SI✓,F✓,E✓,BS✓,CF✓\n",
      "2022-02-07 01:58:23 PM: ['SON.LS', 'PTSON0AM0001']: SI✓,F✓,E✓,BS✓,CF✓\n",
      "2022-02-07 01:58:28 PM: ['SNC.LS', 'PTSNC0AM0006']: SI✓,F✓,E✓,BS✓,CF✓\n",
      "2022-02-07 01:58:35 PM: ['SOHO.OL', 'NO0010927288']: SI✓,F✓,E✓,BS✓,CF✓\n",
      "2022-02-07 01:58:35 PM: ['SOP.PA', 'FR0000050809']: SI✓,F✓,E✓,BS✓,CF✓\n",
      "2022-02-07 01:58:38 PM: ['SNG.LS', 'PTSNG0AM0007']: SI✓,F✓,E✗,BS✓,CF✓\n",
      "2022-02-07 01:58:42 PM: ['FPN.PA', 'FR0011277391']: SI✓,F✓,E✓,BS✓,CF✓\n",
      "2022-02-07 01:58:48 PM: ['SPA.BR', 'BE0003798155']: SI✓,F✓,E✓,BS✓,CF✓\n",
      "2022-02-07 01:58:53 PM: ['SB68.OL', 'NO0010887110']: SI✓,F✓,E✗,BS✓,CF✓\n",
      "2022-02-07 01:58:55 PM: ['MING.OL', 'NO0006390301']: SI✓,F✓,E✓,BS✓,CF✓\n",
      "2022-02-07 01:58:57 PM: ['SRBNK.OL', 'NO0010631567']: SI✓,F✓,E✓,BS✓,CF✓\n",
      "2022-02-07 01:59:01 PM: ['SOON.OL', 'NO0006000207']: SI✓,F✓,E✓,BS✓,CF✓\n",
      "2022-02-07 01:59:07 PM: ['MORG.OL', 'NO0006390004']: SI✓,F✓,E✓,BS✓,CF✓\n",
      "2022-02-07 01:59:14 PM: ['SVEG.OL', 'NO0006000900']: SI✓,F✓,E✓,BS✓,CF✓\n",
      "2022-02-07 01:59:14 PM: ['SOR.OL', 'NO0006001502']: SI✓,F✓,E✓,BS✓,CF✓\n",
      "2022-02-07 01:59:16 PM: ['SPOG.OL', 'NO0006222009']: SI✓,F✓,E✓,BS✓,CF✓\n",
      "2022-02-07 01:59:20 PM: ['ALSPT.PA', 'FR00140043Y1']: SI✓,F✓,E✓,BS✓,CF✓\n",
      "2022-02-07 01:59:26 PM: ['SNOR.OL', 'NO0010691660']: SI✓,F✓,E✓,BS✓,CF✓\n",
      "2022-02-07 01:59:33 PM: ['HELG.OL', 'NO0010029804']: SI✓,F✓,E✓,BS✓,CF✓\n",
      "2022-02-07 01:59:33 PM: ['SPOL.OL', 'NO0010751910']: SI✓,F✓,E✓,BS✓,CF✓\n",
      "2022-02-07 01:59:36 PM: ['NONG.OL', 'NO0006000801']: SI✓,F✓,E✓,BS✓,CF✓\n",
      "2022-02-07 01:59:39 PM: ['RING.OL', 'NO0006390400']: SI✓,F✓,E✓,BS✓,CF✓\n",
      "2022-02-07 01:59:45 PM: ['SOAG.OL', 'NO0010285562']: SI✓,F✓,E✓,BS✓,CF✓\n",
      "2022-02-07 01:59:53 PM: ['MLSRP.PA', 'FR0000054371']: SI✓,F✓,E✗,BS✓,CF✓\n",
      "2022-02-07 01:59:54 PM: ['SPIE.PA', 'FR0012757854']: SI✓,F✓,E✓,BS✓,CF✓\n",
      "2022-02-07 01:59:56 PM: ['ALSGD.PA', 'FR0011464452']: SI✓,F✓,E✓,BS✓,CF✓\n",
      "2022-02-07 01:59:57 PM: ['SGDBS.PA', 'FR0014003UB4']: SI✗,F✗,E✗,BS✗,CF✗\n",
      "2022-02-07 02:00:04 PM: ['ALSPW.PA', 'FR0011398874']: SI✓,F✓,E✓,BS✓,CF✓\n",
      "2022-02-07 02:00:11 PM: ['SCP.LS', 'PTSCP0AM0001']: SI✓,F✓,E✓,BS✓,CF✓\n",
      "2022-02-07 02:00:11 PM: ['SPR1.AS', 'NL0015000NM7']: SI✓,F✗,E✗,BS✗,CF✗\n",
      "2022-02-07 02:00:15 PM: ['SPR1T.AS', 'NL0015000NL9']: SI✗,F✗,E✗,BS✗,CF✗\n"
     ]
    },
    {
     "name": "stdout",
     "output_type": "stream",
     "text": [
      "- SPR1T.AS: No data found, symbol may be delisted\n"
     ]
    },
    {
     "name": "stderr",
     "output_type": "stream",
     "text": [
      "2022-02-07 02:00:16 PM: ['SPR1W.AS', 'NL0015000NK1']: SI✗,F✗,E✗,BS✗,CF✗\n"
     ]
    },
    {
     "name": "stdout",
     "output_type": "stream",
     "text": [
      "- SPR1W.AS: No data found, symbol may be delisted\n"
     ]
    },
    {
     "name": "stderr",
     "output_type": "stream",
     "text": [
      "2022-02-07 02:00:24 PM: ['SQI.PA', 'FR0011289040']: SI✓,F✓,E✓,BS✓,CF✓\n",
      "2022-02-07 02:00:29 PM: ['STATT.OL', 'NO0010775844']: SI✓,F✓,E✗,BS✓,CF✓\n",
      "2022-02-07 02:00:31 PM: ['DPT.PA', 'FR0000054199']: SI✓,F✓,E✓,BS✓,CF✓\n",
      "2022-02-07 02:00:35 PM: ['STF.PA', 'FR0000064271']: SI✓,F✓,E✓,BS✓,CF✓\n",
      "2022-02-07 02:00:35 PM: ['STLA.PA', 'NL00150001Q9']: SI✓,F✓,E✗,BS✓,CF✓\n",
      "2022-02-07 02:00:43 PM: ['STRN.AS', 'NL0000336303']: SI✓,F✓,E✓,BS✓,CF✓\n",
      "2022-02-07 02:00:49 PM: ['STM.PA', 'NL0000226223']: SI✓,F✓,E✓,BS✓,CF✓\n",
      "2022-02-07 02:00:51 PM: ['SNI.OL', 'BMG850801025']: SI✓,F✓,E✓,BS✓,CF✓\n",
      "2022-02-07 02:00:54 PM: ['STB.OL', 'NO0003053605']: SI✓,F✓,E✓,BS✓,CF✓\n",
      "2022-02-07 02:00:55 PM: ['ALSAS.PA', 'FR0000074775']: SI✓,F✓,E✓,BS✓,CF✓\n",
      "2022-02-07 02:01:02 PM: ['ALSTW.PA', 'FR0010528059']: SI✓,F✓,E✓,BS✓,CF✓\n",
      "2022-02-07 02:01:07 PM: ['MLSTR.PA', 'FR0000063976']: SI✓,F✓,E✗,BS✗,CF✓\n",
      "2022-02-07 02:01:10 PM: ['STRO.OL', 'NO0010098247']: SI✓,F✓,E✓,BS✓,CF✓\n",
      "2022-02-07 02:01:14 PM: ['SEV.PA', 'FR0010613471']: SI✓,F✓,E✓,BS✓,CF✓\n",
      "2022-02-07 02:01:14 PM: ['SUBC.OL', 'LU0075646355']: SI✓,F✓,E✓,BS✓,CF✓\n",
      "2022-02-07 02:01:21 PM: ['MLSUM.PA', 'GB00B8GJBS16']: SI✓,F✓,E✗,BS✓,CF✓\n",
      "2022-02-07 02:01:26 PM: ['SUNSB.OL', 'NO0010672900']: SI✓,F✓,E✗,BS✓,CF✓\n",
      "2022-02-07 02:01:32 PM: ['SWP.PA', 'FR0004180578']: SI✓,F✓,E✓,BS✓,CF✓\n",
      "2022-02-07 02:01:32 PM: ['AIID.IR', 'US8730483000']: SI✓,F✓,E✗,BS✓,CF✓\n",
      "2022-02-07 02:01:33 PM: ['SDG.PA', 'FR0000032658']: SI✓,F✓,E✓,BS✓,CF✓\n",
      "2022-02-07 02:01:40 PM: ['TRVX.OL', 'NO0010689326']: SI✓,F✓,E✓,BS✓,CF✓\n",
      "2022-02-07 02:01:45 PM: ['TKTT.PA', 'FR0004188670']: SI✓,F✓,E✓,BS✓,CF✓\n",
      "2022-02-07 02:01:51 PM: ['TECBS.PA', 'FR0013526225']: SI✗,F✗,E✗,BS✗,CF✗\n",
      "2022-02-07 02:01:52 PM: ['MLTEA.PA', 'FR0000033466']: SI✓,F✓,E✗,BS✓,CF✓\n",
      "2022-02-07 02:01:52 PM: ['TAYN.PA', 'FR0000063307']: SI✓,F✓,E✗,BS✓,CF✓\n",
      "2022-02-07 02:02:01 PM: ['TCH.PA', 'FR0013505062']: SI✓,F✓,E✓,BS✓,CF✓\n",
      "2022-02-07 02:02:06 PM: ['TE.PA', 'NL0014559478']: SI✓,F✓,E✓,BS✓,CF✓\n",
      "2022-02-07 02:02:11 PM: ['TECO.OL', 'NO0010887516']: SI✓,F✓,E✓,BS✓,CF✓\n",
      "2022-02-07 02:02:11 PM: ['TECH.OL', 'NO0003095309']: SI✓,F✓,E✓,BS✓,CF✓\n",
      "2022-02-07 02:02:12 PM: ['FTI.PA', 'GB00BDSFG982']: SI✓,F✓,E✓,BS✓,CF✓\n",
      "2022-02-07 02:02:20 PM: ['TDSA.LS', 'PTTD10AM0000']: SI✓,F✓,E✓,BS✓,CF✓\n",
      "2022-02-07 02:02:26 PM: ['TEKNA.OL', 'NO0010951577']: SI✓,F✗,E✗,BS✗,CF✗\n",
      "2022-02-07 02:02:30 PM: ['TFA.BR', 'ES0178430E18']: SI✓,F✓,E✗,BS✓,CF✓\n",
      "2022-02-07 02:02:31 PM: ['TIT.BR', 'IT0003497168']: SI✓,F✓,E✗,BS✓,CF✓\n",
      "2022-02-07 02:02:32 PM: ['TNET.BR', 'BE0003826436']: SI✓,F✓,E✓,BS✓,CF✓\n",
      "2022-02-07 02:02:40 PM: ['TEL.OL', 'NO0010063308']: SI✓,F✓,E✓,BS✓,CF✓\n",
      "2022-02-07 02:02:47 PM: ['TEP.PA', 'FR0000051807']: SI✓,F✓,E✓,BS✓,CF✓\n",
      "2022-02-07 02:02:50 PM: ['TVRB.PA', 'CH0008175645']: SI✓,F✓,E✓,BS✓,CF✓\n",
      "2022-02-07 02:02:50 PM: ['MLVST.PA', 'FR0011076595']: SI✓,F✓,E✗,BS✓,CF✓\n",
      "2022-02-07 02:02:52 PM: ['TERB.BR', 'BE0003573814']: SI✓,F✓,E✓,BS✓,CF✓\n",
      "2022-02-07 02:03:01 PM: ['TCO.IR', 'GB00BLGZ9862']: SI✗,F✗,E✗,BS✗,CF✗\n",
      "2022-02-07 02:03:08 PM: ['TESB.BR', 'BE0003555639']: SI✓,F✓,E✓,BS✓,CF✓\n",
      "2022-02-07 02:03:10 PM: ['TEXF.BR', 'BE0974263924']: SI✓,F✓,E✓,BS✓,CF✓\n",
      "2022-02-07 02:03:12 PM: ['TFI.PA', 'FR0000054900']: SI✓,F✓,E✓,BS✓,CF✓\n",
      "2022-02-07 02:03:12 PM: ['TFG.AS', 'GG00B1RMC548']: SI✓,F✓,E✓,BS✓,CF✓\n",
      "2022-02-07 02:03:20 PM: ['TFF.PA', 'FR0013295789']: SI✓,F✓,E✓,BS✓,CF✓\n",
      "2022-02-07 02:03:27 PM: ['TGS.OL', 'NO0003078800']: SI✓,F✓,E✓,BS✓,CF✓\n",
      "2022-02-07 02:03:29 PM: ['HO.PA', 'FR0000121329']: SI✓,F✓,E✓,BS✓,CF✓\n",
      "2022-02-07 02:03:31 PM: ['ALTBG.PA', 'FR0011053636']: SI✓,F✓,E✓,BS✓,CF✓\n",
      "2022-02-07 02:03:31 PM: ['KING.OL', 'NL00150001S5']: SI✓,F✓,E✓,BS✓,CF✓\n",
      "2022-02-07 02:03:40 PM: ['NVG.LS', 'PTPTI0AM0006']: SI✓,F✓,E✓,BS✓,CF✓\n",
      "2022-02-07 02:03:45 PM: ['TBGBS.PA', 'FR00140065G1']: SI✗,F✗,E✗,BS✗,CF✗\n",
      "2022-02-07 02:03:48 PM: ['ALTHE.PA', 'FR0010120402']: SI✓,F✓,E✓,BS✓,CF✓\n",
      "2022-02-07 02:03:51 PM: ['ALTHX.PA', 'FR0013286259']: SI✓,F✓,E✓,BS✓,CF✓\n",
      "2022-02-07 02:03:54 PM: ['ALTER.PA', 'FR0004197747']: SI✓,F✓,E✓,BS✓,CF✓\n",
      "2022-02-07 02:04:00 PM: ['ALVET.PA', 'BE0974387194']: SI✓,F✓,E✓,BS✓,CF✓\n",
      "2022-02-07 02:04:04 PM: ['THEP.PA', 'FR0013333432']: SI✓,F✓,E✓,BS✓,CF✓\n",
      "2022-02-07 02:04:07 PM: ['TBIRD.AS', 'VGG885761061']: SI✓,F✓,E✓,BS✓,CF✓\n",
      "2022-02-07 02:04:09 PM: ['TIE.AS', 'NL0010389508']: SI✓,F✓,E✓,BS✓,CF✓\n",
      "2022-02-07 02:04:14 PM: ['TIETO.OL', 'FI0009000277']: SI✓,F✓,E✗,BS✓,CF✓\n",
      "2022-02-07 02:04:19 PM: ['TKO.PA', 'FR0013230612']: SI✓,F✓,E✓,BS✓,CF✓\n",
      "2022-02-07 02:04:23 PM: ['TINC.BR', 'BE0974282148']: SI✓,F✓,E✓,BS✓,CF✓\n",
      "2022-02-07 02:04:27 PM: ['TISN.BR', 'IT0004513666']: SI✓,F✗,E✗,BS✗,CF✗\n",
      "2022-02-07 02:04:27 PM: ['TIPI.PA', 'FR0000066482']: SI✓,F✓,E✓,BS✓,CF✓\n",
      "2022-02-07 02:04:34 PM: ['TITC.BR', 'BE0974338700']: SI✓,F✓,E✓,BS✓,CF✓\n",
      "2022-02-07 02:04:38 PM: ['ALTIV.PA', 'FR0000060949']: SI✓,F✓,E✓,BS✓,CF✓\n",
      "2022-02-07 02:04:42 PM: ['TWEKA.AS', 'NL0000852523']: SI✓,F✓,E✓,BS✓,CF✓\n",
      "2022-02-07 02:04:47 PM: ['TOM.OL', 'NO0005668905']: SI✓,F✓,E✓,BS✓,CF✓\n",
      "2022-02-07 02:04:48 PM: ['TOM2.AS', 'NL0013332471']: SI✓,F✓,E✓,BS✓,CF✓\n",
      "2022-02-07 02:04:51 PM: ['ALTLX.PA', 'LU0394945660']: SI✗,F✗,E✗,BS✗,CF✗\n",
      "2022-02-07 02:04:55 PM: ['ALTOO.PA', 'FR00140062B9']: SI✓,F✓,E✗,BS✓,CF✓\n",
      "2022-02-07 02:05:00 PM: ['ALTBM.PA', 'FR0011668821']: SI✓,F✓,E✗,BS✓,CF✓\n",
      "2022-02-07 02:05:06 PM: ['EC.PA', 'GA0000121459']: SI✓,F✓,E✓,BS✓,CF✓\n",
      "2022-02-07 02:05:07 PM: ['TTE.PA', 'FR0000120271']: SI✓,F✓,E✓,BS✓,CF✓\n",
      "2022-02-07 02:05:10 PM: ['TOTG.OL', 'NO0006001205']: SI✓,F✓,E✓,BS✓,CF✓\n",
      "2022-02-07 02:05:14 PM: ['TOUP.PA', 'FR0000033003']: SI✓,F✓,E✓,BS✓,CF✓\n",
      "2022-02-07 02:05:20 PM: ['EIFF.PA', 'FR0000036816']: SI✓,F✓,E✓,BS✓,CF✓\n",
      "2022-02-07 02:05:26 PM: ['MLABO.PA', 'FR0010621722']: SI✓,F✓,E✓,BS✓,CF✓\n",
      "2022-02-07 02:05:27 PM: ['SCT.LS', 'PTSCT0AP0018']: SI✓,F✓,E✗,BS✓,CF✓\n",
      "2022-02-07 02:05:29 PM: ['MLPSH.PA', 'FR0011040690']: SI✗,F✗,E✗,BS✗,CF✗\n",
      "2022-02-07 02:05:33 PM: ['MLTRA.PA', 'FR0000031866']: SI✓,F✓,E✗,BS✓,CF✓\n",
      "2022-02-07 02:05:39 PM: ['TNG.PA', 'FR0005175080']: SI✓,F✓,E✓,BS✓,CF✓\n",
      "2022-02-07 02:05:44 PM: ['TRAN.PA', 'FR00140039U7']: SI✓,F✗,E✗,BS✗,CF✗\n",
      "2022-02-07 02:05:44 PM: ['TRANW.PA', 'FR0014003AC4']: SI✗,F✗,E✗,BS✗,CF✗\n",
      "2022-02-07 02:05:49 PM: ['TRE.OL', 'NO0010763550']: SI✓,F✓,E✗,BS✓,CF✓\n",
      "2022-02-07 02:05:53 PM: ['TRI.PA', 'FR0005691656']: SI✓,F✓,E✓,BS✓,CF✓\n",
      "2022-02-07 02:05:58 PM: ['ALTRI.PA', 'FR0010397901']: SI✓,F✓,E✓,BS✓,CF✓\n",
      "2022-02-07 02:06:03 PM: ['ALTRO.PA', 'FR0004175099']: SI✓,F✓,E✓,BS✓,CF✓\n",
      "2022-02-07 02:06:04 PM: ['MLTRO.PA', 'FR0000031106']: SI✓,F✓,E✓,BS✓,CF✓\n",
      "2022-02-07 02:06:08 PM: ['ALTTI.PA', 'FR0010383877']: SI✓,F✓,E✓,BS✓,CF✓\n",
      "2022-02-07 02:06:12 PM: ['TUB.BR', 'BE0003823409']: SI✓,F✓,E✓,BS✓,CF✓\n",
      "2022-02-07 02:06:18 PM: ['TQW.IR', 'GB0001500809']: SI✓,F✗,E✗,BS✗,CF✗\n",
      "2022-02-07 02:06:22 PM: ['ALTXC.PA', 'FR0010654087']: SI✓,F✓,E✓,BS✓,CF✓\n",
      "2022-02-07 02:06:24 PM: ['TYSB.OL', 'NO0010731615']: SI✓,F✓,E✗,BS✓,CF✓\n",
      "2022-02-07 02:06:27 PM: ['ALU10.PA', 'FR0000079147']: SI✓,F✓,E✓,BS✓,CF✓\n",
      "2022-02-07 02:06:31 PM: ['UBI.PA', 'FR0000054470']: SI✓,F✓,E✓,BS✓,CF✓\n",
      "2022-02-07 02:06:37 PM: ['ALUCR.PA', 'FR0011070457']: SI✓,F✓,E✓,BS✓,CF✓\n",
      "2022-02-07 02:06:43 PM: ['UCB.BR', 'BE0003739530']: SI✓,F✓,E✓,BS✓,CF✓\n",
      "2022-02-07 02:06:44 PM: ['PNSB.BR', 'BE0003838555']: SI✓,F✓,E✓,BS✓,CF✓\n",
      "2022-02-07 02:06:46 PM: ['ULTI.OL', 'NO0010851603']: SI✓,F✓,E✓,BS✓,CF✓\n",
      "2022-02-07 02:06:52 PM: ['MLUMG.PA', 'FR0011776889']: SI✓,F✓,E✗,BS✓,CF✓\n",
      "2022-02-07 02:06:56 PM: ['ALUMS.PA', 'FR0013263878']: SI✓,F✓,E✓,BS✓,CF✓\n",
      "2022-02-07 02:07:01 PM: ['UMG.AS', 'NL0015000IY2']: SI✓,F✓,E✓,BS✓,CF✓\n",
      "2022-02-07 02:07:04 PM: ['UMI.BR', 'BE0974320526']: SI✓,F✓,E✓,BS✓,CF✓\n",
      "2022-02-07 02:07:06 PM: ['MLUMH.PA', 'FR0005783503']: SI✓,F✓,E✗,BS✓,CF✓\n",
      "2022-02-07 02:07:12 PM: ['URW.AS', 'FR0013326246']: SI✓,F✓,E✓,BS✓,CF✓\n",
      "2022-02-07 02:07:15 PM: ['UNBL.PA', 'FR0000054215']: SI✓,F✓,E✗,BS✓,CF✓\n",
      "2022-02-07 02:07:20 PM: ['UPG.BR', 'BE0974371032']: SI✓,F✓,E✓,BS✓,CF✓\n",
      "2022-02-07 02:07:24 PM: ['UNA.AS', 'GB00B10RZP78']: SI✓,F✓,E✓,BS✓,CF✓\n",
      "2022-02-07 02:07:27 PM: ['UFF.PA', 'FR0000034548']: SI✓,F✓,E✓,BS✓,CF✓\n",
      "2022-02-07 02:07:31 PM: ['UNPA.BR', 'US9078181081']: SI✓,F✓,E✗,BS✓,CF✓\n"
     ]
    },
    {
     "name": "stdout",
     "output_type": "stream",
     "text": [
      "- UNPA.BR: No data found for this date range, symbol may be delisted\n"
     ]
    },
    {
     "name": "stderr",
     "output_type": "stream",
     "text": [
      "2022-02-07 02:07:36 PM: ['FPG.PA', 'FR0000074197']: SI✓,F✓,E✓,BS✓,CF✓\n",
      "2022-02-07 02:07:39 PM: ['UPR.IR', 'IE00BJ5FQX74']: SI✓,F✓,E✓,BS✓,CF✓\n",
      "2022-02-07 02:07:43 PM: ['ALUNT.PA', 'FR0012709160']: SI✓,F✓,E✗,BS✓,CF✓\n",
      "2022-02-07 02:07:46 PM: ['ALUPG.PA', 'FR0010337865']: SI✓,F✓,E✓,BS✓,CF✓\n",
      "2022-02-07 02:07:49 PM: ['ALUVI.PA', 'FR0011898584']: SI✓,F✓,E✓,BS✓,CF✓\n",
      "2022-02-07 02:07:55 PM: ['VLK.AS', 'NL0000302636']: SI✓,F✓,E✓,BS✓,CF✓\n",
      "2022-02-07 02:07:58 PM: ['VAF.LS', 'PTVAA0AM0019']: SI✓,F✓,E✓,BS✓,CF✓\n",
      "2022-02-07 02:08:02 PM: ['ALVAL.PA', 'FR0013254851']: SI✓,F✓,E✓,BS✓,CF✓\n",
      "2022-02-07 02:08:05 PM: ['FR.PA', 'FR0013176526']: SI✓,F✓,E✓,BS✓,CF✓\n",
      "2022-02-07 02:08:09 PM: ['VK.PA', 'FR0013506730']: SI✓,F✗,E✗,BS✗,CF✗\n",
      "2022-02-07 02:08:15 PM: ['VKBS.PA', 'FR00140030K7']: SI✗,F✗,E✗,BS✗,CF✗\n"
     ]
    },
    {
     "name": "stdout",
     "output_type": "stream",
     "text": [
      "- VKBS.PA: No data found, symbol may be delisted\n"
     ]
    },
    {
     "name": "stderr",
     "output_type": "stream",
     "text": [
      "2022-02-07 02:08:18 PM: ['VLA.PA', 'FR0004056851']: SI✓,F✓,E✓,BS✓,CF✓\n",
      "2022-02-07 02:08:20 PM: ['MLVAL.PA', 'FR0012833770']: SI✗,F✗,E✗,BS✗,CF✗\n",
      "2022-02-07 02:08:25 PM: ['VALUE.AS', 'NL0010661864']: SI✓,F✓,E✓,BS✓,CF✓\n",
      "2022-02-07 02:08:28 PM: ['PREVA.AS', 'NL0015118803']: SI✓,F✓,E✗,BS✓,CF✓\n",
      "2022-02-07 02:08:34 PM: ['VAM.AS', 'NL0015000G40']: SI✓,F✗,E✗,BS✗,CF✗\n",
      "2022-02-07 02:08:36 PM: ['VAMT.AS', 'NL0015000GH1']: SI✗,F✗,E✗,BS✗,CF✗\n"
     ]
    },
    {
     "name": "stdout",
     "output_type": "stream",
     "text": [
      "- VAMT.AS: No data found, symbol may be delisted\n"
     ]
    },
    {
     "name": "stderr",
     "output_type": "stream",
     "text": [
      "2022-02-07 02:08:39 PM: ['VAMW.AS', 'NL0015000G32']: SI✗,F✗,E✗,BS✗,CF✗\n"
     ]
    },
    {
     "name": "stdout",
     "output_type": "stream",
     "text": [
      "- VAMW.AS: No data found, symbol may be delisted\n"
     ]
    },
    {
     "name": "stderr",
     "output_type": "stream",
     "text": [
      "2022-02-07 02:08:44 PM: ['VAN.BR', 'BE0003839561']: SI✓,F✓,E✓,BS✓,CF✓\n",
      "2022-02-07 02:08:48 PM: ['MLVRE.PA', 'ES0105623005']: SI✗,F✗,E✗,BS✗,CF✗\n"
     ]
    },
    {
     "name": "stdout",
     "output_type": "stream",
     "text": [
      "- MLVRE.PA: No data found, symbol may be delisted\n"
     ]
    },
    {
     "name": "stderr",
     "output_type": "stream",
     "text": [
      "2022-02-07 02:08:54 PM: ['VASTN.AS', 'NL0000288918']: SI✓,F✓,E✓,BS✓,CF✓\n",
      "2022-02-07 02:08:56 PM: ['VASTB.BR', 'BE0003754687']: SI✓,F✓,E✓,BS✓,CF✓\n",
      "2022-02-07 02:09:00 PM: ['VEI.OL', 'NO0005806802']: SI✓,F✓,E✓,BS✓,CF✓\n",
      "2022-02-07 02:09:03 PM: ['ALVU.PA', 'FR0010766667']: SI✓,F✓,E✓,BS✓,CF✓\n",
      "2022-02-07 02:09:07 PM: ['VIE.PA', 'FR0000124141']: SI✓,F✓,E✓,BS✓,CF✓\n",
      "2022-02-07 02:09:14 PM: ['VEON.AS', 'BMG9349W1038']: SI✓,F✓,E✗,BS✓,CF✓\n",
      "2022-02-07 02:09:16 PM: ['VRLA.PA', 'FR0013447729']: SI✓,F✓,E✓,BS✓,CF✓\n",
      "2022-02-07 02:09:20 PM: ['ALVER.PA', 'FR0004155240']: SI✓,F✓,E✓,BS✓,CF✓\n",
      "2022-02-07 02:09:23 PM: ['VMX.PA', 'FR0010291245']: SI✓,F✓,E✓,BS✓,CF✓\n",
      "2022-02-07 02:09:27 PM: ['VERIZ.BR', 'US92343V1044']: SI✓,F✓,E✗,BS✓,CF✓\n",
      "2022-02-07 02:09:33 PM: ['MLVER.PA', 'FR0006174496']: SI✓,F✓,E✗,BS✓,CF✓\n",
      "2022-02-07 02:09:35 PM: ['VETO.PA', 'FR0004186856']: SI✓,F✓,E✓,BS✓,CF✓\n",
      "2022-02-07 02:09:39 PM: ['VGP.BR', 'BE0003878957']: SI✓,F✓,E✓,BS✓,CF✓\n",
      "2022-02-07 02:09:44 PM: ['ALVIA.PA', 'FR0010326090']: SI✓,F✗,E✗,BS✗,CF✗\n",
      "2022-02-07 02:09:48 PM: ['VCT.PA', 'FR0000031775']: SI✓,F✓,E✓,BS✓,CF✓\n",
      "2022-02-07 02:09:52 PM: ['VIL.PA', 'FR0000050049']: SI✓,F✓,E✓,BS✓,CF✓\n",
      "2022-02-07 02:09:56 PM: ['RIN.PA', 'FR0000052516']: SI✓,F✓,E✓,BS✓,CF✓\n",
      "2022-02-07 02:10:00 PM: ['DG.PA', 'FR0000125486']: SI✓,F✓,E✓,BS✓,CF✓\n",
      "2022-02-07 02:10:03 PM: ['VIO.BR', 'BE0974271034']: SI✓,F✓,E✗,BS✓,CF✓\n",
      "2022-02-07 02:10:07 PM: ['VIRP.PA', 'FR0000031577']: SI✓,F✓,E✓,BS✓,CF✓\n",
      "2022-02-07 02:10:12 PM: ['ALVIV.PA', 'FR0004029478']: SI✓,F✓,E✓,BS✓,CF✓\n",
      "2022-02-07 02:10:19 PM: ['MLVIS.PA', 'FR0010033480']: SI✓,F✓,E✗,BS✓,CF✓\n",
      "2022-02-07 02:10:23 PM: ['SDT.PA', 'FR0000065765']: SI✓,F✓,E✗,BS✓,CF✓\n",
      "2022-02-07 02:10:23 PM: ['VIVBS.PA', 'FR0014003O76']: SI✗,F✗,E✗,BS✗,CF✗\n"
     ]
    },
    {
     "name": "stdout",
     "output_type": "stream",
     "text": [
      "- VIVBS.PA: No data found for this date range, symbol may be delisted\n"
     ]
    },
    {
     "name": "stderr",
     "output_type": "stream",
     "text": [
      "2022-02-07 02:10:27 PM: ['VMGBS.PA', 'FR0013322724']: SI✗,F✗,E✗,BS✗,CF✗\n"
     ]
    },
    {
     "name": "stdout",
     "output_type": "stream",
     "text": [
      "- VMGBS.PA: No data found for this date range, symbol may be delisted\n"
     ]
    },
    {
     "name": "stderr",
     "output_type": "stream",
     "text": [
      "2022-02-07 02:10:33 PM: ['ALVMG.PA', 'FR0013481835']: SI✓,F✓,E✓,BS✓,CF✓\n",
      "2022-02-07 02:10:36 PM: ['VMGBT.PA', 'FR0013321817']: SI✗,F✗,E✗,BS✗,CF✗\n"
     ]
    },
    {
     "name": "stdout",
     "output_type": "stream",
     "text": [
      "- VMGBT.PA: No data found for this date range, symbol may be delisted\n"
     ]
    },
    {
     "name": "stderr",
     "output_type": "stream",
     "text": [
      "2022-02-07 02:10:43 PM: ['VTR.PA', 'FR0010309096']: SI✓,F✓,E✓,BS✓,CF✓\n",
      "2022-02-07 02:10:44 PM: ['VISTN.OL', 'NO0010734122']: SI✓,F✓,E✓,BS✓,CF✓\n",
      "2022-02-07 02:10:50 PM: ['VIVNV.PA', 'FR0014006O81']: SI✗,F✗,E✗,BS✗,CF✗\n"
     ]
    },
    {
     "name": "stdout",
     "output_type": "stream",
     "text": [
      "- VIVNV.PA: No data found, symbol may be delisted\n"
     ]
    },
    {
     "name": "stderr",
     "output_type": "stream",
     "text": [
      "2022-02-07 02:10:55 PM: ['VIV.PA', 'FR0000127771']: SI✓,F✓,E✓,BS✓,CF✓\n",
      "2022-02-07 02:10:57 PM: ['VVY.AS', 'NL00150002Q7']: SI✓,F✓,E✓,BS✓,CF✓\n",
      "2022-02-07 02:11:04 PM: ['ALVGO.PA', 'FR0011532225']: SI✓,F✓,E✓,BS✓,CF✓\n",
      "2022-02-07 02:11:06 PM: ['VWA.BR', 'DE0007664005']: SI✓,F✓,E✗,BS✓,CF✓\n",
      "2022-02-07 02:11:10 PM: ['VWAP.BR', 'DE0007664039']: SI✓,F✓,E✗,BS✓,CF✓\n",
      "2022-02-07 02:11:18 PM: ['VTA.AS', 'GG00B1GHHH78']: SI✓,F✓,E✓,BS✓,CF✓\n",
      "2022-02-07 02:11:22 PM: ['VOLUE.OL', 'NO0010894603']: SI✓,F✓,E✓,BS✓,CF✓\n",
      "2022-02-07 02:11:23 PM: ['VLTSA.PA', 'FR0011995588']: SI✓,F✓,E✓,BS✓,CF✓\n",
      "2022-02-07 02:11:28 PM: ['VPK.AS', 'NL0009432491']: SI✓,F✓,E✓,BS✓,CF✓\n",
      "2022-02-07 02:11:31 PM: ['VVL.OL', 'NO0003025009']: SI✓,F✓,E✓,BS✓,CF✓\n",
      "2022-02-07 02:11:42 PM: ['VOW.OL', 'NO0010708068']: SI✓,F✓,E✓,BS✓,CF✓\n",
      "2022-02-07 02:11:42 PM: ['VGM.OL', 'NO0011037483']: SI✓,F✗,E✗,BS✗,CF✗\n",
      "2022-02-07 02:11:43 PM: ['ALVDM.PA', 'FR0004045847']: SI✓,F✓,E✓,BS✓,CF✓\n",
      "2022-02-07 02:11:49 PM: ['VRAP.PA', 'FR0000062796']: SI✓,F✓,E✓,BS✓,CF✓\n",
      "2022-02-07 02:11:50 PM: ['MLVRF.PA', 'ES0105492005']: SI✗,F✓,E✗,BS✓,CF✓\n",
      "2022-02-07 02:12:02 PM: ['WAGA.PA', 'FR0012532810']: SI✓,F✓,E✓,BS✓,CF✓\n",
      "2022-02-07 02:12:02 PM: ['ALLIX.PA', 'FR0010131409']: SI✓,F✓,E✓,BS✓,CF✓\n",
      "2022-02-07 02:12:02 PM: ['WAWI.OL', 'NO0010571680']: SI✓,F✓,E✓,BS✓,CF✓\n",
      "2022-02-07 02:12:10 PM: ['WAVE.PA', 'FR0013357621']: SI✓,F✓,E✓,BS✓,CF✓\n",
      "2022-02-07 02:12:18 PM: ['WEB.BR', 'BE0003734481']: SI✓,F✓,E✓,BS✓,CF✓\n",
      "2022-02-07 02:12:21 PM: ['MLWEA.PA', 'FR0010688465']: SI✓,F✓,E✗,BS✗,CF✓\n",
      "2022-02-07 02:12:24 PM: ['ALWEC.PA', 'FR0013079092']: SI✓,F✓,E✓,BS✓,CF✓\n",
      "2022-02-07 02:12:24 PM: ['WDP.BR', 'BE0974349814']: SI✓,F✓,E✓,BS✓,CF✓\n",
      "2022-02-07 02:12:28 PM: ['WSTEP.OL', 'NO0010609662']: SI✓,F✓,E✓,BS✓,CF✓\n",
      "2022-02-07 02:12:39 PM: ['ALWED.PA', 'FR0010688440']: SI✓,F✓,E✓,BS✓,CF✓\n",
      "2022-02-07 02:12:44 PM: ['WHA.AS', 'NL0000289213']: SI✓,F✓,E✓,BS✓,CF✓\n",
      "2022-02-07 02:12:48 PM: ['MLWEL.PA', 'FR0004152700']: SI✗,F✓,E✗,BS✓,CF✓\n",
      "2022-02-07 02:12:48 PM: ['MF.PA', 'FR0000121204']: SI✓,F✓,E✓,BS✓,CF✓\n"
     ]
    },
    {
     "name": "stdout",
     "output_type": "stream",
     "text": [
      "- MLWEL.PA: No data found for this date range, symbol may be delisted\n"
     ]
    },
    {
     "name": "stderr",
     "output_type": "stream",
     "text": [
      "2022-02-07 02:12:49 PM: ['WEHB.BR', 'BE0003724383']: SI✓,F✓,E✓,BS✓,CF✓\n",
      "2022-02-07 02:12:58 PM: ['WEST.OL', 'NO0010768096']: SI✓,F✓,E✗,BS✓,CF✓\n",
      "2022-02-07 02:13:05 PM: ['MLWEY.PA', 'FR0010768770']: SI✓,F✗,E✗,BS✗,CF✗\n",
      "2022-02-07 02:13:06 PM: ['ROCK.BR', 'BE0974401334']: SI✓,F✓,E✓,BS✓,CF✓\n",
      "2022-02-07 02:13:07 PM: ['MLWRC.PA', 'ES0105399002']: SI✓,F✓,E✗,BS✓,CF✓\n",
      "2022-02-07 02:13:09 PM: ['WWI.OL', 'NO0010571698']: SI✓,F✓,E✓,BS✓,CF✓\n",
      "2022-02-07 02:13:18 PM: ['WWIB.OL', 'NO0010576010']: SI✓,F✓,E✓,BS✓,CF✓\n",
      "2022-02-07 02:13:25 PM: ['ALWF.PA', 'FR0014000P11']: SI✓,F✗,E✗,BS✗,CF✗\n",
      "2022-02-07 02:13:26 PM: ['WILS.OL', 'NO0010252356']: SI✓,F✓,E✓,BS✓,CF✓\n",
      "2022-02-07 02:13:28 PM: ['ALWIT.PA', 'FR0013143872']: SI✓,F✓,E✓,BS✓,CF✓\n",
      "2022-02-07 02:13:32 PM: ['MLWIZ.PA', 'FR00140047H7']: SI✓,F✗,E✗,BS✗,CF✗\n",
      "2022-02-07 02:13:41 PM: ['WOLE.BR', 'BE0003600112']: SI✓,F✓,E✗,BS✓,CF✓\n",
      "2022-02-07 02:13:45 PM: ['WOLS.BR', 'BE0003571792']: SI✓,F✓,E✗,BS✓,CF✓\n",
      "2022-02-07 02:13:51 PM: ['WLN.PA', 'FR0011981968']: SI✓,F✓,E✓,BS✓,CF✓\n",
      "2022-02-07 02:13:51 PM: ['WKL.AS', 'NL0000395903']: SI✓,F✓,E✓,BS✓,CF✓\n",
      "2022-02-07 02:13:53 PM: ['XFAB.PA', 'BE0974310428']: SI✓,F✓,E✓,BS✓,CF✓\n",
      "2022-02-07 02:14:01 PM: ['XIL.PA', 'FR0004034072']: SI✓,F✓,E✓,BS✓,CF✓\n",
      "2022-02-07 02:14:05 PM: ['XIOR.BR', 'BE0974288202']: SI✓,F✓,E✓,BS✓,CF✓\n",
      "2022-02-07 02:14:10 PM: ['XPLRA.OL', 'NO0010895782']: SI✓,F✓,E✗,BS✓,CF✓\n",
      "2022-02-07 02:14:12 PM: ['XXL.OL', 'NO0010716863']: SI✓,F✓,E✓,BS✓,CF✓\n",
      "2022-02-07 02:14:12 PM: ['YAR.OL', 'NO0010208051']: SI✓,F✓,E✓,BS✓,CF✓\n",
      "2022-02-07 02:14:24 PM: ['YEW.IR', 'IE00BDT5KP12']: SI✓,F✓,E✓,BS✓,CF✓\n",
      "2022-02-07 02:14:31 PM: ['ZAL.OL', 'NO0010708910']: SI✓,F✓,E✓,BS✓,CF✓\n",
      "2022-02-07 02:14:31 PM: ['YATRA.AS', 'JE00B1FBT077']: SI✓,F✓,E✗,BS✓,CF✓\n",
      "2022-02-07 02:14:32 PM: ['ZAP.OL', 'NO0010713936']: SI✓,F✓,E✓,BS✓,CF✓\n",
      "2022-02-07 02:14:33 PM: ['MLZAM.PA', 'ZM0000000037']: SI✓,F✓,E✗,BS✓,CF✓\n",
      "2022-02-07 02:14:45 PM: ['CV.PA', 'BMG9887P1068']: SI✗,F✗,E✗,BS✗,CF✗\n"
     ]
    },
    {
     "name": "stdout",
     "output_type": "stream",
     "text": [
      "- CV.PA: No data found, symbol may be delisted\n"
     ]
    },
    {
     "name": "stderr",
     "output_type": "stream",
     "text": [
      "2022-02-07 02:14:50 PM: ['ZENA.OL', 'CA98936C1068']: SI✓,F✓,E✗,BS✓,CF✓\n",
      "2022-02-07 02:14:51 PM: ['ZWIPE.OL', 'NO0010721277']: SI✓,F✓,E✓,BS✓,CF✓\n",
      "2022-02-07 02:14:53 PM: ['ORN.OL', 'NO0010934748']: SI✓,F✓,E✓,BS✓,CF✓\n",
      "2022-02-07 02:14:54 PM: ['ZEN.BR', 'BE0003809267']: SI✓,F✓,E✗,BS✓,CF✓\n"
     ]
    }
   ],
   "source": [
    "# Loop through all tickers to acquire data\n",
    "with no_ssl_verification():\n",
    "  stock_info_list, price_list, financials_list, earnings_list, balance_sheet_list, cashflow_list = iterate_tickers(\n",
    "      tickers)"
   ]
  },
  {
   "cell_type": "code",
   "execution_count": 22,
   "metadata": {},
   "outputs": [],
   "source": [
    "# Concat lists with dataframes if need be and save all files to csv\n",
    "# Euronext stock info\n",
    "stock_info_euronext.to_csv(\n",
    "    'raw_data/stock_info_euronext.csv', sep='|', index=False)\n",
    "# Yahoo stock info\n",
    "stock_info_yahoo = pd.concat(stock_info_list)\n",
    "stock_info_yahoo.to_csv(\n",
    "    'raw_data/stock_info_yahoo.csv', sep='|', index=False)\n",
    "# Price history\n",
    "price_data = pd.concat(price_list)\n",
    "price_data.to_csv(\n",
    "    'raw_data/price_yahoo.csv', sep='|', index=False)\n",
    "# Financials history\n",
    "financials_data = pd.concat(financials_list)\n",
    "financials_data.to_csv(\n",
    "    'raw_data/financials_yahoo.csv', sep='|', index=False)\n",
    "# Earnings history\n",
    "earnings_data = pd.concat(earnings_list)\n",
    "earnings_data.to_csv(\n",
    "    'raw_data/earnings_yahoo.csv', sep='|', index=False)\n",
    "# Balance sheet history\n",
    "balance_sheet__data = pd.concat(balance_sheet_list)\n",
    "balance_sheet__data.to_csv(\n",
    "    'raw_data/balance_sheet_yahoo.csv', sep='|', index=False)\n",
    "# Cash flow history\n",
    "cashflow_data = pd.concat(cashflow_list)\n",
    "cashflow_data.to_csv(\n",
    "    'raw_data/cashflow_yahoo.csv', sep='|', index=False)\n",
    "\n"
   ]
  },
  {
   "cell_type": "code",
   "execution_count": null,
   "metadata": {},
   "outputs": [],
   "source": []
  }
 ],
 "metadata": {
  "interpreter": {
   "hash": "cfdce0ec9f99bf6d1b48d1a5a3914060b182d34731884a217ab6526cd9b1a6dd"
  },
  "kernelspec": {
   "display_name": "Python 3.10.0 64-bit",
   "language": "python",
   "name": "python3"
  },
  "language_info": {
   "codemirror_mode": {
    "name": "ipython",
    "version": 3
   },
   "file_extension": ".py",
   "mimetype": "text/x-python",
   "name": "python",
   "nbconvert_exporter": "python",
   "pygments_lexer": "ipython3",
   "version": "3.9.7"
  },
  "orig_nbformat": 4
 },
 "nbformat": 4,
 "nbformat_minor": 2
}
